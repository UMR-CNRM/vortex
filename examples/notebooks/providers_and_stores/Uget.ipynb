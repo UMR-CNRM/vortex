{
 "cells": [
  {
   "cell_type": "markdown",
   "metadata": {},
   "source": [
    "# The Uget/Uenv providers: A way to rob the official GCO store\n",
    "\n",
    "## Introduction\n",
    "\n",
    "The **Uget**/**Uenv** providers have been designed to:\n",
    "\n",
    "  * allow any user to start from an existing GCO's \"Genv\", modify it and use it in any Vortex script (generated manually or automatically with Olive);\n",
    "  * create a new \"Genv\" out of the blue in order to build a completely new system. Once the new system is extensively tested, it's handed over to GCO that will create an official \"Genv\";\n",
    "\n",
    "The **Uenv**/**Uget** architecture is strongly inspired by the **Gget**/**Genv** system:\n",
    "\n",
    "  * The **Uget** store and provider are jointly used to retrieve *elements* identified by their unique ID keys. With **Uget**, the ID key (later referred as *UgetID*) must conform to a precise syntax: it is something like `uget:unique_id@location` where *location* is the account or project where the data is stored (typically the user's logname) and *unique_id* is the identifier of the *element* (for a given location, it must be unique).\n",
    "  * The **Uenv** provider reads a mapping between a *UenvKey* and a **Uget/Gget** *element*. It can later retrieve the targeted *element* using the **Uget** or **Gget** stores. The mapping file between *UenvKey*s and a *Uget*/*GgetID*s is later referred as a *UenvCycle* (actually, the *UenvCycle* mapping file is stored using the **Uget** store).\n",
    "\n",
    "On the Vortex's script side, the **Uget**/**Uenv** providers are only allowed to retrieve data. However, a command-line interface is provided in the *bin* sub-directory to help manage the **Uget**/**Uenv** stores. This command-line interface, `uget.py`, is self documented: after the prompt just type \"help\" to get a list of available commands or \"help command-name\" to get detailed informations on a given command.\n",
    "\n",
    "## The **Uget** stores structure \n",
    "\n",
    "![](../images/uget_store.png) \n",
    "\n",
    "\n",
    "Usually the **Uget** MultiStore (`uget.multi.fr`) is used. It has three tiers (see the above diagram): \n",
    "\n",
    "  * the First tier is the *Hack* store: most of the time it should be empty but can be used to create new *elements* (hence the name *Hack* store). When the developer is happy with the new *elements*, those should be pushed to the third tier of the MultiStore to be available for the all world to see ;\n",
    "  * the Second tier is a usual cache store. Its purpose is to speed up the data retrieval. If an *element* is missing from the *Cache* store, it is fetched from the third tier and refiled in the cache. That way, it will be available in any subsequent call. The Cache store is not intended to act as a persistent storage area, consequently it can be cleaned up on a regular basis in order to gain disk space.\n",
    "  * the Third (and last) tier is the persistent storage area of the **Uget** stystem: It is located on a mass archive system and should not be cleaned.\n",
    "\n",
    "On the first and second tiers, the data hierarchy is relatively simple: `location/type/unique_id` where *location* and *unique_id* are taken from the *UgetID* while *type* can be either 'data' or 'env' depending on whether the stored *element* is a regular data file or a *UenvCycle* mapping file.\n",
    "\n",
    "On the third (and last) tier, the data layout is a bit more complicated : The root directory, later referred as *archivebase*, depends on the *location* specified in the *UgetID* key (this can be configured using Vortex's configuration files). Starting from this *archivebase*, the data hierarchy is organised as follows: `type/hashkey/unique_id` where *type* and *unique_id* have the same meaning as previously and *hashkey* is one hexadecimal digit computed by applying a hash function on the *unique_id*. This weird hash mechanism was found necessary since it will prevent too many *elements* to pile up in a unique directory.\n",
    "\n",
    "Since the Third tier data is available to any users (and possibly mirrored in several second tier caches), once an element is pushed to the third tier, it should never be modified.\n",
    "\n",
    "Note: The **Uget** store behaves like the GCO's **Gget** store. It will automatically untar files (if their local name ends with .tar, .tgz or .tar.gz) and the `extract` feature can be used (i.e. it is possible to extract a particular file from a Tar file).\n",
    "\n",
    "## Example: Creating a customised Uenv starting from scratch"
   ]
  },
  {
   "cell_type": "code",
   "execution_count": 1,
   "metadata": {
    "collapsed": false,
    "scrolled": true
   },
   "outputs": [
    {
     "name": "stdout",
     "output_type": "stream",
     "text": [
      "Vortex 1.1.0 loaded ( Monday 06. March 2017, at 17:47:41 )\n"
     ]
    },
    {
     "name": "stderr",
     "output_type": "stream",
     "text": [
      "# [2017/03/06-17:47:41][vortex.sessions][_set_rundir:0147][WARNING]: Session <root> is changing its working directory </sauvegarde/vortex-dev/vortex/examples/notebooks/providers_and_stores>\n",
      "# [2017/03/06-17:47:41][vortex.sessions][_set_rundir:0150][INFO]: Session <root> set rundir </home/meunierlf/vortex-workdir/auto_cocoon_5sMjCW>\n"
     ]
    },
    {
     "name": "stdout",
     "output_type": "stream",
     "text": [
      "The working directory is now: /home/meunierlf/vortex-workdir/auto_cocoon_5sMjCW/root\n"
     ]
    }
   ],
   "source": [
    "%load_ext ivortex\n",
    "%vortex tmpcocoon\n",
    "import common, gco"
   ]
  },
  {
   "cell_type": "markdown",
   "metadata": {},
   "source": [
    "Let's consider an existing resource \"`common.data.consts.RtCoef`\", that expects the \"rtcoef_tgz\" *Uenv/Genv* key, and an entirely new resource defined below:"
   ]
  },
  {
   "cell_type": "code",
   "execution_count": 2,
   "metadata": {
    "collapsed": false
   },
   "outputs": [],
   "source": [
    "class MyDemoResource(common.data.consts.GenvModelResource):\n",
    "    _footprint = dict(\n",
    "        info = 'Demo constant file',\n",
    "        attr = dict(\n",
    "            kind = dict(\n",
    "                values  = [ 'democst' ]\n",
    "            ),\n",
    "            gvar = dict(\n",
    "                default = 'demo_cstfile'\n",
    "            ),\n",
    "        )\n",
    "    )\n",
    "\n",
    "    @property\n",
    "    def realkind(self):\n",
    "        return 'democst'"
   ]
  },
  {
   "cell_type": "markdown",
   "metadata": {},
   "source": [
    "First, we need to create the proper directory structure in the **Uget**'s *Hack* store :"
   ]
  },
  {
   "cell_type": "code",
   "execution_count": 3,
   "metadata": {
    "collapsed": false
   },
   "outputs": [
    {
     "name": "stdout",
     "output_type": "stream",
     "text": [
      "Vortex 1.1.0 loaded ( Monday 06. March 2017, at 17:47:42 )\r\n",
      "/home/meunierlf/.vortexrc/hack/uget/ugetdemo/env created (if necessary)\r\n",
      "/home/meunierlf/.vortexrc/hack/uget/ugetdemo/data created (if necessary)\r\n",
      "Vortex 1.1.0 completed ( Monday 06. March 2017, at 17:47:42 )\r\n"
     ]
    }
   ],
   "source": [
    "# The uget.py command is used\n",
    "!uget.py bootstrap_hack ugetdemo\n",
    "# NB: In real life, replace \"ugetdemo\" by your logname"
   ]
  },
  {
   "cell_type": "markdown",
   "metadata": {},
   "source": [
    "Now, we are creating the *UenvCycle* needed for this demo:"
   ]
  },
  {
   "cell_type": "code",
   "execution_count": 4,
   "metadata": {
    "collapsed": false
   },
   "outputs": [],
   "source": [
    "with open(sh.path.join(e.HOME, '.vortexrc/hack/uget/ugetdemo/env/cy00_demo.01'), 'w') as fh:\n",
    "    fh.write(\"\\n\".join(['RTCOEF_TGZ=var.sat.misc_rtcoef.23.tgz',\n",
    "                        'DEMO_CSTFILE=uget:demo.constant.01@ugetdemo']))\n",
    "# Of course, outside of a notebook, a sane person would do that with vi, emacs or whatever..."
   ]
  },
  {
   "cell_type": "markdown",
   "metadata": {},
   "source": [
    "...and a fake constant file:"
   ]
  },
  {
   "cell_type": "code",
   "execution_count": 5,
   "metadata": {
    "collapsed": true
   },
   "outputs": [],
   "source": [
    "with open(sh.path.join(e.HOME, '.vortexrc/hack/uget/ugetdemo/data/demo.constant.01'), 'w') as fh:\n",
    "    fh.write(\"I'm a fraud...\\n\")"
   ]
  },
  {
   "cell_type": "markdown",
   "metadata": {},
   "source": [
    "That's it ! we can start our tests:"
   ]
  },
  {
   "cell_type": "code",
   "execution_count": 6,
   "metadata": {
    "collapsed": false
   },
   "outputs": [],
   "source": [
    "rhcoeffs = toolbox.rh(model='arpege',\n",
    "                      kind='rtcoef',\n",
    "                      genv='uenv:cy00_demo.01@ugetdemo',\n",
    "                      local='the_rtcoef.tgz')"
   ]
  },
  {
   "cell_type": "code",
   "execution_count": 7,
   "metadata": {
    "collapsed": false
   },
   "outputs": [
    {
     "name": "stderr",
     "output_type": "stream",
     "text": [
      "# [2017/03/06-17:47:42][vortex.data.stores][incacheget:1421][INFO]: incacheget on uget://uget.hack.fr/ugetdemo/env/cy00_demo.01 (to: <StringIO.StringIO instance at 0x7f24e8367a28>)\n"
     ]
    },
    {
     "data": {
      "text/plain": [
       "'gget://gco.meteo.fr/tampon/var.sat.misc_rtcoef.23.tgz'"
      ]
     },
     "execution_count": 7,
     "metadata": {},
     "output_type": "execute_result"
    }
   ],
   "source": [
    "# Where will the data be looked for ?\n",
    "rhcoeffs.location()"
   ]
  },
  {
   "cell_type": "code",
   "execution_count": 8,
   "metadata": {
    "collapsed": true
   },
   "outputs": [],
   "source": [
    "# Note: Since it was the first use of the 'cy00_demo.01' UenvCycle it's been initialised (see the logger message above)"
   ]
  },
  {
   "cell_type": "code",
   "execution_count": 9,
   "metadata": {
    "collapsed": true
   },
   "outputs": [],
   "source": [
    "rhdemo = toolbox.rh(model='arpege',\n",
    "                    kind='democst',\n",
    "                    genv='uenv:cy00_demo.01@ugetdemo',\n",
    "                    local='the_demo')"
   ]
  },
  {
   "cell_type": "code",
   "execution_count": 10,
   "metadata": {
    "collapsed": false
   },
   "outputs": [
    {
     "data": {
      "text/plain": [
       "'uget://uget.multi.fr/data/demo.constant.01@ugetdemo'"
      ]
     },
     "execution_count": 10,
     "metadata": {},
     "output_type": "execute_result"
    }
   ],
   "source": [
    "# Where will the data be looked for ?\n",
    "rhdemo.location()"
   ]
  },
  {
   "cell_type": "markdown",
   "metadata": {},
   "source": [
    "Let's sumarise. As requested in the *UenvCycle* file, the Rtcoef data will be fetched using the **Gget** store whereas the DemoCst data will come from our fake `demo.constant.01` file.\n",
    "\n",
    "Let's try to retrieve the constant file:"
   ]
  },
  {
   "cell_type": "code",
   "execution_count": 11,
   "metadata": {
    "collapsed": false
   },
   "outputs": [
    {
     "name": "stderr",
     "output_type": "stream",
     "text": [
      "# [2017/03/06-17:47:42][vortex.data.stores][incacheget:1421][INFO]: incacheget on uget://uget.hack.fr/ugetdemo/data/demo.constant.01 (to: the_demo)\n"
     ]
    },
    {
     "data": {
      "text/plain": [
       "True"
      ]
     },
     "execution_count": 11,
     "metadata": {},
     "output_type": "execute_result"
    }
   ],
   "source": [
    "rhdemo.get()"
   ]
  },
  {
   "cell_type": "code",
   "execution_count": 12,
   "metadata": {
    "collapsed": false
   },
   "outputs": [
    {
     "name": "stdout",
     "output_type": "stream",
     "text": [
      "the_demo\r\n"
     ]
    }
   ],
   "source": [
    "%ls"
   ]
  },
  {
   "cell_type": "code",
   "execution_count": 13,
   "metadata": {
    "collapsed": false
   },
   "outputs": [
    {
     "name": "stdout",
     "output_type": "stream",
     "text": [
      "I'm a fraud...\r\n"
     ]
    }
   ],
   "source": [
    "%cat the_demo"
   ]
  },
  {
   "cell_type": "markdown",
   "metadata": {},
   "source": [
    "After a lot of testing, we are very happy with our work. It's time to push the new *elements* to the Archive store (Third tier). The `uget.py` script offers such a feature:"
   ]
  },
  {
   "cell_type": "code",
   "execution_count": 14,
   "metadata": {
    "collapsed": false
   },
   "outputs": [
    {
     "name": "stdout",
     "output_type": "stream",
     "text": [
      "Vortex 1.1.0 loaded ( Monday 06. March 2017, at 17:47:43 )\n",
      "# [2017/03/06-17:47:45][vortex.tools.net][put:0356][WARNING]: Creating <file:~meunierlf/ugetdemo/uget/env/8/cy00_demo.01>\n",
      "# [2017/03/06-17:47:46][vortex.tools.net][put:0356][WARNING]: Creating <file:~meunierlf/ugetdemo/uget/env/8/cy00_demo.01.md5>\n",
      "Digging into this particular Uenv:\n",
      "Uploading: uget:demo.constant.01@ugetdemo\n",
      "# [2017/03/06-17:47:48][vortex.tools.net][put:0356][WARNING]: Creating <file:~meunierlf/ugetdemo/uget/data/a/demo.constant.01>\n",
      "# [2017/03/06-17:47:49][vortex.tools.net][put:0356][WARNING]: Creating <file:~meunierlf/ugetdemo/uget/data/a/demo.constant.01.md5>\n",
      "Unchecked: var.sat.misc_rtcoef.23.tgz\n",
      "\n",
      "Vortex 1.1.0 completed ( Monday 06. March 2017, at 17:47:49 )\n"
     ]
    }
   ],
   "source": [
    "!uget.py push env cy00_demo.01@ugetdemo"
   ]
  },
  {
   "cell_type": "markdown",
   "metadata": {},
   "source": [
    "That's great, the new environment has been pushed to the third tier store and the `uget:demo.constant.01@ugetdemo` *element* was also uploaded. Now, data are safely stowed away in the archive, so we do not need them anymore in the *Hack* store. The `uget.py` script can be used to safely get rid of them (only data also available in the third tier will be deleted):"
   ]
  },
  {
   "cell_type": "code",
   "execution_count": 15,
   "metadata": {
    "collapsed": false
   },
   "outputs": [
    {
     "name": "stdout",
     "output_type": "stream",
     "text": [
      "Vortex 1.1.0 loaded ( Monday 06. March 2017, at 17:47:49 )\n",
      "The following elements will be deleted:\n",
      "  /data/demo.constant.01@ugetdemo\n",
      "  /env/cy00_demo.01@ugetdemo\n",
      "Please, confirm... [y/N/q] Vortex 1.1.0 completed ( Monday 06. March 2017, at 17:47:49 )\n"
     ]
    }
   ],
   "source": [
    "!echo \"y\" | uget.py clean_hack "
   ]
  },
  {
   "cell_type": "markdown",
   "metadata": {},
   "source": [
    "If we fetch the `the_demo` file again, it should be retrieved from the third tier store (and refiled in the cache store):"
   ]
  },
  {
   "cell_type": "code",
   "execution_count": 16,
   "metadata": {
    "collapsed": false
   },
   "outputs": [
    {
     "name": "stderr",
     "output_type": "stream",
     "text": [
      "# [2017/03/06-17:47:50][vortex.data.stores][incacheget:1421][INFO]: incacheget on uget://uget.hack.fr/ugetdemo/data/demo.constant.01 (to: the_demo)\n",
      "# [2017/03/06-17:47:50][vortex.data.stores][_verbose_log:0262][INFO]: UgetHackCacheStore get on the_demo was not successful (rc=False)\n",
      "# [2017/03/06-17:47:50][vortex.data.stores][incacheget:1421][INFO]: incacheget on uget://uget.cache.fr/ugetdemo/data/demo.constant.01 (to: the_demo)\n",
      "# [2017/03/06-17:47:50][vortex.data.stores][_verbose_log:0262][INFO]: UgetMtCacheStore get on the_demo was not successful (rc=False)\n",
      "# [2017/03/06-17:47:50][vortex.data.stores][_load_config:1059][INFO]: Some store configuration data is needed (for uget://uget.archive.fr)\n",
      "# [2017/03/06-17:47:50][vortex.data.stores][_load_config:1066][INFO]: Reading config file: @store-uget.ini\n",
      "# [2017/03/06-17:47:50][vortex.data.stores][_load_config:1073][INFO]: Reading config file: @store-uget-hendrix.ini\n",
      "# [2017/03/06-17:47:50][vortex.data.stores][ftpget:0975][INFO]: ftpget on ftp://hendrix.meteo.fr/~meunierlf/ugetdemo/uget/data/a/demo.constant.01 (to: the_demo)\n",
      "# [2017/03/06-17:47:50][vortex.tools.net][get:0309][INFO]: FTP <get:~meunierlf/ugetdemo/uget/data/a/demo.constant.01>\n",
      "# [2017/03/06-17:47:50][vortex.data.stores][ftpget:0975][INFO]: ftpget on ftp://hendrix.meteo.fr/~meunierlf/ugetdemo/uget/data/a/demo.constant.01.md5 (to: <StringIO.StringIO instance at 0x7f24e8313c68>)\n",
      "# [2017/03/06-17:47:50][vortex.tools.net][get:0309][INFO]: FTP <get:~meunierlf/ugetdemo/uget/data/a/demo.constant.01.md5>\n",
      "# [2017/03/06-17:47:50][vortex.data.stores][_hash_get_check:0308][INFO]: md5 hash sanity check succeeded.\n",
      "# [2017/03/06-17:47:50][vortex.data.stores][get:0523][INFO]: Refill back in writeable store [<gco.data.stores.UgetMtCacheStore object at 0x7f24e8359d90 | entry=/tmp/mtool/cache/uget>]\n",
      "# [2017/03/06-17:47:50][vortex.data.stores][incacheput:1438][INFO]: incacheput to uget://uget.cache.fr/ugetdemo/data/demo.constant.01 (from: the_demo)\n"
     ]
    },
    {
     "data": {
      "text/plain": [
       "True"
      ]
     },
     "execution_count": 16,
     "metadata": {},
     "output_type": "execute_result"
    }
   ],
   "source": [
    "sh.rm('the_demo')\n",
    "rhdemo.get()"
   ]
  },
  {
   "cell_type": "markdown",
   "metadata": {},
   "source": [
    "## The uget.py script magic\n",
    "\n",
    "`uget.py` can be talkative:"
   ]
  },
  {
   "cell_type": "code",
   "execution_count": 17,
   "metadata": {
    "collapsed": false
   },
   "outputs": [
    {
     "name": "stdout",
     "output_type": "stream",
     "text": [
      "Vortex 1.1.0 loaded ( Monday 06. March 2017, at 17:47:50 )\n",
      "Default location: None\n",
      "Hack store      : <gco.data.stores.UgetHackCacheStore object at 0x7f1ad5c27f90 | entry=/home/meunierlf/.vortexrc/hack/uget>\n",
      "Archive store   : <gco.data.stores.UgetArchiveStore object at 0x7f1ad5c37190 | hostname=hendrix.meteo.fr>\n",
      "\n",
      "Vortex 1.1.0 completed ( Monday 06. March 2017, at 17:47:50 )\n"
     ]
    }
   ],
   "source": [
    "!uget.py info"
   ]
  },
  {
   "cell_type": "markdown",
   "metadata": {},
   "source": [
    "It is possible to check if a given *element* exists :"
   ]
  },
  {
   "cell_type": "code",
   "execution_count": 18,
   "metadata": {
    "collapsed": false
   },
   "outputs": [
    {
     "name": "stdout",
     "output_type": "stream",
     "text": [
      "Vortex 1.1.0 loaded ( Monday 06. March 2017, at 17:47:51 )\n",
      "Hack   : MISSING (/home/meunierlf/.vortexrc/hack/uget/ugetdemo/env/cy00_demo.01)\n",
      "Archive: Ok      (meunierlf@hendrix.meteo.fr:~meunierlf/ugetdemo/uget/env/8/cy00_demo.01)\n",
      "\n",
      "Digging into this particular Uenv:\n",
      "  DEMO_CSTFILE                        : Archive        (uget:demo.constant.01@ugetdemo)\n",
      "  RTCOEF_TGZ                          : unchecked      (var.sat.misc_rtcoef.23.tgz)\n",
      "\n",
      "Vortex 1.1.0 completed ( Monday 06. March 2017, at 17:47:51 )\n"
     ]
    }
   ],
   "source": [
    "!uget.py check env cy00_demo.01@ugetdemo"
   ]
  },
  {
   "cell_type": "code",
   "execution_count": 19,
   "metadata": {
    "collapsed": false
   },
   "outputs": [
    {
     "name": "stdout",
     "output_type": "stream",
     "text": [
      "Vortex 1.1.0 loaded ( Monday 06. March 2017, at 17:47:52 )\n",
      "Hack   : MISSING (/home/meunierlf/.vortexrc/hack/uget/ugetdemo/data/demo.constant.01)\n",
      "Archive: Ok      (meunierlf@hendrix.meteo.fr:~meunierlf/ugetdemo/uget/data/a/demo.constant.01)\n",
      "\n",
      "Vortex 1.1.0 completed ( Monday 06. March 2017, at 17:47:53 )\n"
     ]
    }
   ],
   "source": [
    "!uget.py check data demo.constant.01@ugetdemo"
   ]
  },
  {
   "cell_type": "markdown",
   "metadata": {},
   "source": [
    "Of course, it's also possible to retrieve any existing *element* :"
   ]
  },
  {
   "cell_type": "code",
   "execution_count": 20,
   "metadata": {
    "collapsed": false
   },
   "outputs": [
    {
     "name": "stdout",
     "output_type": "stream",
     "text": [
      "Vortex 1.1.0 loaded ( Monday 06. March 2017, at 17:47:53 )\n",
      "\n",
      "RTCOEF_TGZ=var.sat.misc_rtcoef.23.tgz\n",
      "DEMO_CSTFILE=uget:demo.constant.01@ugetdemo\n",
      "\n",
      "Vortex 1.1.0 completed ( Monday 06. March 2017, at 17:47:55 )\n"
     ]
    }
   ],
   "source": [
    "!uget.py pull env cy00_demo.01@ugetdemo"
   ]
  },
  {
   "cell_type": "code",
   "execution_count": 21,
   "metadata": {
    "collapsed": false
   },
   "outputs": [
    {
     "name": "stdout",
     "output_type": "stream",
     "text": [
      "Vortex 1.1.0 loaded ( Monday 06. March 2017, at 17:47:55 )\n",
      "Vortex 1.1.0 completed ( Monday 06. March 2017, at 17:47:57 )\n"
     ]
    }
   ],
   "source": [
    "!uget.py pull data demo.constant.01@ugetdemo"
   ]
  },
  {
   "cell_type": "code",
   "execution_count": 22,
   "metadata": {
    "collapsed": false
   },
   "outputs": [
    {
     "name": "stdout",
     "output_type": "stream",
     "text": [
      "demo.constant.01  the_demo\r\n"
     ]
    }
   ],
   "source": [
    "%ls"
   ]
  },
  {
   "cell_type": "markdown",
   "metadata": {},
   "source": [
    "The `uget.py` script can be used as a shell command (as demonstrated above), but it also provides a prompt: just type `uget.py` and discover what `uget.py` can do for you ! (the *help* command is a good way to start)"
   ]
  },
  {
   "cell_type": "markdown",
   "metadata": {},
   "source": [
    "## Other usecases...\n",
    "\n",
    "The example above is probably not the most common usecase since, most of the time, we will be keen on hacking existing GCO cycles. To achieve this, `uget.py` can help you:"
   ]
  },
  {
   "cell_type": "code",
   "execution_count": 23,
   "metadata": {
    "collapsed": false
   },
   "outputs": [
    {
     "name": "stdout",
     "output_type": "stream",
     "text": [
      "Vortex 1.1.0 loaded ( Monday 06. March 2017, at 17:47:57 )\n",
      "\n",
      "        Retrieve an element and place it in the Hack store.\n",
      "\n",
      "        Syntax: hack [data|env|gdata|genv] SourceId into UgetId\n",
      "\n",
      "        * The kacked element may originate from different sources:\n",
      "          * hack data: A Uget element is looked for (in such a case,\n",
      "            'SourceId' must be a valid UgetId)\n",
      "          * hack env: A Uget environment file is looked for (in such\n",
      "            a case, 'SourceId' must be a valid UgetId)\n",
      "          * hack gdata: A Gget element is looked for (in such a case\n",
      "            'SourceId' must be a valid gget identifier).\n",
      "          * hack genv: A genv cycle is looked for (in such a case\n",
      "            'SourceId' must be a valid genv identifier).\n",
      "        * Once the source element is retrieved, it is saved to the Hack\n",
      "          store using the UgetId identifier\n",
      "        * The 'UgetId' identifies a Uget element. Its formed of an *element_name* and\n",
      "          of a *location* : it looks like 'element_name@location'. The @location part\n",
      "          may be omitted. In such a case the default_location is used (see the\n",
      "          'set' and 'info' commands).\n",
      "\n",
      "        Note: In order for hack gdata/genv to work properly, the gget and genv\n",
      "        commands must be properly configured on your system.\n",
      "        \n",
      "Vortex 1.1.0 completed ( Monday 06. March 2017, at 17:47:58 )\n"
     ]
    }
   ],
   "source": [
    "!uget.py help hack"
   ]
  },
  {
   "cell_type": "markdown",
   "metadata": {
    "collapsed": true
   },
   "source": [
    "## Final notes for IFS/Arpege users\n",
    "\n",
    "Most of the *IFS/Arpege* Binaries and AlgoComponents are using the GCO's Genv cycle name to detect the source code version number and act accordingly (for example, from *Arpege/IFS* version 41 onward, no command line arguments are added when the model is started). A side-effect of this interesting feature is that you should be really careful when choosing a *UenvCycle* name. It's recomended you keep the official GCO naming convention suffixed with something of your choice.\n",
    "\n",
    "For example, if you start from the `cy42_op2.11` GCO cycle, you may choose something like: `cy42_op2.11a`."
   ]
  },
  {
   "cell_type": "code",
   "execution_count": null,
   "metadata": {
    "collapsed": true
   },
   "outputs": [],
   "source": []
  }
 ],
 "metadata": {
  "kernelspec": {
   "display_name": "Python 2",
   "language": "python",
   "name": "python2"
  },
  "language_info": {
   "codemirror_mode": {
    "name": "ipython",
    "version": 2
   },
   "file_extension": ".py",
   "mimetype": "text/x-python",
   "name": "python",
   "nbconvert_exporter": "python",
   "pygments_lexer": "ipython2",
   "version": "2.7.12"
  }
 },
 "nbformat": 4,
 "nbformat_minor": 0
}
