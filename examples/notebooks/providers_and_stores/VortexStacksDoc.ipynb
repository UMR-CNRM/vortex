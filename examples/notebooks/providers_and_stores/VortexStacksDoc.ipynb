{
 "cells": [
  {
   "cell_type": "markdown",
   "metadata": {},
   "source": [
    "# Working with the *Vortex* provider and \"stacks\""
   ]
  },
  {
   "cell_type": "code",
   "execution_count": 1,
   "metadata": {},
   "outputs": [
    {
     "name": "stderr",
     "output_type": "stream",
     "text": [
      "# [2020/12/10-19:41:00][vortex.sessions][_set_rundir:0152][WARNING]: Session <root> is changing its working directory </sauvegarde/PycharmProjects/vortex/examples/notebooks/providers_and_stores>\n",
      "# [2020/12/10-19:41:00][vortex.sessions][_set_rundir:0155][INFO]: Session <root> set rundir </home/meunierlf/vortex-workdir/auto_cocoon_58wehh2k>\n"
     ]
    },
    {
     "name": "stdout",
     "output_type": "stream",
     "text": [
      "Vortex 1.7.2 loaded ( Thursday 10. December 2020, at 19:40:59 )\n",
      "The working directory is now: /home/meunierlf/vortex-workdir/auto_cocoon_58wehh2k/root\n"
     ]
    }
   ],
   "source": [
    "%load_ext ivortex\n",
    "%vortex tmpcocoon\n",
    "# Fake MTOOL directory for demonstration purposes\n",
    "e.MTOOLDIR=e.HOME\n",
    "# Create the archive on localhost (for test purposes)\n",
    "e.VORTEX_DEFAULT_STORAGE='localhost'\n",
    "# Decrease footrints.collectors verbosity in order to have a better presentation\n",
    "fp.collectors.logger.setLevel('ERROR')"
   ]
  },
  {
   "cell_type": "markdown",
   "metadata": {},
   "source": [
    "Sadly, it is sometime needed to archive small files (such as listings). Since such files usually weight a few megabytes, they are poorly handled by data handling systems such as *HPSS*. Consequently, a recurring requested feature is the ability to gather such files in a single file (like a *tar* file) and to archive them as whole. The \"stack\" mechanism was designed to address that, however it comes with some drawbacks:\n",
    "\n",
    "* Since the small files are produced in several tasks, there is a need to manually archive the \"stack\" when all the files part of the \"stack\" are available. This is the responsibility of the user to trigger this archiving at the appropriate time.\n",
    "* If a task is restarted, the archived \"stack\" may become inconsistent (unless it is archived again).\n",
    "\n",
    "A typical workflow when working with \"stacks\" is:\n",
    "\n",
    "* The stackable resources are placed in cache using a dedicated namespace called ``vortex.stack.fr``. (__Technical Note__: for a resource to be stackable, its Python class needs to be modified) ;\n",
    "* From now and on, the stacked resources are accessible indiscriminately through namespaces ``vortex.stack.fr`` or ``vortex.cache.fr``. This ensures compatibility with existing resources and/or un-stacked resources ;\n",
    "* At some point, the stacked resources can be archived ;\n",
    "* From now and on, the individual stacked resources are accessible indiscriminately through standard Vortex namespaces such as ``vortex.archive.fr`` or ``vortex.multi.fr``. (__Technical note__: If the resource needs to be fetched from the archived, the whole stack is retrieved and the desired resource is extracted from it. When using ``vortex.multi.fr``, the whole stack is cached for future use.) ;\n",
    "\n",
    "This will be demonstrated below:"
   ]
  },
  {
   "cell_type": "markdown",
   "metadata": {},
   "source": [
    "## Creating some fake listing files (for demonstration purposes)"
   ]
  },
  {
   "cell_type": "code",
   "execution_count": 2,
   "metadata": {},
   "outputs": [],
   "source": [
    "for i in range(3):\n",
    "    with open('local_listing.{:04d}'.format(i), 'w') as fh_l:\n",
    "        fh_l.write(\"This is listing number #{:d}\".format(i))"
   ]
  },
  {
   "cell_type": "markdown",
   "metadata": {},
   "source": [
    "## Appending the listings on the \"stack\"\n",
    "\n",
    "Let's imagine that a forecast task produced a listing for member number 0:"
   ]
  },
  {
   "cell_type": "code",
   "execution_count": 3,
   "metadata": {},
   "outputs": [
    {
     "name": "stdout",
     "output_type": "stream",
     "text": [
      "# New output section with options :\n",
      "+ role         = Listing\n",
      "\n",
      "# Resource handler description :\n",
      "+ block        = forecast\n",
      "+ cutoff       = production\n",
      "+ date         = 2020120100\n",
      "+ experiment   = ABCD@meunierlf\n",
      "+ kind         = listing\n",
      "+ local        = local_listing.[member%04d]\n",
      "+ member       = 0\n",
      "+ model        = arpege\n",
      "+ namespace    = vortex.stack.fr\n",
      "+ task         = forecast\n",
      "\n",
      "# This command options :\n",
      "+ complete     = False\n",
      "+ loglevel     = None\n",
      "+ now          = True\n",
      "+ verbose      = True\n",
      "\n",
      "\n",
      "----------------------------------------------------------------------------------------------------\n",
      "# Resource no 01/01                                                                                #\n",
      "----------------------------------------------------------------------------------------------------\n",
      "01. <vortex.data.handlers.Handler object at 0x7f8de9350a10>\n",
      "  Complete  : True\n",
      "  Container : <vortex.data.containers.SingleFile object at 0x7f8e004c0f50 | path='local_listing.0000'>\n",
      "  Provider  : <vortex.data.providers.VortexFreeStd object at 0x7f8e03d37fd0 | namespace='vortex.stack.fr' block='forecast'>\n",
      "  Resource  : <common.data.logs.Listing object at 0x7f8de9289610 | model='arpege' date='2020-12-01T00:00:00Z' cutoff='production' task='forecast' part='all' binary='arpege'>\n",
      "\n",
      "# ----  Action PUT on vortex://vortex-free.stack.fr/play/sandbox/ABCD@meunierlf/20201201T0000P/mb000/forecast/listing.arpege-forecast.all?stackfmt=filespack&stackpath=play%2Fsandbox%2FABCD%40meunierlf%2F20201201T0000P%2Fstacks%2Fflow_logs.filespack  ---- #\n"
     ]
    },
    {
     "name": "stderr",
     "output_type": "stream",
     "text": [
      "# [2020/12/10-19:41:00][vortex.data.abstractstores][incacheput:1251][INFO]: incacheput to vortex://vortex-free.stacked-cache-mt.fr/play/sandbox/ABCD@meunierlf/20201201T0000P/stacks/flow_logs.filespack/mb000/forecast/listing.arpege-forecast.all (from: local_listing.0000)\n",
      "# [2020/12/10-19:41:00][vortex.data.abstractstores][incacheput:1260][INFO]: incacheput insert rc=True location=/home/meunierlf/cache/vortex/play/sandbox/ABCD@meunierlf/20201201T0000P/stacks/flow_logs.filespack/mb000/forecast/listing.arpege-forecast.all\n"
     ]
    },
    {
     "name": "stdout",
     "output_type": "stream",
     "text": [
      "\n",
      "# ----  Result from put: [True]  ---- #\n"
     ]
    }
   ],
   "source": [
    "rh_l0s = toolbox.output(\n",
    "    now=True, role='Listing',\n",
    "    # Resource\n",
    "    kind='listing',\n",
    "    task='forecast',\n",
    "    model='arpege',\n",
    "    date='2020120100',\n",
    "    cutoff='production',\n",
    "    # Provider\n",
    "    experiment='ABCD@meunierlf',\n",
    "    block='forecast',\n",
    "    member=0,\n",
    "    namespace='vortex.stack.fr',\n",
    "    # Container\n",
    "    local='local_listing.[member%04d]',\n",
    ")"
   ]
  },
  {
   "cell_type": "markdown",
   "metadata": {},
   "source": [
    "__Technical note__: The URI generated by the resource handler looks familiar except for the additional `stackfmt` and `stackpath` query items that describe in which \"stack\" the resource will be inserted. `stackfmt` and `stackpath` are computed based on the resource' class that needs to define a `stackedstorage_resource` method. It will return a dictionary that will provide the necessary arguments to build a new resource describing the \"stack\" itself. From this resource describing the \"stack\", `stackfmt` and `stackpath` will be generated using the Vortex' name builder.\n",
    "\n",
    "Let's have a look to the *locate* method result:"
   ]
  },
  {
   "cell_type": "code",
   "execution_count": 4,
   "metadata": {},
   "outputs": [
    {
     "data": {
      "text/plain": [
       "'/home/meunierlf/cache/vortex/play/sandbox/ABCD@meunierlf/20201201T0000P/stacks/flow_logs.filespack/mb000/forecast/listing.arpege-forecast.all'"
      ]
     },
     "execution_count": 4,
     "metadata": {},
     "output_type": "execute_result"
    }
   ],
   "source": [
    "rh_l0s[0].locate()"
   ]
  },
  {
   "cell_type": "markdown",
   "metadata": {},
   "source": [
    "The \"stack\" is stored in a predefined `stacks` block and its identified by its name (computed by the Vortex' name builder. See the technical note above). Below these subdirectories, the usual Vortex cache layout is used (which allows us to stack an arbitrary number of listings for various members, blocks and tasks).\n",
    "\n",
    "The \"stack\" has a name (defined based on the Vortex code) ; this allows for some flexibility since, all the listings (and more generally log files) can be stored and archived in the \"flow_logs\" stack; while other kind of resources could be stacked separately (provided that a dedicated \"stack\" resource is defined for them).\n",
    "\n",
    "For demonstration purposes, let's suppose that members 1 and 2 also produce a listing file:"
   ]
  },
  {
   "cell_type": "code",
   "execution_count": 5,
   "metadata": {},
   "outputs": [
    {
     "name": "stdout",
     "output_type": "stream",
     "text": [
      "# New output section with options :\n",
      "+ role         = Listing\n",
      "\n",
      "# Resource handler description :\n",
      "+ block        = forecast\n",
      "+ cutoff       = production\n",
      "+ date         = 2020120100\n",
      "+ experiment   = ABCD@meunierlf\n",
      "+ kind         = listing\n",
      "+ local        = local_listing.[member%04d]\n",
      "+ member       = [1, 2]\n",
      "+ model        = arpege\n",
      "+ namespace    = vortex.stack.fr\n",
      "+ task         = forecast\n",
      "\n",
      "# This command options :\n",
      "+ complete     = False\n",
      "+ loglevel     = None\n",
      "+ now          = True\n",
      "+ verbose      = True\n",
      "\n",
      "\n",
      "----------------------------------------------------------------------------------------------------\n",
      "# Resource no 01/02                                                                                #\n",
      "----------------------------------------------------------------------------------------------------\n",
      "01. <vortex.data.handlers.Handler object at 0x7f8de9235390>\n",
      "  Complete  : True\n",
      "  Container : <vortex.data.containers.SingleFile object at 0x7f8de922cf10 | path='local_listing.0001'>\n",
      "  Provider  : <vortex.data.providers.VortexFreeStd object at 0x7f8de922cb10 | namespace='vortex.stack.fr' block='forecast'>\n",
      "  Resource  : <common.data.logs.Listing object at 0x7f8de9235350 | model='arpege' date='2020-12-01T00:00:00Z' cutoff='production' task='forecast' part='all' binary='arpege'>\n",
      "\n",
      "# ----  Action PUT on vortex://vortex-free.stack.fr/play/sandbox/ABCD@meunierlf/20201201T0000P/mb001/forecast/listing.arpege-forecast.all?stackfmt=filespack&stackpath=play%2Fsandbox%2FABCD%40meunierlf%2F20201201T0000P%2Fstacks%2Fflow_logs.filespack  ---- #\n"
     ]
    },
    {
     "name": "stderr",
     "output_type": "stream",
     "text": [
      "# [2020/12/10-19:41:00][vortex.data.abstractstores][incacheput:1251][INFO]: incacheput to vortex://vortex-free.stacked-cache-mt.fr/play/sandbox/ABCD@meunierlf/20201201T0000P/stacks/flow_logs.filespack/mb001/forecast/listing.arpege-forecast.all (from: local_listing.0001)\n",
      "# [2020/12/10-19:41:00][vortex.data.abstractstores][incacheput:1260][INFO]: incacheput insert rc=True location=/home/meunierlf/cache/vortex/play/sandbox/ABCD@meunierlf/20201201T0000P/stacks/flow_logs.filespack/mb001/forecast/listing.arpege-forecast.all\n"
     ]
    },
    {
     "name": "stdout",
     "output_type": "stream",
     "text": [
      "\n",
      "# ----  Result from put: [True]  ---- #\n",
      "\n",
      "----------------------------------------------------------------------------------------------------\n",
      "# Resource no 02/02                                                                                #\n",
      "----------------------------------------------------------------------------------------------------\n",
      "02. <vortex.data.handlers.Handler object at 0x7f8de9235610>\n",
      "  Complete  : True\n",
      "  Container : <vortex.data.containers.SingleFile object at 0x7f8de922cbd0 | path='local_listing.0002'>\n",
      "  Provider  : <vortex.data.providers.VortexFreeStd object at 0x7f8de922c690 | namespace='vortex.stack.fr' block='forecast'>\n",
      "  Resource  : <common.data.logs.Listing object at 0x7f8de922c910 | model='arpege' date='2020-12-01T00:00:00Z' cutoff='production' task='forecast' part='all' binary='arpege'>\n",
      "\n",
      "# ----  Action PUT on vortex://vortex-free.stack.fr/play/sandbox/ABCD@meunierlf/20201201T0000P/mb002/forecast/listing.arpege-forecast.all?stackfmt=filespack&stackpath=play%2Fsandbox%2FABCD%40meunierlf%2F20201201T0000P%2Fstacks%2Fflow_logs.filespack  ---- #\n"
     ]
    },
    {
     "name": "stderr",
     "output_type": "stream",
     "text": [
      "# [2020/12/10-19:41:00][vortex.data.abstractstores][incacheput:1251][INFO]: incacheput to vortex://vortex-free.stacked-cache-mt.fr/play/sandbox/ABCD@meunierlf/20201201T0000P/stacks/flow_logs.filespack/mb002/forecast/listing.arpege-forecast.all (from: local_listing.0002)\n",
      "# [2020/12/10-19:41:00][vortex.data.abstractstores][incacheput:1260][INFO]: incacheput insert rc=True location=/home/meunierlf/cache/vortex/play/sandbox/ABCD@meunierlf/20201201T0000P/stacks/flow_logs.filespack/mb002/forecast/listing.arpege-forecast.all\n"
     ]
    },
    {
     "name": "stdout",
     "output_type": "stream",
     "text": [
      "\n",
      "# ----  Result from put: [True]  ---- #\n"
     ]
    }
   ],
   "source": [
    "rh_lothers = toolbox.output(\n",
    "    now=True, role='Listing',\n",
    "    # Resource\n",
    "    kind='listing',\n",
    "    task='forecast',\n",
    "    model='arpege',\n",
    "    date='2020120100',\n",
    "    cutoff='production',\n",
    "    # Provider\n",
    "    experiment='ABCD@meunierlf',\n",
    "    block='forecast',\n",
    "    member=[1, 2],\n",
    "    namespace='vortex.stack.fr',\n",
    "    # Container\n",
    "    local='local_listing.[member%04d]',\n",
    ")"
   ]
  },
  {
   "cell_type": "markdown",
   "metadata": {},
   "source": [
    "## Accessing the stacked resources (transparently)\n",
    "\n",
    "As mentioned in the introductory description, the stacked resources can be accessed transparently using the usual `vortex.cache.fr` namespace. For example, to access the member one listing:"
   ]
  },
  {
   "cell_type": "code",
   "execution_count": 6,
   "metadata": {},
   "outputs": [
    {
     "name": "stdout",
     "output_type": "stream",
     "text": [
      "# New input section with options :\n",
      "+ role         = Listing\n",
      "\n",
      "# Resource handler description :\n",
      "+ block        = forecast\n",
      "+ cutoff       = production\n",
      "+ date         = 2020120100\n",
      "+ experiment   = ABCD@meunierlf\n",
      "+ insitu       = False\n",
      "+ kind         = listing\n",
      "+ local        = fromcache_listing.[member%04d]\n",
      "+ member       = 1\n",
      "+ model        = arpege\n",
      "+ namespace    = vortex.cache.fr\n",
      "+ task         = forecast\n",
      "\n",
      "# This command options :\n",
      "+ complete     = False\n",
      "+ loglevel     = None\n",
      "+ now          = True\n",
      "+ verbose      = True\n",
      "\n",
      "\n",
      "----------------------------------------------------------------------------------------------------\n",
      "# Early-get for all resources.                                                                     #\n",
      "----------------------------------------------------------------------------------------------------\n"
     ]
    },
    {
     "name": "stderr",
     "output_type": "stream",
     "text": [
      "# [2020/12/10-19:41:00][vortex.toolbox][add_section:0364][INFO]: Early-get was unavailable for all of the resources.\n"
     ]
    },
    {
     "name": "stdout",
     "output_type": "stream",
     "text": [
      "\n",
      "----------------------------------------------------------------------------------------------------\n",
      "# Resource no 01/01                                                                                #\n",
      "----------------------------------------------------------------------------------------------------\n",
      "01. <vortex.data.handlers.Handler object at 0x7f8e004a8250>\n",
      "  Complete  : True\n",
      "  Container : <vortex.data.containers.SingleFile object at 0x7f8de9289b10 | path='fromcache_listing.0001'>\n",
      "  Provider  : <vortex.data.providers.VortexFreeStd object at 0x7f8de926c810 | namespace='vortex.cache.fr' block='forecast'>\n",
      "  Resource  : <common.data.logs.Listing object at 0x7f8de8a941d0 | model='arpege' date='2020-12-01T00:00:00Z' cutoff='production' task='forecast' part='all' binary='arpege'>\n",
      "\n",
      "# ----  Action GET on vortex://vortex-free.cache.fr/play/sandbox/ABCD@meunierlf/20201201T0000P/mb001/forecast/listing.arpege-forecast.all?stackfmt=filespack&stackpath=play%2Fsandbox%2FABCD%40meunierlf%2F20201201T0000P%2Fstacks%2Fflow_logs.filespack  ---- #\n"
     ]
    },
    {
     "name": "stderr",
     "output_type": "stream",
     "text": [
      "# [2020/12/10-19:41:00][vortex.data.abstractstores][incacheget:1231][INFO]: incacheget on vortex://vortex-free.cache-mt.fr//play/sandbox/ABCD@meunierlf/20201201T0000P/mb001/forecast/listing.arpege-forecast.all (to: fromcache_listing.0001)\n",
      "# [2020/12/10-19:41:00][vortex.data.abstractstores][incacheget:1231][INFO]: incacheget on vortex://vortex-free.stacked-cache-mt.fr/play/sandbox/ABCD@meunierlf/20201201T0000P/stacks/flow_logs.filespack/mb001/forecast/listing.arpege-forecast.all (to: fromcache_listing.0001)\n",
      "# [2020/12/10-19:41:00][vortex.data.abstractstores][incacheget:1245][INFO]: incacheget retrieve rc=True location=/home/meunierlf/cache/vortex/play/sandbox/ABCD@meunierlf/20201201T0000P/stacks/flow_logs.filespack/mb001/forecast/listing.arpege-forecast.all\n"
     ]
    },
    {
     "name": "stdout",
     "output_type": "stream",
     "text": [
      "\n",
      "# ----  Result from get: [True]  ---- #\n"
     ]
    }
   ],
   "source": [
    "rh_l1s = toolbox.input(\n",
    "    now=True, role='Listing',\n",
    "    # Resource\n",
    "    kind='listing',\n",
    "    task='forecast',\n",
    "    model='arpege',\n",
    "    date='2020120100',\n",
    "    cutoff='production',\n",
    "    # Provider\n",
    "    experiment='ABCD@meunierlf',\n",
    "    block='forecast',\n",
    "    member=1,\n",
    "    namespace='vortex.cache.fr',\n",
    "    local='fromcache_listing.[member%04d]',\n",
    ")"
   ]
  },
  {
   "cell_type": "markdown",
   "metadata": {},
   "source": [
    "The `locate` method shows that the `vortex.cache.fr` namespace is associated with multistore that makes stacked resources retrieval painless (the user doesn't need to know if the resource is stored on a \"stack\" or not):"
   ]
  },
  {
   "cell_type": "code",
   "execution_count": 7,
   "metadata": {},
   "outputs": [
    {
     "data": {
      "text/plain": [
       "'/home/meunierlf/cache/vortex/play/sandbox/ABCD@meunierlf/20201201T0000P/mb001/forecast/listing.arpege-forecast.all;/home/meunierlf/cache/vortex/play/sandbox/ABCD@meunierlf/20201201T0000P/stacks/flow_logs.filespack/mb001/forecast/listing.arpege-forecast.all'"
      ]
     },
     "execution_count": 7,
     "metadata": {},
     "output_type": "execute_result"
    }
   ],
   "source": [
    "rh_l1s[0].locate()"
   ]
  },
  {
   "cell_type": "markdown",
   "metadata": {},
   "source": [
    "## Archiving the whole \"stack\"\n",
    "\n",
    "A dedicated `toolbox` method has been created for that matter. It just needs to be provided with the \"stack\" resource and provider description. (Note: the `block` attribute is omitted sign it is always equal to `stacks` when working with \"stack\" resources)."
   ]
  },
  {
   "cell_type": "code",
   "execution_count": 8,
   "metadata": {},
   "outputs": [
    {
     "name": "stdout",
     "output_type": "stream",
     "text": [
      "# Archive Refill Ressource+Provider description :\n",
      "+ block        = stacks\n",
      "+ cutoff       = production\n",
      "+ date         = 2020120100\n",
      "+ experiment   = ABCD@meunierlf\n",
      "+ kind         = flow_logs\n",
      "+ namespace    = vortex.multi.fr\n",
      "\n",
      "\n",
      "----------------------------------------------------------------------------------------------------\n",
      "# Resource no 01/01                                                                                #\n",
      "----------------------------------------------------------------------------------------------------\n"
     ]
    },
    {
     "name": "stderr",
     "output_type": "stream",
     "text": [
      "# [2020/12/10-19:41:00][vortex.data.abstractstores][incacheget:1231][INFO]: incacheget on vortex://vortex-free.cache-mt.fr//play/sandbox/ABCD@meunierlf/20201201T0000P/stacks/flow_logs.filespack (to: archive_refills/f236bb7d572c4cd5b0f8fe5f5c36ea02)\n",
      "# [2020/12/10-19:41:00][vortex.data.abstractstores][incacheget:1245][INFO]: incacheget retrieve rc=True location=/home/meunierlf/cache/vortex/play/sandbox/ABCD@meunierlf/20201201T0000P/stacks/flow_logs.filespack\n",
      "# [2020/12/10-19:41:00][vortex.data.abstractstores][_verbose_log:0146][INFO]: Skip this \"<class 'vortex.data.stores.VortexCacheMtStore'>\" store because an archive is requested\n",
      "# [2020/12/10-19:41:00][vortex.data.abstractstores][_load_config:1003][INFO]: Some store configuration data is needed (for vortex://vortex-free.archive-legacy.fr)\n",
      "# [2020/12/10-19:41:00][vortex.data.abstractstores][_load_config:1006][INFO]: Reading config file: @store-vortex-free.ini\n",
      "# [2020/12/10-19:41:00][vortex.data.abstractstores][_load_config:1017][INFO]: Reading config file: @store-vortex-free-default.ini\n",
      "# [2020/12/10-19:41:00][vortex.data.abstractstores][inarchiveput:0890][INFO]: inarchiveput to vortex://vortex-free.archive-legacy.fr//home/meunierlf/vortex/play/sandbox/ABCD/20201201T0000P/stacks/flow_logs.filespack (from: archive_refills/f236bb7d572c4cd5b0f8fe5f5c36ea02)\n",
      "# [2020/12/10-19:41:00][vortex.tools.storage][_ftpinsert:0739][INFO]: ftpput to ftp://localhost//home/meunierlf/vortex/play/sandbox/ABCD/20201201T0000P/stacks/flow_logs.filespack.tgz (from: archive_refills/f236bb7d572c4cd5b0f8fe5f5c36ea02)\n",
      "# [2020/12/10-19:41:00][vortex.tools.net][put:0351][INFO]: Replacing <file:/home/meunierlf/vortex/play/sandbox/ABCD/20201201T0000P/stacks/flow_logs.filespack.tgz>\n",
      "# [2020/12/10-19:41:00][vortex.tools.net][put:0359][INFO]: FTP <put:/home/meunierlf/vortex/play/sandbox/ABCD/20201201T0000P/stacks/flow_logs.filespack.tgz>\n"
     ]
    },
    {
     "name": "stdout",
     "output_type": "stream",
     "text": [
      "01. <vortex.data.handlers.Handler object at 0x7f8e004d11d0>\n",
      "  Complete  : True\n",
      "  Container : <vortex.data.containers.Uuid4UnamedSingleFile object at 0x7f8e004d1250 | path='archive_refills/f236bb7d572c4cd5b0f8fe5f5c36ea02'>\n",
      "  Provider  : <vortex.data.providers.VortexFreeStd object at 0x7f8de928c310 | namespace='vortex.multi.fr' block='stacks'>\n",
      "  Resource  : <common.data.logs.FlowLogsStack object at 0x7f8de9283990 | date='2020-12-01T00:00:00Z' cutoff='production'>\n",
      "\n",
      "# ----  Result from get: [True], from put: [True]  ---- #\n"
     ]
    }
   ],
   "source": [
    "rh_refills = toolbox.stack_archive_refill(\n",
    "    kind='flow_logs',\n",
    "    date='2020120100',\n",
    "    cutoff='production',\n",
    "    experiment='ABCD@meunierlf',\n",
    "    namespace='vortex.multi.fr',\n",
    ")"
   ]
  },
  {
   "cell_type": "markdown",
   "metadata": {},
   "source": [
    "Extra informations :\n",
    "\n",
    "* For this method to actually do something, a namespace associated with a multi store needs to be provided. Otherwise, it will just do nothing (but it won't crash).\n",
    "* If an extra `fatal=False` argument is added, the `stack_archive_refill` method won't crash even if the operation fails.\n",
    "\n",
    "__Technical note:__ Under the hood, it is fairly simple. First, the \"stack\" is fetched from cache in the current working directory using the usual Handler's `get` method (the container is created on the fly). Then, it is archived using the Handler's `put` method.\n",
    "\n",
    "For the following part of this demo to be meaningful, let's delete the \"stack\" from cache:"
   ]
  },
  {
   "cell_type": "code",
   "execution_count": 9,
   "metadata": {},
   "outputs": [
    {
     "name": "stderr",
     "output_type": "stream",
     "text": [
      "# [2020/12/10-19:41:00][vortex.data.abstractstores][incachedelete:1266][INFO]: incachedelete on vortex://vortex-free.cache-mt.fr//play/sandbox/ABCD@meunierlf/20201201T0000P/stacks/flow_logs.filespack\n",
      "# [2020/12/10-19:41:00][vortex.data.abstractstores][_verbose_log:0146][INFO]: Skip this \"<class 'vortex.data.stores.VortexFreeStdBaseArchiveStore'>\" store because a cache is requested\n"
     ]
    },
    {
     "data": {
      "text/plain": [
       "True"
      ]
     },
     "execution_count": 9,
     "metadata": {},
     "output_type": "execute_result"
    }
   ],
   "source": [
    "rh_refills[0].delete(incache=True)"
   ]
  },
  {
   "cell_type": "markdown",
   "metadata": {},
   "source": [
    "## Retrieving a stacked resource from the archive\n",
    "\n",
    "That's easy, just proceed as usual, use a multi store:"
   ]
  },
  {
   "cell_type": "code",
   "execution_count": 10,
   "metadata": {},
   "outputs": [
    {
     "name": "stdout",
     "output_type": "stream",
     "text": [
      "# New input section with options :\n",
      "+ role         = Listing\n",
      "\n",
      "# Resource handler description :\n",
      "+ block        = forecast\n",
      "+ cutoff       = production\n",
      "+ date         = 2020120100\n",
      "+ experiment   = ABCD@meunierlf\n",
      "+ insitu       = False\n",
      "+ kind         = listing\n",
      "+ local        = fromarchive_listing.[member%04d]\n",
      "+ member       = 1\n",
      "+ model        = arpege\n",
      "+ namespace    = vortex.multi.fr\n",
      "+ task         = forecast\n",
      "\n",
      "# This command options :\n",
      "+ complete     = False\n",
      "+ loglevel     = None\n",
      "+ now          = True\n",
      "+ verbose      = True\n",
      "\n",
      "\n",
      "----------------------------------------------------------------------------------------------------\n",
      "# Early-get for all resources.                                                                     #\n",
      "----------------------------------------------------------------------------------------------------\n"
     ]
    },
    {
     "name": "stderr",
     "output_type": "stream",
     "text": [
      "# [2020/12/10-19:41:00][vortex.toolbox][add_section:0364][INFO]: Early-get was unavailable for all of the resources.\n"
     ]
    },
    {
     "name": "stdout",
     "output_type": "stream",
     "text": [
      "\n",
      "----------------------------------------------------------------------------------------------------\n",
      "# Resource no 01/01                                                                                #\n",
      "----------------------------------------------------------------------------------------------------\n",
      "01. <vortex.data.handlers.Handler object at 0x7f8de921e3d0>\n",
      "  Complete  : True\n",
      "  Container : <vortex.data.containers.SingleFile object at 0x7f8de8d98850 | path='fromarchive_listing.0001'>\n",
      "  Provider  : <vortex.data.providers.VortexFreeStd object at 0x7f8de8d98ad0 | namespace='vortex.multi.fr' block='forecast'>\n",
      "  Resource  : <common.data.logs.Listing object at 0x7f8de926c750 | model='arpege' date='2020-12-01T00:00:00Z' cutoff='production' task='forecast' part='all' binary='arpege'>\n",
      "\n",
      "# ----  Action GET on vortex://vortex-free.multi.fr/play/sandbox/ABCD@meunierlf/20201201T0000P/mb001/forecast/listing.arpege-forecast.all?stackfmt=filespack&stackpath=play%2Fsandbox%2FABCD%40meunierlf%2F20201201T0000P%2Fstacks%2Fflow_logs.filespack  ---- #\n"
     ]
    },
    {
     "name": "stderr",
     "output_type": "stream",
     "text": [
      "# [2020/12/10-19:41:00][vortex.data.abstractstores][incacheget:1231][INFO]: incacheget on vortex://vortex-free.cache-mt.fr//play/sandbox/ABCD@meunierlf/20201201T0000P/mb001/forecast/listing.arpege-forecast.all (to: fromarchive_listing.0001)\n",
      "# [2020/12/10-19:41:00][vortex.data.abstractstores][incacheget:1231][INFO]: incacheget on vortex://vortex-free.stacked-cache-mt.fr/play/sandbox/ABCD@meunierlf/20201201T0000P/stacks/flow_logs.filespack/mb001/forecast/listing.arpege-forecast.all (to: fromarchive_listing.0001)\n",
      "# [2020/12/10-19:41:00][vortex.data.abstractstores][_verbose_log:0431][INFO]: Multistore get vortex://vortex-free.cache.fr: none of the opened store succeeded.\n",
      "# [2020/12/10-19:41:00][vortex.data.abstractstores][inarchiveget:0847][INFO]: inarchiveget on vortex://vortex-free.archive-legacy.fr//home/meunierlf/vortex/play/sandbox/ABCD/20201201T0000P/mb001/forecast/listing.arpege-forecast.all (to: fromarchive_listing.0001)\n",
      "# [2020/12/10-19:41:00][vortex.tools.storage][_ftpretrieve:0685][INFO]: ftpget on ftp://localhost//home/meunierlf/vortex/play/sandbox/ABCD/20201201T0000P/mb001/forecast/listing.arpege-forecast.all (to: fromarchive_listing.0001)\n",
      "# [2020/12/10-19:41:00][vortex.tools.net][get:0301][INFO]: FTP <get:/home/meunierlf/vortex/play/sandbox/ABCD/20201201T0000P/mb001/forecast/listing.arpege-forecast.all>\n",
      "# [2020/12/10-19:41:00][vortex.tools.systems][ftget:1540][WARNING]: An FTP error occured: 550 Failed to open file.\n",
      "# [2020/12/10-19:41:00][vortex.data.abstractstores][_verbose_log:0431][INFO]: Multistore get vortex://vortex-free.multi-legacy.fr: none of the opened store succeeded.\n",
      "# [2020/12/10-19:41:00][vortex.data.abstractstores][inarchiveget:0847][INFO]: inarchiveget on vortex://vortex-free.stacked-archive-smart.fr//home/meunierlf/vortex/play/sandbox/ABCD/20201201T0000P/stacks/flow_logs.filespack (to: /home/meunierlf/vortex-workdir/auto_cocoon_58wehh2k/root/vortex_stacks_xeggs/play/sandbox/ABCD@meunierlf/20201201T0000P/stacks/flow_logs.filespack)\n",
      "# [2020/12/10-19:41:00][vortex.tools.storage][_ftpretrieve:0685][INFO]: ftpget on ftp://localhost//home/meunierlf/vortex/play/sandbox/ABCD/20201201T0000P/stacks/flow_logs.filespack.tgz (to: /home/meunierlf/vortex-workdir/auto_cocoon_58wehh2k/root/vortex_stacks_xeggs/play/sandbox/ABCD@meunierlf/20201201T0000P/stacks/flow_logs.filespack)\n",
      "# [2020/12/10-19:41:00][vortex.tools.net][get:0301][INFO]: FTP <get:/home/meunierlf/vortex/play/sandbox/ABCD/20201201T0000P/stacks/flow_logs.filespack.tgz>\n",
      "# [2020/12/10-19:41:00][vortex.data.stores][_vortex_stacked_egg_retrieve:0516][INFO]: Refilling the stack egg to [<vortex.data.stores.VortexCacheStore object at 0x7f8de8a92850 | footprint=8>]\n",
      "# [2020/12/10-19:41:00][vortex.data.abstractstores][incacheput:1251][INFO]: incacheput to vortex://vortex-free.cache-mt.fr//play/sandbox/ABCD@meunierlf/20201201T0000P/stacks/flow_logs.filespack (from: /home/meunierlf/vortex-workdir/auto_cocoon_58wehh2k/root/vortex_stacks_xeggs/play/sandbox/ABCD@meunierlf/20201201T0000P/stacks/flow_logs.filespack)\n",
      "# [2020/12/10-19:41:00][vortex.data.abstractstores][incacheput:1260][INFO]: incacheput insert rc=True location=/home/meunierlf/cache/vortex/play/sandbox/ABCD@meunierlf/20201201T0000P/stacks/flow_logs.filespack\n"
     ]
    },
    {
     "name": "stdout",
     "output_type": "stream",
     "text": [
      "\n",
      "# ----  Result from get: [True]  ---- #\n"
     ]
    }
   ],
   "source": [
    "rh_l1s = toolbox.input(\n",
    "    now=True, role='Listing',\n",
    "    # Resource\n",
    "    kind='listing',\n",
    "    task='forecast',\n",
    "    model='arpege',\n",
    "    date='2020120100',\n",
    "    cutoff='production',\n",
    "    # Provider\n",
    "    experiment='ABCD@meunierlf',\n",
    "    block='forecast',\n",
    "    member=1,\n",
    "    namespace='vortex.multi.fr',\n",
    "    local='fromarchive_listing.[member%04d]',\n",
    ")"
   ]
  },
  {
   "cell_type": "markdown",
   "metadata": {},
   "source": [
    "__Technical note:__ The usual location (e.g. outside of the stack) is first looked for: it fails. The \"stack\" location is then looked for: The whole \"stack\" is retrieved and refilled in the Vortex cache store for later use"
   ]
  },
  {
   "cell_type": "markdown",
   "metadata": {},
   "source": [
    "The whole \"stack\" is now available in cache:"
   ]
  },
  {
   "cell_type": "code",
   "execution_count": 11,
   "metadata": {},
   "outputs": [
    {
     "data": {
      "text/plain": [
       "os.stat_result(st_mode=33060, st_ino=571983283, st_dev=64517, st_nlink=3, st_uid=2022, st_gid=20103, st_size=25, st_atime=1607625660, st_mtime=1607625660, st_ctime=1607625660)"
      ]
     },
     "execution_count": 11,
     "metadata": {},
     "output_type": "execute_result"
    }
   ],
   "source": [
    "rh_l1s[0].check(incache=True)"
   ]
  },
  {
   "cell_type": "markdown",
   "metadata": {},
   "source": [
    "For example, the listing of the second member can easily be retrieved (in cache since the stack has been refilled):"
   ]
  },
  {
   "cell_type": "code",
   "execution_count": 12,
   "metadata": {},
   "outputs": [
    {
     "name": "stdout",
     "output_type": "stream",
     "text": [
      "# New input section with options :\n",
      "+ role         = Listing\n",
      "\n",
      "# Resource handler description :\n",
      "+ block        = forecast\n",
      "+ cutoff       = production\n",
      "+ date         = 2020120100\n",
      "+ experiment   = ABCD@meunierlf\n",
      "+ insitu       = False\n",
      "+ kind         = listing\n",
      "+ local        = fromarchive_listing.[member%04d]\n",
      "+ member       = 2\n",
      "+ model        = arpege\n",
      "+ namespace    = vortex.multi.fr\n",
      "+ task         = forecast\n",
      "\n",
      "# This command options :\n",
      "+ complete     = False\n",
      "+ loglevel     = None\n",
      "+ now          = True\n",
      "+ verbose      = True\n",
      "\n",
      "\n",
      "----------------------------------------------------------------------------------------------------\n",
      "# Early-get for all resources.                                                                     #\n",
      "----------------------------------------------------------------------------------------------------\n"
     ]
    },
    {
     "name": "stderr",
     "output_type": "stream",
     "text": [
      "# [2020/12/10-19:41:00][vortex.toolbox][add_section:0364][INFO]: Early-get was unavailable for all of the resources.\n"
     ]
    },
    {
     "name": "stdout",
     "output_type": "stream",
     "text": [
      "\n",
      "----------------------------------------------------------------------------------------------------\n",
      "# Resource no 01/01                                                                                #\n",
      "----------------------------------------------------------------------------------------------------\n",
      "01. <vortex.data.handlers.Handler object at 0x7f8de8a83250>\n",
      "  Complete  : True\n",
      "  Container : <vortex.data.containers.SingleFile object at 0x7f8de8a833d0 | path='fromarchive_listing.0002'>\n",
      "  Provider  : <vortex.data.providers.VortexFreeStd object at 0x7f8de8a834d0 | namespace='vortex.multi.fr' block='forecast'>\n",
      "  Resource  : <common.data.logs.Listing object at 0x7f8de8a83350 | model='arpege' date='2020-12-01T00:00:00Z' cutoff='production' task='forecast' part='all' binary='arpege'>\n",
      "\n",
      "# ----  Action GET on vortex://vortex-free.multi.fr/play/sandbox/ABCD@meunierlf/20201201T0000P/mb002/forecast/listing.arpege-forecast.all?stackfmt=filespack&stackpath=play%2Fsandbox%2FABCD%40meunierlf%2F20201201T0000P%2Fstacks%2Fflow_logs.filespack  ---- #\n"
     ]
    },
    {
     "name": "stderr",
     "output_type": "stream",
     "text": [
      "# [2020/12/10-19:41:00][vortex.data.abstractstores][incacheget:1231][INFO]: incacheget on vortex://vortex-free.cache-mt.fr//play/sandbox/ABCD@meunierlf/20201201T0000P/mb002/forecast/listing.arpege-forecast.all (to: fromarchive_listing.0002)\n",
      "# [2020/12/10-19:41:00][vortex.data.abstractstores][incacheget:1231][INFO]: incacheget on vortex://vortex-free.stacked-cache-mt.fr/play/sandbox/ABCD@meunierlf/20201201T0000P/stacks/flow_logs.filespack/mb002/forecast/listing.arpege-forecast.all (to: fromarchive_listing.0002)\n",
      "# [2020/12/10-19:41:00][vortex.data.abstractstores][incacheget:1245][INFO]: incacheget retrieve rc=True location=/home/meunierlf/cache/vortex/play/sandbox/ABCD@meunierlf/20201201T0000P/stacks/flow_logs.filespack/mb002/forecast/listing.arpege-forecast.all\n"
     ]
    },
    {
     "name": "stdout",
     "output_type": "stream",
     "text": [
      "\n",
      "# ----  Result from get: [True]  ---- #\n"
     ]
    }
   ],
   "source": [
    "rh_l1s = toolbox.input(\n",
    "    now=True, role='Listing',\n",
    "    # Resource\n",
    "    kind='listing',\n",
    "    task='forecast',\n",
    "    model='arpege',\n",
    "    date='2020120100',\n",
    "    cutoff='production',\n",
    "    # Provider\n",
    "    experiment='ABCD@meunierlf',\n",
    "    block='forecast',\n",
    "    member=2,\n",
    "    namespace='vortex.multi.fr',\n",
    "    local='fromarchive_listing.[member%04d]',\n",
    ")"
   ]
  }
 ],
 "metadata": {
  "kernelspec": {
   "display_name": "Python 3",
   "language": "python",
   "name": "python3"
  },
  "language_info": {
   "codemirror_mode": {
    "name": "ipython",
    "version": 3
   },
   "file_extension": ".py",
   "mimetype": "text/x-python",
   "name": "python",
   "nbconvert_exporter": "python",
   "pygments_lexer": "ipython3",
   "version": "3.7.6"
  }
 },
 "nbformat": 4,
 "nbformat_minor": 2
}
