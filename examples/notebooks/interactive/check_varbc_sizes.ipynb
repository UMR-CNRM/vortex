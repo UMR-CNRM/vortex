{
 "cells": [
  {
   "cell_type": "markdown",
   "metadata": {},
   "source": [
    "# Use Vortex to check the sizes of the VarBC files over a given period"
   ]
  },
  {
   "cell_type": "code",
   "execution_count": 1,
   "metadata": {
    "collapsed": false
   },
   "outputs": [
    {
     "name": "stdout",
     "output_type": "stream",
     "text": [
      "Vortex 1.4.0 loaded ( Thursday 09. August 2018, at 16:40:34 )\n"
     ]
    }
   ],
   "source": [
    "# Vortex initialisation...\n",
    "%load_ext ivortex\n",
    "%vortex"
   ]
  },
  {
   "cell_type": "code",
   "execution_count": 2,
   "metadata": {
    "collapsed": false
   },
   "outputs": [
    {
     "name": "stdout",
     "output_type": "stream",
     "text": [
      "Using matplotlib backend: TkAgg\n",
      "Populating the interactive namespace from numpy and matplotlib\n"
     ]
    }
   ],
   "source": [
    "# matplotlib initialisation (for inline plotting)\n",
    "%pylab --no-import-all\n",
    "%matplotlib inline\n",
    "import matplotlib.dates as mdates  # used later on"
   ]
  },
  {
   "cell_type": "markdown",
   "metadata": {},
   "source": [
    "### Define a method that use the ResourceHandler's ``check`` method to return a time serie of the VarBC file size"
   ]
  },
  {
   "cell_type": "code",
   "execution_count": 3,
   "metadata": {
    "collapsed": false
   },
   "outputs": [],
   "source": [
    "def find_sizes(dstart, dend, dstep, **kwargs):\n",
    "    \"\"\"Find out the file sizes.\"\"\"\n",
    "    vbcdates = date.daterangex(dstart, dend, dstep)\n",
    "    vbcsizes = np.ma.empty((len(vbcdates),), dtype=np.int64)\n",
    "\n",
    "    with sh.ftppool():\n",
    "        for i, idate in enumerate(vbcdates):\n",
    "            thevarbc = toolbox.rh(date=idate, incore=True, **kwargs)\n",
    "            checkedsize = thevarbc.check()\n",
    "            vbcsizes[i] = checkedsize if checkedsize is not None else np.ma.masked\n",
    "\n",
    "    print('{:d} files looked for... {:d} were not found.'.format(len(vbcdates),\n",
    "                                                                 np.ma.count_masked(vbcsizes)))\n",
    "    return vbcdates, vbcsizes"
   ]
  },
  {
   "cell_type": "markdown",
   "metadata": {},
   "source": [
    "### Define a method that plots the timeseries"
   ]
  },
  {
   "cell_type": "code",
   "execution_count": 4,
   "metadata": {
    "collapsed": true
   },
   "outputs": [],
   "source": [
    "def plot_sizes(vbcdates, vbcsizes):\n",
    "    \"\"\"Plot the file size time serie.\"\"\"\n",
    "\n",
    "    vbcsizes_mb = vbcsizes / 1024. /1024.\n",
    "    fig, ax = plt.subplots()\n",
    "    ax.plot(mdates.date2num(vbcdates), vbcsizes_mb)\n",
    "\n",
    "    # format the Xticks for dates\n",
    "    months = mdates.MonthLocator()\n",
    "    monthsFmt = mdates.DateFormatter('%Y-%m')\n",
    "    wdays = mdates.WeekdayLocator(byweekday=mdates.MO)\n",
    "    ax.xaxis.set_major_locator(months)\n",
    "    ax.xaxis.set_major_formatter(monthsFmt)\n",
    "    ax.xaxis.set_minor_locator(wdays)\n",
    "    ax.grid(True)\n",
    "        \n",
    "    # Label...\n",
    "    ax.set_ylabel('VarBC file size (Mb)')\n",
    "    \n",
    "    # rotates and right aligns the x labels, and moves the bottom of the\n",
    "    # axes up to make room for them\n",
    "    fig.autofmt_xdate()"
   ]
  },
  {
   "cell_type": "markdown",
   "metadata": {},
   "source": [
    "### Retrieve VarBC file size for Arpege 4Dvar (e-suite)"
   ]
  },
  {
   "cell_type": "code",
   "execution_count": 5,
   "metadata": {
    "collapsed": false
   },
   "outputs": [
    {
     "name": "stdout",
     "output_type": "stream",
     "text": [
      "305 files looked for... 0 were not found.\n"
     ]
    }
   ],
   "source": [
    "vbcdates_arp, vbcsizes_arp = find_sizes('2017013100', '2017120100', 'PT24H',\n",
    "                                        kind='varbc', model='arpege', cutoff='assim',\n",
    "                                        vapp='arpege', vconf='4dvarfr',\n",
    "                                        namespace='[suite].archive.fr', suite='dble')"
   ]
  },
  {
   "cell_type": "markdown",
   "metadata": {},
   "source": [
    "### Retrieve VarBC file size for Arome 3Dvar (e-suite)"
   ]
  },
  {
   "cell_type": "code",
   "execution_count": 6,
   "metadata": {
    "collapsed": false
   },
   "outputs": [
    {
     "name": "stdout",
     "output_type": "stream",
     "text": [
      "305 files looked for... 3 were not found.\n"
     ]
    }
   ],
   "source": [
    "vbcdates_aro, vbcsizes_aro = find_sizes('2017013100', '2017120100', 'PT24H',\n",
    "                                        kind='varbc', model='arome', cutoff='assim',\n",
    "                                        vapp='arome', vconf='3dvarfr',\n",
    "                                        namespace='[suite].archive.fr', suite='dble')"
   ]
  },
  {
   "cell_type": "markdown",
   "metadata": {},
   "source": [
    "### Plot VarBC file size for Arpege 4Dvar (e-suite)"
   ]
  },
  {
   "cell_type": "code",
   "execution_count": 7,
   "metadata": {
    "collapsed": false
   },
   "outputs": [
    {
     "data": {
      "image/png": "[encoded data removed]",
      "text/plain": [
       "<matplotlib.figure.Figure at 0x7f67c6b11410>"
      ]
     },
     "metadata": {},
     "output_type": "display_data"
    }
   ],
   "source": [
    "plot_sizes(vbcdates_arp, vbcsizes_arp)"
   ]
  },
  {
   "cell_type": "markdown",
   "metadata": {},
   "source": [
    "### Plot VarBC file size for Arome 3Dvar (e-suite)"
   ]
  },
  {
   "cell_type": "code",
   "execution_count": 8,
   "metadata": {
    "collapsed": false,
    "scrolled": true
   },
   "outputs": [
    {
     "data": {
      "image/png": "[encoded data removed]",
      "text/plain": [
       "<matplotlib.figure.Figure at 0x7f67c647f550>"
      ]
     },
     "metadata": {},
     "output_type": "display_data"
    }
   ],
   "source": [
    "plot_sizes(vbcdates_aro, vbcsizes_aro)"
   ]
  }
 ],
 "metadata": {
  "kernelspec": {
   "display_name": "Python 2",
   "language": "python",
   "name": "python2"
  },
  "language_info": {
   "codemirror_mode": {
    "name": "ipython",
    "version": 2
   },
   "file_extension": ".py",
   "mimetype": "text/x-python",
   "name": "python",
   "nbconvert_exporter": "python",
   "pygments_lexer": "ipython2",
   "version": "2.7.13"
  }
 },
 "nbformat": 4,
 "nbformat_minor": 0
}
