{
 "cells": [
  {
   "cell_type": "markdown",
   "metadata": {
    "slideshow": {
     "slide_type": "slide"
    }
   },
   "source": [
    "# Creating new resources"
   ]
  },
  {
   "cell_type": "markdown",
   "metadata": {
    "slideshow": {
     "slide_type": "slide"
    }
   },
   "source": [
    "Vortex initialisation"
   ]
  },
  {
   "cell_type": "code",
   "execution_count": 1,
   "metadata": {
    "collapsed": false
   },
   "outputs": [
    {
     "name": "stdout",
     "output_type": "stream",
     "text": [
      "Vortex 1.6.2 loaded ( Thursday 29. August 2019, at 12:07:40 )\n"
     ]
    }
   ],
   "source": [
    "%load_ext ivortex\n",
    "%vortex\n",
    "toolbox.active_verbose = False\n",
    "toolbox.active_now = False"
   ]
  },
  {
   "cell_type": "markdown",
   "metadata": {
    "slideshow": {
     "slide_type": "slide"
    }
   },
   "source": [
    "## Creating a resource compatible with the *Vortex*  *provider*\n",
    "\n",
    "For our example, the requirements for the new resource are:\n",
    "\n",
    "* To be described by *kind*, *model*, *date*, *cutoff*, *number* and *scope* attributes;\n",
    "* That the *scope* attribute can only take values such as ``surface`` or ``altitude``.\n",
    "\n",
    "Several versions of this new resource will be created for the purpose of the training session (to describe the different ways of dealing with new resources): in the real world, only one class should be created."
   ]
  },
  {
   "cell_type": "markdown",
   "metadata": {
    "slideshow": {
     "slide_type": "subslide"
    }
   },
   "source": [
    "### “Standard” programming model "
   ]
  },
  {
   "cell_type": "code",
   "execution_count": 2,
   "metadata": {
    "collapsed": false,
    "slideshow": {
     "slide_type": "-"
    }
   },
   "outputs": [],
   "source": [
    "from vortex.data.flow import FlowResource\n",
    "from vortex.syntax.stdattrs import number_deco\n",
    "\n",
    "class DemoResource1(FlowResource):\n",
    "\n",
    "    _footprint = [\n",
    "        number_deco,\n",
    "        dict(info = 'Description 1',\n",
    "             attr = dict(\n",
    "                kind = dict(values = ['demo1']),\n",
    "                scope = dict(info = 'Scope description',\n",
    "                             values = ['surface', 'altitude'])))\n",
    "    ]\n",
    "    \n",
    "    @property\n",
    "    def realkind(self):\n",
    "        return 'demo'\n",
    "    \n",
    "    def namebuilding_info(self):\n",
    "        \"\"\"On ajoute l'attribut *scope*.\"\"\"\n",
    "        bdict = super(DemoResource1, self).namebuilding_info()\n",
    "        bdict['src'].append(self.scope)\n",
    "        return bdict"
   ]
  },
  {
   "cell_type": "markdown",
   "metadata": {
    "slideshow": {
     "slide_type": "-"
    }
   },
   "source": [
    "Here, the **namebuilding_info** method is redefined manually. We can notice the benefits of inheritance (**FlowResource** provided attributes *model*, *dates* and *cutoff*) and of predefined footprints attributes (``number_deco`` provides the *number* attribute)."
   ]
  },
  {
   "cell_type": "markdown",
   "metadata": {
    "slideshow": {
     "slide_type": "subslide"
    }
   },
   "source": [
    "Let's test the result:"
   ]
  },
  {
   "cell_type": "code",
   "execution_count": 3,
   "metadata": {
    "collapsed": false
   },
   "outputs": [
    {
     "data": {
      "text/plain": [
       "'vortex://vortex.cache.fr/arpege/4dvarfr/ABCD/20190101T0000A/anyblock/demo.arpege-altitude.005.grib'"
      ]
     },
     "execution_count": 3,
     "metadata": {},
     "output_type": "execute_result"
    }
   ],
   "source": [
    "rtest = toolbox.input(date='2019010100', cutoff='assim', model='arpege',\n",
    "                      kind='demo1', number=5, scope='altitude', nativefmt='grib',\n",
    "                      # Provider + Container :\n",
    "                      experiment='ABCD', block='anyblock', namespace='vortex.cache.fr',\n",
    "                      vapp='arpege', vconf='4dvarfr', incore=True)\n",
    "rtest[0].location()"
   ]
  },
  {
   "cell_type": "markdown",
   "metadata": {
    "slideshow": {
     "slide_type": "subslide"
    }
   },
   "source": [
    "### Use of a class decorator"
   ]
  },
  {
   "cell_type": "code",
   "execution_count": 4,
   "metadata": {
    "collapsed": true
   },
   "outputs": [],
   "source": [
    "from vortex.data.flow import FlowResource\n",
    "from vortex.syntax.stdattrs import number_deco\n",
    "from vortex.syntax.stddeco import namebuilding_append\n",
    "\n",
    "@namebuilding_append('src', lambda self: self.scope)\n",
    "class DemoResource2(FlowResource):\n",
    "\n",
    "    _footprint = [\n",
    "        number_deco,\n",
    "        dict(info = 'Description 2',\n",
    "             attr = dict(\n",
    "                kind = dict(values = ['demo2']),\n",
    "                scope = dict(info = 'Scope description',\n",
    "                             values = ['surface', 'altitude'])))\n",
    "    ]\n",
    "    \n",
    "    @property\n",
    "    def realkind(self):\n",
    "        return 'demo'"
   ]
  },
  {
   "cell_type": "markdown",
   "metadata": {},
   "source": [
    "Here, the ``namebuilding_append`` class decorator adds the scope attribute to the dictionary returned by **namebuilding_info**..."
   ]
  },
  {
   "cell_type": "markdown",
   "metadata": {
    "slideshow": {
     "slide_type": "subslide"
    }
   },
   "source": [
    "Let's test the result:"
   ]
  },
  {
   "cell_type": "code",
   "execution_count": 5,
   "metadata": {
    "collapsed": false
   },
   "outputs": [
    {
     "data": {
      "text/plain": [
       "'vortex://vortex.cache.fr/arpege/4dvarfr/ABCD/20190101T0000A/anyblock/demo.arpege-altitude.005.grib'"
      ]
     },
     "execution_count": 5,
     "metadata": {},
     "output_type": "execute_result"
    }
   ],
   "source": [
    "rtest = toolbox.input(date='2019010100', cutoff='assim', model='arpege',\n",
    "                      kind='demo2', number=5, scope='altitude', nativefmt='grib',\n",
    "                      # Provider + Container :\n",
    "                      experiment='ABCD', block='anyblock', namespace='vortex.cache.fr',\n",
    "                      vapp='arpege', vconf='4dvarfr', incore=True)\n",
    "rtest[0].location()"
   ]
  },
  {
   "cell_type": "markdown",
   "metadata": {
    "slideshow": {
     "slide_type": "subslide"
    }
   },
   "source": [
    "### Creating a predefined attribute"
   ]
  },
  {
   "cell_type": "code",
   "execution_count": 6,
   "metadata": {
    "collapsed": false
   },
   "outputs": [],
   "source": [
    "from vortex.data.flow import FlowResource\n",
    "from vortex.syntax.stdattrs import number_deco\n",
    "from vortex.syntax.stddeco import namebuilding_append\n",
    "\n",
    "demoscope = fp.Footprint(info = 'Abstract Scope',\n",
    "                         attr = dict(scope = dict(info = 'Scope description',\n",
    "                                                 values = ['surface', 'altitude'])))\n",
    "\n",
    "demoscope_deco = fp.DecorativeFootprint(\n",
    "    demoscope,\n",
    "    decorator = [namebuilding_append('src', lambda self: self.scope), ])\n",
    "\n",
    "class DemoResource3(FlowResource):\n",
    "\n",
    "    _footprint = [\n",
    "        number_deco,\n",
    "        demoscope_deco,\n",
    "        dict(info = 'Description 3',\n",
    "             attr = dict(kind = dict(values = ['demo3'])))\n",
    "    ]\n",
    "    \n",
    "    @property\n",
    "    def realkind(self):\n",
    "        return 'demo'"
   ]
  },
  {
   "cell_type": "markdown",
   "metadata": {},
   "source": [
    "We define a predefined attribute for *scope* (``demoscope`` object) and we associate it with a class decorator (``demoscope_deco`` object). If the *scope* attribute is likely to be used in other resources, this strategy can be cost effective."
   ]
  },
  {
   "cell_type": "markdown",
   "metadata": {
    "slideshow": {
     "slide_type": "subslide"
    }
   },
   "source": [
    "Let's test the result:"
   ]
  },
  {
   "cell_type": "code",
   "execution_count": 7,
   "metadata": {
    "collapsed": false
   },
   "outputs": [
    {
     "data": {
      "text/plain": [
       "'vortex://vortex.cache.fr/arpege/4dvarfr/ABCD/20190101T0000A/anyblock/demo.arpege-altitude.005.grib'"
      ]
     },
     "execution_count": 7,
     "metadata": {},
     "output_type": "execute_result"
    }
   ],
   "source": [
    "rtest = toolbox.input(date='2019010100', cutoff='assim', model='arpege',\n",
    "                      kind='demo3', number=5, scope='altitude', nativefmt='grib',\n",
    "                      # Provider + Container :\n",
    "                      experiment='ABCD', block='anyblock', namespace='vortex.cache.fr',\n",
    "                      vapp='arpege', vconf='4dvarfr', incore=True)\n",
    "rtest[0].location()"
   ]
  },
  {
   "cell_type": "markdown",
   "metadata": {
    "slideshow": {
     "slide_type": "slide"
    }
   },
   "source": [
    "# Extension of the previous example for the Olive *provider*"
   ]
  },
  {
   "cell_type": "code",
   "execution_count": 8,
   "metadata": {
    "collapsed": false
   },
   "outputs": [],
   "source": [
    "from vortex.data.flow import FlowResource\n",
    "from vortex.syntax.stdattrs import number_deco\n",
    "# demoscope_deco defined above is reused here\n",
    "\n",
    "class DemoResource4(FlowResource):\n",
    "\n",
    "    _footprint = [\n",
    "        number_deco,\n",
    "        demoscope_deco,\n",
    "        dict(info = 'Description 4',\n",
    "             attr = dict(kind = dict(values = ['demo4'])))\n",
    "    ]\n",
    "    \n",
    "    @property\n",
    "    def realkind(self):\n",
    "        return 'demo'\n",
    "    \n",
    "    def olive_basename(self):\n",
    "        return '{0.realkind:s}{0.scope:s}{0.number:04d}'.format(self).upper()"
   ]
  },
  {
   "cell_type": "markdown",
   "metadata": {
    "slideshow": {
     "slide_type": "subslide"
    }
   },
   "source": [
    "Let's test the result:"
   ]
  },
  {
   "cell_type": "code",
   "execution_count": 10,
   "metadata": {
    "collapsed": false
   },
   "outputs": [
    {
     "data": {
      "text/plain": [
       "'olive://olive.cache.fr/ABCD/20190101H00A/anyblock/DEMOALTITUDE0005'"
      ]
     },
     "execution_count": 10,
     "metadata": {},
     "output_type": "execute_result"
    }
   ],
   "source": [
    "rtest = toolbox.input(date='2019010100', cutoff='assim', model='arpege',\n",
    "                      kind='demo4', number=5, scope='altitude', nativefmt='grib',\n",
    "                      # Provider + Container :\n",
    "                      experiment='ABCD', block='anyblock', namespace='olive.cache.fr',\n",
    "                      vapp='arpege', vconf='4dvarfr', incore=True)\n",
    "rtest[0].location()"
   ]
  },
  {
   "cell_type": "markdown",
   "metadata": {},
   "source": [
    "It still works with the Vortex *provider*..."
   ]
  },
  {
   "cell_type": "code",
   "execution_count": 9,
   "metadata": {
    "collapsed": false
   },
   "outputs": [
    {
     "data": {
      "text/plain": [
       "'vortex://vortex.cache.fr/arpege/4dvarfr/ABCD/20190101T0000A/anyblock/demo.arpege-altitude.005.grib'"
      ]
     },
     "execution_count": 9,
     "metadata": {},
     "output_type": "execute_result"
    }
   ],
   "source": [
    "rtest = toolbox.input(date='2019010100', cutoff='assim', model='arpege',\n",
    "                      kind='demo4', number=5, scope='altitude', nativefmt='grib',\n",
    "                      # Provider + Container :\n",
    "                      experiment='ABCD', block='anyblock', namespace='vortex.cache.fr',\n",
    "                      vapp='arpege', vconf='4dvarfr', incore=True)\n",
    "rtest[0].location()"
   ]
  },
  {
   "cell_type": "markdown",
   "metadata": {
    "slideshow": {
     "slide_type": "slide"
    }
   },
   "source": [
    "# Defining a constant (retrievable via genv)"
   ]
  },
  {
   "cell_type": "markdown",
   "metadata": {},
   "source": [
    "The our example resource will be referenced in Genv by the 'DEMOFILE' key"
   ]
  },
  {
   "cell_type": "code",
   "execution_count": 11,
   "metadata": {
    "collapsed": true
   },
   "outputs": [],
   "source": [
    "from common.data.consts import GenvModelResource\n",
    "\n",
    "class DemoConstante1(GenvModelResource):\n",
    "\n",
    "    _footprint = dict(info = 'Constante 1',\n",
    "                      attr = dict(kind = dict(values = ['ma_constante1']),\n",
    "                                  gvar = dict(default = 'DEMOFILE')))\n",
    "    \n",
    "    @property\n",
    "    def realkind(self):\n",
    "        return 'democonstante'"
   ]
  },
  {
   "cell_type": "markdown",
   "metadata": {
    "slideshow": {
     "slide_type": "subslide"
    }
   },
   "source": [
    "Let's prepare the test:"
   ]
  },
  {
   "cell_type": "code",
   "execution_count": 12,
   "metadata": {
    "collapsed": false
   },
   "outputs": [
    {
     "data": {
      "text/plain": [
       "<vortex.tools.env.Environment at 0x7f0f85e1fc18>"
      ]
     },
     "execution_count": 12,
     "metadata": {},
     "output_type": "execute_result"
    }
   ],
   "source": [
    "# In real life, it will be done automatically by Olive or the job creation system\n",
    "from gco.tools import genv\n",
    "genv.register(cycle='test_cycle.01',\n",
    "              DEMOFILE='the_test_constant.01')"
   ]
  },
  {
   "cell_type": "markdown",
   "metadata": {},
   "source": [
    "The test itself:"
   ]
  },
  {
   "cell_type": "code",
   "execution_count": 13,
   "metadata": {
    "collapsed": false
   },
   "outputs": [
    {
     "data": {
      "text/plain": [
       "'gget://gco.meteo.fr/tampon/the_test_constant.01'"
      ]
     },
     "execution_count": 13,
     "metadata": {},
     "output_type": "execute_result"
    }
   ],
   "source": [
    "rtest = toolbox.input(model='arpege', kind='ma_constante1',\n",
    "                      # Provider + Container :\n",
    "                      genv = 'test_cycle.01', incore=True)\n",
    "rtest[0].location()"
   ]
  },
  {
   "cell_type": "markdown",
   "metadata": {
    "slideshow": {
     "slide_type": "subslide"
    }
   },
   "source": [
    "## And if it was a monthly constant ?\n",
    "\n",
    "Or, the return of the predefined attribute..."
   ]
  },
  {
   "cell_type": "code",
   "execution_count": 14,
   "metadata": {
    "collapsed": true
   },
   "outputs": [],
   "source": [
    "from vortex.syntax.stdattrs import month_deco\n",
    "from common.data.consts import GenvModelResource\n",
    "\n",
    "class DemoConstante2(GenvModelResource):\n",
    "\n",
    "    _footprint = [month_deco,\n",
    "                  dict(info = 'Constante 2',\n",
    "                       attr = dict(kind = dict(values = ['ma_constante2']),\n",
    "                                   gvar = dict(default = 'DEMOFILE')))\n",
    "                 ]\n",
    "    \n",
    "    @property\n",
    "    def realkind(self):\n",
    "        return 'democonstante'"
   ]
  },
  {
   "cell_type": "markdown",
   "metadata": {
    "slideshow": {
     "slide_type": "subslide"
    }
   },
   "source": [
    "Let's test the result:"
   ]
  },
  {
   "cell_type": "code",
   "execution_count": 15,
   "metadata": {
    "collapsed": false
   },
   "outputs": [
    {
     "data": {
      "text/plain": [
       "'gget://gco.meteo.fr/tampon/the_test_constant.01.m03'"
      ]
     },
     "execution_count": 15,
     "metadata": {},
     "output_type": "execute_result"
    }
   ],
   "source": [
    "rtest = toolbox.input(model='arpege', kind='ma_constante2', month=3,\n",
    "                      # Provider + Container :\n",
    "                      genv = 'test_cycle.01', incore=True)\n",
    "rtest[0].location()"
   ]
  },
  {
   "cell_type": "markdown",
   "metadata": {
    "slideshow": {
     "slide_type": "skip"
    }
   },
   "source": [
    "If we look at the definition of the predefined attribute *month_deco*, we see that it is associated with a class decorator that alters the content of the **gget_basename** method: this is what explains the addition of '.m03' in the URI."
   ]
  }
 ],
 "metadata": {
  "celltoolbar": "Slideshow",
  "kernelspec": {
   "display_name": "Python 3",
   "language": "python",
   "name": "python3"
  },
  "language_info": {
   "codemirror_mode": {
    "name": "ipython",
    "version": 3
   },
   "file_extension": ".py",
   "mimetype": "text/x-python",
   "name": "python",
   "nbconvert_exporter": "python",
   "pygments_lexer": "ipython3",
   "version": "3.5.3"
  }
 },
 "nbformat": 4,
 "nbformat_minor": 0
}
