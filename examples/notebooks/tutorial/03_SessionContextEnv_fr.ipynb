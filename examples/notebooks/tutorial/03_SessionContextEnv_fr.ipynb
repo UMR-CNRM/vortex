{
 "cells": [
  {
   "cell_type": "markdown",
   "metadata": {
    "slideshow": {
     "slide_type": "slide"
    }
   },
   "source": [
    "# Notions de Session, Contexte et Environnement"
   ]
  },
  {
   "cell_type": "markdown",
   "metadata": {
    "slideshow": {
     "slide_type": "slide"
    }
   },
   "source": [
    "Initialisation de Vortex..."
   ]
  },
  {
   "cell_type": "code",
   "execution_count": 1,
   "metadata": {
    "collapsed": false,
    "scrolled": true,
    "slideshow": {
     "slide_type": "-"
    }
   },
   "outputs": [
    {
     "name": "stderr",
     "output_type": "stream",
     "text": [
      "# [2019/09/03-17:19:24][vortex.sessions][_set_rundir:0152][WARNING]: Session <root> is changing its working directory </sauvegarde/vortex-dev/vortex/examples/notebooks/tutorial>\n",
      "# [2019/09/03-17:19:24][vortex.sessions][_set_rundir:0155][INFO]: Session <root> set rundir </home/meunierlf/vortex-workdir/auto_cocoon_51yda7x0>\n"
     ]
    },
    {
     "name": "stdout",
     "output_type": "stream",
     "text": [
      "Vortex 1.6.2 loaded ( Tuesday 03. September 2019, at 17:19:23 )\n",
      "The working directory is now: /home/meunierlf/vortex-workdir/auto_cocoon_51yda7x0/root\n"
     ]
    },
    {
     "data": {
      "text/plain": [
       "'/home/meunierlf/vortex-workdir/auto_cocoon_51yda7x0'"
      ]
     },
     "execution_count": 1,
     "metadata": {},
     "output_type": "execute_result"
    }
   ],
   "source": [
    "%load_ext ivortex\n",
    "%vortex tmpcocoon"
   ]
  },
  {
   "cell_type": "markdown",
   "metadata": {
    "slideshow": {
     "slide_type": "slide"
    }
   },
   "source": [
    "## Principe\n",
    "\n",
    "À un moment donné il faut pouvoir :\n",
    "\n",
    "  * Accéder à des données de configuration globales\n",
    "  * Appeler des fonctions système (changement de répertoire, copie de fichiers, ...)\n",
    "  * Avoir la liste des fichiers qui ont été récupérés/envoyés\n",
    "  * Modifier des variables d'environnement, revenir en arrière, ..."
   ]
  },
  {
   "cell_type": "markdown",
   "metadata": {
    "slideshow": {
     "slide_type": "subslide"
    }
   },
   "source": [
    "Cela se traduit en Vortex par un arborescence d'objets :\n",
    "\n",
    "* Une ou plusieurs *Session(s)* décrites chacune par un objet *Ticket* de session. Un *Ticket* de session a pour membres :\n",
    "\n",
    "* Un objet *Glove* (_**GLO**bal **V**ersatile **E**nvironment_) qui contient des informations de configuration globales (nom d'utilisateur, profil de l'utilisateur, ...)\n",
    "    * Un objet *System* qui permettra d'accéder à un grand nombre de fonctions système.\n",
    "    * Un objet *Context* qui a pour membres :\n",
    "\n",
    "        - Un objet *Sequence* qui conserve la mémoire des différentes \n",
    "          sections qui ont été créées lors des phases de \n",
    "          récupération et d'archivage des données\n",
    "        - Un (ou plusieurs) objet(s) *Environment* qui permet(tent)\n",
    "          d'interagir avec les variables d'environnement.\n",
    "        - D'éventuels sous-contextes\n",
    "\n",
    "Dans la description ci-dessus, on remarque qu'il peut y avoir plusieurs objets *Sessions*, *Contexts* ou *Environments*. Mais à un instant donné, un seul de ces objet sera \"actif\" et le lien hiérarchique sera conservé (le *Context* actif est forcément membre de la *Session* active)."
   ]
  },
  {
   "cell_type": "markdown",
   "metadata": {
    "collapsed": true,
    "slideshow": {
     "slide_type": "subslide"
    }
   },
   "source": [
    "**Exemple :** avoir plusieurs sous-*Context* peut avoir un intérêt si, dans un même script, on réalise deux tâches biens distinctes.\n",
    "\n",
    "* On créera alors deux sous-contextes (*Ctx1* et *Ctx2*). \n",
    "* On active *Ctx1* et on commence à réaliser la première tâche dans \n",
    "  un sous-répertoire qui lui est propre : récupération de ressources, \n",
    "  modifications de l'environnement, etc.\n",
    "* À un moment donné, on décide de réaliser la deuxième tâche. On active \n",
    "  alors *Ctx2* pour passer dans un répertoire dédié et repartir d'une \n",
    "  situation propre (*i.e.* l'environnement de *Ctx2* ne contient plus les \n",
    "  modifications faites dans *Ctx1* à l'occasion de la tâche précédente).\n",
    "* On peut très bien décider de repartir travailler sur la première \n",
    "  tâche... Il suffit alors d'activer de nouveau *Ctx1* pour que \n",
    "  l'environnement de la première tâche soit restauré.\n",
    "* ..."
   ]
  },
  {
   "cell_type": "markdown",
   "metadata": {
    "slideshow": {
     "slide_type": "slide"
    }
   },
   "source": [
    "## En pratique...\n",
    "\n",
    "L'utilisateur ou le développeur de tâches ne devrait pas trop se soucier de créer des *Sessions*, *Contexts*, ... car :\n",
    "\n",
    "* Des objets *Session* et *Context* par défaut sont créés au chargement de Vortex : pour beaucoup de scripts cela suffit car on ne réalise qu'une seule tâche à la fois (c'est notamment le cas sous Olive).\n",
    "* Dans le cas d'un job multi-tâches, ce travail de création des *Sessions* et *Contexts* est réalisé par le système \"officiel\" de création de jobs (présentation du dernier jour).\n",
    "\n",
    "Il faut donc retenir qu'à un moment donné, il y une *Session*, un *Context* et un *Environment* actifs. La suite de la présentation se concentrera donc sur la récupération de ces objets \"actifs\" et sur leur utilisation.\n",
    "\n",
    "Récupération de la session active (ou plus précisement de son *Ticket*) :"
   ]
  },
  {
   "cell_type": "code",
   "execution_count": 2,
   "metadata": {
    "collapsed": true,
    "slideshow": {
     "slide_type": "-"
    }
   },
   "outputs": [],
   "source": [
    "t = vortex.ticket()\n",
    "# la session, en soi, n'est pas très intéressante mais elle donne accès\n",
    "# à de nombreuses fonctionnalités"
   ]
  },
  {
   "cell_type": "markdown",
   "metadata": {
    "slideshow": {
     "slide_type": "subslide"
    }
   },
   "source": [
    "###  Le *Glove* de la session active"
   ]
  },
  {
   "cell_type": "code",
   "execution_count": 3,
   "metadata": {
    "collapsed": false
   },
   "outputs": [
    {
     "name": "stdout",
     "output_type": "stream",
     "text": [
      "+ User     = meunierlf\n",
      "+ Profile  = research\n",
      "+ Vapp     = play\n",
      "+ Vconf    = sandbox\n",
      "+ Configrc = /home/meunierlf/.vortexrc\n"
     ]
    }
   ],
   "source": [
    "print(t.glove.idcard())"
   ]
  },
  {
   "cell_type": "code",
   "execution_count": 4,
   "metadata": {
    "collapsed": true
   },
   "outputs": [],
   "source": [
    "# un des rares points à personnaliser dans le glove est le vapp/vconf par défaut.\n",
    "t.glove.vapp = 'arpege'\n",
    "t.glove.vconf = '4dvarfr'\n",
    "# (cela est pré-positionné par Olive ou par le système de création de jobs)"
   ]
  },
  {
   "cell_type": "markdown",
   "metadata": {
    "slideshow": {
     "slide_type": "subslide"
    }
   },
   "source": [
    "### L'objet *System* de la session active"
   ]
  },
  {
   "cell_type": "code",
   "execution_count": 5,
   "metadata": {
    "collapsed": false
   },
   "outputs": [
    {
     "name": "stdout",
     "output_type": "stream",
     "text": [
      "<vortex.tools.systems.Linux34p object at 0x7ff02c88b400 | footprint=7>\n"
     ]
    }
   ],
   "source": [
    "print(t.sh)"
   ]
  },
  {
   "cell_type": "markdown",
   "metadata": {},
   "source": [
    "Cet objet est d'un usage très courant, on y reviendra dans la suite de la présentation."
   ]
  },
  {
   "cell_type": "markdown",
   "metadata": {
    "slideshow": {
     "slide_type": "subslide"
    }
   },
   "source": [
    "### L'objet *Context* actif"
   ]
  },
  {
   "cell_type": "code",
   "execution_count": 6,
   "metadata": {
    "collapsed": false
   },
   "outputs": [
    {
     "name": "stdout",
     "output_type": "stream",
     "text": [
      "<vortex.layout.contexts.Context object at 0x7ff02c867ba8>\n"
     ]
    }
   ],
   "source": [
    "print(t.context)"
   ]
  },
  {
   "cell_type": "markdown",
   "metadata": {},
   "source": [
    "Chaque *Context* a un chemin permettant de l'identifier dans la hiérarchie. Ici on travaille sur la session _\"``root``\"_ (créée par défaut au lancement de Vortex) et sur le contexte _\"``root``\"_ (créé automatiquement lors de la création de la session) :\n"
   ]
  },
  {
   "cell_type": "code",
   "execution_count": 7,
   "metadata": {
    "collapsed": false
   },
   "outputs": [
    {
     "name": "stdout",
     "output_type": "stream",
     "text": [
      "/root/root\n"
     ]
    }
   ],
   "source": [
    "print(t.context.path)"
   ]
  },
  {
   "cell_type": "markdown",
   "metadata": {
    "slideshow": {
     "slide_type": "subslide"
    }
   },
   "source": [
    "### Les objets *Sequence* et *Environment* du contexte actif"
   ]
  },
  {
   "cell_type": "code",
   "execution_count": 8,
   "metadata": {
    "collapsed": false
   },
   "outputs": [
    {
     "name": "stdout",
     "output_type": "stream",
     "text": [
      "<vortex.layout.dataflow.Sequence object at 0x7ff02c867c50>\n"
     ]
    }
   ],
   "source": [
    "print(t.context.sequence)"
   ]
  },
  {
   "cell_type": "code",
   "execution_count": 9,
   "metadata": {
    "collapsed": false
   },
   "outputs": [
    {
     "name": "stdout",
     "output_type": "stream",
     "text": [
      "<vortex.tools.env.Environment object at 0x7ff02c867be0 | including 105 variables>\n"
     ]
    }
   ],
   "source": [
    "print(t.context.env)"
   ]
  },
  {
   "cell_type": "markdown",
   "metadata": {},
   "source": [
    "Ces objets sont d'un usage très courant, on y reviendra dans la suite de la présentation."
   ]
  },
  {
   "cell_type": "markdown",
   "metadata": {
    "slideshow": {
     "slide_type": "slide"
    }
   },
   "source": [
    "## Le *System* : accéder aux fonctionnalités de l'OS\n",
    "\n",
    "L'objet *System* donne accès à de nombreuses méthodes facilitant l'accès aux fonctionnalités du système d'exploitation.\n",
    "\n",
    "L'objet *System* :\n",
    "\n",
    "* Définit un certain nombre de méthodes propres à Vortex (cp, rm, touch, spawn, ...)\n",
    "* Si une méthode n'est pas redéfinie dans l'objet *System*, il donne accès de façon transparente aux méthodes et modules mis à disposition par Python dans les modules standard ``os``, ``shutil`` et ``resource``."
   ]
  },
  {
   "cell_type": "code",
   "execution_count": 10,
   "metadata": {
    "collapsed": false,
    "slideshow": {
     "slide_type": "subslide"
    }
   },
   "outputs": [
    {
     "name": "stdout",
     "output_type": "stream",
     "text": [
      "True\n",
      "/tmp\n",
      "True\n"
     ]
    }
   ],
   "source": [
    "# Nom du répertoire courant\n",
    "current = t.sh.pwd()\n",
    "# Changement de répertoire\n",
    "print(t.sh.cd('/tmp'))\n",
    "print(t.sh.pwd())\n",
    "# Retour\n",
    "print(t.sh.cd(current))"
   ]
  },
  {
   "cell_type": "code",
   "execution_count": 11,
   "metadata": {
    "collapsed": false
   },
   "outputs": [
    {
     "name": "stdout",
     "output_type": "stream",
     "text": [
      "['']\n"
     ]
    }
   ],
   "source": [
    "files_list = t.sh.ls()\n",
    "print(files_list)"
   ]
  },
  {
   "cell_type": "markdown",
   "metadata": {},
   "source": [
    "Les méthodes de cet objet sont très nombreuses, nous n'allons donc pas toutes les décrires ici. Pour une description détaillée, voir la documentation Sphinx du module **vortex.tools.systems** :\n",
    "\n",
    "http://intra.cnrm.meteo.fr/algopy/sphinx/vortex/current/library/vortex/tools/systems.html"
   ]
  },
  {
   "cell_type": "markdown",
   "metadata": {
    "slideshow": {
     "slide_type": "subslide"
    }
   },
   "source": [
    "Comme indiqué précédemment, l'objet *System* donne accès à des méthodes ou modules présents dans les modules Python standard que sont ``os``, ``shutil`` et ``resource``. Par exemple, par ce biais, on utilise fréquement le module **os.path** de Python :"
   ]
  },
  {
   "cell_type": "code",
   "execution_count": 12,
   "metadata": {
    "collapsed": false
   },
   "outputs": [
    {
     "name": "stdout",
     "output_type": "stream",
     "text": [
      "Exists ? True\n",
      "Basename: null\n",
      "Dirname: /dev\n"
     ]
    }
   ],
   "source": [
    "print('Exists ?', t.sh.path.exists('/dev/null'))\n",
    "print('Basename:', t.sh.path.basename('/dev/null'))\n",
    "print('Dirname:', t.sh.path.dirname('/dev/null'))"
   ]
  },
  {
   "cell_type": "markdown",
   "metadata": {},
   "source": [
    "Pour la documentation de ces méthodes et modules, on se reportera à la documentation officielle de Python."
   ]
  },
  {
   "cell_type": "markdown",
   "metadata": {
    "slideshow": {
     "slide_type": "subslide"
    }
   },
   "source": [
    "### Type des objets *System*\n",
    "\n",
    "Les objets *System* ne sont pas forcement les mêmes d'une machine à l'autre. Ici :"
   ]
  },
  {
   "cell_type": "code",
   "execution_count": 13,
   "metadata": {
    "collapsed": false
   },
   "outputs": [
    {
     "data": {
      "text/plain": [
       "vortex.tools.systems.Linux34p"
      ]
     },
     "execution_count": 13,
     "metadata": {},
     "output_type": "execute_result"
    }
   ],
   "source": [
    "type(t.sh)"
   ]
  },
  {
   "cell_type": "markdown",
   "metadata": {},
   "source": [
    "La classe de l'objet *System* est choisie au moment du chargement de Vortex et de la création de la session par défaut. Ce choix s'effectue, via le package **footprints**, sur la base des données renvoyées par le module Python **platform** (type d'architecture, système d'exploitation, version de Python, ...).\n",
    "\n",
    "Très souvent les objets ``Linux27`` ou ``Linux64p`` sont choisis mais il existe aussi des variantes pour MacOS ou naguère pour NEC-SX. Avoir des classes différentes selon les versions autorise d'avoir des implémentations différentes selon les types de systèmes, ce qui est très important dans le cadre d'une vision à long terme. En effet, un certain nombre de fonctions du module **os** de Python indiquent clairement que leurs implémentations ne sont pas portables d'une architecture à l'autre : il faut donc se réserver la possibilité de réaliser nos propres implémentations."
   ]
  },
  {
   "cell_type": "markdown",
   "metadata": {
    "slideshow": {
     "slide_type": "subslide"
    }
   },
   "source": [
    "D'un point de vue pratique, les objets *System* des différentes architectures héritent tous de la classe **vortex.tools.systems.OSExtended** qui peut donc être vue comme une classe abstraite : toutes les méthodes présentes dans cette classe peuvent être utilisées quel que soit le système d'exploitation.\n",
    "\n",
    "**Obligation dans le développement de Vortex :** l'objet *System* doit systématiquement être utilisé pour toute interaction avec le système d'exploitation, même si dans le cas de ``t.sh.path`` on retombe _actuellement_ sur une implémentation standard."
   ]
  },
  {
   "cell_type": "markdown",
   "metadata": {
    "slideshow": {
     "slide_type": "subslide"
    }
   },
   "source": [
    "### Extension du shell (addons)\n",
    "\n",
    "Il est possible d'ajouter, à la volée, de nouvelles fonctionnalités à l'objet *System*. De tels *Addons* peuvent être utilisés pour ajouter des méthodes spécifiques à tel ou tel modèle ou format de données (il s'agit de choses optionnelles).\n",
    "\n",
    "Le plus simple est d'illustrer leur usage par un exemple :"
   ]
  },
  {
   "cell_type": "code",
   "execution_count": 14,
   "metadata": {
    "collapsed": true
   },
   "outputs": [],
   "source": [
    "class HelloAddon(vortex.tools.addons.Addon):  # Normalement défini dans le source de Vortex\n",
    "    \n",
    "    _footprint = dict(\n",
    "        attr = dict(\n",
    "            kind = dict(values = ['hello']),\n",
    "        )\n",
    "    )\n",
    "    \n",
    "    def say_hi(self):\n",
    "        self.sh.title(\"Hello World !\")\n",
    "\n",
    "shhello = fp.proxy.addon(kind='hello', sh=sh)  # Chargement de l'Addon, en début de script"
   ]
  },
  {
   "cell_type": "code",
   "execution_count": 15,
   "metadata": {
    "collapsed": false
   },
   "outputs": [
    {
     "name": "stdout",
     "output_type": "stream",
     "text": [
      "\n",
      "====================================================================================================\n",
      "=                                          HELLO WORLD !                                           =\n",
      "====================================================================================================\n",
      "\n"
     ]
    }
   ],
   "source": [
    "t.sh.say_hi()  # Voila !"
   ]
  },
  {
   "cell_type": "markdown",
   "metadata": {},
   "source": [
    "**Principe** : Les méthodes publiques de l'objet *Addons* (*i.e.* celles dont le nom ne commence pas par ``_``) se retrouvent directement accessibles depuis l'objet *System*."
   ]
  },
  {
   "cell_type": "markdown",
   "metadata": {
    "slideshow": {
     "slide_type": "subslide"
    }
   },
   "source": [
    "### Comportement différencié selon le format des données\n",
    "\n",
    "Pour certains formats de données, les méthodes standard ne doivent pas être utilisées. Par exemple, Arpège utilise désormais des ``FA/LFI`` éclatés (format maison) qui sont en fait des répertoires contenant plusieurs fichiers associés à un fichier d'index ; pour ces données :\n",
    "\n",
    "* un simple ``cp`` ou ``mv`` ne fonctionne pas (il faut appeler une commande spécifique)\n",
    "* le ``diff`` ne fonctionne pas car les champs ne sont pas écrits dans un ordre déterministe\n",
    "* il faut concaténer les différents fichiers du répertoire avant de les archiver (programme spécifique)\n",
    "\n",
    "Pour satisfaire ce type de besoin, il est possible de personnaliser certaines méthodes en fonction du format. Il s'agit des méthodes : ``cp``, ``mv``, ``rm``, ``diff``, ``ftget``, ``rawftget``, ``ftput``, ``rawftput``, ``scpput`` et ``scpget``.\n",
    "\n",
    "Lorsqu'un attribut (optionnel) ``fmt='format'`` est précisé lors de l'appel à l'une de ces méthodes (pour l'exemple, prenons ``cp``), on vérifie s'il existe dans l'objet *System* une méthode nommée ``format_cp``. Si tel est le cas, on l'appelle à la place de la fonction ``cp`` standard.\n",
    "\n",
    "Les objets appelant ces méthodes doivent donc veiller à fournir des attributs ``fmt`` valides (sinon la méthode \"standard\" est utilisée). Dans Vortex, l'objet resource's *Handler* fournit systématiquement un format aux objets *Store* chargés de la récupération des données."
   ]
  },
  {
   "cell_type": "markdown",
   "metadata": {
    "slideshow": {
     "slide_type": "subslide"
    }
   },
   "source": [
    "En pratique, les méthodes associées à des formats spécifiques sont définies dans des *Addons* afin que les utilisateurs qui n'en ont pas besoin ne soient pas \"pollués\" :"
   ]
  },
  {
   "cell_type": "code",
   "execution_count": 16,
   "metadata": {
    "collapsed": false
   },
   "outputs": [
    {
     "name": "stdout",
     "output_type": "stream",
     "text": [
      "Avant: False\n",
      "Après: True\n"
     ]
    }
   ],
   "source": [
    "print('Avant:', hasattr(t.sh, 'lfi_cp'))\n",
    "# la commande : t.sh.cp('origin', 'destination', fmt=\"lfi\") fera un cp standard :-(\n",
    "import vortex.tools.lfi\n",
    "shlfi = fp.proxy.addon(kind='lfi', sh=t.sh)\n",
    "print('Après:', hasattr(t.sh, 'lfi_cp'))\n",
    "# la commande : t.sh.cp('origin', 'destination', fmt=\"lfi\") fera désormais ce qu'il faut"
   ]
  },
  {
   "cell_type": "markdown",
   "metadata": {
    "slideshow": {
     "slide_type": "slide"
    }
   },
   "source": [
    "## L'objet *Sequence* du context actif\n",
    "\n",
    "Récupérons d'abord quelques données afin que la démonstration prenne tout son sens."
   ]
  },
  {
   "cell_type": "code",
   "execution_count": 17,
   "metadata": {
    "collapsed": false
   },
   "outputs": [
    {
     "name": "stderr",
     "output_type": "stream",
     "text": [
      "# [2019/09/03-17:19:25][vortex.tools.systems][cp:2211][ERROR]: Missing source /home/meunierlf/vortex-workdir/auto_cocoon_51yda7x0/root/cy42_op2.09lf.nam/something\n",
      "# [2019/09/03-17:19:25][vortex.tools.systems][cp:2211][ERROR]: Missing source /home/meunierlf/vortex-workdir/auto_cocoon_51yda7x0/root/cy42_op2.09lf.nam/something\n",
      "# [2019/09/03-17:19:25][vortex.data.stores][_verbose_log:0528][WARNING]: Multistore get uget://uget.multi.fr: none of the opened store succeeded.\n"
     ]
    }
   ],
   "source": [
    "r1 = toolbox.input(role='ArpegeNamelist', now=True, fatal=False, verbose=False, loglevel='warn',\n",
    "                   # Resource\n",
    "                   kind='namelist', model='arpege', source='something',\n",
    "                   # Provider\n",
    "                   genv='uget:cy42_op2.01fake@ugetdemo',\n",
    "                   # Container\n",
    "                   local='namelvoid')\n",
    "r2 = toolbox.input(role='ArpegeNamelist', now=True, verbose=False, loglevel='warning',\n",
    "                   # Resource\n",
    "                   kind='namelist', model='arpege', source='namelistfc',\n",
    "                   # Provider\n",
    "                   genv='uget:cy42_op2.01fake@ugetdemo',\n",
    "                   # Container\n",
    "                   local='nameltest')\n",
    "r2 = toolbox.input(role='RawGridpoint', now=True, verbose=False, loglevel='warning',\n",
    "                   # Container\n",
    "                   local='epytest_[geometry:area]_[term]', format='grib',\n",
    "                   # Resource\n",
    "                   kind='gridpoint', geometry='antil0025', origin='historic',\n",
    "                   date='2016100100', term='0,3', cutoff='production', model='[vapp]',\n",
    "                   nativefmt='[format]',\n",
    "                   # Provider\n",
    "                   experiment='OPER', block='forecast', namespace='vortex.multi.fr',\n",
    "                   vapp='arome', vconf='antilles')"
   ]
  },
  {
   "cell_type": "code",
   "execution_count": 18,
   "metadata": {
    "collapsed": true,
    "slideshow": {
     "slide_type": "subslide"
    }
   },
   "outputs": [],
   "source": [
    "seq = t.context.sequence"
   ]
  },
  {
   "cell_type": "markdown",
   "metadata": {},
   "source": [
    "Récupérer la liste des *Sections* précédemment créées (*Attention :* on parle bien de *Sections*, pas de resource's *Handler*) :"
   ]
  },
  {
   "cell_type": "code",
   "execution_count": 19,
   "metadata": {
    "collapsed": false
   },
   "outputs": [
    {
     "data": {
      "text/plain": [
       "<generator object Sequence.inputs at 0x7ff014f9ee60>"
      ]
     },
     "execution_count": 19,
     "metadata": {},
     "output_type": "execute_result"
    }
   ],
   "source": [
    "seq.inputs()"
   ]
  },
  {
   "cell_type": "code",
   "execution_count": 20,
   "metadata": {
    "collapsed": false
   },
   "outputs": [
    {
     "name": "stdout",
     "output_type": "stream",
     "text": [
      "/home/meunierlf/vortex-workdir/auto_cocoon_51yda7x0/root/namelvoid (ArpegeNamelist, stage=void)\n",
      "/home/meunierlf/vortex-workdir/auto_cocoon_51yda7x0/root/nameltest (ArpegeNamelist, stage=get)\n",
      "/home/meunierlf/vortex-workdir/auto_cocoon_51yda7x0/root/epytest_ANTIL0025_00:00 (RawGridpoint, stage=get)\n",
      "/home/meunierlf/vortex-workdir/auto_cocoon_51yda7x0/root/epytest_ANTIL0025_03:00 (RawGridpoint, stage=get)\n"
     ]
    }
   ],
   "source": [
    "print('\\n'.join(['{0.rh.container.abspath:s} ({0.role:s}, stage={0.stage})'.format(section)\n",
    "                 for section in seq.inputs()]))"
   ]
  },
  {
   "cell_type": "markdown",
   "metadata": {},
   "source": [
    "L'attribut **_``stage``_** de la section permet de savoir quel est l'état de la ressource :\n",
    "\n",
    "* *load* : La section a été créée mais rien de plus n'a été fait (now=False) ;\n",
    "* *checked* : La ressource distante existe (méthode *check*) mais n'a pas été récupérée ;\n",
    "* *void* : Erreur, la ressource demandée n'existe pas ;\n",
    "* *get* : La ressource a été récupérée."
   ]
  },
  {
   "cell_type": "markdown",
   "metadata": {
    "slideshow": {
     "slide_type": "subslide"
    }
   },
   "source": [
    "En général, on souhaite récupérer des *Sections* :\n",
    "\n",
    "* Pour lesquelles le *get* a été fait et a fonctionné (``stage=get``)\n",
    "* Pour un ``role`` bien précis (ou pour un ``kind`` donné)\n",
    "\n",
    "La méthode **effective_inputs** est prévue à cet effet :\n"
   ]
  },
  {
   "cell_type": "code",
   "execution_count": 21,
   "metadata": {
    "collapsed": false
   },
   "outputs": [
    {
     "name": "stdout",
     "output_type": "stream",
     "text": [
      "/home/meunierlf/vortex-workdir/auto_cocoon_51yda7x0/root/epytest_ANTIL0025_00:00 (RawGridpoint, stage=get)\n",
      "/home/meunierlf/vortex-workdir/auto_cocoon_51yda7x0/root/epytest_ANTIL0025_03:00 (RawGridpoint, stage=get)\n"
     ]
    }
   ],
   "source": [
    "print('\\n'.join(['{0.rh.container.abspath:s} ({0.role:s}, stage={0.stage})'.format(section)\n",
    "                 for section in seq.effective_inputs(role='RawGridpoint')]))"
   ]
  },
  {
   "cell_type": "code",
   "execution_count": 22,
   "metadata": {
    "collapsed": false
   },
   "outputs": [
    {
     "name": "stdout",
     "output_type": "stream",
     "text": [
      "/home/meunierlf/vortex-workdir/auto_cocoon_51yda7x0/root/nameltest (ArpegeNamelist, stage=get)\n"
     ]
    }
   ],
   "source": [
    "print('\\n'.join(['{0.rh.container.abspath:s} ({0.role:s}, stage={0.stage})'.format(section)\n",
    "                 for section in seq.effective_inputs(role='ArpegeNamelist')]))\n",
    "#NB: La section \"void\" n'apparait pas"
   ]
  },
  {
   "cell_type": "code",
   "execution_count": 23,
   "metadata": {
    "collapsed": false
   },
   "outputs": [
    {
     "name": "stdout",
     "output_type": "stream",
     "text": [
      "/home/meunierlf/vortex-workdir/auto_cocoon_51yda7x0/root/nameltest (ArpegeNamelist, stage=get)\n"
     ]
    }
   ],
   "source": [
    "# Il est possible d'utiliser des expressions régulières en les compilant au préalable...\n",
    "import re\n",
    "regex = re.compile('(Arpege|Arome|Aladin)Namelist')\n",
    "print('\\n'.join(['{0.rh.container.abspath:s} ({0.role:s}, stage={0.stage})'.format(section)\n",
    "                 for section in seq.effective_inputs(role=regex)]))"
   ]
  },
  {
   "cell_type": "markdown",
   "metadata": {
    "slideshow": {
     "slide_type": "subslide"
    }
   },
   "source": [
    "On peut aussi se baser sur l'attribut ``kind`` de la ressource (à éviter autant que possible) :"
   ]
  },
  {
   "cell_type": "code",
   "execution_count": 24,
   "metadata": {
    "collapsed": false
   },
   "outputs": [
    {
     "name": "stdout",
     "output_type": "stream",
     "text": [
      "/home/meunierlf/vortex-workdir/auto_cocoon_51yda7x0/root/nameltest (ArpegeNamelist, stage=get)\n"
     ]
    }
   ],
   "source": [
    "print('\\n'.join(['{0.rh.container.abspath:s} ({0.role:s}, stage={0.stage})'.format(section)\n",
    "                 for section in seq.effective_inputs(kind='namelist')]))"
   ]
  },
  {
   "cell_type": "markdown",
   "metadata": {},
   "source": [
    "**Note:** Dans l'objet *Sequence*, des méthodes équivalentes existent pour les données de sortie (**outputs** et **effective_outputs**) mais sont beaucoup moins utilisées..."
   ]
  },
  {
   "cell_type": "markdown",
   "metadata": {
    "slideshow": {
     "slide_type": "slide"
    }
   },
   "source": [
    "## L'objet *Environment* du contexte actif\n",
    "\n",
    "On peut à tout moment récupérer l'objet *Environment* actif pour le contexte courant :"
   ]
  },
  {
   "cell_type": "code",
   "execution_count": 25,
   "metadata": {
    "collapsed": false
   },
   "outputs": [
    {
     "name": "stdout",
     "output_type": "stream",
     "text": [
      "<vortex.tools.env.Environment object at 0x7ff02c867be0 | including 105 variables>\n"
     ]
    }
   ],
   "source": [
    "e = t.context.env\n",
    "print(e)"
   ]
  },
  {
   "cell_type": "markdown",
   "metadata": {},
   "source": [
    "Il est aussi possible d'utiliser le raccourci suivant :"
   ]
  },
  {
   "cell_type": "code",
   "execution_count": 26,
   "metadata": {
    "collapsed": false
   },
   "outputs": [
    {
     "name": "stdout",
     "output_type": "stream",
     "text": [
      "<vortex.tools.env.Environment object at 0x7ff02c867be0 | including 105 variables>\n"
     ]
    }
   ],
   "source": [
    "e = t.env\n",
    "print(e)"
   ]
  },
  {
   "cell_type": "markdown",
   "metadata": {},
   "source": [
    "En première approche, on peut considérer que l'objet *Environment* s'utilise comme un dictionnaire Python (un peu amélioré)..."
   ]
  },
  {
   "cell_type": "markdown",
   "metadata": {
    "slideshow": {
     "slide_type": "subslide"
    }
   },
   "source": [
    "Les variables sont accessibles de plusieurs façons :"
   ]
  },
  {
   "cell_type": "code",
   "execution_count": 27,
   "metadata": {
    "collapsed": false,
    "slideshow": {
     "slide_type": "-"
    }
   },
   "outputs": [
    {
     "name": "stdout",
     "output_type": "stream",
     "text": [
      "/home/meunierlf\n",
      "/home/meunierlf\n",
      "/home/meunierlf\n"
     ]
    }
   ],
   "source": [
    "print(e['HOME'])\n",
    "print(e.HOME)\n",
    "print(e.home)"
   ]
  },
  {
   "cell_type": "markdown",
   "metadata": {},
   "source": [
    "Une variable manquante renvoie *None*..."
   ]
  },
  {
   "cell_type": "code",
   "execution_count": 28,
   "metadata": {
    "collapsed": false
   },
   "outputs": [
    {
     "name": "stdout",
     "output_type": "stream",
     "text": [
      "FOO exists ? False\n",
      "None\n"
     ]
    }
   ],
   "source": [
    "print('FOO exists ?', 'FOO' in e)\n",
    "print(e.FOO)"
   ]
  },
  {
   "cell_type": "markdown",
   "metadata": {},
   "source": [
    "Il y a quelques fonctions pratiques :"
   ]
  },
  {
   "cell_type": "code",
   "execution_count": 29,
   "metadata": {
    "collapsed": false
   },
   "outputs": [
    {
     "name": "stdout",
     "output_type": "stream",
     "text": [
      "is True ? True\n",
      "is True ? True\n",
      "is True ? True\n",
      "is True ? True\n"
     ]
    }
   ],
   "source": [
    "for var in [1, 'yes', 'ok', 'true']:\n",
    "    e.FOO = var\n",
    "    print(\"is True ?\", e.true('FOO'))"
   ]
  },
  {
   "cell_type": "markdown",
   "metadata": {
    "slideshow": {
     "slide_type": "subslide"
    }
   },
   "source": [
    "Plus intéressant, il est possible de faire des changements temporaires :"
   ]
  },
  {
   "cell_type": "code",
   "execution_count": 30,
   "metadata": {
    "collapsed": false
   },
   "outputs": [
    {
     "name": "stdout",
     "output_type": "stream",
     "text": [
      "foo=2, toto is here\n",
      "foo=1, toto None\n"
     ]
    }
   ],
   "source": [
    "e.FOO = 1\n",
    "with e.delta_context(FOO=2, TOTO='is here'):\n",
    "    print('foo={0.foo}, toto {0.toto}'.format(e))\n",
    "\n",
    "# Les changements sont \"oubliés\" une fois que l'on sort du context manager:\n",
    "print('foo={0.foo}, toto {0.toto}'.format(e))"
   ]
  },
  {
   "cell_type": "code",
   "execution_count": 31,
   "metadata": {
    "collapsed": true
   },
   "outputs": [],
   "source": [
    "del e.FOO"
   ]
  },
  {
   "cell_type": "markdown",
   "metadata": {},
   "source": [
    "Il existe quelques méthodes supplémentaires. Pour ceux qui sont intéressés :\n",
    "\n",
    "* http://intra.cnrm.meteo.fr/algopy/sphinx/vortex/current/library/vortex/tools/env.html\n",
    "* http://intra.cnrm.meteo.fr/algopy/sphinx/vortex/current/technical/environment.html (voir les exemples à la fin du document)"
   ]
  },
  {
   "cell_type": "markdown",
   "metadata": {
    "slideshow": {
     "slide_type": "slide"
    }
   },
   "source": [
    "## Conclusion\n",
    "\n",
    "Ces notions de *Session*, *Context*, *Sequence* et *Environment* peuvent faire peur, mais pour la plupart des utilisateurs et développeurs, il suffit de savoir comment récupérer les objets \"actifs\" (afin de les utiliser).\n",
    "\n",
    "Pour ceux qui voudraient en savoir beaucoup plus sur ces questions :\n",
    "http://intra.cnrm.meteo.fr/algopy/sphinx/vortex/current/technical/environment.html\n",
    "\n",
    "Questions éventuelles : *vortex.support@meteo.fr*"
   ]
  }
 ],
 "metadata": {
  "celltoolbar": "Slideshow",
  "kernelspec": {
   "display_name": "Python 3",
   "language": "python",
   "name": "python3"
  },
  "language_info": {
   "codemirror_mode": {
    "name": "ipython",
    "version": 3
   },
   "file_extension": ".py",
   "mimetype": "text/x-python",
   "name": "python",
   "nbconvert_exporter": "python",
   "pygments_lexer": "ipython3",
   "version": "3.5.3"
  }
 },
 "nbformat": 4,
 "nbformat_minor": 1
}
