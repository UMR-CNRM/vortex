{
 "cells": [
  {
   "cell_type": "markdown",
   "metadata": {
    "slideshow": {
     "slide_type": "slide"
    }
   },
   "source": [
    "# Resource manipulation: what's under the hood ?"
   ]
  },
  {
   "cell_type": "markdown",
   "metadata": {
    "slideshow": {
     "slide_type": "slide"
    }
   },
   "source": [
    "\n",
    "Vortex initialisation"
   ]
  },
  {
   "cell_type": "code",
   "execution_count": 1,
   "metadata": {
    "collapsed": false,
    "slideshow": {
     "slide_type": "-"
    }
   },
   "outputs": [
    {
     "name": "stderr",
     "output_type": "stream",
     "text": [
      "# [2019/08/29-11:59:39][vortex.sessions][_set_rundir:0152][WARNING]: Session <root> is changing its working directory </sauvegarde/vortex-dev/vortex/examples/notebooks/tutorial>\n",
      "# [2019/08/29-11:59:39][vortex.sessions][_set_rundir:0155][INFO]: Session <root> set rundir </home/meunierlf/vortex-workdir/auto_cocoon_qlyh5h7y>\n"
     ]
    },
    {
     "name": "stdout",
     "output_type": "stream",
     "text": [
      "Vortex 1.6.2 loaded ( Thursday 29. August 2019, at 11:59:38 )\n",
      "The working directory is now: /home/meunierlf/vortex-workdir/auto_cocoon_qlyh5h7y/root\n"
     ]
    }
   ],
   "source": [
    "%load_ext ivortex\n",
    "%vortex tmpcocoon\n",
    "from bronx.stdtypes import date as bdate"
   ]
  },
  {
   "cell_type": "markdown",
   "metadata": {
    "slideshow": {
     "slide_type": "slide"
    }
   },
   "source": [
    "## Reminder of the previous example"
   ]
  },
  {
   "cell_type": "code",
   "execution_count": 2,
   "metadata": {
    "collapsed": true
   },
   "outputs": [],
   "source": [
    "# Presets\n",
    "toolbox.defaults(\n",
    "    date = vortex.tools.date.Date('2017060118'),\n",
    "    cutoff = 'production',\n",
    "    model = 'arpege',\n",
    "    geometry = vortex.data.geometries.get(tag='euroc25'),\n",
    ")\n",
    "t.glove.vapp = 'arpege'\n",
    "t.glove.vconf = 'pearp'\n",
    "# Toolbox\n",
    "toolbox.active_now = True\n",
    "toolbox.active_verbose = False"
   ]
  },
  {
   "cell_type": "code",
   "execution_count": 3,
   "metadata": {
    "collapsed": false
   },
   "outputs": [
    {
     "name": "stdout",
     "output_type": "stream",
     "text": [
      "GRIB_EUROC25_0002+0003:00\r\n"
     ]
    },
    {
     "data": {
      "text/plain": [
       "True"
      ]
     },
     "execution_count": 3,
     "metadata": {},
     "output_type": "execute_result"
    }
   ],
   "source": [
    "# Retrieval of the ressource\n",
    "rhandlers = toolbox.input(# Method/Section\n",
    "                          loglevel='warning', role='InitialCondition', intent='inout',\n",
    "                          # Resource\n",
    "                          term=3, kind='gridpoint', origin='historic', nativefmt='grib',\n",
    "                          # Provider\n",
    "                          member=2, experiment='DBLE', namespace='vortex.archive.fr',\n",
    "                          block='forecast',\n",
    "                          # Container\n",
    "                          local='GRIB_[geometry:area]_[member%04d]+[term:fmthm]', format='grib')\n",
    "rh = rhandlers[0]  # Small shortcut for the future\n",
    "%ls\n",
    "rh.clear()"
   ]
  },
  {
   "cell_type": "markdown",
   "metadata": {
    "slideshow": {
     "slide_type": "slide"
    }
   },
   "source": [
    "## Retrieval of a resource “by hand”\n",
    "\n",
    "As seen previously, the resource's *Handler* **get** method takes care of data retrieval. In the remainder of this document, for educational purposes, we will manually reproduce the different steps that lead to the retrieval of a given data. "
   ]
  },
  {
   "cell_type": "markdown",
   "metadata": {
    "slideshow": {
     "slide_type": "subslide"
    }
   },
   "source": [
    "### 1. Generating a URI from the *Resource* and *Provider* objects... "
   ]
  },
  {
   "cell_type": "code",
   "execution_count": 4,
   "metadata": {
    "collapsed": false,
    "slideshow": {
     "slide_type": "-"
    }
   },
   "outputs": [
    {
     "name": "stdout",
     "output_type": "stream",
     "text": [
      "vortex://vsop.archive.fr/arpege/pearp/DBLE/20170601T1800P/mb002/forecast/grid.arpege-forecast.euroc25+0003:00.grib\n",
      "  Scheme: vortex\n",
      "  Netloc: vsop.archive.fr\n",
      "  Path: /arpege/pearp/DBLE/20170601T1800P/mb002/forecast/grid.arpege-forecast.euroc25+0003:00.grib\n",
      "  Query: {}\n",
      "\n"
     ]
    }
   ],
   "source": [
    "uri = rh.location()  # Later in this presentation, we will detail this. \n",
    "print(uri)\n",
    "p_uri = vortex.tools.net.uriparse(uri)\n",
    "print('  Scheme: {}\\n  Netloc: {}\\n  Path: {}\\n  Query: {}\\n'.\n",
    "      format(p_uri['scheme'], p_uri['netloc'], p_uri['path'], p_uri['query']))"
   ]
  },
  {
   "cell_type": "markdown",
   "metadata": {
    "slideshow": {
     "slide_type": "fragment"
    }
   },
   "source": [
    "The URI contains all the information needed to retrieve the data. It is the role of *Store* objects to actually retrieve this data from the information contained in the URI. "
   ]
  },
  {
   "cell_type": "markdown",
   "metadata": {
    "slideshow": {
     "slide_type": "subslide"
    }
   },
   "source": [
    "### 2. Creating a *Store* object abled to handle this request... "
   ]
  },
  {
   "cell_type": "code",
   "execution_count": 5,
   "metadata": {
    "collapsed": false,
    "slideshow": {
     "slide_type": "-"
    }
   },
   "outputs": [
    {
     "name": "stdout",
     "output_type": "stream",
     "text": [
      "vortex\n",
      "vsop.archive.fr\n"
     ]
    }
   ],
   "source": [
    "rh_store = fp.proxy.store(scheme=p_uri['scheme'], netloc=p_uri['netloc'])\n",
    "    # Note: if they are present in the Handler object, all options starting with \n",
    "    # \"stor\" are passed as extra arguments to **footprints** when creating the store.\n",
    "print(rh_store.scheme)\n",
    "print(rh_store.netloc)"
   ]
  },
  {
   "cell_type": "markdown",
   "metadata": {},
   "source": [
    "Stores inheriting from *ArchiveStore* have some interesting options (for other Stores these options will be ignored):\n",
    "\n",
    "* *storage*: name of the mass-archive systemm (``hendrix.meteo.fr`` by default).\n",
    "* *storehash*: when archiving, create a checksum (using the algorithm specified in argument: see **vortex.util.hash**). When retrieving a resource, check the sum.\n",
    "* *store_compressed*: when archiving, compress data on the fly (using the algorithm specified in argument: see **vortex.tools.compression**). When recovering a resource, decompress the data on the fly."
   ]
  },
  {
   "cell_type": "markdown",
   "metadata": {
    "slideshow": {
     "slide_type": "subslide"
    }
   },
   "source": [
    "### 3. Actualy retrieve data"
   ]
  },
  {
   "cell_type": "code",
   "execution_count": 6,
   "metadata": {
    "collapsed": false
   },
   "outputs": [
    {
     "name": "stdout",
     "output_type": "stream",
     "text": [
      "URI's path: /arpege/pearp/DBLE/20170601T1800P/mb002/forecast/grid.arpege-forecast.euroc25+0003:00.grib\n",
      "Physical location: meunierlf@hendrix.meteo.fr:/home/m/mxpt/mxpt001/vortex/arpege/pearp/DBLE/2017/06/01/T1800P/mb002/forecast/grid.arpege-forecast.euroc25+0003:00.grib\n",
      "Local destination: GRIB_EUROC25_0002+0003:00\n"
     ]
    }
   ],
   "source": [
    "print(\"URI's path:\", p_uri['path'])\n",
    "print(\"Physical location:\", rh_store.locate(p_uri))\n",
    "print(\"Local destination:\", rh.container.iotarget())"
   ]
  },
  {
   "cell_type": "code",
   "execution_count": 7,
   "metadata": {
    "collapsed": false,
    "slideshow": {
     "slide_type": "-"
    }
   },
   "outputs": [
    {
     "name": "stderr",
     "output_type": "stream",
     "text": [
      "# [2019/08/29-11:59:40][vortex.data.stores][inarchiveget:1199][INFO]: inarchiveget on vortex://vsop.archive.fr//home/m/mxpt/mxpt001/vortex/arpege/pearp/DBLE/2017/06/01/T1800P/mb002/forecast/grid.arpege-forecast.euroc25+0003:00.grib (to: GRIB_EUROC25_0002+0003:00)\n",
      "# [2019/08/29-11:59:40][vortex.tools.storage][_ftpretrieve:0690][INFO]: ftpget on ftp://hendrix.meteo.fr//home/m/mxpt/mxpt001/vortex/arpege/pearp/DBLE/2017/06/01/T1800P/mb002/forecast/grid.arpege-forecast.euroc25+0003:00.grib (to: GRIB_EUROC25_0002+0003:00)\n",
      "# [2019/08/29-11:59:40][vortex.tools.net][get:0268][INFO]: FTP <get:/home/m/mxpt/mxpt001/vortex/arpege/pearp/DBLE/2017/06/01/T1800P/mb002/forecast/grid.arpege-forecast.euroc25+0003:00.grib>\n"
     ]
    },
    {
     "name": "stdout",
     "output_type": "stream",
     "text": [
      "GRIB_EUROC25_0002+0003:00\r\n"
     ]
    }
   ],
   "source": [
    "rh_store.get(p_uri, rh.container.iotarget(), options=dict(intent='inout', fmt='grib'))\n",
    "%ls"
   ]
  },
  {
   "cell_type": "code",
   "execution_count": 8,
   "metadata": {
    "collapsed": false,
    "slideshow": {
     "slide_type": "skip"
    }
   },
   "outputs": [
    {
     "data": {
      "text/plain": [
       "True"
      ]
     },
     "execution_count": 8,
     "metadata": {},
     "output_type": "execute_result"
    }
   ],
   "source": [
    "rh.clear()  # Some cleaning for the rest of the demo..."
   ]
  },
  {
   "cell_type": "markdown",
   "metadata": {
    "slideshow": {
     "slide_type": "subslide"
    }
   },
   "source": [
    "### Summary \n",
    "\n",
    "The previously seen steps are hidden in the **get** method of the resource's *Handler*: \n",
    "\n",
    "* In practice, the URI computation and the creation of the *Store* object are handled by the **location** method and the **store** property of the resource's *Handler*. \n",
    "* The call to the *Sotore*'s **get** method (with the various mandatory options) is done within the **get** method of the resource's *Handler*. \n",
    "* Actualy, the code of the resource's *Handler*'s **get** method does a little more because of features that we have not yet addressed (insitu, hooks, metadata verification, Contents, ...); nevertheless, the most important is what was mentioned in the previous slides ... \n",
    "\n",
    "All this can be transposed to the other methods of the resource's *Handler*, which are, **check** (checks that the data actualy exists in the *Store*), **locate** (physical location of the data), **put** (sends data to the *Store*) and **delete** (erasing data from the *Store*). In any case, the URI is computed, the *Store* is created accordingly, and finally the corresponding *Store* method is called."
   ]
  },
  {
   "cell_type": "markdown",
   "metadata": {
    "slideshow": {
     "slide_type": "subslide"
    }
   },
   "source": [
    "### Some remarks on the role of the different objects\n",
    "\n",
    "* *Resource* + *Provider*: compute the URI that is characteristic of this couple. Ideally, the URI should contain information about all the attributes of the *Resource* and *Provider* objects (in order to avoid any confusion).\n",
    "* resource's *Handler*: facilitator role only. It does not influence the content of the URI nor where the data will be physically stored.\n",
    "* *Store*: translation of the URI into the real physical location. The actions carried out by the *Store* depend only on the URI (in particular, one should not inspect the name of the file to find what is the corresponding resource)."
   ]
  },
  {
   "cell_type": "markdown",
   "metadata": {
    "slideshow": {
     "slide_type": "slide"
    }
   },
   "source": [
    "## Details on generating the URI\n",
    "\n",
    "The URI is generated by the resource's *Handler*'s **location** method. This method actually delegates the work to the **uri** method of the *Provider* to that takes a single argument: the *Resource* object:"
   ]
  },
  {
   "cell_type": "code",
   "execution_count": 9,
   "metadata": {
    "collapsed": false
   },
   "outputs": [
    {
     "name": "stdout",
     "output_type": "stream",
     "text": [
      "vortex://vsop.archive.fr/arpege/pearp/DBLE/20170601T1800P/mb002/forecast/grid.arpege-forecast.euroc25+0003:00.grib\n",
      "vortex://vsop.archive.fr/arpege/pearp/DBLE/20170601T1800P/mb002/forecast/grid.arpege-forecast.euroc25+0003:00.grib\n"
     ]
    }
   ],
   "source": [
    "print(rh.location())\n",
    "print(rh.provider.uri(rh.resource))"
   ]
  },
  {
   "cell_type": "markdown",
   "metadata": {},
   "source": [
    "It is therefore the *Provider* that does all the work with the help of the *Resource*. In practice, the **uri** method does not do much except call other methods that will build the URI piece by piece: "
   ]
  },
  {
   "cell_type": "code",
   "execution_count": 10,
   "metadata": {
    "collapsed": false
   },
   "outputs": [
    {
     "name": "stdout",
     "output_type": "stream",
     "text": [
      "  Scheme: vortex\n",
      "  Netloc: vsop.archive.fr\n",
      "  Path: arpege/pearp/DBLE/20170601T1800P/mb002/forecast/grid.arpege-forecast.euroc25+0003:00.grib\n",
      "  Query: None\n",
      "\n"
     ]
    }
   ],
   "source": [
    "print('  Scheme: {}\\n  Netloc: {}\\n  Path: {}\\n  Query: {}\\n'.\n",
    "      format(rh.provider.scheme(rh.resource), rh.provider.netloc(rh.resource),\n",
    "             rh.provider.pathname(rh.resource) + '/' + rh.provider.basename(rh.resource),\n",
    "             rh.provider.urlquery(rh.resource)))"
   ]
  },
  {
   "cell_type": "markdown",
   "metadata": {
    "slideshow": {
     "slide_type": "subslide"
    }
   },
   "source": [
    "This is where the general description ends: the implementation of these different routines will indeed vary from one type of *Provider* to another. Here are some pointers to how these pieces of URI are built. \n",
    "\n",
    "### *scheme* & *netloc*"
   ]
  },
  {
   "cell_type": "code",
   "execution_count": 11,
   "metadata": {
    "collapsed": false
   },
   "outputs": [
    {
     "name": "stdout",
     "output_type": "stream",
     "text": [
      "vortex\n",
      "vsop.archive.fr\n"
     ]
    }
   ],
   "source": [
    "print(rh.provider.scheme(rh.resource))\n",
    "print(rh.provider.netloc(rh.resource))"
   ]
  },
  {
   "cell_type": "markdown",
   "metadata": {
    "slideshow": {
     "slide_type": "-"
    }
   },
   "source": [
    "*scheme* and *netloc* are, in general, determined directly by the *Provider* (without resorting to the *Resource*)."
   ]
  },
  {
   "cell_type": "markdown",
   "metadata": {
    "slideshow": {
     "slide_type": "subslide"
    }
   },
   "source": [
    "### *pathname* et *basename*"
   ]
  },
  {
   "cell_type": "code",
   "execution_count": 12,
   "metadata": {
    "collapsed": false
   },
   "outputs": [
    {
     "name": "stdout",
     "output_type": "stream",
     "text": [
      "arpege/pearp/DBLE/20170601T1800P/mb002/forecast\n",
      "grid.arpege-forecast.euroc25+0003:00.grib\n"
     ]
    }
   ],
   "source": [
    "print(rh.provider.pathname(rh.resource))\n",
    "print(rh.provider.basename(rh.resource))"
   ]
  },
  {
   "cell_type": "markdown",
   "metadata": {},
   "source": [
    "We notice that the result depends a lot on the *Resource* we are interested in. From then on, several approaches make it possible to achieve the result... "
   ]
  },
  {
   "cell_type": "markdown",
   "metadata": {
    "slideshow": {
     "slide_type": "subslide"
    }
   },
   "source": [
    "#### 1. Deal with everything at the Provider level \n",
    "\n",
    "The *Provider* inspects the attributes of the *Resource* passed as an argument and determines a path/a name. This is the approach followed by the “oper” *Provider* called “inline” (i.e. the data of the “old” ksh suite lcoated on the supercomputer in /chaine): "
   ]
  },
  {
   "cell_type": "code",
   "execution_count": 13,
   "metadata": {
    "collapsed": false
   },
   "outputs": [
    {
     "name": "stdout",
     "output_type": "stream",
     "text": [
      "path=arpege/pearp/oper/data/bdap name=PErDH003EUROC25\n"
     ]
    }
   ],
   "source": [
    "import iga\n",
    "iga_provider = fpx.provider(suite='oper', namespace='oper.inline.fr')\n",
    "print('path={:s} name={:s}'\n",
    "      .format(iga_provider.pathname(rh.resource), iga_provider.basename(rh.resource)))"
   ]
  },
  {
   "cell_type": "markdown",
   "metadata": {},
   "source": [
    "* Go and see the implementation of the **basename** and **pathname** methods for **iga.data.providers.IgaProvider**. \n",
    "* Note that most of the work is delegated to the **global_bnames** and **global_pnames** functions of the **iga.util.bpnames** module. \n",
    "* Look at the implementation of these methods. The *Resource* is sifted (succession of *if* tests); A path and a file name magically comes out."
   ]
  },
  {
   "cell_type": "markdown",
   "metadata": {
    "slideshow": {
     "slide_type": "subslide"
    }
   },
   "source": [
    "#### 2. Delegate all or part of the work to the *Resource* and go looking for the information\n",
    "\n",
    "* For the *basename*, we call the **basename** method on the *Resource* object given as an argument. This method returns a resource name or a name draft. In the case it is a draft name, it is the *Provider* that finishes the work: this is not ideal but is unfortunately necessary to support “historical” archives.\n",
    "* For the *pathname*, we call the **pathinfo** method on the *Resource* object given as an argument. This method returns a dictionary containing the information needed by the *Provider* to build the path (often the date and cutoff). \n",
    "\n",
    "This approach is used in the Olive *Provider*: "
   ]
  },
  {
   "cell_type": "code",
   "execution_count": 14,
   "metadata": {
    "collapsed": false
   },
   "outputs": [
    {
     "name": "stdout",
     "output_type": "stream",
     "text": [
      "path=ABCD/20170601H18P/forecast name=GRIDHSTEUROC25+0003\n"
     ]
    }
   ],
   "source": [
    "import olive\n",
    "olive_provider = fpx.provider(experiment='ABCD', namespace='olive.archive.fr', block='forecast')\n",
    "print('path={:s} name={:s}'\n",
    "      .format(olive_provider.pathname(rh.resource), olive_provider.basename(rh.resource)))"
   ]
  },
  {
   "cell_type": "markdown",
   "metadata": {
    "slideshow": {
     "slide_type": "subslide"
    }
   },
   "source": [
    "* Take a look at the implementation of the **basename** method of **olive.data.providers.Olive**.\n",
    "* We notice that all the work is delegated to the *Resource*! \n",
    "\n",
    "Let's dig a little deeper into what's behind the *basename* call tree ... If we follow the inheritance structure, `super(Olive, self).basename(resource)` leads to the following code: `resource.basename(self.realkind)`. Finaly, the **basename** method of the *Resource* parent class (**vortex.data.resources.Resource**) ends up calling the method named `\"{}_basename'.format(self.realkind)\"` (or, by default, `\"generic_basename\"`).For our particuler example, this leads to the **olive_basename** method. "
   ]
  },
  {
   "cell_type": "code",
   "execution_count": 15,
   "metadata": {
    "collapsed": false
   },
   "outputs": [
    {
     "name": "stdout",
     "output_type": "stream",
     "text": [
      "** Provider's realkind: olive\n",
      "** Basename via *basename*: GRIDHSTEUROC25+0003\n",
      "** Basename via *olive_basename*: GRIDHSTEUROC25+0003\n"
     ]
    }
   ],
   "source": [
    "print(\"** Provider's realkind:\", olive_provider.realkind)\n",
    "print(\"** Basename via *basename*:\", rh.resource.basename(olive_provider.realkind))\n",
    "print(\"** Basename via *olive_basename*:\", rh.resource.olive_basename())"
   ]
  },
  {
   "cell_type": "markdown",
   "metadata": {
    "slideshow": {
     "slide_type": "subslide"
    }
   },
   "source": [
    "* Take a look at the implementation of the **pathname** method of **olive.data.providers.Olive**.\n",
    "\n",
    "Let's dig a little deeper into what's behind he **pathinfo** call tree... If we follow the inheritance structure\n",
    "\n",
    "Creusons un peu plus ce qui se cache derrière l'arbre d'appel de **pathinfo**... Si l'on suit l'héritage, `super(Olive, self).pathinfo(resource)` leads to the following code : `resource.pathinfo(self.realkind)`. Finaly, the **pathinfo** method of the *Resource* parent class (**vortex.data.resources.Resource**) ends up calling a method named `\"{}_pathinfo'.format(self.realkind)\"` (or, by default, `\"generic_pathinfo\"`). For our particular example, this leads to the **generic_pathinfo** method."
   ]
  },
  {
   "cell_type": "code",
   "execution_count": 16,
   "metadata": {
    "collapsed": false,
    "slideshow": {
     "slide_type": "-"
    }
   },
   "outputs": [
    {
     "name": "stdout",
     "output_type": "stream",
     "text": [
      "** Provider's realkind: olive\n",
      "** Basename via *basename*:\n",
      " {'cutoff': 'production', 'model': 'arpege', 'nativefmt': 'grib', 'geometry': <vortex.data.geometries.LonlatGeometry object at 0x7f3a34134a58>, 'date': Date(2017, 6, 1, 18, 0)}\n",
      "** Basename via *olive_basename*:\n",
      " {'cutoff': 'production', 'model': 'arpege', 'nativefmt': 'grib', 'geometry': <vortex.data.geometries.LonlatGeometry object at 0x7f3a34134a58>, 'date': Date(2017, 6, 1, 18, 0)}\n"
     ]
    }
   ],
   "source": [
    "print(\"** Provider's realkind:\", olive_provider.realkind)\n",
    "print(\"** Basename via *basename*:\\n\", rh.resource.pathinfo(olive_provider.realkind))\n",
    "print(\"** Basename via *olive_basename*:\\n\", rh.resource.generic_pathinfo())"
   ]
  },
  {
   "cell_type": "markdown",
   "metadata": {
    "slideshow": {
     "slide_type": "subslide"
    }
   },
   "source": [
    "#### 3. Go looking for the information and delegate the actual work to a \"Name Factory\" \n",
    "\n",
    "The **namebuilding_info** method is called on the *Resource* object given as an argument. This method returns a dictionary that contains the information needed to build the path and file name. The *Provider* then uses a dedicated object (the name factory) to generate the path and the file name."
   ]
  },
  {
   "cell_type": "code",
   "execution_count": 17,
   "metadata": {
    "collapsed": false
   },
   "outputs": [
    {
     "name": "stdout",
     "output_type": "stream",
     "text": [
      "arpege/pearp/DBLE/20170601T1800P/mb002/forecast\n",
      "grid.arpege-forecast.euroc25+0003:00.grib\n"
     ]
    }
   ],
   "source": [
    "print(rh.provider.pathname(rh.resource))\n",
    "print(rh.provider.basename(rh.resource))"
   ]
  },
  {
   "cell_type": "code",
   "execution_count": 18,
   "metadata": {
    "collapsed": false
   },
   "outputs": [
    {
     "data": {
      "text/plain": [
       "{'flow': [{'date': Date(2017, 6, 1, 18, 0)}, {'shortcutoff': 'production'}],\n",
       " 'fmt': 'grib',\n",
       " 'geo': 'EUROC25',\n",
       " 'radical': 'grid',\n",
       " 'src': ['arpege', 'forecast'],\n",
       " 'term': '0003:00'}"
      ]
     },
     "execution_count": 18,
     "metadata": {},
     "output_type": "execute_result"
    }
   ],
   "source": [
    "binfos = rh.resource.namebuilding_info()  # We start by retrieving info about the resource\n",
    "binfos"
   ]
  },
  {
   "cell_type": "markdown",
   "metadata": {
    "slideshow": {
     "slide_type": "subslide"
    }
   },
   "source": [
    "From this dictionary, the Vortex *Provider* (its **basename** and **pathname methods**) will use an object of class **vortex.tools.names.VortexNameBuilder** to find the path/name of the resource:"
   ]
  },
  {
   "cell_type": "code",
   "execution_count": 19,
   "metadata": {
    "collapsed": false
   },
   "outputs": [
    {
     "data": {
      "text/plain": [
       "'grid.arpege-forecast.euroc25+0003:00.grib'"
      ]
     },
     "execution_count": 19,
     "metadata": {},
     "output_type": "execute_result"
    }
   ],
   "source": [
    "nbuilder = vortex.tools.names.VortexNameBuilder()\n",
    "nbuilder.pack_basename(binfos)"
   ]
  },
  {
   "cell_type": "code",
   "execution_count": 20,
   "metadata": {
    "collapsed": false
   },
   "outputs": [
    {
     "data": {
      "text/plain": [
       "'arpege/pearp/DBLE/20170601T1800P/mb002/forecast'"
      ]
     },
     "execution_count": 20,
     "metadata": {},
     "output_type": "execute_result"
    }
   ],
   "source": [
    "binfos_plus = binfos.copy()\n",
    "binfos_plus.update(dict(vapp=rh.provider.vapp, vconf=rh.provider.vconf,\n",
    "                        experiment=rh.provider.experiment, block=rh.provider.block,\n",
    "                        member=rh.provider.member, scenario=rh.provider.scenario,))\n",
    "nbuilder.pack_pathname(binfos_plus)"
   ]
  },
  {
   "cell_type": "markdown",
   "metadata": {},
   "source": [
    "As can be seen, Vortex names are automaticaly-generated, which ensure them a good consistency."
   ]
  },
  {
   "cell_type": "markdown",
   "metadata": {
    "slideshow": {
     "slide_type": "subslide"
    }
   },
   "source": [
    "### *urlquery*\n",
    "\n",
    "This portion of the URI is not very commonly used. Nevertheless, it can be used to give additional information to the *Store*. "
   ]
  },
  {
   "cell_type": "code",
   "execution_count": 21,
   "metadata": {
    "collapsed": false
   },
   "outputs": [
    {
     "name": "stdout",
     "output_type": "stream",
     "text": [
      "None\n"
     ]
    }
   ],
   "source": [
    "print(rh.provider.urlquery(rh.resource))\n",
    "# Ok, that is not very impressive..."
   ]
  },
  {
   "cell_type": "markdown",
   "metadata": {},
   "source": [
    "*Providers* using this mechanism, call the **urlquery** method on the *Resource*. There too, we scan the *Resource* to determine if there is a dedicated method for this or that *Provider* (by default, **vortex_urlquery** is used). "
   ]
  },
  {
   "cell_type": "markdown",
   "metadata": {
    "slideshow": {
     "slide_type": "subslide"
    }
   },
   "source": [
    "### Récapitulatif\n",
    "\n",
    "We now understand a little more what happens during the call to:"
   ]
  },
  {
   "cell_type": "code",
   "execution_count": 22,
   "metadata": {
    "collapsed": false
   },
   "outputs": [
    {
     "name": "stdout",
     "output_type": "stream",
     "text": [
      "vortex://vsop.archive.fr/arpege/pearp/DBLE/20170601T1800P/mb002/forecast/grid.arpege-forecast.euroc25+0003:00.grib\n"
     ]
    }
   ],
   "source": [
    "print(rh.location())"
   ]
  },
  {
   "cell_type": "markdown",
   "metadata": {},
   "source": [
    "The practical consequence of all this is that when creating a new *Resource* object, one has to override or create the methods needed by the providers to build an URI. \n",
    "\n",
    "The notion of overload is important because it is often possible to inherit many things from the parent class (in particular the **namebuilding_info** and **generic_pathinfo** methods, which are rarely re-implemented).\n",
    "\n",
    "In the case of the Vortex provider, the name factory plays a central role: additional details are given in the following paragraph."
   ]
  },
  {
   "cell_type": "markdown",
   "metadata": {
    "slideshow": {
     "slide_type": "subslide"
    }
   },
   "source": [
    "### The Vortex name factory\n",
    "\n",
    "The name factory is used to determine both the *pathname* and the *basename*: \n",
    "\n",
    "* The *pathname* issue should not be of much concern to developers because behavior is normally determined by the class one inherits. For example, if a resource inherits from the **FlowResource** class (see previous presentation), it will receive as “inheritance” *date* and *cutoff* attributes that will appear in the dictionary returned by **namebuilding_info**. \n",
    "* The same principle applies to the *basename* but the developer will need to add some customisations. For example, by inheriting from **GeoFlowResource**, the *model* and *geometry* attributes will be inherited and used in name generation. On the other hand, for attributes that would be added “by hand” and/or genuine (in the sense that they would be specific to a particular use), it is up to the developer to ensure that they are transmitted to the name factory.\n",
   ]
  },
  {
   "cell_type": "markdown",
   "metadata": {
    "slideshow": {
     "slide_type": "subslide"
    }
   },
   "source": [
    "Keeping in mind the above explanation, we will massively use: \n",
    "\n",
    "* Class inheritance (use of abstract classes like **FlowResource**, **GeoFlowResource**, ...);\n",
    "* For the “standard” attributes, we will refer to their pre-definition. For example, to add a forecast term (term attribute), we will use: **vortex.syntax.stdattrs.term_deco** (see http://intra.cnrm.meteo.fr/algopy/sphinx/vortex/current/library/vortex/syntax/stdattrs.html); \n",
    "* For “genuine” attributes, the developer will add the necessary information to the dictionary returned by the **namebuilding_info** method. "
   ]
  },
  {
   "cell_type": "markdown",
   "metadata": {
    "slideshow": {
     "slide_type": "subslide"
    }
   },
   "source": [
    "In practice, the content of the dictionary returned by **namebuilding_info** must meet certain requirements. Here is a maximalist version of what could be contained in it (of course, depending on the context, some elements will be omitted): "
   ]
  },
  {
   "cell_type": "code",
   "execution_count": 23,
   "metadata": {
    "collapsed": false
   },
   "outputs": [
    {
     "data": {
      "text/plain": [
       "'ressourceid.arpege-somethingelse.filter.1198-c24.n0001-omp01+0024:00.001.grib.m12'"
      ]
     },
     "execution_count": 23,
     "metadata": {},
     "output_type": "execute_result"
    }
   ],
   "source": [
    "bdict = dict(# A prefix. By default: the value returned by self.realkind -> do not modify.\n",
    "             radical='ressourceid',\n",
    "             # Information indicating the source/nature of the data. By default, if a\n",
    "             # *model* attribute is defined, it is listed here -> add to this list elements\n",
    "             # that would be specific to your data.\n",
    "             src=['arpege', 'somethingelse'],\n",
    "             # If the data has been filtered, please indicate it here.\n",
    "             filtername = 'filter',\n",
    "             # Information about the geometry -> do not modify (the default is\n",
    "             # provided by inheritance or vortex.data.geometries.hgeometry_deco)\n",
    "             geo = [dict(trunctation=1198), dict(stretching=2.4)],\n",
    "             # Information on parallelisation.\n",
    "             compute = [dict(mpi=1), dict(openmp=1)],\n",
    "             # The forecast term of the resource -> do not modify (vortex.syntax.stdattrs.term_deco \n",
    "             # takes care of everything.\n",
    "             term = bdate.Time('24:00').fmthm,\n",
    "             # A number -> do not edit (vortex.syntax.stdattrs.number_deco takes care of everything).\n",
    "             number = vortex.syntax.stdattrs.FmtInt(1, fmt='03'),\n",
    "             # The format of the data -> do not modify (vortex.syntax.stdattrs.nativefmt_deco \n",
    "             # takes care of everything.\n",
    "             fmt = 'grib',\n",
    "             # A Suffix. Not very common. (for example, vortex.syntax.stdattrs.month_deco,\n",
    "             # use it for the number of the month).\n",
    "             suffix = 'm12'\n",
    "            )\n",
    "nbuilder.pack_basename(bdict)"
   ]
  },
  {
   "cell_type": "markdown",
   "metadata": {
    "slideshow": {
     "slide_type": "subslide"
    }
   },
   "source": [
    "We will see in the following presentation a practical example of creating a resource. To make it simple: \n",
    "\n",
    "* If you need an attribute on a recurring basis, do not hesitate to pre-define it (by creating an abstract footprint for this one). This can be done in **vortex.syntax.stdattrs** or in your own package (e.g. **cen.syntax.stdattrs**). \n",
    "* For the other genuine attributes, overload **realkind** and **namebuilding_info**. (NB: the **namebuilding_info** overload can be done “by hand” or via the class decorators defined in **vortex.syntax.stddeco**: an example will be given in the following presentation) \n",
    "\n",
    "We have, so far, spoken of “**THE** name factory”; to tell the truth we should rather say “the standard name factory”. Indeed, it is theoretically possible to create a customised name factory and use it in the *Vortex* provider (via its *namebuild* attribute: “the standard name factory” actually corresponds to *namebuild = 'std'*). This practice is discouraged so we will not further discuss this subject."
   ]
  },
  {
   "cell_type": "markdown",
   "metadata": {
    "slideshow": {
     "slide_type": "slide"
    }
   },
   "source": [
    "## Further details on the *Store* objects"
   ]
  },
  {
   "cell_type": "markdown",
   "metadata": {},
   "source": [
    "*A little reminder*: a *Store* processes an URI (whose generation has just been described) to act “physically” on a piece of data (on disk, on an FTP archive, in a database, etc.)\n",
    "\n",
    "What best characterizes *Store* objects is the notion of “*interface*” that exists in languages such as Java or C ++ (unfortunately, it does not readily exist in Python). Taken from the angle of its *interface*, a *Store* would be an object that defines the following methods:\n",
    "\n",
    "* **locate**(*self*, *remote*, *options*=None)\n",
    "* **check**(*self*, *remote*, *options*=None)\n",
    "* **get**(*self*, *remote*, *local*, *options*=None)\n",
    "* **put**(*self*, *local*, *remote*, *options*=None)\n",
    "* **delete**(*self*, *remote*, *options*=None)\n",
    "\n",
    "In addition, it has the following attributes (or _properties_): \n",
    "\n",
    "* **scheme**\n",
    "* **netloc**\n",
    "* **use_cache**\n",
    "* **readonly**\n",
    "* **writeable**"
   ]
  },
  {
   "cell_type": "markdown",
   "metadata": {
    "slideshow": {
     "slide_type": "subslide"
    }
   },
   "source": [
    "### The \"simples\" Stores\n",
    "\n",
    "For example, this is the store we used in our example:"
   ]
  },
  {
   "cell_type": "code",
   "execution_count": 24,
   "metadata": {
    "collapsed": false
   },
   "outputs": [
    {
     "name": "stdout",
     "output_type": "stream",
     "text": [
      "<class 'vortex.data.stores.VortexOpArchiveStore'>\n",
      "False\n"
     ]
    }
   ],
   "source": [
    "print(type(rh.store))\n",
    "print(rh.store.use_cache())"
   ]
  },
  {
   "cell_type": "markdown",
   "metadata": {},
   "source": [
    "The *Store* responds *False* to **use_cache** meaning that access to data is relatively slow (in particular, the files cannot be retrieved quickly even in read only mode). In **put** mode, this is typically the type of store for which data is sent asynchronously (via *ftserv* for Météo-France's R&D).\n",
    "\n",
    "Conversely, quick “cache” based *Stores* also exist. Specifically, the “cache” based *Stores* are:\n",
    "\n",
    "* Hosted on a fast shared file system (e.g. Lustre) or on the hard disk if you are working on your PC; \n",
    "* Ideally, the cache must be located on the same file system as the working directory in order to be able to use hard links (following the POSIX standard)."
   ]
  },
  {
   "cell_type": "markdown",
   "metadata": {
    "slideshow": {
     "slide_type": "subslide"
    }
   },
   "source": [
    "With Vortex, it is common to work with cache *Stores* (in order not to retrieve the same data several times on the mass-archive system or to quickly save results, etc.). \n",
    "\n",
    "For example, there is a cache *Store* for Vortex data produced by the operations department: "
   ]
  },
  {
   "cell_type": "code",
   "execution_count": 25,
   "metadata": {
    "collapsed": false
   },
   "outputs": [
    {
     "name": "stdout",
     "output_type": "stream",
     "text": [
      "<class 'vortex.data.stores.VortexVsopCacheStore'>\n",
      "True\n"
     ]
    }
   ],
   "source": [
    "vsop_cache = fp.proxy.store(scheme='vortex', netloc='vsop.cache.fr')\n",
    "print(type(vsop_cache))\n",
    "print(vsop_cache.use_cache())"
   ]
  },
  {
   "cell_type": "markdown",
   "metadata": {},
   "source": [
    "Okay, but where are the data stored locally?\n",
    "\n",
    "In most cases, there is no need to worry about it: Olive, the official job creation system (introduced on the last day), or the ‘operational’ job-creation system, is responsible for properly seting up directories. \n",
    "\n",
    "In case you want to set it up on your own (for example on your workstation in order to retrieve this or that data), be careful to set the ``MTOOLDIR`` environment variable (a ``cache`` sub-directory will be created there by Vortex). By default, the ``/tmp`` directory is used (which is rarely what we really want to do)."
   ]
  },
  {
   "cell_type": "markdown",
   "metadata": {
    "slideshow": {
     "slide_type": "subslide"
    }
   },
   "source": [
    "### The MultiStore\n",
    "\n",
    "The most common use case is to leverage both a cache *Store* AND an archive *Store* (in case the data would no longer be available in the cache). This is exactly the role of the *Multistore*:\n",
    "\n",
    "* A *Multistore* contains an (ordered) list of *Store* objects accessible through it;\n",
    "* A *Multistore* fully satisfies the *Store* “interface” described above: its use is therefore transparent. \n",
    "* During a **get**, the *Multistore* tries to satisfy the request with the first listed *Store*, then the second, ... \n",
    "* During a **put**, the resource is deposited in each of the *Stores* (as long as these are not readonly) "
   ]
  },
  {
   "cell_type": "code",
   "execution_count": 26,
   "metadata": {
    "collapsed": false
   },
   "outputs": [
    {
     "name": "stdout",
     "output_type": "stream",
     "text": [
      "<class 'vortex.data.stores.VortexStore'>\n"
     ]
    },
    {
     "data": {
      "text/plain": [
       "[<vortex.data.stores.VortexVsopCacheStore at 0x7f3a1cf33080>,\n",
       " <vortex.data.stores.VortexOpArchiveStore at 0x7f3a1cf33240>]"
      ]
     },
     "execution_count": 26,
     "metadata": {},
     "output_type": "execute_result"
    }
   ],
   "source": [
    "vsop_multi = fp.proxy.store(scheme='vortex', netloc='vsop.multi.fr')\n",
    "print(type(vsop_multi))\n",
    "# Liste des Stores sous-jacents...\n",
    "vsop_multi.openedstores\n"
   ]
  },
  {
   "cell_type": "markdown",
   "metadata": {
    "slideshow": {
     "slide_type": "slide"
    }
   },
   "source": [
    "## The Namespace concept in *Providers*\n",
    "\n",
    "In practive, these concepts of cache and *Multistore* are important because they are \"visible\" in the day to day use of Vortex. In our example, we had:"
   ]
  },
  {
   "cell_type": "code",
   "execution_count": 27,
   "metadata": {
    "collapsed": false
   },
   "outputs": [
    {
     "name": "stderr",
     "output_type": "stream",
     "text": [
      "# [2019/08/29-11:59:43][vortex.data.stores][inarchiveget:1199][INFO]: inarchiveget on vortex://vsop.archive.fr//home/m/mxpt/mxpt001/vortex/arpege/pearp/DBLE/2017/06/01/T1800P/mb002/forecast/grid.arpege-forecast.euroc25+0003:00.grib (to: GRIB_EUROC25_0002+0003:00)\n",
      "# [2019/08/29-11:59:43][vortex.tools.storage][_ftpretrieve:0690][INFO]: ftpget on ftp://hendrix.meteo.fr//home/m/mxpt/mxpt001/vortex/arpege/pearp/DBLE/2017/06/01/T1800P/mb002/forecast/grid.arpege-forecast.euroc25+0003:00.grib (to: GRIB_EUROC25_0002+0003:00)\n",
      "# [2019/08/29-11:59:43][vortex.tools.net][get:0268][INFO]: FTP <get:/home/m/mxpt/mxpt001/vortex/arpege/pearp/DBLE/2017/06/01/T1800P/mb002/forecast/grid.arpege-forecast.euroc25+0003:00.grib>\n"
     ]
    },
    {
     "name": "stdout",
     "output_type": "stream",
     "text": [
      "GRIB_EUROC25_0002+0003:00\r\n"
     ]
    },
    {
     "data": {
      "text/plain": [
       "True"
      ]
     },
     "execution_count": 27,
     "metadata": {},
     "output_type": "execute_result"
    }
   ],
   "source": [
    "# Retrieval of the resource\n",
    "rhandlers = toolbox.input(# Method/Section\n",
    "                          role='InitialCondition', intent='inout',\n",
    "                          # Resource\n",
    "                          term=3, kind='gridpoint', origin='historic', nativefmt='grib',\n",
    "                          # Provider\n",
    "                          member=2, experiment='DBLE', namespace='vortex.archive.fr',\n",
    "                          block='forecast',\n",
    "                          # Container\n",
    "                          local='GRIB_[geometry:area]_[member%04d]+[term:fmthm]', format='grib')\n",
    "%ls\n",
    "rhandlers[0].clear()"
   ]
  },
  {
   "cell_type": "markdown",
   "metadata": {
    "slideshow": {
     "slide_type": "subslide"
    }
   },
   "source": [
    "We are explicitly specifying ``vortex.archive.fr``, the resource's *Handler* will therefore generate an URI that leads to the unconditional use of the mass-archive (this may be desired). It is often more interesting to use a *Multistore*: "
   ]
  },
  {
   "cell_type": "code",
   "execution_count": 28,
   "metadata": {
    "collapsed": false
   },
   "outputs": [
    {
     "name": "stderr",
     "output_type": "stream",
     "text": [
      "# [2019/08/29-11:59:43][vortex.data.stores][incacheget:1767][INFO]: incacheget on vortex://vsop.cache-mt.fr//arpege/pearp/DBLE/20170601T1800P/mb002/forecast/grid.arpege-forecast.euroc25+0003:00.grib (to: GRIB_EUROC25_0002+0003:00)\n",
      "# [2019/08/29-11:59:43][vortex.tools.systems][cp:2211][ERROR]: Missing source /home/meunierlf/cache/vortex/arpege/pearp/DBLE/20170601T1800P/mb002/forecast/grid.arpege-forecast.euroc25+0003:00.grib\n",
      "# [2019/08/29-11:59:43][vortex.data.stores][_verbose_log:0528][INFO]: Multistore get vortex://vsop.cache.fr: none of the opened store succeeded.\n",
      "# [2019/08/29-11:59:43][vortex.data.stores][inarchiveget:1199][INFO]: inarchiveget on vortex://vsop.archive.fr//home/m/mxpt/mxpt001/vortex/arpege/pearp/DBLE/2017/06/01/T1800P/mb002/forecast/grid.arpege-forecast.euroc25+0003:00.grib (to: GRIB_EUROC25_0002+0003:00)\n",
      "# [2019/08/29-11:59:43][vortex.tools.storage][_ftpretrieve:0690][INFO]: ftpget on ftp://hendrix.meteo.fr//home/m/mxpt/mxpt001/vortex/arpege/pearp/DBLE/2017/06/01/T1800P/mb002/forecast/grid.arpege-forecast.euroc25+0003:00.grib (to: GRIB_EUROC25_0002+0003:00)\n",
      "# [2019/08/29-11:59:43][vortex.tools.net][get:0268][INFO]: FTP <get:/home/m/mxpt/mxpt001/vortex/arpege/pearp/DBLE/2017/06/01/T1800P/mb002/forecast/grid.arpege-forecast.euroc25+0003:00.grib>\n",
      "# [2019/08/29-11:59:43][vortex.data.stores][_refilling_get:0671][INFO]: Refill back in writeable store [<vortex.data.stores.VortexVsopCacheStore object at 0x7f3a1cf33b38 | footprint=7>].\n",
      "# [2019/08/29-11:59:43][vortex.data.stores][incacheput:1787][INFO]: incacheput to vortex://vsop.cache-mt.fr//arpege/pearp/DBLE/20170601T1800P/mb002/forecast/grid.arpege-forecast.euroc25+0003:00.grib (from: GRIB_EUROC25_0002+0003:00)\n",
      "# [2019/08/29-11:59:43][vortex.data.stores][incacheput:1796][INFO]: incacheput insert rc=True location=/home/meunierlf/cache/vortex/arpege/pearp/DBLE/20170601T1800P/mb002/forecast/grid.arpege-forecast.euroc25+0003:00.grib\n",
      "# [2019/08/29-11:59:43][vortex.data.stores][_refilling_get:0681][INFO]: Starting another round because at least one refill succeeded.\n",
      "# [2019/08/29-11:59:43][vortex.data.stores][incacheget:1767][INFO]: incacheget on vortex://vsop.cache-mt.fr//arpege/pearp/DBLE/20170601T1800P/mb002/forecast/grid.arpege-forecast.euroc25+0003:00.grib (to: GRIB_EUROC25_0002+0003:00)\n",
      "# [2019/08/29-11:59:43][vortex.data.stores][incacheget:1781][INFO]: incacheget retrieve rc=True location=/home/meunierlf/cache/vortex/arpege/pearp/DBLE/20170601T1800P/mb002/forecast/grid.arpege-forecast.euroc25+0003:00.grib\n"
     ]
    },
    {
     "name": "stdout",
     "output_type": "stream",
     "text": [
      "GRIB_EUROC25_0002+0003:00\r\n"
     ]
    },
    {
     "data": {
      "text/plain": [
       "True"
      ]
     },
     "execution_count": 28,
     "metadata": {},
     "output_type": "execute_result"
    }
   ],
   "source": [
    "# Retrieval of the resource\n",
    "rhandlers = toolbox.input(# Method/Section\n",
    "                          role='InitialCondition', intent='inout',\n",
    "                          # Resource\n",
    "                          term=3, kind='gridpoint', origin='historic', nativefmt='grib',\n",
    "                          # Provider\n",
    "                          member=2, experiment='DBLE', namespace='vortex.multi.fr',\n",
    "                          block='forecast',\n",
    "                          # Container\n",
    "                          local='GRIB_[geometry:area]_[member%04d]+[term:fmthm]', format='grib')\n",
    "%ls\n",
    "rhandlers[0].clear()"
   ]
  },
  {
   "cell_type": "markdown",
   "metadata": {
    "slideshow": {
     "slide_type": "subslide"
    }
   },
   "source": [
    "In the log, we can notice that concept of “refill” rising up. This feature, which is enabled in most *Multistore*, implies that data recovered from the archive are automatically re-stored in writable caches. So that, if the same file is retrieved at a later stage, it goes faster... "
   ]
  },
  {
   "cell_type": "code",
   "execution_count": 29,
   "metadata": {
    "collapsed": false
   },
   "outputs": [
    {
     "name": "stderr",
     "output_type": "stream",
     "text": [
      "# [2019/08/29-11:59:43][vortex.data.stores][incacheget:1767][INFO]: incacheget on vortex://vsop.cache-mt.fr//arpege/pearp/DBLE/20170601T1800P/mb002/forecast/grid.arpege-forecast.euroc25+0003:00.grib (to: GRIB_EUROC25_0002+0003:00)\n",
      "# [2019/08/29-11:59:43][vortex.data.stores][incacheget:1781][INFO]: incacheget retrieve rc=True location=/home/meunierlf/cache/vortex/arpege/pearp/DBLE/20170601T1800P/mb002/forecast/grid.arpege-forecast.euroc25+0003:00.grib\n"
     ]
    },
    {
     "name": "stdout",
     "output_type": "stream",
     "text": [
      "GRIB_EUROC25_0002+0003:00\r\n"
     ]
    },
    {
     "data": {
      "text/plain": [
       "True"
      ]
     },
     "execution_count": 29,
     "metadata": {},
     "output_type": "execute_result"
    }
   ],
   "source": [
    "# Retrieval of the resource\n",
    "rhandlers = toolbox.input(# Method/Section\n",
    "                          role='InitialCondition', intent='inout',\n",
    "                          # Resource\n",
    "                          term=3, kind='gridpoint', origin='historic', nativefmt='grib',\n",
    "                          # Provider\n",
    "                          member=2, experiment='DBLE', namespace='vortex.multi.fr',\n",
    "                          block='forecast',\n",
    "                          # Container\n",
    "                          local='GRIB_[geometry:area]_[member%04d]+[term:fmthm]', format='grib')\n",
    "%ls\n",
    "rhandlers[0].clear()"
   ]
  },
  {
   "cell_type": "code",
   "execution_count": 30,
   "metadata": {
    "collapsed": false,
    "slideshow": {
     "slide_type": "skip"
    }
   },
   "outputs": [
    {
     "name": "stderr",
     "output_type": "stream",
     "text": [
      "# [2019/08/29-11:59:44][vortex.data.stores][incachedelete:1802][INFO]: incachedelete on vortex://vsop.cache-mt.fr//arpege/pearp/DBLE/20170601T1800P/mb002/forecast/grid.arpege-forecast.euroc25+0003:00.grib\n",
      "# [2019/08/29-11:59:44][vortex.data.stores][_verbose_log:0271][INFO]: Skip this store because a cache is requested\n"
     ]
    },
    {
     "data": {
      "text/plain": [
       "True"
      ]
     },
     "execution_count": 30,
     "metadata": {},
     "output_type": "execute_result"
    }
   ],
   "source": [
    "# Cleaning of the cache so that it works the next time the demo is executed... \n",
    "rhandlers[0].delete(incache=True)"
   ]
  },
  {
   "cell_type": "markdown",
   "metadata": {},
   "source": [
    "Note: When using Olive or the “official” job creation tool based on MTOOL, the caches are automatically cleaned after a few days. However, in general, cleaning is the responsibility of the user."
   ]
  },
  {
   "cell_type": "markdown",
   "metadata": {
    "slideshow": {
     "slide_type": "subslide"
    }
   },
   "source": [
    "This notion of *namespace* is only a convention but its use is widespread... In general, for *Provider*s supporting this notion of namespace: \n",
    "\n",
    "* ``XXX.cache.fr``: means that the data will be recovered/deposited only in the cache;\n",
    "* ``XXX.archive.fr``:  means that the data will be recovered/deposited only in the archive;\n",
    "* ``XXX.multi.fr``: means that we use both a cache and an archive.\n",
    "    \n",
    "The ``multi`` variant is usualy, what you want when retrieving data. For output data, the question arises on a case-by-case basis (we do not necessarily want to archive the intermediate files)."
   ]
  },
  {
   "cell_type": "markdown",
   "metadata": {},
   "source": [
    "For example, *Provider*s supporting this notion of ``namespace`` are: \n",
    "\n",
    "* The Vortex provider (whether for R&D or operations): ``vortex.[cache|archive|multi].fr``;\n",
    "* The provider for the DSI/Ksh archive: ``[oper|dble].[archive|multi].fr``;\n",
    "* The Olive provider: ``olive.[cache|archive|multi].fr``.\n",
    "    \n",
    "Any questions: vortex.support@meteo.fr \n"
   ]
  }
 ],
 "metadata": {
  "celltoolbar": "Slideshow",
  "kernelspec": {
   "display_name": "Python 3",
   "language": "python",
   "name": "python3"
  },
  "language_info": {
   "codemirror_mode": {
    "name": "ipython",
    "version": 3
   },
   "file_extension": ".py",
   "mimetype": "text/x-python",
   "name": "python",
   "nbconvert_exporter": "python",
   "pygments_lexer": "ipython3",
   "version": "3.5.3"
  }
 },
 "nbformat": 4,
 "nbformat_minor": 1
}
