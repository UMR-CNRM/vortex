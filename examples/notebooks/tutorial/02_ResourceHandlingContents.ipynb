{
 "cells": [
  {
   "cell_type": "markdown",
   "metadata": {
    "slideshow": {
     "slide_type": "slide"
    }
   },
   "source": [
    "# Access to the resource content"
   ]
  },
  {
   "cell_type": "markdown",
   "metadata": {
    "slideshow": {
     "slide_type": "slide"
    }
   },
   "source": [
    "Vortex initialisation:"
   ]
  },
  {
   "cell_type": "code",
   "execution_count": 1,
   "metadata": {
    "collapsed": false,
    "scrolled": true
   },
   "outputs": [
    {
     "name": "stderr",
     "output_type": "stream",
     "text": [
      "# [2019/09/03-11:05:30][vortex.sessions][_set_rundir:0152][WARNING]: Session <root> is changing its working directory </sauvegarde/vortex-dev/vortex/examples/notebooks/tutorial>\n",
      "# [2019/09/03-11:05:30][vortex.sessions][_set_rundir:0155][INFO]: Session <root> set rundir </home/meunierlf/vortex-workdir/auto_cocoon_wbghb2v6>\n"
     ]
    },
    {
     "name": "stdout",
     "output_type": "stream",
     "text": [
      "Vortex 1.6.2 loaded ( Tuesday 03. September 2019, at 11:05:29 )\n",
      "The working directory is now: /home/meunierlf/vortex-workdir/auto_cocoon_wbghb2v6/root\n"
     ]
    },
    {
     "data": {
      "text/plain": [
       "'/home/meunierlf/vortex-workdir/auto_cocoon_wbghb2v6'"
      ]
     },
     "execution_count": 1,
     "metadata": {},
     "output_type": "execute_result"
    }
   ],
   "source": [
    "%load_ext ivortex\n",
    "%vortex tmpcocoon"
   ]
  },
  {
   "cell_type": "markdown",
   "metadata": {
    "slideshow": {
     "slide_type": "slide"
    }
   },
   "source": [
    "## Principle\n",
    "\n",
    "The resource's *Handler* contains all the necessary information for the retrieval of the data (*Resource* and *Provider*) but also the location of these data locally (via the *Container*). So it seems natural that the resource's *Handler* is able to instantiate an object allowing data manipulation (read, modify and write) based on the characteristics of the *Resource* and *Container* objects.\n",
    "\n",
    "In practice, the creation of such an object (which we will later call  *Content*) occurs during the first call to the **contents** property of the resource's *Handler*. When the object is created, the data is loaded (at least partially) into memory, which can have a certain cost. If you wish to free this memory, you can call the **reset_contents** method of the resource's *Handler* which will destroy the *Content* object.\n",
    "\n",
    "These objects all inherit from the **vortex.data.contents.DataContent** class and are specialised to handle one or another type of data. \n",
    "\n",
    "*Note*: Such objects only exist for a limited number of resources and formats. "
   ]
  },
  {
   "cell_type": "markdown",
   "metadata": {
    "slideshow": {
     "slide_type": "slide"
    }
   },
   "source": [
    "## Manipulation of simple data\n",
    "\n",
    "Here we will take the example of data stored in JSON format."
   ]
  },
  {
   "cell_type": "code",
   "execution_count": 2,
   "metadata": {
    "collapsed": false
   },
   "outputs": [
    {
     "name": "stderr",
     "output_type": "stream",
     "text": [
      "# [2019/09/03-11:12:06][vortex.data.stores][inarchiveget:1199][INFO]: inarchiveget on vortex://vsop.archive.fr//home/m/mxpt/mxpt001/vortex/arome/pefrance/OPER/2017/08/29/T2100P/clustering/mbsampleof12.json (to: /home/meunierlf/vortex-workdir/auto_cocoon_wbghb2v6/root/shouldfly-v5igudgz)\n",
      "# [2019/09/03-11:12:06][vortex.tools.storage][_ftpretrieve:0690][INFO]: ftpget on ftp://hendrix.meteo.fr//home/m/mxpt/mxpt001/vortex/arome/pefrance/OPER/2017/08/29/T2100P/clustering/mbsampleof12.json (to: /home/meunierlf/vortex-workdir/auto_cocoon_wbghb2v6/root/shouldfly-v5igudgz)\n",
      "# [2019/09/03-11:12:06][vortex.tools.net][get:0268][INFO]: FTP <get:/home/m/mxpt/mxpt001/vortex/arome/pefrance/OPER/2017/08/29/T2100P/clustering/mbsampleof12.json>\n"
     ]
    }
   ],
   "source": [
    "rhpearo = toolbox.input(role='Clustering', now=True, verbose=False,\n",
    "                        # Resource\n",
    "                        kind='mbsample', nbsample='12', model='arome', date='2017082921',\n",
    "                        cutoff='production',\n",
    "                        # Provider\n",
    "                        vapp='arome', vconf='pefrance', experiment='OPER',\n",
    "                        namespace='vortex.archive.fr', block='clustering',\n",
    "                        # Container\n",
    "                        shouldfly=True, format='json')"
   ]
  },
  {
   "cell_type": "markdown",
   "metadata": {},
   "source": [
    "It is a file produced at the beginning of the Arome ensemble prediction system that contains the list of global EPS members that will be used to provide lateral boundary conditions for each of the 12 members of Arome-EPS."
   ]
  },
  {
   "cell_type": "markdown",
   "metadata": {
    "slideshow": {
     "slide_type": "subslide"
    }
   },
   "source": [
    "### Retrieving the *Content* object and inspecting the data"
   ]
  },
  {
   "cell_type": "code",
   "execution_count": 3,
   "metadata": {
    "collapsed": false
   },
   "outputs": [
    {
     "data": {
      "text/plain": [
       "<common.data.eps.SampleContent at 0x7f4658a066d8>"
      ]
     },
     "execution_count": 3,
     "metadata": {},
     "output_type": "execute_result"
    }
   ],
   "source": [
    "ctpearo = rhpearo[0].contents\n",
    "ctpearo"
   ]
  },
  {
   "cell_type": "markdown",
   "metadata": {},
   "source": [
    "Any *Content* object (derived from **vortex.data.contents.DataContent**) has a **data** _property_ that provides direct access to (raw) data:"
   ]
  },
  {
   "cell_type": "code",
   "execution_count": 4,
   "metadata": {
    "collapsed": false
   },
   "outputs": [
    {
     "name": "stdout",
     "output_type": "stream",
     "text": [
      "{'cutoff': 'production',\n",
      " 'date': '201708292100',\n",
      " 'drawing': [...],\n",
      " 'population': [...],\n",
      " 'resource_kind': 'mbsample',\n",
      " 'vapp': 'arome',\n",
      " 'vconf': 'pefrance'}\n"
     ]
    }
   ],
   "source": [
    "import pprint\n",
    "pprint.pprint(ctpearo.data, depth=1)"
   ]
  },
  {
   "cell_type": "markdown",
   "metadata": {},
   "source": [
    "In this example, we are talking about the content of the JSON file that was read by the adhoc Python module and converted into “real” Python objects (lists, dictionaries ...)."
   ]
  },
  {
   "cell_type": "markdown",
   "metadata": {
    "slideshow": {
     "slide_type": "subslide"
    }
   },
   "source": [
    "Of course, the developer can provide additional methods that can be extremely specialised. For example, with this type of *Content* object (**common.data.eps.SampleContent**), one can ask for the list of global EPS members that were selected: "
   ]
  },
  {
   "cell_type": "code",
   "execution_count": 5,
   "metadata": {
    "collapsed": false
   },
   "outputs": [
    {
     "data": {
      "text/plain": [
       "[1, 5, 22, 18, 7, 9, 11, 12, 31, 17, 19, 34]"
      ]
     },
     "execution_count": 5,
     "metadata": {},
     "output_type": "execute_result"
    }
   ],
   "source": [
    "ctpearo.members"
   ]
  },
  {
   "cell_type": "markdown",
   "metadata": {},
   "source": [
    "For a given type of *Content*, except the **data** _property_, which is standard, it is necessary to refer to the documentation of the various classes to know the methods offered by the developer."
   ]
  },
  {
   "cell_type": "markdown",
   "metadata": {
    "slideshow": {
     "slide_type": "subslide"
    }
   },
   "source": [
    "### Editing data via the *Content* object"
   ]
  },
  {
   "cell_type": "code",
   "execution_count": 6,
   "metadata": {
    "collapsed": true
   },
   "outputs": [],
   "source": [
    "ctpearo.data['cutoff'] = 'assim'"
   ]
  },
  {
   "cell_type": "code",
   "execution_count": 7,
   "metadata": {
    "collapsed": false
   },
   "outputs": [
    {
     "name": "stdout",
     "output_type": "stream",
     "text": [
      "{'cutoff': 'assim',\n",
      " 'date': '201708292100',\n",
      " 'drawing': [...],\n",
      " 'population': [...],\n",
      " 'resource_kind': 'mbsample',\n",
      " 'vapp': 'arome',\n",
      " 'vconf': 'pefrance'}\n"
     ]
    }
   ],
   "source": [
    "import pprint\n",
    "pprint.pprint(ctpearo.data, depth=1)"
   ]
  },
  {
   "cell_type": "markdown",
   "metadata": {},
   "source": [
    "Note that the JSON file has been altered (as expected), but the change has only occurred in the *Content* object itself: it has not been written in the *Container*. For that purpose, The *Content* object makes available the standard **rewrite** method for rewriting the content in a given *Container*.\n",
    "\n",
    "Save our modified JSON in a file named ``foo.json``:"
   ]
  },
  {
   "cell_type": "code",
   "execution_count": 8,
   "metadata": {
    "collapsed": false
   },
   "outputs": [
    {
     "name": "stdout",
     "output_type": "stream",
     "text": [
      "foo.json  shouldfly-v5igudgz\r\n"
     ]
    }
   ],
   "source": [
    "new_container = fp.proxy.container(filename='foo.json', format='json')\n",
    "ctpearo.rewrite(new_container)\n",
    "%ls"
   ]
  },
  {
   "cell_type": "markdown",
   "metadata": {
    "slideshow": {
     "slide_type": "subslide"
    }
   },
   "source": [
    "Most of the time, we do not want to create a copy but rather overwrite the original data. In this case the resource's *Handler* object offers a shortcut via the **save** method:"
   ]
  },
  {
   "cell_type": "code",
   "execution_count": 9,
   "metadata": {
    "collapsed": true
   },
   "outputs": [],
   "source": [
    "rhpearo[0].save()"
   ]
  },
  {
   "cell_type": "markdown",
   "metadata": {},
   "source": [
    "**Note**: The **rewrite** method is not always implemented. Check in the code of the *Content* class. "
   ]
  },
  {
   "cell_type": "markdown",
   "metadata": {
    "slideshow": {
     "slide_type": "subslide"
    }
   },
   "source": [
    "### Example of use \n",
    "\n",
    "In the case of our Arome EPS system, this *Content* is used to retrieve the necessary global EPS files in order to produce the lateral boundary condition files:"
   ]
  },
  {
   "cell_type": "code",
   "execution_count": 10,
   "metadata": {
    "collapsed": false
   },
   "outputs": [],
   "source": [
    "rhpearo = toolbox.input(role='Clustering', now=True, verbose=False, loglevel='warning',\n",
    "                        # Resource\n",
    "                        kind='mbsample', nbsample='12', model='arome', date='2017082921',\n",
    "                        cutoff='production',\n",
    "                        # Provider\n",
    "                        vapp='arome', vconf='pefrance', experiment='OPER',\n",
    "                        namespace='vortex.archive.fr', block='clustering',\n",
    "                        # Container\n",
    "                        shouldfly=True, format='json')\n",
    "\n",
    "rhbis = toolbox.input(role='CouplingSource', now=False, verbose=False,\n",
    "                      # Resource\n",
    "                      kind='historic', model='arpege',  date='2017082918', \n",
    "                      cutoff='production', term=3, geometry='global798',\n",
    "                      # Provider\n",
    "                      vapp='arpege', vconf='pearp', experiment='OPER', block='forecast',\n",
    "                      member=rhpearo[0].contents.members, namespace='vortex.archive.fr',\n",
    "                      # Container\n",
    "                      local='CPLIN_[member]+[term:fmthm]', format='fa')"
   ]
  },
  {
   "cell_type": "code",
   "execution_count": 11,
   "metadata": {
    "collapsed": false
   },
   "outputs": [
    {
     "name": "stdout",
     "output_type": "stream",
     "text": [
      "I would get:\n",
      "['CPLIN_001+0003:00', 'CPLIN_005+0003:00', 'CPLIN_022+0003:00', 'CPLIN_018+0003:00', 'CPLIN_007+0003:00', 'CPLIN_009+0003:00', 'CPLIN_011+0003:00', 'CPLIN_012+0003:00', 'CPLIN_031+0003:00', 'CPLIN_017+0003:00', 'CPLIN_019+0003:00', 'CPLIN_034+0003:00']\n"
     ]
    }
   ],
   "source": [
    "print('I would get:')\n",
    "print([rh.container.localpath() for rh in rhbis])"
   ]
  },
  {
   "cell_type": "markdown",
   "metadata": {
    "collapsed": true,
    "slideshow": {
     "slide_type": "slide"
    }
   },
   "source": [
    "## Another common example: the Fortran namelists\n",
    "\n",
    "Let's retrieve an Arpège namelist via Uenv (in operations, the retrieval would be done via Genv): "
   ]
  },
  {
   "cell_type": "code",
   "execution_count": 12,
   "metadata": {
    "collapsed": false
   },
   "outputs": [
    {
     "name": "stdout",
     "output_type": "stream",
     "text": [
      "\u001b[0m\u001b[01;34mcy42_op2.09lf.nam\u001b[0m/     foo.json  shouldfly-v5igudgz\r\n",
      "cy42_op2.09lf.nam.tgz  fort.4    shouldfly-vg64mn_w\r\n"
     ]
    }
   ],
   "source": [
    "rhnam = toolbox.input(role='Namelist', now=True, verbose=False, loglevel='warning',\n",
    "                      # Resource\n",
    "                      kind='namelist', model='arpege', source='namelistfc',\n",
    "                      # Provider\n",
    "                      genv='uget:cy42_op2.01fake@ugetdemo',\n",
    "                      # Container\n",
    "                      local='fort.4')\n",
    "%ls"
   ]
  },
  {
   "cell_type": "markdown",
   "metadata": {},
   "source": [
    "Let's retrieve the associated *Content* object:"
   ]
  },
  {
   "cell_type": "code",
   "execution_count": 13,
   "metadata": {
    "collapsed": true
   },
   "outputs": [],
   "source": [
    "ctnam = rhnam[0].contents"
   ]
  },
  {
   "cell_type": "markdown",
   "metadata": {
    "slideshow": {
     "slide_type": "subslide"
    }
   },
   "source": [
    "The namelist file is seen as a dictionary of namelist blocks. We can display the contents of a given namelist block:"
   ]
  },
  {
   "cell_type": "code",
   "execution_count": 14,
   "metadata": {
    "collapsed": false,
    "slideshow": {
     "slide_type": "-"
    }
   },
   "outputs": [
    {
     "name": "stdout",
     "output_type": "stream",
     "text": [
      " &NAMPAR0\n",
      "   MBX_SIZE=2048000000,\n",
      "   MP_TYPE=2,\n",
      "   NOUTPUT=1,\n",
      "   NPROC=__NBPROC__,\n",
      "   NSPECRESMIN=1199,\n",
      " /\n",
      "\n"
     ]
    }
   ],
   "source": [
    "print(ctnam['NAMPAR0'].dumps())"
   ]
  },
  {
   "cell_type": "markdown",
   "metadata": {},
   "source": [
    "Note that the “NPROC” variable is not really defined. This is a “macro” for which a value must be provided by the user. These macros can take two forms: \n",
    "\n",
    "  * If they are predefined in the Vortex code: we can directly use the name of the macro (``NPROC = NBPROC``) \n",
    "  * To avoid having to predefine macro names in advance, just use the notation ``__MACRONAME__`` (this is now recommended because it avoids changing the Vortex code too often)"
   ]
  },
  {
   "cell_type": "markdown",
   "metadata": {
    "slideshow": {
     "slide_type": "subslide"
    }
   },
   "source": [
    "Moreover, it is possible to modify variables (the conversion between Python type and Fortran type is managed), to delete them, or to add new ones to the namelist block,... "
   ]
  },
  {
   "cell_type": "code",
   "execution_count": 15,
   "metadata": {
    "collapsed": true
   },
   "outputs": [],
   "source": [
    "ctnam.setmacro('NBPROC', 10)\n",
    "ctnam['NAMPAR0'].MP_TYPE = 'Toto'\n",
    "ctnam['NAMPAR0'].NOUTPUT = 1.2586e-6\n",
    "del ctnam['NAMPAR0'].NSPECRESMIN"
   ]
  },
  {
   "cell_type": "code",
   "execution_count": 16,
   "metadata": {
    "collapsed": false
   },
   "outputs": [
    {
     "name": "stdout",
     "output_type": "stream",
     "text": [
      " &NAMPAR0\n",
      "   MBX_SIZE=2048000000,\n",
      "   MP_TYPE='Toto',\n",
      "   NOUTPUT=1.2586D-06,\n",
      "   NPROC=10,\n",
      " /\n",
      "\n"
     ]
    }
   ],
   "source": [
    "print(ctnam['NAMPAR0'].dumps())"
   ]
  },
  {
   "cell_type": "markdown",
   "metadata": {},
   "source": [
    "Do not forget that changes made via the *Content* object are stored in memory: you have to save the result in a *Container*... "
   ]
  },
  {
   "cell_type": "code",
   "execution_count": 17,
   "metadata": {
    "collapsed": true
   },
   "outputs": [],
   "source": [
    "rhnam[0].save()"
   ]
  },
  {
   "cell_type": "markdown",
   "metadata": {
    "collapsed": true
   },
   "source": [
    "For more details see: http://intra.cnrm.meteo.fr/algopy/sphinx/vortex/current/technical/fortran.html"
   ]
  },
  {
   "cell_type": "markdown",
   "metadata": {
    "slideshow": {
     "slide_type": "slide"
    }
   },
   "source": [
    "## Using external packages through *Content* **_FormatAdapter _**\n",
    "\n",
    "For some formats (in the sense of the **actualfmt** attribute of the *Container*), it is possible to use external packages to access the data. For FA and GRIB formats, you can typically use the *epygram* package:\n",
    "\n",
    "https://opensource.umr-cnrm.fr/projects/epygram \n",
    "\n",
    "The idea of the generic **FormatAdapter** *Content* is to query a *footprints* collector named “dataformat” to determine if an external package is able read the data ... "
   ]
  },
  {
   "cell_type": "code",
   "execution_count": 18,
   "metadata": {
    "collapsed": false
   },
   "outputs": [
    {
     "name": "stderr",
     "output_type": "stream",
     "text": [
      "# [2019/09/03-11:33:37][epygram][prompt:0105][WARNING]: *epygram* is now supposed to be compatible with Python3, provided you have an ecCodes >= 2.10.0 !\n",
      "# [2019/09/03-11:33:38][common.util.usepygram][<module>:0037][INFO]: Epygram 1.3.7 loaded.\n"
     ]
    },
    {
     "name": "stdout",
     "output_type": "stream",
     "text": [
      "<class 'epygram.formats.LFA.LFA'>\n",
      "<class 'epygram.formats.DDHLFA.DDHLFA'>\n",
      "<class 'epygram.formats.netCDF.netCDF'>\n",
      "<class 'epygram.formats.GeoPoints.GeoPoints'>\n",
      "<class 'epygram.formats.LFI.LFI'>\n",
      "<class 'epygram.formats.TIFFMF.TIFFMF'>\n",
      "<class 'epygram.formats.netCDFMNH.netCDFMNH'>\n",
      "<class 'vortex.tools.listings.ArpifsListingsFormatAdapter'>\n",
      "<class 'epygram.formats.GRIB.GRIB'>\n",
      "<class 'epygram.formats.FA.FA'>\n"
     ]
    }
   ],
   "source": [
    "import common.util.usepygram\n",
    "print('\\n'.join([str(f) for f in fp.proxy.dataformats.items()]))"
   ]
  },
  {
   "cell_type": "markdown",
   "metadata": {
    "slideshow": {
     "slide_type": "subslide"
    }
   },
   "source": [
    "### Demonstration"
   ]
  },
  {
   "cell_type": "code",
   "execution_count": 19,
   "metadata": {
    "collapsed": false
   },
   "outputs": [
    {
     "name": "stderr",
     "output_type": "stream",
     "text": [
      "# [2019/09/03-11:33:55][vortex.data.stores][incacheget:1767][INFO]: incacheget on vortex://vsop.cache-mt.fr//arome/antilles/OPER/20161001T0000P/forecast/grid.arome-forecast.antil0025+0000:00.grib (to: epytest_ANTIL0025_00:00)\n",
      "# [2019/09/03-11:33:55][vortex.data.stores][incacheget:1781][INFO]: incacheget retrieve rc=True location=/home/meunierlf/cache/vortex/arome/antilles/OPER/20161001T0000P/forecast/grid.arome-forecast.antil0025+0000:00.grib\n"
     ]
    }
   ],
   "source": [
    "rhS = vortex.toolbox.input(role='Gridpoint', now=True, verbose=False,\n",
    "                           # Container\n",
    "                           local='epytest_[geometry:area]_[term]', format='grib',\n",
    "                           # Resource\n",
    "                           kind='gridpoint', geometry='antil0025', origin='historic',\n",
    "                           date='2016100100', term='0', cutoff='production', model='[vapp]',\n",
    "                           nativefmt='[format]',\n",
    "                           # Provider\n",
    "                           experiment='OPER', block='forecast', namespace='vortex.multi.fr',\n",
    "                           vapp='arome', vconf='antilles')"
   ]
  },
  {
   "cell_type": "code",
   "execution_count": 20,
   "metadata": {
    "collapsed": false
   },
   "outputs": [
    {
     "data": {
      "text/plain": [
       "<epygram.formats.GRIB.GRIB at 0x7f4658a060f0>"
      ]
     },
     "execution_count": 20,
     "metadata": {},
     "output_type": "execute_result"
    }
   ],
   "source": [
    "epy_fiels = rhS[0].contents.data\n",
    "epy_fiels"
   ]
  },
  {
   "cell_type": "markdown",
   "metadata": {},
   "source": [
    "Reading a GRIB field:"
   ]
  },
  {
   "cell_type": "code",
   "execution_count": 21,
   "metadata": {
    "collapsed": false
   },
   "outputs": [
    {
     "name": "stdout",
     "output_type": "stream",
     "text": [
      "{'max': 293.958984375, 'std': 0.8545431029082723, 'min': 289.091796875, 'mean': 290.77099109730847, 'nonzero': 301875, 'quadmean': 290.7722467974304}\n"
     ]
    }
   ],
   "source": [
    "field = epy_fiels.readfield(dict(shortName='t', typeOfLevel='isobaricInhPa', level=850))\n",
    "print(field.stats())"
   ]
  },
  {
   "cell_type": "code",
   "execution_count": 22,
   "metadata": {
    "collapsed": true,
    "slideshow": {
     "slide_type": "skip"
    }
   },
   "outputs": [],
   "source": [
    "%matplotlib inline\n",
    "import warnings\n",
    "warnings.filterwarnings(\"ignore\", module='.*basemap')  # A corriger côté Epygram"
   ]
  },
  {
   "cell_type": "code",
   "execution_count": 23,
   "metadata": {
    "collapsed": false,
    "slideshow": {
     "slide_type": "subslide"
    }
   },
   "outputs": [
    {
     "data": {
      "image/png": "[encoded data removed]",
      "text/plain": [
       "<matplotlib.figure.Figure at 0x7f462a8ad390>"
      ]
     },
     "metadata": {},
     "output_type": "display_data"
    }
   ],
   "source": [
    "fig = field.plotfield(title=\"A great plot !\")"
   ]
  },
  {
   "cell_type": "markdown",
   "metadata": {
    "slideshow": {
     "slide_type": "subslide"
    }
   },
   "source": [
    "### What's going on behind the scenes?\n",
    "\n",
    "The **FormatAdapter** *Content* simply looks into the \"``dataformat``\" *footprints*' collector to create an object. If the creation of the object is successful, it is assigned to the **data** attribute of the *Content* object: "
   ]
  },
  {
   "cell_type": "code",
   "execution_count": 24,
   "metadata": {
    "collapsed": false
   },
   "outputs": [
    {
     "data": {
      "text/plain": [
       "<epygram.formats.GRIB.GRIB at 0x7f4628069208>"
      ]
     },
     "execution_count": 24,
     "metadata": {},
     "output_type": "execute_result"
    }
   ],
   "source": [
    "access_obj = fp.proxy.dataformat(filename=rhS[0].container.abspath,\n",
    "                                 openmode='r', fmtdelayedopen=True,\n",
    "                                 format=rhS[0].container.actualfmt.upper())  # actualfmt='grib'\n",
    "access_obj"
   ]
  },
  {
   "cell_type": "markdown",
   "metadata": {},
   "source": [
    "Therefore, it is very easy to interface an external package with Vortex. It is enough to define an interface class: \n",
    "\n",
    "  * That is member of the *footprints*' collector \"``dataformat``\";\n",
    "  * That satisfies the attributes mentioned above (*filename*, *openmode*, *fmtdelayedopen*, *format*)."
   ]
  },
  {
   "cell_type": "markdown",
   "metadata": {
    "slideshow": {
     "slide_type": "slide"
    }
   },
   "source": [
    "## Development of new *Contents*\n",
    "\n",
    "If you want to create a “Simple” *Content* (e.g. Arome-EPS JSON file), just: \n",
    "\n",
    "  * Create a class that inherits from **vortex.data.contents.DataContent** or any existing *Content* that is close to uour needs (for example, if the data is in JSON format, it may be wise to inherit from **vortex.data.contents.JsonDictContent**);\n",
    "  * In the resource that is to benefit from this *Content*, assign the newly created *Content* class as a default value for the *footprints* attribute “``clscontent``”.\n",
    "\n",
    "If you want to use an external package via the **FormatAdapter** *Content* (*e.g.* epygram):\n",
    "\n",
    "  * Ensure that the external package provides an interface class that is registered with the \"``dataformat``\" *footprints*' collector. \n",
    "  * In the resource that should benefit from this *Content*, assign the **FormatAdapter** class as the default value for the *footprints* attribute \"``clscontent``\". \n"
   ]
  },
  {
   "cell_type": "markdown",
   "metadata": {
    "slideshow": {
     "slide_type": "slide"
    }
   },
   "source": [
    "# Modifying the content of resources when they are recovered\n",
    "\n",
    "It is about the notion of *hook*: after the retrieval of a data (or before sending a data), the resource's *Handler* can call one or more utilitary functions, which will have access to the content of the Resource's *Handler*.\n",
    "\n",
    "The functions in question must satisfy a strict interface:\n",
    "\n",
    "  * The session ticket object is the first argument (the subject will be discussed later). \n",
    "  * The resource's *Handler* object on which the function applies is the second argument. \n",
    "    • (There may be other arguments that will be passed by the user during the call). "
   ]
  },
  {
   "cell_type": "markdown",
   "metadata": {
    "slideshow": {
     "slide_type": "subslide"
    }
   },
   "source": [
    "Starting from our Fortran namelist example, we could imagine a utility function that updates the ``NOUTPUT`` variable of the ``NAMPAR0`` namelist: "
   ]
  },
  {
   "cell_type": "code",
   "execution_count": 25,
   "metadata": {
    "collapsed": true
   },
   "outputs": [],
   "source": [
    "def fix_noutput(t, rh, noutput=1):\n",
    "    # t: session ticket (the topic will be discussed later)\n",
    "    # rh: the resource's handler to which this function should apply \n",
    "    # ... one or more arguments provided by the user\n",
    "    rh.contents['NAMPAR0'].NOUTPUT = noutput\n",
    "    rh.save()"
   ]
  },
  {
   "cell_type": "markdown",
   "metadata": {},
   "source": [
    "Such a function can be used as \"hook\" when retrieving the namelist: "
   ]
  },
  {
   "cell_type": "code",
   "execution_count": 26,
   "metadata": {
    "collapsed": false
   },
   "outputs": [],
   "source": [
    "rhnam = toolbox.input(role='Namelist', now=True, verbose=False, loglevel='warning',\n",
    "                      hook_noutput = (fix_noutput, 5),  # Set NOUTPUT to 5\n",
    "                      # Resource\n",
    "                      kind='namelist', model='arpege', source='namelistfc',\n",
    "                      # Provider\n",
    "                      genv='uget:cy42_op2.01fake@ugetdemo',\n",
    "                      # Container\n",
    "                      local='namelbis')"
   ]
  },
  {
   "cell_type": "markdown",
   "metadata": {
    "slideshow": {
     "slide_type": "subslide"
    }
   },
   "source": [
    "Let's check the result:"
   ]
  },
  {
   "cell_type": "code",
   "execution_count": 27,
   "metadata": {
    "collapsed": false
   },
   "outputs": [
    {
     "name": "stdout",
     "output_type": "stream",
     "text": [
      " &NAMPAR0\n",
      "   MBX_SIZE=2048000000,\n",
      "   MP_TYPE=2,\n",
      "   NOUTPUT=5,\n",
      "   NPROC=__NBPROC__,\n",
      "   NSPECRESMIN=1199,\n",
      " /\n",
      "\n"
     ]
    }
   ],
   "source": [
    "print(rhnam[0].contents['NAMPAR0'].dumps())"
   ]
  },
  {
   "cell_type": "markdown",
   "metadata": {
    "slideshow": {
     "slide_type": "subslide"
    }
   },
   "source": [
    "Some more information: \n",
    "\n",
    "  * Here, the utility function was created directly in the script. It is also possible to define the function inside the Vortex code and to refer to it by a string of characters. For example, we can use the following hook: \"``common.util.usepygram.addfield``\" (which is based on *epygram*).\n",
    "  * This feature can be very convenient in R&D (to edit files on the fly) but be careful when using this feature in operations situation since it has a cost. In any case, for operational use, you must define the *hook* function in the Vortex code (not directly in the script). \n",
    "  * There may be several *hooks* (in this case, they will be executed in alphabetical order). \n",
    "  * In the case of hooks dealing with output data, each *hook* is executed only once on a per file basis (even if several calls to **toolbox.output** are made).\n",
    "\n",
    "This mechanism offers great possibilities since one can use all the power of the *Contents* but more generally make any processing which requires to recover information in the resource's *Handler* (for example, in operational situation, the sending of the files to an external database is triggered via a hook on the output resource). "
   ]
  },
  {
   "cell_type": "markdown",
   "metadata": {
    "slideshow": {
     "slide_type": "slide"
    }
   },
   "source": [
    "\n",
    "Any questions: *vortex.support@meteo.fr*"
   ]
  }
 ],
 "metadata": {
  "celltoolbar": "Slideshow",
  "kernelspec": {
   "display_name": "Python 3",
   "language": "python",
   "name": "python3"
  },
  "language_info": {
   "codemirror_mode": {
    "name": "ipython",
    "version": 3
   },
   "file_extension": ".py",
   "mimetype": "text/x-python",
   "name": "python",
   "nbconvert_exporter": "python",
   "pygments_lexer": "ipython3",
   "version": "3.5.3"
  }
 },
 "nbformat": 4,
 "nbformat_minor": 1
}
