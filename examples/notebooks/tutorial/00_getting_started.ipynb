{
 "cells": [
  {
   "cell_type": "markdown",
   "metadata": {},
   "source": [
    "# Getting started example\n",
    "\n",
    "This is a first example of a Python's script using Vortex :\n",
    "\n",
    "* It doesn't use the Vortex job management system (it would be to complex for a first example)\n",
    "* The \"Getting Started\" page is not enough to understand every bit of this script: try not to focus to much on the details but instead look for the general concepts listed in the \"Getting Started\" page\n",
    "* It should run on any workstation with Vortex installed and a configured FTP access to Meteo-France's mass archive (.netrc file with a ``hendrix.meteo.fr`` entry)\n",
    "* For clarity sake, this example is presented in an IPython's notebook. However, it should also run in a raw Python's script\n",
    "\n",
    "## Loading Vortex"
   ]
  },
  {
   "cell_type": "code",
   "execution_count": 1,
   "metadata": {
    "collapsed": false
   },
   "outputs": [
    {
     "name": "stdout",
     "output_type": "stream",
     "text": [
      "Vortex 1.4.0 loaded ( Thursday 09. August 2018, at 18:05:53 )\n",
      "session's infos:\n",
      "+ Name     = root\n",
      "+ Started  = 2018-08-09T18:05:53.105047Z\n",
      "+ Opened   = True\n",
      "+ Duration = PT0S\n",
      "+ Loglevel = INFO\n"
     ]
    },
    {
     "data": {
      "text/plain": [
       "True"
      ]
     },
     "execution_count": 1,
     "metadata": {},
     "output_type": "execute_result"
    }
   ],
   "source": [
    "from bronx.stdtypes import date\n",
    "import vortex\n",
    "\n",
    "# Load additional packages needed in this example\n",
    "import common, sandbox\n",
    "# Import the toolbox module that contains very usefull shortcut to use Vortex painlessly\n",
    "from vortex import toolbox\n",
    "\n",
    "# Get the session's ticket and shell objects for latter use:\n",
    "t = vortex.ticket()\n",
    "sh = t.sh\n",
    "print \"session's infos:\"\n",
    "print  t.idcard()\n",
    "\n",
    "# Let's decrease the verbosity\n",
    "t.warning()\n",
    "\n",
    "# Just go to a cleaned temporary directory\n",
    "tmpdir = sh.path.join(t.env.HOME, 'tmp', 'getting_started_demo')\n",
    "sh.rm(tmpdir)\n",
    "sh.cd(tmpdir, create=True)"
   ]
  },
  {
   "cell_type": "markdown",
   "metadata": {},
   "source": [
    "## Set some defaults because laziness is good..."
   ]
  },
  {
   "cell_type": "code",
   "execution_count": 2,
   "metadata": {
    "collapsed": true
   },
   "outputs": [],
   "source": [
    "# We will work on Arpege, PEARP data :\n",
    "# this is a global configuration that should be added to the glove\n",
    "t.glove.vapp = 'arpege'\n",
    "t.glove.vconf = 'pearp'\n",
    "# In this whole script, we will work on the 01/06/2017 18UTC run (production cutoff) :\n",
    "# when looking for data, we will use those defaults\n",
    "vortex.setup.defaults.update(\n",
    "    date = date.Date('2017060118'),\n",
    "    cutoff = 'production',\n",
    "    model = 'arpege'\n",
    ")\n",
    "# Because we will send an e-mail later on...\n",
    "vortex.setup.defaults.update(\n",
    "    smtpserver='smtp.meteo.fr',\n",
    ")"
   ]
  },
  {
   "cell_type": "markdown",
   "metadata": {},
   "source": [
    "Note: Vortex provides a wide range of utility classes such as Date... "
   ]
  },
  {
   "cell_type": "markdown",
   "metadata": {},
   "source": [
    "## Get data from the mass archive"
   ]
  },
  {
   "cell_type": "code",
   "execution_count": 3,
   "metadata": {
    "collapsed": false
   },
   "outputs": [
    {
     "name": "stdout",
     "output_type": "stream",
     "text": [
      "# New input section with options :\n",
      "+ role         = Gridpoint\n",
      "# Resource handler description :\n",
      "+ block        = forecast\n",
      "+ experiment   = dble\n",
      "+ filename     = grib_glob05_m[member]_[term:fmth]\n",
      "+ geometry     = glob05\n",
      "+ insitu       = False\n",
      "+ kind         = gridpoint\n",
      "+ member       = range(0,2)\n",
      "+ namespace    = vortex.archive.fr\n",
      "+ nativefmt    = grib\n",
      "+ origin       = historic\n",
      "+ term         = 0,6\n",
      "# This command options :\n",
      "+ complete     = False\n",
      "+ loglevel     = None\n",
      "+ now          = False\n",
      "+ verbose      = True\n"
     ]
    }
   ],
   "source": [
    "# We are not creating the resource, Provider, Container and Handler objects manually (it would be quite long).\n",
    "# Instead, we are using the toolbox module...\n",
    "rhandlers = toolbox.input(role='Gridpoint',\n",
    "                          # The Resource part...\n",
    "                          kind='gridpoint',\n",
    "                          geometry='glob05',\n",
    "                          nativefmt='grib',\n",
    "                          origin='historic',\n",
    "                          term='0,6',\n",
    "                          # The provider part...\n",
    "                          namespace='vortex.archive.fr',\n",
    "                          block='forecast',\n",
    "                          member='range(0,2)', # Only members 0, 1 and 2 (faster)\n",
    "                          experiment='dble',   # The e-suite'\n",
    "                          # The container part\n",
    "                          filename='grib_glob05_m[member]_[term:fmth]'\n",
    "                         )"
   ]
  },
  {
   "cell_type": "markdown",
   "metadata": {},
   "source": [
    "At this point the resource Handlers objects are created but the data are still not downloaded :"
   ]
  },
  {
   "cell_type": "code",
   "execution_count": 4,
   "metadata": {
    "collapsed": false
   },
   "outputs": [
    {
     "name": "stdout",
     "output_type": "stream",
     "text": [
      "There are 6 resource Handlers.\n"
     ]
    }
   ],
   "source": [
    "print 'There are {:d} resource Handlers.'.format(len(rhandlers))"
   ]
  },
  {
   "cell_type": "markdown",
   "metadata": {},
   "source": [
    "Where are located the remote data (for the first remote handlers) ?"
   ]
  },
  {
   "cell_type": "code",
   "execution_count": 5,
   "metadata": {
    "collapsed": false
   },
   "outputs": [
    {
     "name": "stdout",
     "output_type": "stream",
     "text": [
      "vortex://vsop.archive.fr/arpege/pearp/DBLE/20170601T1800P/mb000/forecast/grid.arpege-forecast.glob05+0000:00.grib\n"
     ]
    }
   ],
   "source": [
    "print rhandlers[0].location()"
   ]
  },
  {
   "cell_type": "markdown",
   "metadata": {},
   "source": [
    "Let's download the files..."
   ]
  },
  {
   "cell_type": "code",
   "execution_count": 6,
   "metadata": {
    "collapsed": false
   },
   "outputs": [
    {
     "name": "stdout",
     "output_type": "stream",
     "text": [
      "grib_glob05_m000_0000 : True\n",
      "grib_glob05_m001_0000 : True\n",
      "grib_glob05_m002_0000 : True\n",
      "grib_glob05_m000_0006 : True\n",
      "grib_glob05_m001_0006 : True\n",
      "grib_glob05_m002_0006 : True\n"
     ]
    }
   ],
   "source": [
    "for rhandler in rhandlers:\n",
    "    print rhandler.container.filename, \":\", rhandler.get()"
   ]
  },
  {
   "cell_type": "markdown",
   "metadata": {},
   "source": [
    "## Using the current active context\n",
    "\n",
    "The current active Context, has recorded each of the **get** method calls. To illustrate that, it's able to generate a summary of all the input files:"
   ]
  },
  {
   "cell_type": "code",
   "execution_count": 7,
   "metadata": {
    "collapsed": false
   },
   "outputs": [
    {
     "name": "stdout",
     "output_type": "stream",
     "text": [
      "* present                   : grib_glob05_m000_0000\n",
      "* present                   : grib_glob05_m000_0006\n",
      "* present                   : grib_glob05_m001_0000\n",
      "* present                   : grib_glob05_m001_0006\n",
      "* present                   : grib_glob05_m002_0000\n",
      "* present                   : grib_glob05_m002_0006\n",
      "\n"
     ]
    }
   ],
   "source": [
    "report = t.context.sequence.inputs_report()\n",
    "report.print_report()"
   ]
  },
  {
   "cell_type": "markdown",
   "metadata": {},
   "source": [
    "## Using an Algo Component\n",
    "\n",
    "We are using a very simple AlgoComponent specialy created for demonstration purposes: It looks for available GRIB files in the active Context's sequence, compute their size and MD5 sum ; finaly it saves the result in a json file. Of course, in real life, we usually want to run some kind of program or script.\n",
    "\n",
    "Let's create the AlgoComponent object and run this wonder..."
   ]
  },
  {
   "cell_type": "code",
   "execution_count": 8,
   "metadata": {
    "collapsed": false,
    "scrolled": true
   },
   "outputs": [
    {
     "name": "stdout",
     "output_type": "stream",
     "text": [
      "# Loading algo component with description: :\n",
      "+ jsonoutput   = super.json\n",
      "+ kind         = gribinfos\n",
      "\n",
      "----------------------------------------------------------------------------------------------------\n",
      "\n",
      "01. <sandbox.algo.stdpost.GribInfos object at 0x7f4034d92950>\n",
      "  kind: gribinfos\n",
      "  engine: algo\n",
      "\n",
      " ----------------------------------------------------------------------------------------------------\n",
      "# gribinfos : directory listing (post-run)                                                         #\n",
      "----------------------------------------------------------------------------------------------------\n",
      "What's the result ?\n",
      "[\n",
      "  {\n",
      "    \"vapp\": \"arpege\", \n",
      "    \"vconf\": \"pearp\", \n",
      "    \"member\": 000, \n",
      "    \"domain\": \"GLOB05\", \n",
      "    \"terms\": {\n",
      "      \"0000:00\": {\n",
      "        \"md5sum\": \"add8b43ac4359066f766fb459747f3a0\", \n",
      "        \"filesize\": 18039405\n",
      "      }, \n",
      "      \"0006:00\": {\n",
      "        \"md5sum\": \"407907be9cdf1566ac4a269fcd8e4d26\", \n",
      "        \"filesize\": 17671950\n",
      "      }\n",
      "    }\n",
      "  }, \n",
      "  {\n",
      "    \"vapp\": \"arpege\", \n",
      "    \"vconf\": \"pearp\", \n",
      "    \"member\": 002, \n",
      "    \"domain\": \"GLOB05\", \n",
      "    \"terms\": {\n",
      "      \"0000:00\": {\n",
      "        \"md5sum\": \"e56cd10076d3a1baa197b0dd519687f4\", \n",
      "        \"filesize\": 18684824\n",
      "      }, \n",
      "      \"0006:00\": {\n",
      "        \"md5sum\": \"7ff74015e2cd551d9af11105fb959ed4\", \n",
      "        \"filesize\": 18581538\n",
      "      }\n",
      "    }\n",
      "  }, \n",
      "  {\n",
      "    \"vapp\": \"arpege\", \n",
      "    \"vconf\": \"pearp\", \n",
      "    \"member\": 001, \n",
      "    \"domain\": \"GLOB05\", \n",
      "    \"terms\": {\n",
      "      \"0000:00\": {\n",
      "        \"md5sum\": \"676e48d661e95423420f6ef269f0456f\", \n",
      "        \"filesize\": 18674979\n",
      "      }, \n",
      "      \"0006:00\": {\n",
      "        \"md5sum\": \"758ba0034ddea713d4d59525d70d165f\", \n",
      "        \"filesize\": 18594780\n",
      "      }\n",
      "    }\n",
      "  }\n",
      "]\n"
     ]
    }
   ],
   "source": [
    "algo = toolbox.algo(kind='gribinfos', jsonoutput='super.json')\n",
    "algo.run()\n",
    "print \"What's the result ?\"\n",
    "with open(\"super.json\", 'r') as jsonfh:\n",
    "    print ''.join(jsonfh.readlines())"
   ]
  },
  {
   "cell_type": "markdown",
   "metadata": {},
   "source": [
    "## Archive the output JSON file to the mass archive\n",
    "\n",
    "For this demonstration, we will use a fake experiment ID called \"demo\"... (Note: a dedicated Resource class has been created for this demonstration purpose)."
   ]
  },
  {
   "cell_type": "code",
   "execution_count": 9,
   "metadata": {
    "collapsed": false
   },
   "outputs": [
    {
     "name": "stdout",
     "output_type": "stream",
     "text": [
      "# New output section with options :\n",
      "# Resource handler description :\n",
      "+ block        = forecast\n",
      "+ experiment   = demo@meunierlf\n",
      "+ filename     = super.json\n",
      "+ kind         = gribinfos\n",
      "+ namespace    = vortex.archive.fr\n",
      "# This command options :\n",
      "+ complete     = False\n",
      "+ loglevel     = None\n",
      "+ now          = False\n",
      "+ verbose      = True\n"
     ]
    }
   ],
   "source": [
    "rhandlers = toolbox.output(# The Resource part...\n",
    "                           kind='gribinfos',\n",
    "                           # The provider part...\n",
    "                           namespace='vortex.archive.fr',\n",
    "                           block='forecast',\n",
    "                           experiment='demo@meunierlf',\n",
    "                           # The container part\n",
    "                           filename='super.json'\n",
    "                          )"
   ]
  },
  {
   "cell_type": "code",
   "execution_count": 10,
   "metadata": {
    "collapsed": false
   },
   "outputs": [
    {
     "name": "stdout",
     "output_type": "stream",
     "text": [
      "super.json ...\n",
      "to: vortex://vortex-free.archive.fr/arpege/pearp/demo@meunierlf/20170601T1800P/forecast/gribinfos.arpege.json\n"
     ]
    },
    {
     "name": "stderr",
     "output_type": "stream",
     "text": [
      "# [2018/08/09-18:06:04][vortex.tools.net][put:0311][WARNING]: Replacing <file:~meunierlf/vortex/arpege/pearp/demo/20170601T1800P/forecast/gribinfos.arpege.json>\n"
     ]
    }
   ],
   "source": [
    "for rhandler in rhandlers:\n",
    "    print rhandler.container.filename, '...'\n",
    "    print 'to:', rhandler.location()\n",
    "    rhandler.put()"
   ]
  },
  {
   "cell_type": "markdown",
   "metadata": {},
   "source": [
    "## Some like SPAM\n",
    "\n",
    "Just send the output file by email:"
   ]
  },
  {
   "cell_type": "code",
   "execution_count": 11,
   "metadata": {
    "collapsed": false
   },
   "outputs": [
    {
     "data": {
      "text/plain": [
       "[2035]"
      ]
     },
     "execution_count": 11,
     "metadata": {},
     "output_type": "execute_result"
    }
   ],
   "source": [
    "from vortex.tools.actions import actiond as ad\n",
    "ad.mail(to='louis-francois.meunier@meteo.fr', \n",
    "        subject=\"PEARP's GRIB info file on {.resource.date!s}\".format(rhandlers[0]),\n",
    "        message='Hi,\\n\\nPlease have a look at the attached file.',\n",
    "        attachments=(rhandlers[0].container.localpath(), )\n",
    "       )"
   ]
  },
  {
   "cell_type": "markdown",
   "metadata": {},
   "source": [
    "Note: The Resource object attribute \"date\" is used to print the date in the email subject, while the Container's localpath method returns the path to the local file."
   ]
  }
 ],
 "metadata": {
  "kernelspec": {
   "display_name": "Python 3",
   "language": "python",
   "name": "python3"
  },
  "language_info": {
   "codemirror_mode": {
    "name": "ipython",
    "version": 3
   },
   "file_extension": ".py",
   "mimetype": "text/x-python",
   "name": "python",
   "nbconvert_exporter": "python",
   "pygments_lexer": "ipython3",
   "version": "3.5.2"
  }
 },
 "nbformat": 4,
 "nbformat_minor": 0
}
