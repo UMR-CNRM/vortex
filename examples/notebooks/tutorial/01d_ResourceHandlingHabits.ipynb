{
 "cells": [
  {
   "cell_type": "markdown",
   "metadata": {
    "slideshow": {
     "slide_type": "slide"
    }
   },
   "source": [
    "# “Standard” attributes of _Resource_ and _Provider_ objects"
   ]
  },
  {
   "cell_type": "markdown",
   "metadata": {
    "slideshow": {
     "slide_type": "slide"
    }
   },
   "source": [
    "Vortex initialisation"
   ]
  },
  {
   "cell_type": "code",
   "execution_count": 1,
   "metadata": {
    "collapsed": false
   },
   "outputs": [
    {
     "name": "stderr",
     "output_type": "stream",
     "text": [
      "# [2019/08/28-11:10:55][vortex.sessions][_set_rundir:0152][WARNING]: Session <root> is changing its working directory </sauvegarde/vortex-dev/vortex/examples/notebooks/tutorial>\n",
      "# [2019/08/28-11:10:55][vortex.sessions][_set_rundir:0155][INFO]: Session <root> set rundir </home/meunierlf/vortex-workdir/auto_cocoon_dmd0hm79>\n"
     ]
    },
    {
     "name": "stdout",
     "output_type": "stream",
     "text": [
      "Vortex 1.6.2 loaded ( Wednesday 28. August 2019, at 11:10:54 )\n",
      "The working directory is now: /home/meunierlf/vortex-workdir/auto_cocoon_dmd0hm79/root\n"
     ]
    },
    {
     "data": {
      "text/plain": [
       "'/home/meunierlf/vortex-workdir/auto_cocoon_dmd0hm79'"
      ]
     },
     "execution_count": 1,
     "metadata": {},
     "output_type": "execute_result"
    }
   ],
   "source": [
    "%load_ext ivortex\n",
    "%vortex tmpcocoon"
   ]
  },
  {
   "cell_type": "markdown",
   "metadata": {
    "slideshow": {
     "slide_type": "slide"
    }
   },
   "source": [
    "## Reminder of the previous example"
   ]
  },
  {
   "cell_type": "code",
   "execution_count": 2,
   "metadata": {
    "collapsed": true
   },
   "outputs": [],
   "source": [
    "# Presets\n",
    "import bronx\n",
    "toolbox.defaults(\n",
    "    date = bronx.stdtypes.date.Date('2017060118'),\n",
    "    cutoff = 'production',\n",
    "    model = 'arpege',\n",
    "    geometry = vortex.data.geometries.get(tag='euroc25'),\n",
    ")\n",
    "t.glove.vapp = 'arpege'\n",
    "t.glove.vconf = 'pearp'\n",
    "# Toolbox\n",
    "toolbox.active_verbose = False"
   ]
  },
  {
   "cell_type": "code",
   "execution_count": 3,
   "metadata": {
    "collapsed": true
   },
   "outputs": [],
   "source": [
    "# Retrieval of the resource\n",
    "rhandlers = toolbox.input(# Method/Section\n",
    "                          loglevel='warning', role='InitialCondition', intent='inout',\n",
    "                          # Resource\n",
    "                          term=3, kind='gridpoint', origin='historic', nativefmt='grib',\n",
    "                          # Provider\n",
    "                          member=2, experiment='DBLE', namespace='vortex.archive.fr',\n",
    "                          block='forecast',\n",
    "                          # Container\n",
    "                          local='GRIB_[geometry:area]_[member%04d]+[term:fmthm]', format='grib')\n",
    "rh = rhandlers[0]  # Small shortcut for the future"
   ]
  },
  {
   "cell_type": "markdown",
   "metadata": {
    "slideshow": {
     "slide_type": "slide"
    }
   },
   "source": [
    "## Autopsy of objects\n",
    "\n",
    "Let's dive in our example *resource*'s *Handler*, the “footprints” attributes of our *Resource* and *Provider* objects are: "
   ]
  },
  {
   "cell_type": "code",
   "execution_count": 4,
   "metadata": {
    "collapsed": false
   },
   "outputs": [
    {
     "data": {
      "text/plain": [
       "['clscontents',\n",
       " 'cutoff',\n",
       " 'date',\n",
       " 'filtername',\n",
       " 'geometry',\n",
       " 'kind',\n",
       " 'model',\n",
       " 'nativefmt',\n",
       " 'origin',\n",
       " 'term']"
      ]
     },
     "execution_count": 4,
     "metadata": {},
     "output_type": "execute_result"
    }
   ],
   "source": [
    "rh.resource.footprint_attributes"
   ]
  },
  {
   "cell_type": "code",
   "execution_count": 5,
   "metadata": {
    "collapsed": false
   },
   "outputs": [
    {
     "data": {
      "text/plain": [
       "['block',\n",
       " 'expected',\n",
       " 'experiment',\n",
       " 'member',\n",
       " 'namebuild',\n",
       " 'namespace',\n",
       " 'scenario',\n",
       " 'username',\n",
       " 'vapp',\n",
       " 'vconf']"
      ]
     },
     "execution_count": 5,
     "metadata": {},
     "output_type": "execute_result"
    }
   ],
   "source": [
    "rh.provider.footprint_attributes"
   ]
  },
  {
   "cell_type": "markdown",
   "metadata": {
    "slideshow": {
     "slide_type": "subslide"
    }
   },
   "source": [
    "### Standard Attributes of a _Resource_ Object: Time Dimension"
   ]
  },
  {
   "cell_type": "markdown",
   "metadata": {},
   "source": [
    "Attributes that are present when it makes sense:\n",
    "\n",
    "* **date**: the run date to which the resource is attached (this is not the validity date, which can be obtained by the *date* + *term* operation)."
   ]
  },
  {
   "cell_type": "code",
   "execution_count": 6,
   "metadata": {
    "collapsed": false
   },
   "outputs": [
    {
     "name": "stdout",
     "output_type": "stream",
     "text": [
      "<class 'bronx.stdtypes.date.Date'>\n",
      "2017-06-01T18:00:00Z\n"
     ]
    }
   ],
   "source": [
    "print(type(rh.resource.date))\n",
    "print(rh.resource.date.iso8601())  # See the Sphinx documentation for this class\n",
    "                                   # or \"help(bronx.stdtypes.date.Date)\" in an interactive shell"
   ]
  },
  {
   "cell_type": "markdown",
   "metadata": {},
   "source": [
    "* **cutoff**: of possible values, “assim” and “production”. This is a common notion in PNT, which can probably be generalised, to other domains (if only by the coupling between applications). "
   ]
  },
  {
   "cell_type": "markdown",
   "metadata": {},
   "source": [
    "* **term**: The forecast term of the data"
   ]
  },
  {
   "cell_type": "code",
   "execution_count": 7,
   "metadata": {
    "collapsed": false
   },
   "outputs": [
    {
     "name": "stdout",
     "output_type": "stream",
     "text": [
      "<class 'bronx.stdtypes.date.Time'>\n",
      "T03:00Z\n"
     ]
    }
   ],
   "source": [
    "print(type(rh.resource.term))\n",
    "print(rh.resource.term.iso8601())  # See the Sphinx documentation for this class\n",
    "                                   # or \"help(bronx.stdtypes.date.Time)\" in an interactive shell"
   ]
  },
  {
   "cell_type": "markdown",
   "metadata": {
    "slideshow": {
     "slide_type": "subslide"
    }
   },
   "source": [
    "### Standard attributes of an object _Resource_: horizontal dimension \n",
    "\n",
    "Attributes that are present when it makes sense:\n",
    "\n",
    "* **geometry** : this attribute describes the horizontal structure of the data. This attribute is important because it intervenes in the naming of the files (via the Vortex name factory)."
   ]
  },
  {
   "cell_type": "code",
   "execution_count": 8,
   "metadata": {
    "collapsed": false
   },
   "outputs": [
    {
     "name": "stdout",
     "output_type": "stream",
     "text": [
      "  Geometry <vortex.data.geometries.LonlatGeometry object at 0x7face78e1940>\n",
      "    Info       : Large european BDAP target\n",
      "    LAM        : True\n",
      "    Area       : EUROC25\n",
      "    Resolution : 2.5\n",
      "    Nlon       : 129\n",
      "    Nlat       : 105\n"
     ]
    }
   ],
   "source": [
    "print(rh.resource.geometry.idcard())"
   ]
  },
  {
   "cell_type": "markdown",
   "metadata": {},
   "source": [
    "_Geometry_ objects are defined in the **vortex.data.geometries** module: see the documentation for this module.\n",
    "\n",
    "**Important note**: Geometries must be defined before use. The default Vortex geometries are defined in the ``geometries.ini`` configuration file (a list of these geometries, based on this file, is available in the documentation under the item: “List of default geometries”). For temporary needs, a user can add custom geometries by creating a ``~/.vortexrc/geometries.ini`` file in his home directory. "
   ]
  },
  {
   "cell_type": "markdown",
   "metadata": {
    "slideshow": {
     "slide_type": "subslide"
    }
   },
   "source": [
    "### Standard attributes of a _Resource_ Object: model identification \n",
    "\n",
    "Attributes that are present when it makes sense:\n",
    "\n",
    "* **model**: this is a string of characters describing the model used (e.g. arpege, arome, hycom, surfex ...). If necessary, it is possible to add new models. You just have to mention them in the ad-hoc list ... "
   ]
  },
  {
   "cell_type": "code",
   "execution_count": 9,
   "metadata": {
    "collapsed": false
   },
   "outputs": [
    {
     "name": "stdout",
     "output_type": "stream",
     "text": [
      "{'aro', 'psy4', 'arp_court', 'ald', 'pearp', 'arome', 'mesonh', 'surfex', 'ifs', 'hycom', 'aroifs', 'arpege', 'aearp', 'mocage', 'aladin', 'safran', 'arp'}\n"
     ]
    }
   ],
   "source": [
    "print(vortex.syntax.stdattrs.models)"
   ]
  },
  {
   "cell_type": "markdown",
   "metadata": {},
   "source": [
    "### Standard attributes of a _Resource_ Object: data format \n",
    "\n",
    "* **nativefmt**: data storage format (GRIB, FA, LFI, NetCDF, ...). If necessary, it is quite possible to add new formats. You just have to mention them in the ad-hoc list ..."
   ]
  },
  {
   "cell_type": "code",
   "execution_count": 10,
   "metadata": {
    "collapsed": false
   },
   "outputs": [
    {
     "name": "stdout",
     "output_type": "stream",
     "text": [
      "{'bin', 'bullx', 'obsoul', 'autoconfig', 'png', 'ccma', 'fa', 'auto', 'bufr', 'grib1', 'nam', 'ddhpack', 'ascii', 'foo', 'json', 'netcdf', 'tar', 'rawfiles', 'ecma', 'obsfirepack', 'sx', 'lfa', 'unknown', 'pdf', 'arpifslist', 'odb', 'lfi', 'geo', 'grib', 'grib2', 'dir/hdr', 'txt', 'hdf5', 'binary', 'obslocationpack'}\n"
     ]
    }
   ],
   "source": [
    "print(vortex.syntax.stdattrs.knownfmt)"
   ]
  },
  {
   "cell_type": "markdown",
   "metadata": {
    "slideshow": {
     "slide_type": "subslide"
    }
   },
   "source": [
    "### Standard attributes of a _Provider_ Object: vapp and vconf \n",
    "\n",
    "Most providers use the **vapp** and **vconf** attributes. These attributes (strings) define the application (for example “arome”) and its configuration (for example “3dvarfr”, “pefrance”, “Indian”, ...). \n",
    "\n",
    "There is no control in the code but we must be rigorous because these two attributes are widely used to store data. To this end, a Wiki page (internal to Meteo-France) has been set up to list the different known **vapp**/**vconf**. Please update this page when new configurations are created.\n",
    "\n",
    "http://vortex.meteo.fr/vortex/doku.php/documentation:mise_en_oeuvre:vapp_vconf"
   ]
  },
  {
   "cell_type": "markdown",
   "metadata": {},
   "source": [
    "### Standard attributes of an Object _Provider_: member\n",
    "\n",
    "In the Vortex provider, the ability to manage ensembles is tightly integrated. This is why the **member** attribute is part of the attribute's list. On the other hand, it is a totally optional attribute: if a value is not supplied (which equals *None*), it is considered to be a deterministic resource."
   ]
  },
  {
   "cell_type": "markdown",
   "metadata": {
    "slideshow": {
     "slide_type": "subslide"
    }
   },
   "source": [
    "### Standard attributes of a _Provider_ object: block\n",
    "\n",
    "This is a typical attribute for Vortex and Olive providers: this is the subdirectory in which the data will be stored. The **block** provides additional flexibility in creating configurations. \n",
    "\n",
    "For example, let's imagine that a diagnostic task produces GRIB data based on the GRIB data produced by a forecast task. The two *Resource* objects will be identical because they are very similar data. On the other hand, the GRIBs resulting from the forecast will be archived in the ``forecast`` **block** whereas those resulting from the diagnostic task will be stored in ``diagnosic``. "
   ]
  },
  {
   "cell_type": "markdown",
   "metadata": {
    "slideshow": {
     "slide_type": "slide"
    }
   },
   "source": [
    "## Implications on the *Resource* class inheritance tree"
   ]
  },
  {
   "cell_type": "markdown",
   "metadata": {},
   "source": [
    "![](../images/ResourceInheritance.png)"
   ]
  },
  {
   "cell_type": "markdown",
   "metadata": {},
   "source": [
    "**Note:** the list of classes is not exhaustive. Likewise, some typical attributes are specified in italics. The list is far from being exhaustive. The convention used to represent the inheritance is that of the UML (the arrow points towards the class that one inherits from)."
   ]
  },
  {
   "cell_type": "markdown",
   "metadata": {
    "slideshow": {
     "slide_type": "notes"
    }
   },
   "source": [
    "Some explanations:\n",
    "\n",
    "* Everything that is intended to be executed inherits from the **Executable** class. At a certain level of specialisation, a *model* attribute is assigned to the *Resource*.\n",
    "* Resources that are associated with a given run date inherit from **FlowResource** and therefore have *date*, *cutoff* and *model* attributes. The **GeoFlowResource** class adds information about the horizontal structure of the data.\n",
    "* Non-date-aware resources (e.g. a constants file) typically inherit from **ModelResource** or **StaticGeoResource**. Variants of these classes exist in the case of data that can be retrieved via the *Genv* tool.\n",
    "\n",
    "When creating a new *Resource* class, you have to consider where to insert it in the inheritance tree.\n",
    "\n",
    "This inheritance structure allows for some classification of resources. However, this should not be rigidly applied. \n",
    "\n",
    "Let's take the example of a file containing the diagonal part of a background error covariance matrix (in a data assimilation context): this file generally comes from an assimilation ensemble and has a geometry so we will have to inherit from **GeoFlowResource**. Nevertheless, in very few cases, we will retrieve a climatological version of this file, which is archived by GCO: we add the *gvar* attribute to this object. In this case, the inheritance tree thus describes the most “frequent” use."
   ]
  },
  {
   "cell_type": "markdown",
   "metadata": {
    "slideshow": {
     "slide_type": "slide"
    }
   },
   "source": [
    "## A brief description of providers\n",
    "\n",
    "Many providers are implemented in Vortex. We will discuss some of them later in this document:\n",
    "\n",
    "* **Vortex**: data archived by Vortex \n",
    "* **Olive**: data archived by the “historical” Olive toolbox (i.e. Olive-Perl) \n",
    "* **Archive**: data archived by the “historical” DSI/IGA (IT Department)  operational suite (i.e. ksh suite)\n",
    "* **Genv**: constant data versioned by GCO \n",
    "* **Uenv**: constant data versioned by a \"User\" (non-official counterpart of Genv)\n",
    "\n",
    "We will not describe the following ones:\n",
    "\n",
    "* **Remote**\n",
    "* **Magic**\n",
    "* **BDPE**"
   ]
  },
  {
   "cell_type": "markdown",
   "metadata": {
    "slideshow": {
     "slide_type": "subslide"
    }
   },
   "source": [
    "### Vortex Provider\n",
    "\n",
    "Standard attributes:\n",
    "\n",
    "* **vapp**: already mentioned;\n",
    "* **vconf**: already mentioned;\n",
    "* **experiment**: the experience identifier can take three different forms: \n",
    "    * ``OPER``, ``DBLE``, ``MIRR``, ``TEST``: Vortex/DSI (IT Department) operations experiments;\n",
    "    * ``ABCD``: SWAPP/Olive-Vortex experiments (4 letter/digit identifier different from those mentioned above);\n",
    "    * ``free_form_experiment_id@username``: off operational or Olive experiments. The user who owns the experiment chooses a name (``free_form_experiment_id``). The user identifier is specified in the ``username`` field (*a priori* it is the mass-archive login) \n",
    "* **block**: storage subdirectory (required)\n",
    "* **member**: member's number in the context of ensemble prediction/assimilation systems (optional)\n",
    "* **scenario**: in the context of climate simulations (optional), scenario of concentration in greenhouse gases.\n",
    "* **namespace**: ``vortex.[cache|archive|multi].fr``\n",
    "\n",
    "According to **experiment**, **footprints** will choose the right provider class (respectively, **VortexOp**, **VortexStd** and **VortexFree**)."
   ]
  },
  {
   "cell_type": "markdown",
   "metadata": {
    "slideshow": {
     "slide_type": "subslide"
    }
   },
   "source": [
    "The idea behind Vortex is to be able to easily share data, hence the importance of the experiment attribute which allows to reach data produced by many distinct users:"
   ]
  },
  {
   "cell_type": "code",
   "execution_count": 11,
   "metadata": {
    "collapsed": false
   },
   "outputs": [
    {
     "data": {
      "text/plain": [
       "'meunierlf@hendrix.meteo.fr:/home/m/marp/marp999/vortex/arpege/pearp/A/B/C/D/20170601T1800P/sRCP4.5/mb002/forecast/grid.arpege-forecast.euroc25+0003:00.grib'"
      ]
     },
     "execution_count": 11,
     "metadata": {},
     "output_type": "execute_result"
    }
   ],
   "source": [
    "rhandlers = toolbox.input(# Method/Section\n",
    "                          loglevel='warning', role='InitialCondition', intent='inout',\n",
    "                          # Resource\n",
    "                          term=3, kind='gridpoint', origin='historic', nativefmt='grib',\n",
    "                          # Provider\n",
    "                          member=2, experiment='ABCD', namespace='vortex.archive.fr',\n",
    "                          block='forecast', scenario='RCP4.5',\n",
    "                          # Container\n",
    "                          local='GRIB_[geometry:area]_[member%04d]+[term:fmthm]', format='grib')\n",
    "rhandlers[0].locate()"
   ]
  },
  {
   "cell_type": "code",
   "execution_count": 12,
   "metadata": {
    "collapsed": false
   },
   "outputs": [
    {
     "name": "stderr",
     "output_type": "stream",
     "text": [
      "# [2019/08/28-11:10:56][vortex.data.stores][_load_config:1349][INFO]: Some store configuration data is needed (for vortex://vortex-free.archive.fr)\n",
      "# [2019/08/28-11:10:56][vortex.data.stores][_load_config:1352][INFO]: Reading config file: @store-vortex-free.ini\n",
      "# [2019/08/28-11:10:56][vortex.data.stores][_load_config:1360][INFO]: Reading config file: @store-vortex-free-hendrix.ini\n"
     ]
    },
    {
     "data": {
      "text/plain": [
       "'meunierlf@hendrix.meteo.fr:~foo/vortex/arpege/pearp/fakeXP/20170601T1800P/sRCP4.5/mb002/forecast/grid.arpege-forecast.euroc25+0003:00.grib'"
      ]
     },
     "execution_count": 12,
     "metadata": {},
     "output_type": "execute_result"
    }
   ],
   "source": [
    "rhandlers = toolbox.input(# Method/Section\n",
    "                          loglevel='warning', role='InitialCondition', intent='inout',\n",
    "                          # Resource\n",
    "                          term=3, kind='gridpoint', origin='historic', nativefmt='grib',\n",
    "                          # Provider\n",
    "                          member=2, experiment='fakeXP@foo', namespace='vortex.archive.fr',\n",
    "                          block='forecast', scenario='RCP4.5',\n",
    "                          # Container\n",
    "                          local='GRIB_[geometry:area]_[member%04d]+[term:fmthm]', format='grib')\n",
    "rhandlers[0].locate()"
   ]
  },
  {
   "cell_type": "markdown",
   "metadata": {
    "slideshow": {
     "slide_type": "slide"
    }
   },
   "source": [
    "## Olive-Perl Provider (provided by the **olive** package)\n",
    "\n",
    "Standard attributes:\n",
    "\n",
    "* **vapp**: already mentioned;\n",
    "* **vconf**: already mentioned;\n",
    "* **experiment**: the Olive-Perl experiment identifier;\n",
    "* **block**: storage subdirectory (required)\n",
    "* **member**: optional member number (this does not work for all resources);\n",
    "* **namespace**: ``olive.[cache|archive|multi].fr``"
   ]
  },
  {
   "cell_type": "code",
   "execution_count": 13,
   "metadata": {
    "collapsed": false
   },
   "outputs": [
    {
     "data": {
      "text/plain": [
       "'meunierlf@hendrix.meteo.fr:/home/m/marp/marp999/xp/A/B/C/D/20170601H18P/fc_002/forecast/GRIDHSTEUROC25+0003'"
      ]
     },
     "execution_count": 13,
     "metadata": {},
     "output_type": "execute_result"
    }
   ],
   "source": [
    "rhandlers = toolbox.input(# Method/Section\n",
    "                          loglevel='warning', role='InitialCondition', intent='inout',\n",
    "                          # Resource\n",
    "                          term=3, kind='gridpoint', origin='historic', nativefmt='grib',\n",
    "                          # Provider\n",
    "                          member=2, experiment='ABCD', namespace='olive.archive.fr',\n",
    "                          block='forecast',\n",
    "                          # Container\n",
    "                          local='GRIB_[geometry:area]_[member%04d]+[term:fmthm]', format='grib')\n",
    "rhandlers[0].locate()"
   ]
  },
  {
   "cell_type": "markdown",
   "metadata": {
    "slideshow": {
     "slide_type": "subslide"
    }
   },
   "source": [
    "## DSI (IT department)/ksh archive Provider (provided by the **olive** package)\n",
    "\n",
    "Standard attributes:\n",
    "\n",
    "* **vapp**: already mentioned;\n",
    "* **vconf**: already mentioned;\n",
    "* **suite** : ``oper``, ``dble`` or ``mirr``\n",
    "\n",
    "* **member**: optional member number (this does not work for all resources);\n",
    "* **namespace**: ``[suite].[cache|archive|multi].fr``\n",
    "* **block**: storage subdirectory (optional in the vast majority of cases)"
   ]
  },
  {
   "cell_type": "code",
   "execution_count": 14,
   "metadata": {
    "collapsed": false
   },
   "outputs": [
    {
     "data": {
      "text/plain": [
       "'meunierlf@hendrix.meteo.fr:/home/m/mxpt/mxpt001/pearp/oper/01/r18/fc_DH_2_EUROC25_0003'"
      ]
     },
     "execution_count": 14,
     "metadata": {},
     "output_type": "execute_result"
    }
   ],
   "source": [
    "rhandlers = toolbox.input(# Method/Section\n",
    "                          loglevel='warning', role='InitialCondition', intent='inout',\n",
    "                          # Resource\n",
    "                          term=3, kind='gridpoint', origin='historic', nativefmt='grib',\n",
    "                          # Provider\n",
    "                          member=2, suite='oper', namespace='[suite].archive.fr',\n",
    "                          # Container\n",
    "                          local='GRIB_[geometry:area]_[member%04d]+[term:fmthm]', format='grib')\n",
    "rhandlers[0].locate()"
   ]
  },
  {
   "cell_type": "markdown",
   "metadata": {
    "slideshow": {
     "slide_type": "subslide"
    }
   },
   "source": [
    "## Genv Provider (provided by the **gco** package)\n",
    "\n",
    "Standard attributes:\n",
    "\n",
    "* **genv** : Ncycle number in the sense of GCO (see the this afternoon Gaëlle’s presentation)\n",
    "\n",
    "NB: resources must be designed for this purpose (generally, inherit from the adhoc classe + define a **gvar** attribute) \n"
   ]
  },
  {
   "cell_type": "markdown",
   "metadata": {},
   "source": [
    "## Uenv Provider (provided by the gco package)\n",
    "\n",
    "This is an \"hackable\" *Genv* that: \n",
    "\n",
    "  * allows a user to archive/retrieve constants for non operational cycles \n",
    "  * for operational cycles, allow the user to modify the constants heavily (R&D context only)\n",
    "\n",
    "The attributes are the same as those of _genv_ but the “shape” of the cycle identifier is very different (the idea is that the transition from _Uenv_ to _Genv_ is as transparent as possible). \n"
   ]
  },
  {
   "cell_type": "code",
   "execution_count": 15,
   "metadata": {
    "collapsed": false,
    "slideshow": {
     "slide_type": "subslide"
    }
   },
   "outputs": [
    {
     "name": "stdout",
     "output_type": "stream",
     "text": [
      "/home/meunierlf/.vortexrc/hack/uget/ugetdemo/data/demo.constant.01;/home/meunierlf/cache/uget/ugetdemo/data/demo.constant.01;meunierlf@hendrix.meteo.fr:~meunierlf/ugetdemo/uget/data/a/demo.constant.01\n"
     ]
    }
   ],
   "source": [
    "import common\n",
    "class MyDemoResource(common.data.consts.GenvModelResource):\n",
    "    _footprint = dict(\n",
    "        info = 'Demo constant file',\n",
    "        attr = dict(kind = dict(values  = [ 'democst' ]),\n",
    "                    gvar = dict(default = 'demo_cstfile'), )\n",
    "    )\n",
    "\n",
    "    @property\n",
    "    def realkind(self):\n",
    "        return 'democst'\n",
    "\n",
    "\n",
    "rh_uenv= toolbox.input(role='DemoConstant',\n",
    "                       model='arpege', kind='democst',\n",
    "                       genv='uenv:cy00_demo.01@ugetdemo',\n",
    "                       local='the_demo_cst')\n",
    "# Temporarily decrease the logging level\n",
    "with bronx.fancies.loggers.contextboundGlobalLevel('WARNING'):\n",
    "    print(rh_uenv[0].locate())"
   ]
  },
  {
   "cell_type": "markdown",
   "metadata": {
    "collapsed": true,
    "slideshow": {
     "slide_type": "slide"
    }
   },
   "source": [
    "\n",
    "Any questions: *vortex.support@meteo.fr*"
   ]
  }
 ],
 "metadata": {
  "celltoolbar": "Slideshow",
  "kernelspec": {
   "display_name": "Python 3",
   "language": "python",
   "name": "python3"
  },
  "language_info": {
   "codemirror_mode": {
    "name": "ipython",
    "version": 3
   },
   "file_extension": ".py",
   "mimetype": "text/x-python",
   "name": "python",
   "nbconvert_exporter": "python",
   "pygments_lexer": "ipython3",
   "version": "3.5.3"
  }
 },
 "nbformat": 4,
 "nbformat_minor": 1
}
