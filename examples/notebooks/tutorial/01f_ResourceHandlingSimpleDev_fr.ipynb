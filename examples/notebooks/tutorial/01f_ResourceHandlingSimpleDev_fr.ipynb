{
 "cells": [
  {
   "cell_type": "markdown",
   "metadata": {
    "slideshow": {
     "slide_type": "slide"
    }
   },
   "source": [
    "# Création de nouvelles ressources"
   ]
  },
  {
   "cell_type": "markdown",
   "metadata": {
    "slideshow": {
     "slide_type": "slide"
    }
   },
   "source": [
    "Initialisation de Vortex"
   ]
  },
  {
   "cell_type": "code",
   "execution_count": 1,
   "metadata": {
    "collapsed": false
   },
   "outputs": [
    {
     "name": "stdout",
     "output_type": "stream",
     "text": [
      "Vortex 1.6.0 loaded ( Thursday 24. January 2019, at 15:41:56 )\n"
     ]
    }
   ],
   "source": [
    "%load_ext ivortex\n",
    "%vortex\n",
    "toolbox.active_verbose = False\n",
    "toolbox.active_now = False"
   ]
  },
  {
   "cell_type": "markdown",
   "metadata": {
    "slideshow": {
     "slide_type": "slide"
    }
   },
   "source": [
    "## Création d'une ressource pour un usage via le *provider* *Vortex*\n",
    "\n",
    "Cette ressource doit :\n",
    "\n",
    "* Etre décrite par des attributs *kind*, *model*, *date*, *cutoff*, *number* et *scope*\n",
    "* L'attribut *scope* ne pourra prendre comme valeurs que ``surface`` ou ``altitude``\n",
    "\n",
    "Plusieurs versions de cette nouvelle ressource seront créées pour les besoins du cours (afin de décrire les différentes manières de procéder) : dans la réalité, il ne faudrait créer qu'une seule classe."
   ]
  },
  {
   "cell_type": "markdown",
   "metadata": {
    "slideshow": {
     "slide_type": "subslide"
    }
   },
   "source": [
    "### Modèle de programation \"classique\""
   ]
  },
  {
   "cell_type": "code",
   "execution_count": 2,
   "metadata": {
    "collapsed": false,
    "slideshow": {
     "slide_type": "-"
    }
   },
   "outputs": [],
   "source": [
    "from vortex.data.flow import FlowResource\n",
    "from vortex.syntax.stdattrs import number_deco\n",
    "\n",
    "class DemoResource1(FlowResource):\n",
    "\n",
    "    _footprint = [\n",
    "        number_deco,\n",
    "        dict(info = 'Description 1',\n",
    "             attr = dict(\n",
    "                kind = dict(values = ['demo1']),\n",
    "                scope = dict(info = 'Scope description',\n",
    "                             values = ['surface', 'altitude'])))\n",
    "    ]\n",
    "    \n",
    "    @property\n",
    "    def realkind(self):\n",
    "        return 'demo'\n",
    "    \n",
    "    def namebuilding_info(self):\n",
    "        \"\"\"On ajoute l'attribut *scope*.\"\"\"\n",
    "        bdict = super(DemoResource1, self).namebuilding_info()\n",
    "        bdict['src'].append(self.scope)\n",
    "        return bdict"
   ]
  },
  {
   "cell_type": "markdown",
   "metadata": {
    "slideshow": {
     "slide_type": "-"
    }
   },
   "source": [
    "Ici, la méthode **namebuilding_info** est redéfinie manuellement. En revanche, on tire bien profit de l'héritage (**FlowResource** fournis les attributs *model*, *date* et *cutoff*) et des attributs footprints pré-définis (``number_deco`` fourni l'attribut *number*)"
   ]
  },
  {
   "cell_type": "markdown",
   "metadata": {
    "slideshow": {
     "slide_type": "subslide"
    }
   },
   "source": [
    "Testons le résultat :"
   ]
  },
  {
   "cell_type": "code",
   "execution_count": 3,
   "metadata": {
    "collapsed": false
   },
   "outputs": [
    {
     "data": {
      "text/plain": [
       "'vortex://vortex.cache.fr/arpege/4dvarfr/ABCD/20190101T0000A/anyblock/demo.arpege-altitude.005.grib'"
      ]
     },
     "execution_count": 3,
     "metadata": {},
     "output_type": "execute_result"
    }
   ],
   "source": [
    "rtest = toolbox.input(date='2019010100', cutoff='assim', model='arpege',\n",
    "                      kind='demo1', number=5, scope='altitude', nativefmt='grib',\n",
    "                      # Provider + Container :\n",
    "                      experiment='ABCD', block='anyblock', namespace='vortex.cache.fr',\n",
    "                      vapp='arpege', vconf='4dvarfr', incore=True)\n",
    "rtest[0].location()"
   ]
  },
  {
   "cell_type": "markdown",
   "metadata": {
    "slideshow": {
     "slide_type": "subslide"
    }
   },
   "source": [
    "### Utilisation d'un décorateur"
   ]
  },
  {
   "cell_type": "code",
   "execution_count": 4,
   "metadata": {
    "collapsed": true
   },
   "outputs": [],
   "source": [
    "from vortex.data.flow import FlowResource\n",
    "from vortex.syntax.stdattrs import number_deco\n",
    "from vortex.syntax.stddeco import namebuilding_append\n",
    "\n",
    "@namebuilding_append('src', lambda self: self.scope)\n",
    "class DemoResource2(FlowResource):\n",
    "\n",
    "    _footprint = [\n",
    "        number_deco,\n",
    "        dict(info = 'Description 2',\n",
    "             attr = dict(\n",
    "                kind = dict(values = ['demo2']),\n",
    "                scope = dict(info = 'Scope description',\n",
    "                             values = ['surface', 'altitude'])))\n",
    "    ]\n",
    "    \n",
    "    @property\n",
    "    def realkind(self):\n",
    "        return 'demo'"
   ]
  },
  {
   "cell_type": "markdown",
   "metadata": {},
   "source": [
    "Ici, c'est le décorateur de classe ``namebuilding_append`` qui se charge d'ajouter l'attribut *scope* dans les entrées du dictionnaire renvoyé par **namebuilding_info**..."
   ]
  },
  {
   "cell_type": "markdown",
   "metadata": {
    "slideshow": {
     "slide_type": "subslide"
    }
   },
   "source": [
    "Testons le résultat :"
   ]
  },
  {
   "cell_type": "code",
   "execution_count": 5,
   "metadata": {
    "collapsed": false
   },
   "outputs": [
    {
     "data": {
      "text/plain": [
       "'vortex://vortex.cache.fr/arpege/4dvarfr/ABCD/20190101T0000A/anyblock/demo.arpege-altitude.005.grib'"
      ]
     },
     "execution_count": 5,
     "metadata": {},
     "output_type": "execute_result"
    }
   ],
   "source": [
    "rtest = toolbox.input(date='2019010100', cutoff='assim', model='arpege',\n",
    "                      kind='demo2', number=5, scope='altitude', nativefmt='grib',\n",
    "                      # Provider + Container :\n",
    "                      experiment='ABCD', block='anyblock', namespace='vortex.cache.fr',\n",
    "                      vapp='arpege', vconf='4dvarfr', incore=True)\n",
    "rtest[0].location()"
   ]
  },
  {
   "cell_type": "markdown",
   "metadata": {
    "slideshow": {
     "slide_type": "subslide"
    }
   },
   "source": [
    "### Création d'un attribut pré-défini"
   ]
  },
  {
   "cell_type": "code",
   "execution_count": 6,
   "metadata": {
    "collapsed": false
   },
   "outputs": [],
   "source": [
    "from vortex.data.flow import FlowResource\n",
    "from vortex.syntax.stdattrs import number_deco\n",
    "from vortex.syntax.stddeco import namebuilding_append\n",
    "\n",
    "demoscope = fp.Footprint(info = 'Abstract Scope',\n",
    "                         attr = dict(scope = dict(info = 'Scope description',\n",
    "                                                 values = ['surface', 'altitude'])))\n",
    "\n",
    "demoscope_deco = fp.DecorativeFootprint(\n",
    "    demoscope,\n",
    "    decorator = [namebuilding_append('src', lambda self: self.scope), ])\n",
    "\n",
    "class DemoResource3(FlowResource):\n",
    "\n",
    "    _footprint = [\n",
    "        number_deco,\n",
    "        demoscope_deco,\n",
    "        dict(info = 'Description 3',\n",
    "             attr = dict(kind = dict(values = ['demo3'])))\n",
    "    ]\n",
    "    \n",
    "    @property\n",
    "    def realkind(self):\n",
    "        return 'demo'"
   ]
  },
  {
   "cell_type": "markdown",
   "metadata": {},
   "source": [
    "On défini un attribut prédéfini pour *scope* (objet ``demoscope``) et on l'associe à un décorateur de classe (objet ``demoscope_deco``). Si l'attribut, *scope* a des chances d'être utilisé dans d'autres ressources, cette stratégie peut être rentable."
   ]
  },
  {
   "cell_type": "markdown",
   "metadata": {
    "slideshow": {
     "slide_type": "subslide"
    }
   },
   "source": [
    "Testons le résultat :"
   ]
  },
  {
   "cell_type": "code",
   "execution_count": 7,
   "metadata": {
    "collapsed": false
   },
   "outputs": [
    {
     "data": {
      "text/plain": [
       "'vortex://vortex.cache.fr/arpege/4dvarfr/ABCD/20190101T0000A/anyblock/demo.arpege-altitude.005.grib'"
      ]
     },
     "execution_count": 7,
     "metadata": {},
     "output_type": "execute_result"
    }
   ],
   "source": [
    "rtest = toolbox.input(date='2019010100', cutoff='assim', model='arpege',\n",
    "                      kind='demo3', number=5, scope='altitude', nativefmt='grib',\n",
    "                      # Provider + Container :\n",
    "                      experiment='ABCD', block='anyblock', namespace='vortex.cache.fr',\n",
    "                      vapp='arpege', vconf='4dvarfr', incore=True)\n",
    "rtest[0].location()"
   ]
  },
  {
   "cell_type": "markdown",
   "metadata": {
    "slideshow": {
     "slide_type": "slide"
    }
   },
   "source": [
    "# Extension de l'exemple précédent pour le *provider* Olive"
   ]
  },
  {
   "cell_type": "code",
   "execution_count": 8,
   "metadata": {
    "collapsed": false
   },
   "outputs": [],
   "source": [
    "from vortex.data.flow import FlowResource\n",
    "from vortex.syntax.stdattrs import number_deco\n",
    "# demoscope_deco (défini plus haut est ici réutilisé)\n",
    "\n",
    "class DemoResource4(FlowResource):\n",
    "\n",
    "    _footprint = [\n",
    "        number_deco,\n",
    "        demoscope_deco,\n",
    "        dict(info = 'Description 4',\n",
    "             attr = dict(kind = dict(values = ['demo4'])))\n",
    "    ]\n",
    "    \n",
    "    @property\n",
    "    def realkind(self):\n",
    "        return 'demo'\n",
    "    \n",
    "    def olive_basename(self):\n",
    "        return '{0.realkind:s}{0.scope:s}{0.number:04d}'.format(self).upper()"
   ]
  },
  {
   "cell_type": "markdown",
   "metadata": {
    "slideshow": {
     "slide_type": "subslide"
    }
   },
   "source": [
    "Testons le résultat :"
   ]
  },
  {
   "cell_type": "code",
   "execution_count": 9,
   "metadata": {
    "collapsed": false
   },
   "outputs": [
    {
     "data": {
      "text/plain": [
       "'olive://olive.cache.fr/ABCD/20190101H00A/anyblock/DEMOALTITUDE0005'"
      ]
     },
     "execution_count": 9,
     "metadata": {},
     "output_type": "execute_result"
    }
   ],
   "source": [
    "rtest = toolbox.input(date='2019010100', cutoff='assim', model='arpege',\n",
    "                      kind='demo4', number=5, scope='altitude', nativefmt='grib',\n",
    "                      # Provider + Container :\n",
    "                      experiment='ABCD', block='anyblock', namespace='olive.cache.fr',\n",
    "                      vapp='arpege', vconf='4dvarfr', incore=True)\n",
    "rtest[0].location()"
   ]
  },
  {
   "cell_type": "markdown",
   "metadata": {},
   "source": [
    "Cela fonctionne encore avec Vortex..."
   ]
  },
  {
   "cell_type": "code",
   "execution_count": 10,
   "metadata": {
    "collapsed": false
   },
   "outputs": [
    {
     "data": {
      "text/plain": [
       "'vortex://vortex.cache.fr/arpege/4dvarfr/ABCD/20190101T0000A/anyblock/demo.arpege-altitude.005.grib'"
      ]
     },
     "execution_count": 10,
     "metadata": {},
     "output_type": "execute_result"
    }
   ],
   "source": [
    "rtest = toolbox.input(date='2019010100', cutoff='assim', model='arpege',\n",
    "                      kind='demo4', number=5, scope='altitude', nativefmt='grib',\n",
    "                      # Provider + Container :\n",
    "                      experiment='ABCD', block='anyblock', namespace='vortex.cache.fr',\n",
    "                      vapp='arpege', vconf='4dvarfr', incore=True)\n",
    "rtest[0].location()"
   ]
  },
  {
   "cell_type": "markdown",
   "metadata": {
    "slideshow": {
     "slide_type": "slide"
    }
   },
   "source": [
    "# Définition d'une constante (récupérable via genv)"
   ]
  },
  {
   "cell_type": "markdown",
   "metadata": {},
   "source": [
    "La ressource en question sera référencée dans Genv par la clé 'DEMOFILE' "
   ]
  },
  {
   "cell_type": "code",
   "execution_count": 11,
   "metadata": {
    "collapsed": true
   },
   "outputs": [],
   "source": [
    "from common.data.consts import GenvModelResource\n",
    "\n",
    "class DemoConstante1(GenvModelResource):\n",
    "\n",
    "    _footprint = dict(info = 'Constante 1',\n",
    "                      attr = dict(kind = dict(values = ['ma_constante1']),\n",
    "                                  gvar = dict(default = 'DEMOFILE')))\n",
    "    \n",
    "    @property\n",
    "    def realkind(self):\n",
    "        return 'democonstante'"
   ]
  },
  {
   "cell_type": "markdown",
   "metadata": {
    "slideshow": {
     "slide_type": "subslide"
    }
   },
   "source": [
    "Préparons le test :"
   ]
  },
  {
   "cell_type": "code",
   "execution_count": 12,
   "metadata": {
    "collapsed": false
   },
   "outputs": [
    {
     "data": {
      "text/plain": [
       "<vortex.tools.env.Environment at 0x7fdfe5557470>"
      ]
     },
     "execution_count": 12,
     "metadata": {},
     "output_type": "execute_result"
    }
   ],
   "source": [
    "# Dans la vraie vie, cela sera fait automatique par Olive ou le système de création de jobs\n",
    "from gco.tools import genv\n",
    "genv.register(cycle='test_cycle.01',\n",
    "              DEMOFILE='the_test_constant.01')"
   ]
  },
  {
   "cell_type": "markdown",
   "metadata": {},
   "source": [
    "Le test à proprement parler :"
   ]
  },
  {
   "cell_type": "code",
   "execution_count": 13,
   "metadata": {
    "collapsed": false
   },
   "outputs": [
    {
     "data": {
      "text/plain": [
       "'gget://gco.meteo.fr/tampon/the_test_constant.01'"
      ]
     },
     "execution_count": 13,
     "metadata": {},
     "output_type": "execute_result"
    }
   ],
   "source": [
    "rtest = toolbox.input(model='arpege', kind='ma_constante1',\n",
    "                      # Provider + Container :\n",
    "                      genv = 'test_cycle.01', incore=True)\n",
    "rtest[0].location()"
   ]
  },
  {
   "cell_type": "markdown",
   "metadata": {
    "slideshow": {
     "slide_type": "subslide"
    }
   },
   "source": [
    "## Et si cette constante est mensuelle ?\n",
    "\n",
    "ou, le retour de l'attribut prédéfini..."
   ]
  },
  {
   "cell_type": "code",
   "execution_count": 14,
   "metadata": {
    "collapsed": true
   },
   "outputs": [],
   "source": [
    "from vortex.syntax.stdattrs import month_deco\n",
    "from common.data.consts import GenvModelResource\n",
    "\n",
    "class DemoConstante2(GenvModelResource):\n",
    "\n",
    "    _footprint = [month_deco,\n",
    "                  dict(info = 'Constante 2',\n",
    "                       attr = dict(kind = dict(values = ['ma_constante2']),\n",
    "                                   gvar = dict(default = 'DEMOFILE')))\n",
    "                 ]\n",
    "    \n",
    "    @property\n",
    "    def realkind(self):\n",
    "        return 'democonstante'"
   ]
  },
  {
   "cell_type": "markdown",
   "metadata": {
    "slideshow": {
     "slide_type": "subslide"
    }
   },
   "source": [
    "Testons le résultat :"
   ]
  },
  {
   "cell_type": "code",
   "execution_count": 15,
   "metadata": {
    "collapsed": false
   },
   "outputs": [
    {
     "data": {
      "text/plain": [
       "'gget://gco.meteo.fr/tampon/the_test_constant.01.m03'"
      ]
     },
     "execution_count": 15,
     "metadata": {},
     "output_type": "execute_result"
    }
   ],
   "source": [
    "rtest = toolbox.input(model='arpege', kind='ma_constante2', month=3,\n",
    "                      # Provider + Container :\n",
    "                      genv = 'test_cycle.01', incore=True)\n",
    "rtest[0].location()"
   ]
  },
  {
   "cell_type": "markdown",
   "metadata": {
    "slideshow": {
     "slide_type": "skip"
    }
   },
   "source": [
    "Si l'on va regarder la définition de l'attribut pré-défini *month_deco*, on s'aperçoit que celui-ci est associé à un décorateur de classe qui altère le contenu de la méthode **gget_basename** : c'est ce qui explique l'apparition du '.m03' dans l'URI."
   ]
  }
 ],
 "metadata": {
  "celltoolbar": "Slideshow",
  "kernelspec": {
   "display_name": "Python 3",
   "language": "python",
   "name": "python3"
  },
  "language_info": {
   "codemirror_mode": {
    "name": "ipython",
    "version": 3
   },
   "file_extension": ".py",
   "mimetype": "text/x-python",
   "name": "python",
   "nbconvert_exporter": "python",
   "pygments_lexer": "ipython3",
   "version": "3.5.3"
  }
 },
 "nbformat": 4,
 "nbformat_minor": 0
}
