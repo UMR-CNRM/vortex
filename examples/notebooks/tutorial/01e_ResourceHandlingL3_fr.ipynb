{
 "cells": [
  {
   "cell_type": "markdown",
   "metadata": {
    "slideshow": {
     "slide_type": "slide"
    }
   },
   "source": [
    "# Manipulation de ressources: Fonctionnement détaillé"
   ]
  },
  {
   "cell_type": "markdown",
   "metadata": {
    "slideshow": {
     "slide_type": "slide"
    }
   },
   "source": [
    "Initialisation de vortex..."
   ]
  },
  {
   "cell_type": "code",
   "execution_count": 1,
   "metadata": {
    "collapsed": false,
    "slideshow": {
     "slide_type": "-"
    }
   },
   "outputs": [
    {
     "name": "stderr",
     "output_type": "stream",
     "text": [
      "# [2019/01/24-14:03:21][vortex.sessions][_set_rundir:0152][WARNING]: Session <root> is changing its working directory </sauvegarde/stage-vortex/presentation/nb>\n",
      "# [2019/01/24-14:03:21][vortex.sessions][_set_rundir:0155][INFO]: Session <root> set rundir </home/meunierlf/vortex-workdir/auto_cocoon_rd2b17h3>\n"
     ]
    },
    {
     "name": "stdout",
     "output_type": "stream",
     "text": [
      "Vortex 1.6.0 loaded ( Thursday 24. January 2019, at 14:03:19 )\n",
      "The working directory is now: /home/meunierlf/vortex-workdir/auto_cocoon_rd2b17h3/root\n"
     ]
    }
   ],
   "source": [
    "%load_ext ivortex\n",
    "%vortex tmpcocoon\n",
    "from bronx.stdtypes import date as bdate"
   ]
  },
  {
   "cell_type": "markdown",
   "metadata": {
    "slideshow": {
     "slide_type": "slide"
    }
   },
   "source": [
    "## Exemple précédemment utilisé..."
   ]
  },
  {
   "cell_type": "code",
   "execution_count": 2,
   "metadata": {
    "collapsed": true
   },
   "outputs": [],
   "source": [
    "# Préréglages\n",
    "toolbox.defaults(\n",
    "    date = vortex.tools.date.Date('2017060118'),\n",
    "    cutoff = 'production',\n",
    "    model = 'arpege',\n",
    "    geometry = vortex.data.geometries.get(tag='euroc25'),\n",
    ")\n",
    "t.glove.vapp = 'arpege'\n",
    "t.glove.vconf = 'pearp'  # En l'état de nos connaissances, je ne peux expliquer cela...\n",
    "# Toolbox\n",
    "toolbox.active_now = True\n",
    "toolbox.active_verbose = False"
   ]
  },
  {
   "cell_type": "code",
   "execution_count": 3,
   "metadata": {
    "collapsed": false
   },
   "outputs": [
    {
     "name": "stdout",
     "output_type": "stream",
     "text": [
      "GRIB_EUROC25_0002+0003:00\r\n"
     ]
    },
    {
     "data": {
      "text/plain": [
       "True"
      ]
     },
     "execution_count": 3,
     "metadata": {},
     "output_type": "execute_result"
    }
   ],
   "source": [
    "# Récupération de la ressource\n",
    "rhandlers = toolbox.input(# Method/Section\n",
    "                          loglevel='warning', role='InitialCondition', intent='inout',\n",
    "                          # Resource\n",
    "                          term=3, kind='gridpoint', origin='historic', nativefmt='grib',\n",
    "                          # Provider\n",
    "                          member=2, experiment='DBLE', namespace='vortex.archive.fr',\n",
    "                          block='forecast',\n",
    "                          # Container\n",
    "                          local='GRIB_[geometry:area]_[member%04d]+[term:fmthm]', format='grib')\n",
    "rh = rhandlers[0]  # Petit raccourci pour la suite\n",
    "%ls\n",
    "rh.clear()"
   ]
  },
  {
   "cell_type": "markdown",
   "metadata": {
    "slideshow": {
     "slide_type": "slide"
    }
   },
   "source": [
    "## Récupération d'une ressource \"à la main\"\n",
    "\n",
    "Comme vu précédemment, la méthode **get** du resource's *Handler* se charge de la récupération des données. Dans la suite de ce document, dans un but pédagogique, nous allons reproduire manuellement les différentes étapes qui aboutissent à la récupération d'une donnée."
   ]
  },
  {
   "cell_type": "markdown",
   "metadata": {
    "slideshow": {
     "slide_type": "subslide"
    }
   },
   "source": [
    "### 1. Génération d'une URI à partir des objets Resource et Provider..."
   ]
  },
  {
   "cell_type": "code",
   "execution_count": 4,
   "metadata": {
    "collapsed": false,
    "slideshow": {
     "slide_type": "-"
    }
   },
   "outputs": [
    {
     "name": "stdout",
     "output_type": "stream",
     "text": [
      "vortex://vsop.archive.fr/arpege/pearp/DBLE/20170601T1800P/mb002/forecast/grid.arpege-forecast.euroc25+0003:00.grib\n",
      "  Scheme: vortex\n",
      "  Netloc: vsop.archive.fr\n",
      "  Path: /arpege/pearp/DBLE/20170601T1800P/mb002/forecast/grid.arpege-forecast.euroc25+0003:00.grib\n",
      "  Query: {}\n",
      "\n"
     ]
    }
   ],
   "source": [
    "uri = rh.location()  # Plus loin dans la présentation, nous détaillerons cela.\n",
    "print(uri)\n",
    "p_uri = vortex.tools.net.uriparse(uri)\n",
    "print('  Scheme: {}\\n  Netloc: {}\\n  Path: {}\\n  Query: {}\\n'.\n",
    "      format(p_uri['scheme'], p_uri['netloc'], p_uri['path'], p_uri['query']))"
   ]
  },
  {
   "cell_type": "markdown",
   "metadata": {
    "slideshow": {
     "slide_type": "fragment"
    }
   },
   "source": [
    "L'URI contient toutes les informations nécessaires à la récupération des données. C'est le rôle des objets *Store* de récupérer effectivement ces données à partir des informations contenues dans l'URI."
   ]
  },
  {
   "cell_type": "markdown",
   "metadata": {
    "slideshow": {
     "slide_type": "subslide"
    }
   },
   "source": [
    "### 2. Création de l'objet Store à même de gérer cette demande..."
   ]
  },
  {
   "cell_type": "code",
   "execution_count": 5,
   "metadata": {
    "collapsed": false,
    "slideshow": {
     "slide_type": "-"
    }
   },
   "outputs": [
    {
     "name": "stdout",
     "output_type": "stream",
     "text": [
      "vortex\n",
      "vsop.archive.fr\n"
     ]
    }
   ],
   "source": [
    "rh_store = fp.proxy.store(scheme=p_uri['scheme'], netloc=p_uri['netloc'])\n",
    "    # Note: si elles sont présentes dans l'objet Handler, toutes les options commencant par\n",
    "    # \"stor\" sont passées à **footprints** lors de la création du store.\n",
    "print(rh_store.scheme)\n",
    "print(rh_store.netloc)"
   ]
  },
  {
   "cell_type": "markdown",
   "metadata": {},
   "source": [
    "Les stores héritant de *ArchiveStore* ont quelques options intéressantes (pour les autres Stores ces options seront ignorées) :\n",
    "\n",
    "* *storage* : Nom de la machine cible pour l'archivage (``hendrix.meteo.fr`` par défault)\n",
    "* *storehash* : Lors de l'archivage, création d'une somme de contôle (en utilisant l'algorithme précisé en argument : voir **vortex.util.hash**). Lors de la récupération d'une ressource, vérification de la somme.\n",
    "* *store_compressed* : Lors de l'archivage, compression des données à la volée (en utilisant l'algorithme précisé en argument : voir **vortex.tools.compression**). Lors de la récupération d'une ressource, décompression à la volée."
   ]
  },
  {
   "cell_type": "markdown",
   "metadata": {
    "slideshow": {
     "slide_type": "subslide"
    }
   },
   "source": [
    "### 3. Récupération des données à proprement parler"
   ]
  },
  {
   "cell_type": "code",
   "execution_count": 6,
   "metadata": {
    "collapsed": false
   },
   "outputs": [
    {
     "name": "stdout",
     "output_type": "stream",
     "text": [
      "URI's path: /arpege/pearp/DBLE/20170601T1800P/mb002/forecast/grid.arpege-forecast.euroc25+0003:00.grib\n",
      "Physical location: meunierlf@hendrix.meteo.fr:/home/m/mxpt/mxpt001/vortex/arpege/pearp/DBLE/2017/06/01/T1800P/mb002/forecast/grid.arpege-forecast.euroc25+0003:00.grib\n",
      "Local destination: GRIB_EUROC25_0002+0003:00\n"
     ]
    }
   ],
   "source": [
    "print(\"URI's path:\", p_uri['path'])\n",
    "print(\"Physical location:\", rh_store.locate(p_uri))\n",
    "print(\"Local destination:\", rh.container.iotarget())"
   ]
  },
  {
   "cell_type": "code",
   "execution_count": 7,
   "metadata": {
    "collapsed": false,
    "slideshow": {
     "slide_type": "-"
    }
   },
   "outputs": [
    {
     "name": "stderr",
     "output_type": "stream",
     "text": [
      "# [2019/01/24-14:03:22][vortex.data.stores][inarchiveget:1199][INFO]: inarchiveget on vortex://vsop.archive.fr//home/m/mxpt/mxpt001/vortex/arpege/pearp/DBLE/2017/06/01/T1800P/mb002/forecast/grid.arpege-forecast.euroc25+0003:00.grib (to: GRIB_EUROC25_0002+0003:00)\n",
      "# [2019/01/24-14:03:22][vortex.tools.storage][_ftpretrieve:0690][INFO]: ftpget on ftp://hendrix.meteo.fr//home/m/mxpt/mxpt001/vortex/arpege/pearp/DBLE/2017/06/01/T1800P/mb002/forecast/grid.arpege-forecast.euroc25+0003:00.grib (to: GRIB_EUROC25_0002+0003:00)\n",
      "# [2019/01/24-14:03:22][vortex.tools.net][get:0266][INFO]: FTP <get:/home/m/mxpt/mxpt001/vortex/arpege/pearp/DBLE/2017/06/01/T1800P/mb002/forecast/grid.arpege-forecast.euroc25+0003:00.grib>\n"
     ]
    },
    {
     "name": "stdout",
     "output_type": "stream",
     "text": [
      "GRIB_EUROC25_0002+0003:00\r\n"
     ]
    }
   ],
   "source": [
    "rh_store.get(p_uri, rh.container.iotarget(), options=dict(intent='inout', fmt='grib'))\n",
    "%ls"
   ]
  },
  {
   "cell_type": "code",
   "execution_count": 8,
   "metadata": {
    "collapsed": false,
    "slideshow": {
     "slide_type": "skip"
    }
   },
   "outputs": [
    {
     "data": {
      "text/plain": [
       "True"
      ]
     },
     "execution_count": 8,
     "metadata": {},
     "output_type": "execute_result"
    }
   ],
   "source": [
    "rh.clear()  # Nettoyage pour la suite de la démo..."
   ]
  },
  {
   "cell_type": "markdown",
   "metadata": {
    "slideshow": {
     "slide_type": "subslide"
    }
   },
   "source": [
    "### Résumé\n",
    "\n",
    "Les étapes vues précédemment, sont cachées dans la méthode **get** du resource's *Handler* :\n",
    "\n",
    "* En pratique, la détermination de l'URI et la création du *Store* sont déléguées à la méthode \n",
    "  **location** et à la *property* **store**  du resource's *Handler*.\n",
    "* L'appel à la méthode **get** du *Store* (avec les différentes options nécessaires) se fait au sein de la méthode **get** du resource's *Handler*.\n",
    "* En réalité, le code de la méthode **get** du resource's *Handler* fait un peu plus de choses \n",
    "  notamment du fait de fonctionnalités que nous n'avons pas encore abordées (*insitu*, *hooks*, \n",
    "  vérification des métadonnées, *Contents*, ...) ; néanmoins, le plus important est ce qui a été évoqué dans les diapos précédentes...\n",
    "\n",
    "Tout cela est transposable aux autres méthodes du resource's *Handler* que sont **check** (vérification de la présence d'une donnée dans le *Store*), **locate** (emplacement physique des données), **put** (envoi d'une donnée vers le *Store*) et **delete** (effacement d'une donnée dans le *Store*). Dans tous les cas, on génère l'URI, on crée le *Store*, on appelle la méthode du *Store* qui correspond."
   ]
  },
  {
   "cell_type": "markdown",
   "metadata": {
    "slideshow": {
     "slide_type": "subslide"
    }
   },
   "source": [
    "### Quelques remarques sur le rôle des différents objets\n",
    "\n",
    "* *Resource* + *Provider* : génération de l'URI qui est caractéristique de ce couple. \n",
    "  Idéalement, l'URI doit contenir des informations sur l'ensemble des attributs des objets\n",
    "  *Resource* et *Provider* afin d'éviter toute confusion.\n",
    "* resource's *Handler* : Rôle de facilitateur uniquement. Il n'influence pas le contenu de \n",
    "  l'URI ni l'endroit où la donnée sera physiquement stockée.\n",
    "* *Store* : Traduction de l'URI en emplacement physique réel. Les actions réalisées par le \n",
    "  *Store* ne dépendent que de l'URI (en particulier, on ne s'amuse pas à inspecter le nom\n",
    "  du fichier pour retrouver quelle est la ressource correspondante)."
   ]
  },
  {
   "cell_type": "markdown",
   "metadata": {
    "slideshow": {
     "slide_type": "slide"
    }
   },
   "source": [
    "## Détails sur la génération de l'URI\n",
    "\n",
    "L'URI est générée par la méthode **location** du resource's *Handler*. Cette méthode délègue en fait le travail à la méthode **uri** du *Provider* à laquelle on passe la *Resource* en argument:"
   ]
  },
  {
   "cell_type": "code",
   "execution_count": 9,
   "metadata": {
    "collapsed": false
   },
   "outputs": [
    {
     "name": "stdout",
     "output_type": "stream",
     "text": [
      "vortex://vsop.archive.fr/arpege/pearp/DBLE/20170601T1800P/mb002/forecast/grid.arpege-forecast.euroc25+0003:00.grib\n",
      "vortex://vsop.archive.fr/arpege/pearp/DBLE/20170601T1800P/mb002/forecast/grid.arpege-forecast.euroc25+0003:00.grib\n"
     ]
    }
   ],
   "source": [
    "print(rh.location())\n",
    "print(rh.provider.uri(rh.resource))"
   ]
  },
  {
   "cell_type": "markdown",
   "metadata": {},
   "source": [
    "C'est donc bien le *Provider* qui fait le travail avec l'aide de la *Resource*. En pratique, la méthode **uri** ne fait pas grand chose sinon appeler d'autres méthodes qui se chargeront de construire l'URI morceau par morceau :"
   ]
  },
  {
   "cell_type": "code",
   "execution_count": 10,
   "metadata": {
    "collapsed": false
   },
   "outputs": [
    {
     "name": "stdout",
     "output_type": "stream",
     "text": [
      "  Scheme: vortex\n",
      "  Netloc: vsop.archive.fr\n",
      "  Path: arpege/pearp/DBLE/20170601T1800P/mb002/forecast/grid.arpege-forecast.euroc25+0003:00.grib\n",
      "  Query: None\n",
      "\n"
     ]
    }
   ],
   "source": [
    "print('  Scheme: {}\\n  Netloc: {}\\n  Path: {}\\n  Query: {}\\n'.\n",
    "      format(rh.provider.scheme(rh.resource), rh.provider.netloc(rh.resource),\n",
    "             rh.provider.pathname(rh.resource) + '/' + rh.provider.basename(rh.resource),\n",
    "             rh.provider.urlquery(rh.resource)))"
   ]
  },
  {
   "cell_type": "markdown",
   "metadata": {
    "slideshow": {
     "slide_type": "subslide"
    }
   },
   "source": [
    "C'est globalement là que s'arrête la description générale : l'implémentation de ces différentes routines va en effet varier d'un type de *Provider* à un autre. Voici néanmoins quelques indications sur la façon dont ces morceaux d'URI sont construits.\n",
    "\n",
    "### *scheme* & *netloc*"
   ]
  },
  {
   "cell_type": "code",
   "execution_count": 11,
   "metadata": {
    "collapsed": false
   },
   "outputs": [
    {
     "name": "stdout",
     "output_type": "stream",
     "text": [
      "vortex\n",
      "vsop.archive.fr\n"
     ]
    }
   ],
   "source": [
    "print(rh.provider.scheme(rh.resource))\n",
    "print(rh.provider.netloc(rh.resource))"
   ]
  },
  {
   "cell_type": "markdown",
   "metadata": {
    "slideshow": {
     "slide_type": "-"
    }
   },
   "source": [
    "*scheme* et *netloc* sont, en général, déterminés directement par le *Provider* (sans recourir à la *Resource*)."
   ]
  },
  {
   "cell_type": "markdown",
   "metadata": {
    "slideshow": {
     "slide_type": "subslide"
    }
   },
   "source": [
    "### *pathname* et *basename*"
   ]
  },
  {
   "cell_type": "code",
   "execution_count": 12,
   "metadata": {
    "collapsed": false
   },
   "outputs": [
    {
     "name": "stdout",
     "output_type": "stream",
     "text": [
      "arpege/pearp/DBLE/20170601T1800P/mb002/forecast\n",
      "grid.arpege-forecast.euroc25+0003:00.grib\n"
     ]
    }
   ],
   "source": [
    "print(rh.provider.pathname(rh.resource))\n",
    "print(rh.provider.basename(rh.resource))"
   ]
  },
  {
   "cell_type": "markdown",
   "metadata": {},
   "source": [
    "On remarque que le résultat dépend beaucoup de la *Resource* à laquelle on s'intéresse. Dès lors, plusieurs approches permettent d'arriver au résultat..."
   ]
  },
  {
   "cell_type": "markdown",
   "metadata": {
    "slideshow": {
     "slide_type": "subslide"
    }
   },
   "source": [
    "#### 1. Gérer intégralement les choses au niveau du *Provider*\n",
    "\n",
    "Le *Provider* inspecte les attributs de la *Resource* passée en argument et détermine un chemin/un nom. C'est l'approche suivie par le *Provider* oper dit \"inline\" (i.e. les données de la chaîne ksh résidant sur le calculateur dans /chaine) :"
   ]
  },
  {
   "cell_type": "code",
   "execution_count": 13,
   "metadata": {
    "collapsed": false
   },
   "outputs": [
    {
     "name": "stdout",
     "output_type": "stream",
     "text": [
      "path=arpege/pearp/oper/data/bdap name=PErDH003EUROC25\n"
     ]
    }
   ],
   "source": [
    "import iga\n",
    "iga_provider = fpx.provider(suite='oper', namespace='oper.inline.fr')\n",
    "print('path={:s} name={:s}'\n",
    "      .format(iga_provider.pathname(rh.resource), iga_provider.basename(rh.resource)))"
   ]
  },
  {
   "cell_type": "markdown",
   "metadata": {},
   "source": [
    "* Aller voir l'implémentation des méthodes **basename** et **pathname** de **iga.data.providers.IgaProvider**.\n",
    "* On remarque que l'essentiel du travail est délégué aux fonctions **global_bnames** et **global_pnames** du module **iga.util.bpnames**.\n",
    "* Aller voir l'implémentation de ces méthodes. La *Ressource* est passée au crible (succession de tests *if*) ; il en ressort magiquement un chemin et un nom de fichier."
   ]
  },
  {
   "cell_type": "markdown",
   "metadata": {
    "slideshow": {
     "slide_type": "subslide"
    }
   },
   "source": [
    "#### 2. Déléguer tout ou partie du travail à la *Resource* et aller à la pêche au informations\n",
    "\n",
    "* Pour le *basename*, on appelle la méthode **basename** sur la *Resource* passée en argument. Cette méthode renvoie un nom de ressource ou une ébauche de nom. Dans le cas où il s'agit d'une ébauche de nom, c'est le provider qui finit le travail : cette solution n'est pas idéale mais est malheureusement nécessaire pour supporter des archives \"historiques\".\n",
    "* Pour le *pathname*, on appelle la méthode **pathinfo** sur la *Resource* passée en argument. Cette méthode renvoie un dictionnaire contenant les informations nécessaires à la construction du chemin par le provider (souvent la date et le cutoff).\n",
    "\n",
    "C'est l'approche suivie par le *Provider* Olive :"
   ]
  },
  {
   "cell_type": "code",
   "execution_count": 14,
   "metadata": {
    "collapsed": false
   },
   "outputs": [
    {
     "name": "stdout",
     "output_type": "stream",
     "text": [
      "path=ABCD/20170601H18P/forecast name=GRIDHSTEUROC25+0003\n"
     ]
    }
   ],
   "source": [
    "import olive\n",
    "olive_provider = fpx.provider(experiment='ABCD', namespace='olive.archive.fr', block='forecast')\n",
    "print('path={:s} name={:s}'\n",
    "      .format(olive_provider.pathname(rh.resource), olive_provider.basename(rh.resource)))"
   ]
  },
  {
   "cell_type": "markdown",
   "metadata": {
    "slideshow": {
     "slide_type": "subslide"
    }
   },
   "source": [
    "* Aller voir l'implémentation de la méthode **basename** de **olive.data.providers.Olive**.\n",
    "* On remarque que tout le travail est délégué à la *Resource* !\n",
    "\n",
    "Creusons un peu plus ce qui se cache derrière l'arbre d'appel de **basename**... Si l'on suit l'héritage, `super(Olive, self).basename(resource)` renvoie au code suivant : `resource.basename(self.realkind)`. Or, la méthode **basename** de la classe mère (**vortex.data.resources.Resource**) se charge de renvoyer vers la méthode nommée `\"{}_basename'.format(self.realkind)\"` (ou, à défaut, `\"generic_basename\"`). Dans ce cas précis, on arrive sur la méthode **olive_basename**."
   ]
  },
  {
   "cell_type": "code",
   "execution_count": 15,
   "metadata": {
    "collapsed": false
   },
   "outputs": [
    {
     "name": "stdout",
     "output_type": "stream",
     "text": [
      "** Provider's realkind: olive\n",
      "** Basename via *basename*: GRIDHSTEUROC25+0003\n",
      "** Basename via *olive_basename*: GRIDHSTEUROC25+0003\n"
     ]
    }
   ],
   "source": [
    "print(\"** Provider's realkind:\", olive_provider.realkind)\n",
    "print(\"** Basename via *basename*:\", rh.resource.basename(olive_provider.realkind))\n",
    "print(\"** Basename via *olive_basename*:\", rh.resource.olive_basename())"
   ]
  },
  {
   "cell_type": "markdown",
   "metadata": {
    "slideshow": {
     "slide_type": "subslide"
    }
   },
   "source": [
    "* Aller voir l'implémentation de la méthode **pathname** de **olive.data.providers.Olive**.\n",
    "\n",
    "Creusons un peu plus ce qui se cache derrière l'arbre d'appel de **pathinfo**... Si l'on suit l'héritage, `super(Olive, self).pathinfo(resource)` renvoie au code suivant : `resource.pathinfo(self.realkind)`. Or, la méthode **pathinfo** de la classe mère **vortex.data.resources.Resource** se charge de renvoyer vers la méthode nommée `\"{}_pathinfo'.format(self.realkind)\"` (ou, à défaut, `\"generic_pathinfo\"`). Dans ce cas précis, on arrive sur la méthode **generic_pathinfo**."
   ]
  },
  {
   "cell_type": "code",
   "execution_count": 16,
   "metadata": {
    "collapsed": false,
    "slideshow": {
     "slide_type": "-"
    }
   },
   "outputs": [
    {
     "name": "stdout",
     "output_type": "stream",
     "text": [
      "** Provider's realkind: olive\n",
      "** Basename via *basename*:\n",
      " {'geometry': <vortex.data.geometries.LonlatGeometry object at 0x7efd041e3ba8>, 'nativefmt': 'grib', 'model': 'arpege', 'cutoff': 'production', 'date': Date(2017, 6, 1, 18, 0)}\n",
      "** Basename via *olive_basename*:\n",
      " {'geometry': <vortex.data.geometries.LonlatGeometry object at 0x7efd041e3ba8>, 'nativefmt': 'grib', 'model': 'arpege', 'cutoff': 'production', 'date': Date(2017, 6, 1, 18, 0)}\n"
     ]
    }
   ],
   "source": [
    "print(\"** Provider's realkind:\", olive_provider.realkind)\n",
    "print(\"** Basename via *basename*:\\n\", rh.resource.pathinfo(olive_provider.realkind))\n",
    "print(\"** Basename via *olive_basename*:\\n\", rh.resource.generic_pathinfo())"
   ]
  },
  {
   "cell_type": "markdown",
   "metadata": {
    "slideshow": {
     "slide_type": "subslide"
    }
   },
   "source": [
    "#### 3. Aller à la pêche au informations et déléguer le travail à une \"Fabrique de noms\"\n",
    "\n",
    "On appelle la méthode **namebuilding_info** sur la *Resource* passée en argument. Cette méthode renvoie un dictionnaire contenant les informations nécessaires à la construction du chemin et du nom. Le *Provider* utilise ensuite un objet dédié (la fabrique de noms) afin de générer le chemin et le nom final."
   ]
  },
  {
   "cell_type": "code",
   "execution_count": 17,
   "metadata": {
    "collapsed": false
   },
   "outputs": [
    {
     "name": "stdout",
     "output_type": "stream",
     "text": [
      "arpege/pearp/DBLE/20170601T1800P/mb002/forecast\n",
      "grid.arpege-forecast.euroc25+0003:00.grib\n"
     ]
    }
   ],
   "source": [
    "print(rh.provider.pathname(rh.resource))\n",
    "print(rh.provider.basename(rh.resource))"
   ]
  },
  {
   "cell_type": "code",
   "execution_count": 18,
   "metadata": {
    "collapsed": false
   },
   "outputs": [
    {
     "data": {
      "text/plain": [
       "{'flow': [{'date': Date(2017, 6, 1, 18, 0)}, {'shortcutoff': 'production'}],\n",
       " 'fmt': 'grib',\n",
       " 'geo': 'EUROC25',\n",
       " 'radical': 'grid',\n",
       " 'src': ['arpege', 'forecast'],\n",
       " 'term': '0003:00'}"
      ]
     },
     "execution_count": 18,
     "metadata": {},
     "output_type": "execute_result"
    }
   ],
   "source": [
    "binfos = rh.resource.namebuilding_info()  # On commence par récupérer les infos sur la ressource\n",
    "binfos"
   ]
  },
  {
   "cell_type": "markdown",
   "metadata": {
    "slideshow": {
     "slide_type": "subslide"
    }
   },
   "source": [
    "À partir de ce dictionnaire, le *provider* Vortex (ses méthodes **basename** et **pathname**) va utiliser un objet de classe **vortex.tools.names.VortexNameBuilder** pour trouver le chemin / le nom de la ressource :"
   ]
  },
  {
   "cell_type": "code",
   "execution_count": 19,
   "metadata": {
    "collapsed": false
   },
   "outputs": [
    {
     "data": {
      "text/plain": [
       "'grid.arpege-forecast.euroc25+0003:00.grib'"
      ]
     },
     "execution_count": 19,
     "metadata": {},
     "output_type": "execute_result"
    }
   ],
   "source": [
    "nbuilder = vortex.tools.names.VortexNameBuilder()\n",
    "nbuilder.pack_basename(binfos)"
   ]
  },
  {
   "cell_type": "code",
   "execution_count": 20,
   "metadata": {
    "collapsed": false
   },
   "outputs": [
    {
     "data": {
      "text/plain": [
       "'arpege/pearp/DBLE/20170601T1800P/mb002/forecast'"
      ]
     },
     "execution_count": 20,
     "metadata": {},
     "output_type": "execute_result"
    }
   ],
   "source": [
    "binfos_plus = binfos.copy()\n",
    "binfos_plus.update(dict(vapp=rh.provider.vapp, vconf=rh.provider.vconf,\n",
    "                        experiment=rh.provider.experiment, block=rh.provider.block,\n",
    "                        member=rh.provider.member, scenario=rh.provider.scenario,))\n",
    "nbuilder.pack_pathname(binfos_plus)"
   ]
  },
  {
   "cell_type": "markdown",
   "metadata": {},
   "source": [
    "Les noms Vortex sont donc auto-générés, ce qui leur confère une certaine cohérence."
   ]
  },
  {
   "cell_type": "markdown",
   "metadata": {
    "slideshow": {
     "slide_type": "subslide"
    }
   },
   "source": [
    "### *urlquery*\n",
    "\n",
    "Cette portion de l'URI n'est pas très couramment utilisée. Néanmoins, elle peut servir à donner des indications supplémentaires au *Store*."
   ]
  },
  {
   "cell_type": "code",
   "execution_count": 21,
   "metadata": {
    "collapsed": false
   },
   "outputs": [
    {
     "name": "stdout",
     "output_type": "stream",
     "text": [
      "None\n"
     ]
    }
   ],
   "source": [
    "print(rh.provider.urlquery(rh.resource))\n",
    "# Ok ce cas n'est pas très spectaculaire..."
   ]
  },
  {
   "cell_type": "markdown",
   "metadata": {},
   "source": [
    "Les providers recourant à ce mécanisme, appellent la méthode **urlquery** sur la *Resource*. Là aussi on scrute la *Resource* afin de déterminer s'il existe une méthode dédiée pour tel ou tel *Provider* (par défaut, **vortex_urlquery** est utilisée)."
   ]
  },
  {
   "cell_type": "markdown",
   "metadata": {
    "slideshow": {
     "slide_type": "subslide"
    }
   },
   "source": [
    "### Récapitulatif\n",
    "\n",
    "On voit désormais un peu plus ce qui se passe lors de l'appel à :"
   ]
  },
  {
   "cell_type": "code",
   "execution_count": 22,
   "metadata": {
    "collapsed": false
   },
   "outputs": [
    {
     "name": "stdout",
     "output_type": "stream",
     "text": [
      "vortex://vsop.archive.fr/arpege/pearp/DBLE/20170601T1800P/mb002/forecast/grid.arpege-forecast.euroc25+0003:00.grib\n"
     ]
    }
   ],
   "source": [
    "print(rh.location())"
   ]
  },
  {
   "cell_type": "markdown",
   "metadata": {},
   "source": [
    "La conséquence pratique de cela est que, lors de la création d'un nouvel objet *Resource*, il faut surcharger ou créer les méthodes voulues pour permettre aux *providers* de créer une URI.\n",
    "\n",
    "La notion de surcharge est importante car il est souvent possible de récupérer beaucoup des méthodes de la classe dont on hérite (en particulier les méthodes **namebuilding_info** et **generic_pathinfo** qui sont rarement ré-implémentées).\n",
    "\n",
    "Dans le cas du provider Vortex, la fabrique de noms joue un rôle central : on donne quelques détails dans le paragraphe suivant."
   ]
  },
  {
   "cell_type": "markdown",
   "metadata": {
    "slideshow": {
     "slide_type": "subslide"
    }
   },
   "source": [
    "### Fabrique de noms Vortex\n",
    "\n",
    "La fabrique de noms est utilisée à la fois pour la génération du *pathname* et du *basename* :\n",
    "\n",
    "* Le cas du *pathname* ne devrait pas trop préoccuper les dévelopeurs car le comportement est normalement déterminé par le classe dont on hérite. Par exemple, si une ressource hérite de la classe **FlowResource** (voir présentation précédente), celle-ci recevra en \"héritage\" des attributs *date* et *cutoff* qui apparaîtront dans le dictionnaire retourné par **namebuilding_info**.\n",
    "* Pour partie, le même résonnement peut être tenu pour le *basename*. Par exemple, en héritant de **GeoFlowResource**, les attributs *model* et *geometry* seront hérités et utilisés dans la génération de noms. En revanche, pour des attributs qui seraient ajoutés \"à la main\" et/ou orginaux (dans le sens où ils seraient spécifiques à tel ou tel usage), c'est au développeur de faire en sorte qu'ils soient transmis à la fabrique de noms.\n",
    "\n",
    "Au vu de l'explication précédente, on recourera donc massivement :\n",
    "\n",
    "* A l'héritage de classes (utilisation de classes abstraites comme **FlowResource**, **GeoFlowResource**, ...) ;\n",
    "* Pour les attributs \"classiques\", on se reposera sur leur pré-définition. Par exemple, pour ajouter une échéance (attribut *term*), on utilisera : **vortex.syntax.stdattrs.term_deco** (voir aussi http://intra.cnrm.meteo.fr/algopy/sphinx/vortex/current/library/vortex/syntax/stdattrs.html) ;\n",
    "* Pour les attributs \"originaux\", le développeur ajoutera les informations nécessaires dans le dictionnaire retourné par la méthode **namebuilding_info**."
   ]
  },
  {
   "cell_type": "markdown",
   "metadata": {
    "slideshow": {
     "slide_type": "subslide"
    }
   },
   "source": [
    "Concrétement, le contenu du dictionnaire renvoyé par **namebuilding_info** doit répondre à certaines exigences. Voici une version maximaliste de ce qui pourrait être contenu dans celui-ci (bien sûr, selon le contexte, certains éléments seront omis) :"
   ]
  },
  {
   "cell_type": "code",
   "execution_count": 23,
   "metadata": {
    "collapsed": false
   },
   "outputs": [
    {
     "data": {
      "text/plain": [
       "'ressourceid.arpege-somethingelse.filtre.1198-c24.n0001-omp01+0024:00.001.grib.m12'"
      ]
     },
     "execution_count": 23,
     "metadata": {},
     "output_type": "execute_result"
    }
   ],
   "source": [
    "bdict = dict(# Un préfixe. Par défaut: valeur retournée par self.realkind -> ne pas modifier\n",
    "             radical='ressourceid',  \n",
    "             # Des informations indiquant la provenance/la nature des données. Par défaut, si un\n",
    "             # attribut *model* est défini, il figure ici -> ajouter à cette liste des éléments\n",
    "             # qui vous seraient propres.\n",
    "             src=['arpege', 'somethingelse'],  \n",
    "             # Si les données ont subi un filtrage, l'indiqué ici\n",
    "             filtername = 'filtre',\n",
    "             # Des informations sur la géométrie utilisée -> ne pas modifier (le défaut est\n",
    "             # fourni par l'héritage ou vortex.data.geometries.hgeometry_deco)\n",
    "             geo = [dict(trunctation=1198), dict(stretching=2.4)],\n",
    "             # Des informations sur la parallélisation\n",
    "             compute = [dict(mpi=1), dict(openmp=1)],\n",
    "             # L'échéance de la ressource -> ne pas modifier (vortex.syntax.stdattrs.term_deco\n",
    "             # s'occupe de tout)\n",
    "             term = bdate.Time('24:00').fmthm,\n",
    "             # Un numéro -> ne pas modifier (vortex.syntax.stdattrs.number_deco s'occupe de tout)\n",
    "             number = vortex.syntax.stdattrs.FmtInt(1, fmt='03'),\n",
    "             # Le format des données -> ne pas modifier (vortex.syntax.stdattrs.nativefmt_deco\n",
    "             # s'occupe de tout)\n",
    "             fmt = 'grib',\n",
    "             # Un Suffixe. Peu utilisé. (par exemple, vortex.syntax.stdattrs.month_deco,\n",
    "             # l'utilise pour le numero du mois)\n",
    "             suffix = 'm12'\n",
    "            )\n",
    "nbuilder.pack_basename(bdict)"
   ]
  },
  {
   "cell_type": "markdown",
   "metadata": {
    "slideshow": {
     "slide_type": "subslide"
    }
   },
   "source": [
    "Nous verrons dans la présentation suivante un cas pratique de création d'une ressource. Pour faire simple :\n",
    "\n",
    "* Si vous avez besoin d'un attribut de façon récurrente, ne pas hésiter à le pré-définir (en créant une *footprint* abstraite pour celui-ci. Cela peut se faire dans **vortex.syntax.stdattrs** ou dans votre propre package (*e.g.* **cen.syntax.stdattrs**)\n",
    "* Pour les autres attributs originaux, surcharger **realkind** et **namebuilding_info**. (*NB*: la surcharge de **namebuilding_info** peut se faire \"à la main\" ou via les décorateurs de classe définis dans **vortex.syntax.stddeco** : un exemple sera donné dans la présentation suivante)\n",
    "\n",
    "Nous avons, jusque là, parlé de \"**LA** fabrique de noms\", à vrai dire nous devrions plutôt dire \"la fabrique de noms standard\". En effet, il est théoriquement possible de créer une fabrique de noms personnalisée et de l'utiliser dans le provider *Vortex* (via son attribut *namebuild* : \"la fabrique de noms standard\" correspond en fait à *namebuild = 'std'*). Cette pratique est découragée donc nous ne nous étendrons pas sur le sujet."
   ]
  },
  {
   "cell_type": "markdown",
   "metadata": {
    "slideshow": {
     "slide_type": "slide"
    }
   },
   "source": [
    "## Détails sur les objets *Store*"
   ]
  },
  {
   "cell_type": "markdown",
   "metadata": {},
   "source": [
    "*Petit rappel*: Un *Store* traite une URI (dont la génération vient d'être décrite) pour agir \"physiquement\" sur une donnée (sur disque, sur une archive FTP, dans une base de données, ...)\n",
    "\n",
    "Ce qui caractérise le mieux les *Store* est la notion \"*d'interface*\" qui existe dans des langages comme Java ou C++ (malheureusement cela n'existe pas nativement en Python). Pris sous l'angle de son *interface*, un *Store* serait un objet qui définit les méthodes suivantes :\n",
    "\n",
    "* **locate**(*self*, *remote*, *options*=None)\n",
    "* **check**(*self*, *remote*, *options*=None)\n",
    "* **get**(*self*, *remote*, *local*, *options*=None)\n",
    "* **put**(*self*, *local*, *remote*, *options*=None)\n",
    "* **delete**(*self*, *remote*, *options*=None)\n",
    "\n",
    "et les attributs (ou _properties_) suivants :\n",
    "\n",
    "* **scheme**\n",
    "* **netloc**\n",
    "* **use_cache**\n",
    "* **readonly**\n",
    "* **writeable**\n"
   ]
  },
  {
   "cell_type": "markdown",
   "metadata": {
    "slideshow": {
     "slide_type": "subslide"
    }
   },
   "source": [
    "### Les stores \"simples\"\n",
    "\n",
    "Il s'agit par exemple du store que nous avons utilisé dans notre exemple :"
   ]
  },
  {
   "cell_type": "code",
   "execution_count": 24,
   "metadata": {
    "collapsed": false
   },
   "outputs": [
    {
     "name": "stdout",
     "output_type": "stream",
     "text": [
      "<class 'vortex.data.stores.VortexOpArchiveStore'>\n",
      "False\n"
     ]
    }
   ],
   "source": [
    "print(type(rh.store))\n",
    "print(rh.store.use_cache())"
   ]
  },
  {
   "cell_type": "markdown",
   "metadata": {},
   "source": [
    "Ce *Store* répond *False* à **use_cache** ce qui signifie que l'accès aux données est relativement lent (en particulier, les fichiers ne peuvent pas être récupérés rapidement en lecture seule). En mode **put**, c'est typiquement le type de *Store* pour lesquels les données sont envoyées de façon asynchrone (via *ftserv* en R&D).\n",
    "\n",
    "Par opposition, on trouve aussi des *Stores* rapides de type \"cache\". Concrètement, les *Store* de type \"cache\" sont :\n",
    "\n",
    "* Hébergés sur un système de fichiers partagé rapide (Lustre) ou sur le disque dur si vous travaillez sur votre PC ;\n",
    "* Idéalement, le cache doit se trouver sur le même système de fichiers que le répertoire de travail afin de pouvoir réaliser des liens durs (\"hard links\" de la norme POSIX)."
   ]
  },
  {
   "cell_type": "markdown",
   "metadata": {
    "slideshow": {
     "slide_type": "subslide"
    }
   },
   "source": [
    "Dans Vortex, il est fréquent de travailler avec des *Stores* de cache (pour ne pas récupérer plusieurs fois la même donnée sur la machine d'archivage, pour sauvegarder rapidement des résultats, ...).\n",
    "\n",
    "Par exemple, il existe un *Store* de cache pour les données Vortex oper :"
   ]
  },
  {
   "cell_type": "code",
   "execution_count": 25,
   "metadata": {
    "collapsed": false
   },
   "outputs": [
    {
     "name": "stdout",
     "output_type": "stream",
     "text": [
      "<class 'vortex.data.stores.VortexVsopCacheStore'>\n",
      "True\n"
     ]
    }
   ],
   "source": [
    "vsop_cache = fp.proxy.store(scheme='vortex', netloc='vsop.cache.fr')\n",
    "print(type(vsop_cache))\n",
    "print(vsop_cache.use_cache())"
   ]
  },
  {
   "cell_type": "markdown",
   "metadata": {},
   "source": [
    "D'accord, mais où sont stockées les données localement ?\n",
    "\n",
    "Dans la plupart des cas, il n'y a pas à s'en soucier : Olive, le système de création de jobs officiel (présenté le dernier jour), ou le système de création de jobs oper, se chargent de configurer correctement les répertoires. \n",
    "\n",
    "Dans le cas où vous travaillez indépendamment (par exemple sur votre PC, pour récupérer telle ou telle donnée), il faut veiller à positioner la variable d'environnement ``MTOOLDIR`` (un sous-répertoire ``cache`` y sera créé par Vortex). Par défaut, le répertoire ``/tmp`` est utilisé (ce qui est rarement ce que l'on veut réellement faire)."
   ]
  },
  {
   "cell_type": "markdown",
   "metadata": {
    "slideshow": {
     "slide_type": "subslide"
    }
   },
   "source": [
    "### Le MultiStore\n",
    "\n",
    "Le cas d'utilisation le plus courant est de recourir à un *Store* de cache ET un *Store* archive (au cas où la donnée ne serait pas/plus dans le cache). C'est exactement le rôle du *MultiStore* :\n",
    "\n",
    "* Un *MultiStore* contient une liste (ordonnée) d'objets *Store* accessibles par son biais\n",
    "* Un *MultiStore* satisfait en tout point \"l'interface\" *Store* décrite précédemment : son usage est donc transparent.\n",
    "* Lors d'un **get**, le *MultiStore* essaye de satisfaire la demande avec le premier *Store* présent dans sa liste, puis le deuxième, ...\n",
    "* Lors d'un **put** la ressource est déposée dans chacun des *Stores* (pour peu que ceux-ci ne soient pas *readonly*)"
   ]
  },
  {
   "cell_type": "code",
   "execution_count": 26,
   "metadata": {
    "collapsed": false
   },
   "outputs": [
    {
     "name": "stdout",
     "output_type": "stream",
     "text": [
      "<class 'vortex.data.stores.VortexStore'>\n"
     ]
    },
    {
     "data": {
      "text/plain": [
       "[<vortex.data.stores.VortexVsopCacheStore at 0x7efceb965240>,\n",
       " <vortex.data.stores.VortexOpArchiveStore at 0x7efceb9652e8>]"
      ]
     },
     "execution_count": 26,
     "metadata": {},
     "output_type": "execute_result"
    }
   ],
   "source": [
    "vsop_multi = fp.proxy.store(scheme='vortex', netloc='vsop.multi.fr')\n",
    "print(type(vsop_multi))\n",
    "# Liste des Stores sous-jacents...\n",
    "vsop_multi.openedstores\n"
   ]
  },
  {
   "cell_type": "markdown",
   "metadata": {
    "slideshow": {
     "slide_type": "slide"
    }
   },
   "source": [
    "## Notion de namespace dans les *Providers*\n",
    "\n",
    "Concrètement, ces notions de cache et de *MultiStore* sont importantes car elles se retrouvent dans l'utilisation courante de Vortex. Dans notre exemple, nous avions :"
   ]
  },
  {
   "cell_type": "code",
   "execution_count": 27,
   "metadata": {
    "collapsed": false
   },
   "outputs": [
    {
     "name": "stderr",
     "output_type": "stream",
     "text": [
      "# [2019/01/24-14:03:25][vortex.data.stores][inarchiveget:1199][INFO]: inarchiveget on vortex://vsop.archive.fr//home/m/mxpt/mxpt001/vortex/arpege/pearp/DBLE/2017/06/01/T1800P/mb002/forecast/grid.arpege-forecast.euroc25+0003:00.grib (to: GRIB_EUROC25_0002+0003:00)\n",
      "# [2019/01/24-14:03:25][vortex.tools.storage][_ftpretrieve:0690][INFO]: ftpget on ftp://hendrix.meteo.fr//home/m/mxpt/mxpt001/vortex/arpege/pearp/DBLE/2017/06/01/T1800P/mb002/forecast/grid.arpege-forecast.euroc25+0003:00.grib (to: GRIB_EUROC25_0002+0003:00)\n",
      "# [2019/01/24-14:03:26][vortex.tools.net][get:0266][INFO]: FTP <get:/home/m/mxpt/mxpt001/vortex/arpege/pearp/DBLE/2017/06/01/T1800P/mb002/forecast/grid.arpege-forecast.euroc25+0003:00.grib>\n"
     ]
    },
    {
     "name": "stdout",
     "output_type": "stream",
     "text": [
      "GRIB_EUROC25_0002+0003:00\r\n"
     ]
    },
    {
     "data": {
      "text/plain": [
       "True"
      ]
     },
     "execution_count": 27,
     "metadata": {},
     "output_type": "execute_result"
    }
   ],
   "source": [
    "# Récupération de la ressource\n",
    "rhandlers = toolbox.input(# Method/Section\n",
    "                          role='InitialCondition', intent='inout',\n",
    "                          # Resource\n",
    "                          term=3, kind='gridpoint', origin='historic', nativefmt='grib',\n",
    "                          # Provider\n",
    "                          member=2, experiment='DBLE', namespace='vortex.archive.fr',\n",
    "                          block='forecast',\n",
    "                          # Container\n",
    "                          local='GRIB_[geometry:area]_[member%04d]+[term:fmthm]', format='grib')\n",
    "%ls\n",
    "rhandlers[0].clear()"
   ]
  },
  {
   "cell_type": "markdown",
   "metadata": {
    "slideshow": {
     "slide_type": "subslide"
    }
   },
   "source": [
    "Nous précisons explicitement ``vortex.archive.fr``, le resource's *Handler* va donc générer une URI qui conduit au recours inconditionel à l'archive (cela peut être voulu). Il est souvent plus intéressant de recourir à un *MultiStore* :"
   ]
  },
  {
   "cell_type": "code",
   "execution_count": 28,
   "metadata": {
    "collapsed": false
   },
   "outputs": [
    {
     "name": "stderr",
     "output_type": "stream",
     "text": [
      "# [2019/01/24-14:03:26][vortex.data.stores][incacheget:1767][INFO]: incacheget on vortex://vsop.cache-mt.fr//arpege/pearp/DBLE/20170601T1800P/mb002/forecast/grid.arpege-forecast.euroc25+0003:00.grib (to: GRIB_EUROC25_0002+0003:00)\n",
      "# [2019/01/24-14:03:26][vortex.tools.systems][cp:2204][ERROR]: Missing source /home/meunierlf/cache/vortex/arpege/pearp/DBLE/20170601T1800P/mb002/forecast/grid.arpege-forecast.euroc25+0003:00.grib\n",
      "# [2019/01/24-14:03:26][vortex.data.stores][_verbose_log:0528][INFO]: Multistore get vortex://vsop.cache.fr: none of the opened store succeeded.\n",
      "# [2019/01/24-14:03:26][vortex.data.stores][inarchiveget:1199][INFO]: inarchiveget on vortex://vsop.archive.fr//home/m/mxpt/mxpt001/vortex/arpege/pearp/DBLE/2017/06/01/T1800P/mb002/forecast/grid.arpege-forecast.euroc25+0003:00.grib (to: GRIB_EUROC25_0002+0003:00)\n",
      "# [2019/01/24-14:03:26][vortex.tools.storage][_ftpretrieve:0690][INFO]: ftpget on ftp://hendrix.meteo.fr//home/m/mxpt/mxpt001/vortex/arpege/pearp/DBLE/2017/06/01/T1800P/mb002/forecast/grid.arpege-forecast.euroc25+0003:00.grib (to: GRIB_EUROC25_0002+0003:00)\n",
      "# [2019/01/24-14:03:26][vortex.tools.net][get:0266][INFO]: FTP <get:/home/m/mxpt/mxpt001/vortex/arpege/pearp/DBLE/2017/06/01/T1800P/mb002/forecast/grid.arpege-forecast.euroc25+0003:00.grib>\n",
      "# [2019/01/24-14:03:27][vortex.data.stores][_refilling_get:0671][INFO]: Refill back in writeable store [<vortex.data.stores.VortexVsopCacheStore object at 0x7efceb978390 | footprint=7>].\n",
      "# [2019/01/24-14:03:27][vortex.data.stores][incacheput:1787][INFO]: incacheput to vortex://vsop.cache-mt.fr//arpege/pearp/DBLE/20170601T1800P/mb002/forecast/grid.arpege-forecast.euroc25+0003:00.grib (from: GRIB_EUROC25_0002+0003:00)\n",
      "# [2019/01/24-14:03:27][vortex.data.stores][incacheput:1796][INFO]: incacheput insert rc=True location=/home/meunierlf/cache/vortex/arpege/pearp/DBLE/20170601T1800P/mb002/forecast/grid.arpege-forecast.euroc25+0003:00.grib\n",
      "# [2019/01/24-14:03:27][vortex.data.stores][_refilling_get:0681][INFO]: Starting another round because at least one refill succeeded.\n",
      "# [2019/01/24-14:03:27][vortex.data.stores][incacheget:1767][INFO]: incacheget on vortex://vsop.cache-mt.fr//arpege/pearp/DBLE/20170601T1800P/mb002/forecast/grid.arpege-forecast.euroc25+0003:00.grib (to: GRIB_EUROC25_0002+0003:00)\n",
      "# [2019/01/24-14:03:27][vortex.data.stores][incacheget:1781][INFO]: incacheget retrieve rc=True location=/home/meunierlf/cache/vortex/arpege/pearp/DBLE/20170601T1800P/mb002/forecast/grid.arpege-forecast.euroc25+0003:00.grib\n"
     ]
    },
    {
     "name": "stdout",
     "output_type": "stream",
     "text": [
      "GRIB_EUROC25_0002+0003:00\r\n"
     ]
    },
    {
     "data": {
      "text/plain": [
       "True"
      ]
     },
     "execution_count": 28,
     "metadata": {},
     "output_type": "execute_result"
    }
   ],
   "source": [
    "# Récupération de la ressource\n",
    "rhandlers = toolbox.input(# Method/Section\n",
    "                          role='InitialCondition', intent='inout',\n",
    "                          # Resource\n",
    "                          term=3, kind='gridpoint', origin='historic', nativefmt='grib',\n",
    "                          # Provider\n",
    "                          member=2, experiment='DBLE', namespace='vortex.multi.fr',\n",
    "                          block='forecast',\n",
    "                          # Container\n",
    "                          local='GRIB_[geometry:area]_[member%04d]+[term:fmthm]', format='grib')\n",
    "%ls\n",
    "rhandlers[0].clear()"
   ]
  },
  {
   "cell_type": "markdown",
   "metadata": {
    "slideshow": {
     "slide_type": "subslide"
    }
   },
   "source": [
    "Dans la log, nous avons vu apparaître l'idée de \"*refill*\". Cette fonctionnalité, activée dans la plupart des *MultiStore*, implique que les fichiers récupérés en archive sont automatiquement redéposés dans les caches accessibles en écriture. Si le même fichier est récupéré ultérieurement, cela ira plus vite..."
   ]
  },
  {
   "cell_type": "code",
   "execution_count": 29,
   "metadata": {
    "collapsed": false
   },
   "outputs": [
    {
     "name": "stderr",
     "output_type": "stream",
     "text": [
      "# [2019/01/24-14:03:27][vortex.data.stores][incacheget:1767][INFO]: incacheget on vortex://vsop.cache-mt.fr//arpege/pearp/DBLE/20170601T1800P/mb002/forecast/grid.arpege-forecast.euroc25+0003:00.grib (to: GRIB_EUROC25_0002+0003:00)\n",
      "# [2019/01/24-14:03:27][vortex.data.stores][incacheget:1781][INFO]: incacheget retrieve rc=True location=/home/meunierlf/cache/vortex/arpege/pearp/DBLE/20170601T1800P/mb002/forecast/grid.arpege-forecast.euroc25+0003:00.grib\n"
     ]
    },
    {
     "name": "stdout",
     "output_type": "stream",
     "text": [
      "GRIB_EUROC25_0002+0003:00\r\n"
     ]
    },
    {
     "data": {
      "text/plain": [
       "True"
      ]
     },
     "execution_count": 29,
     "metadata": {},
     "output_type": "execute_result"
    }
   ],
   "source": [
    "# Récupération de la ressource\n",
    "rhandlers = toolbox.input(# Method/Section\n",
    "                          role='InitialCondition', intent='inout',\n",
    "                          # Resource\n",
    "                          term=3, kind='gridpoint', origin='historic', nativefmt='grib',\n",
    "                          # Provider\n",
    "                          member=2, experiment='DBLE', namespace='vortex.multi.fr',\n",
    "                          block='forecast',\n",
    "                          # Container\n",
    "                          local='GRIB_[geometry:area]_[member%04d]+[term:fmthm]', format='grib')\n",
    "%ls\n",
    "rhandlers[0].clear()"
   ]
  },
  {
   "cell_type": "code",
   "execution_count": 30,
   "metadata": {
    "collapsed": false,
    "slideshow": {
     "slide_type": "skip"
    }
   },
   "outputs": [
    {
     "name": "stderr",
     "output_type": "stream",
     "text": [
      "# [2019/01/24-14:03:27][vortex.data.stores][incachedelete:1802][INFO]: incachedelete on vortex://vsop.cache-mt.fr//arpege/pearp/DBLE/20170601T1800P/mb002/forecast/grid.arpege-forecast.euroc25+0003:00.grib\n",
      "# [2019/01/24-14:03:27][vortex.data.stores][_verbose_log:0271][INFO]: Skip this store because a cache is requested\n"
     ]
    },
    {
     "data": {
      "text/plain": [
       "True"
      ]
     },
     "execution_count": 30,
     "metadata": {},
     "output_type": "execute_result"
    }
   ],
   "source": [
    "# Nettoyage du cache pour que cela fonctionne lors du prochain lancement de la démo...\n",
    "rhandlers[0].delete(incache=True)"
   ]
  },
  {
   "cell_type": "markdown",
   "metadata": {},
   "source": [
    "Note: Lorsqu'on utilise Olive ou l'outil de création de jobs \"officiel\" basé sur MTOOL, les caches sont automatiquement nettoyés au bout de quelques jours. Néanmoins, dans le cas général, le nettoyage est à la charge de l'utilisateur."
   ]
  },
  {
   "cell_type": "markdown",
   "metadata": {
    "slideshow": {
     "slide_type": "subslide"
    }
   },
   "source": [
    "Cette notion de *namespace* est de l'ordre de la convention mais elle est assez respectée... Globalement, pour les *Provider* supportant cette notion de *namespace* :\n",
    "\n",
    "* ``XXX.cache.fr`` : signifie que les données ne seront récupérées/déposées que dans le cache\n",
    "* ``XXX.archive.fr`` : signifie que les données ne seront récupérées/déposées que dans l'archive\n",
    "* ``XXX.multi.fr`` : signifie qu'on utilise à la fois un cache et l'archive.\n",
    "\n",
    "La variante ``multi`` est en général ce que l'on veut lors de la récupération de données. Pour les données de sorties, la question se pose plus au cas par cas (on ne veut pas forcément archiver les fichiers intermédiaires)."
   ]
  },
  {
   "cell_type": "markdown",
   "metadata": {},
   "source": [
    "Les providers suportant cette cette notion de namespace sont par exemple :\n",
    "\n",
    "* le provider Vortex (que ce soit en R&D ou en oper) : ``vortex.[cache|archive|multi].fr``\n",
    "* le provider pour l'archive DSI ksh : ``[oper|dble].[archive|multi].fr``\n",
    "* le provider Olive : ``olive.[cache|archive|multi].fr``\n",
    "\n",
    "Questions éventuelles : *vortex.support@meteo.fr*"
   ]
  }
 ],
 "metadata": {
  "celltoolbar": "Slideshow",
  "kernelspec": {
   "display_name": "Python 3",
   "language": "python",
   "name": "python3"
  },
  "language_info": {
   "codemirror_mode": {
    "name": "ipython",
    "version": 3
   },
   "file_extension": ".py",
   "mimetype": "text/x-python",
   "name": "python",
   "nbconvert_exporter": "python",
   "pygments_lexer": "ipython3",
   "version": "3.5.3"
  }
 },
 "nbformat": 4,
 "nbformat_minor": 1
}
