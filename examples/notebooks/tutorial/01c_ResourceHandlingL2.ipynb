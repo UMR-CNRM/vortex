{
 "cells": [
  {
   "cell_type": "markdown",
   "metadata": {
    "slideshow": {
     "slide_type": "slide"
    }
   },
   "source": [
    "# Handling of Resources in Vortex (bis)"
   ]
  },
  {
   "cell_type": "markdown",
   "metadata": {
    "slideshow": {
     "slide_type": "slide"
    }
   },
   "source": [
    "In the first notebook/presentation, the way Vortex is \"loaded\" was not described. Let's be more talkative: since this document uses Jupyter notebooks and consequently IPython, we are using the IPython extension purposely develop for Vortex.\n",
    "\n",
    "This extension is named *ivortex* and is located under the ``project`` sub-directory of the Vortex code package. It extends the usual IPython shell commands (the \"magic\" command ``%vortex tmpcocoon`` allows to load Vortex and to jump in a temporary directory that will be deleted when the notebook is stopped)."
   ]
  },
  {
   "cell_type": "code",
   "execution_count": 1,
   "metadata": {
    "collapsed": false
   },
   "outputs": [
    {
     "name": "stderr",
     "output_type": "stream",
     "text": [
      "# [2019/08/27-18:10:19][vortex.sessions][_set_rundir:0152][WARNING]: Session <root> is changing its working directory </sauvegarde/vortex-dev/vortex/examples/notebooks/tutorial>\n",
      "# [2019/08/27-18:10:19][vortex.sessions][_set_rundir:0155][INFO]: Session <root> set rundir </home/meunierlf/vortex-workdir/auto_cocoon_2meq6c56>\n"
     ]
    },
    {
     "name": "stdout",
     "output_type": "stream",
     "text": [
      "Vortex 1.6.2 loaded ( Tuesday 27. August 2019, at 18:10:18 )\n",
      "The working directory is now: /home/meunierlf/vortex-workdir/auto_cocoon_2meq6c56/root\n"
     ]
    },
    {
     "data": {
      "text/plain": [
       "'/home/meunierlf/vortex-workdir/auto_cocoon_2meq6c56'"
      ]
     },
     "execution_count": 1,
     "metadata": {},
     "output_type": "execute_result"
    }
   ],
   "source": [
    "%load_ext ivortex\n",
    "%vortex tmpcocoon"
   ]
  },
  {
   "cell_type": "markdown",
   "metadata": {},
   "source": [
    "Note: A more detailed description is given in the documentation. See: [Notebooks Summary > Working with Vortex in IPython and Notebooks](http://intra.cnrm.meteo.fr/algopy/sphinx/vortex/current/notebooks/00_ipython_and_notebooks_howto.html)."
   ]
  },
  {
   "cell_type": "markdown",
   "metadata": {
    "slideshow": {
     "slide_type": "slide"
    }
   },
   "source": [
    "## Reminder of the previous example"
   ]
  },
  {
   "cell_type": "code",
   "execution_count": 2,
   "metadata": {
    "collapsed": false
   },
   "outputs": [
    {
     "name": "stdout",
     "output_type": "stream",
     "text": [
      "[<vortex.data.handlers.Handler object at 0x7f69e150bdd8>]\n"
     ]
    },
    {
     "data": {
      "text/plain": [
       "True"
      ]
     },
     "execution_count": 2,
     "metadata": {},
     "output_type": "execute_result"
    }
   ],
   "source": [
    "rhandlers = toolbox.input(# Input function options\n",
    "                          verbose=False,\n",
    "                          # Section\n",
    "                          role='InitialCondition', fatal=True, intent='inout',\n",
    "                          # Resource\n",
    "                          kind='gridpoint', term=3, geometry='euroc25',\n",
    "                          nativefmt='grib', model='arpege', \n",
    "                          cutoff='production', date='2017060118',\n",
    "                          origin='historic',\n",
    "                          # Provider\n",
    "                          vapp='arpege', vconf='pearp', member=2,\n",
    "                          experiment='DBLE', namespace='vortex.archive.fr',\n",
    "                          block='forecast',\n",
    "                          # Container\n",
    "                          local='my_pearp_gribfile', format='grib')\n",
    "print(rhandlers)\n",
    "rhandlers[0].clear()  # cleanup"
   ]
  },
  {
   "cell_type": "markdown",
   "metadata": {
    "slideshow": {
     "slide_type": "-"
    }
   },
   "source": [
    "It is now easier to understand the code behaviour: the **footprints** package is leveraged to create the *resource*, *provider* and *container* objects."
   ]
  },
  {
   "cell_type": "markdown",
   "metadata": {
    "slideshow": {
     "slide_type": "slide"
    }
   },
   "source": [
    "## Use of predefined values\n",
    "\n",
    "Most of Vortex scripts (including Olive or operation's scripts) setup predefined values. Let's do the same thing here:"
   ]
  },
  {
   "cell_type": "code",
   "execution_count": 3,
   "metadata": {
    "collapsed": true
   },
   "outputs": [],
   "source": [
    "# The toolbox module provides a shortcut to the footprints' setup object\n",
    "import bronx\n",
    "toolbox.defaults(\n",
    "    date = bronx.stdtypes.date.Date('2017060118'),\n",
    "    cutoff = 'production',\n",
    "    model = 'arpege',\n",
    "    geometry = vortex.data.geometries.get(tag='euroc25'),\n",
    ")\n",
    "# It is also possible to prescribe a defaut for vapp and vconf \n",
    "t.glove.vapp = 'arpege'\n",
    "t.glove.vconf = 'pearp'  # Given our knowledge of Vortex, it is too soon\n",
    "                         # to explain this code bit"
   ]
  },
  {
   "cell_type": "markdown",
   "metadata": {},
   "source": [
    "In addition, let's setup the **toolbox** module:"
   ]
  },
  {
   "cell_type": "code",
   "execution_count": 4,
   "metadata": {
    "collapsed": true
   },
   "outputs": [],
   "source": [
    "toolbox.active_now = True\n",
    "toolbox.active_verbose = False"
   ]
  },
  {
   "cell_type": "markdown",
   "metadata": {
    "slideshow": {
     "slide_type": "subslide"
    }
   },
   "source": [
    "This will substantially simplify the _resource_'s _Handler_ definition:"
   ]
  },
  {
   "cell_type": "code",
   "execution_count": 5,
   "metadata": {
    "collapsed": false
   },
   "outputs": [
    {
     "name": "stderr",
     "output_type": "stream",
     "text": [
      "# [2019/08/27-18:10:19][vortex.data.stores][inarchiveget:1199][INFO]: inarchiveget on vortex://vsop.archive.fr//home/m/mxpt/mxpt001/vortex/arpege/pearp/DBLE/2017/06/01/T1800P/mb002/forecast/grid.arpege-forecast.euroc25+0003:00.grib (to: my_pearp_gribfile)\n",
      "# [2019/08/27-18:10:19][vortex.tools.storage][_ftpretrieve:0690][INFO]: ftpget on ftp://hendrix.meteo.fr//home/m/mxpt/mxpt001/vortex/arpege/pearp/DBLE/2017/06/01/T1800P/mb002/forecast/grid.arpege-forecast.euroc25+0003:00.grib (to: my_pearp_gribfile)\n",
      "# [2019/08/27-18:10:20][vortex.tools.net][get:0268][INFO]: FTP <get:/home/m/mxpt/mxpt001/vortex/arpege/pearp/DBLE/2017/06/01/T1800P/mb002/forecast/grid.arpege-forecast.euroc25+0003:00.grib>\n"
     ]
    },
    {
     "name": "stdout",
     "output_type": "stream",
     "text": [
      "[<vortex.data.handlers.Handler object at 0x7f69e150ba58>]\n"
     ]
    },
    {
     "data": {
      "text/plain": [
       "True"
      ]
     },
     "execution_count": 5,
     "metadata": {},
     "output_type": "execute_result"
    }
   ],
   "source": [
    "rhandlers = toolbox.input(# Section\n",
    "                          role='InitialCondition', fatal=True, intent='inout',\n",
    "                          # Resource\n",
    "                          kind='gridpoint', term=3, origin='historic', nativefmt='grib',\n",
    "                          # Provider\n",
    "                          member=2, experiment='DBLE', namespace='vortex.archive.fr',\n",
    "                          block='forecast',\n",
    "                          # Container\n",
    "                          local='my_pearp_gribfile', format='grib')\n",
    "print(rhandlers)\n",
    "rhandlers[0].clear()  # cleanup"
   ]
  },
  {
   "cell_type": "markdown",
   "metadata": {
    "slideshow": {
     "slide_type": "slide"
    }
   },
   "source": [
    "## Footprints' substitution mechanism (in action)\n",
    "\n",
    "Frequently, some attributes are built using the values of other attributes... For example, we would like for the local GRIB file name to include information on the geographical domain, the term, the member's number, ...\n",
    "\n",
    "This is made easy by footprints' substitution mechanism:"
   ]
  },
  {
   "cell_type": "code",
   "execution_count": 6,
   "metadata": {
    "collapsed": false,
    "slideshow": {
     "slide_type": "subslide"
    }
   },
   "outputs": [
    {
     "name": "stderr",
     "output_type": "stream",
     "text": [
      "# [2019/08/27-18:10:21][vortex.data.stores][inarchiveget:1199][INFO]: inarchiveget on vortex://vsop.archive.fr//home/m/mxpt/mxpt001/vortex/arpege/pearp/DBLE/2017/06/01/T1800P/mb002/forecast/grid.arpege-forecast.euroc25+0003:00.grib (to: GRIB_<vortex.data.geometries.LonlatGeometry | tag='euroc25' id='Large european BDAP target' area='EUROC25' r='02dg500'>_002+03:00)\n",
      "# [2019/08/27-18:10:21][vortex.tools.storage][_ftpretrieve:0690][INFO]: ftpget on ftp://hendrix.meteo.fr//home/m/mxpt/mxpt001/vortex/arpege/pearp/DBLE/2017/06/01/T1800P/mb002/forecast/grid.arpege-forecast.euroc25+0003:00.grib (to: GRIB_<vortex.data.geometries.LonlatGeometry | tag='euroc25' id='Large european BDAP target' area='EUROC25' r='02dg500'>_002+03:00)\n",
      "# [2019/08/27-18:10:22][vortex.tools.net][get:0268][INFO]: FTP <get:/home/m/mxpt/mxpt001/vortex/arpege/pearp/DBLE/2017/06/01/T1800P/mb002/forecast/grid.arpege-forecast.euroc25+0003:00.grib>\n"
     ]
    },
    {
     "name": "stdout",
     "output_type": "stream",
     "text": [
      "'GRIB_<vortex.data.geometries.LonlatGeometry | tag='\\''euroc25'\\'' id='\\''Large european BDAP target'\\'' area='\\''EUROC25'\\'' r='\\''02dg500'\\''>_002+03:00'\r\n"
     ]
    },
    {
     "data": {
      "text/plain": [
       "True"
      ]
     },
     "execution_count": 6,
     "metadata": {},
     "output_type": "execute_result"
    }
   ],
   "source": [
    "rhandlers = toolbox.input(# Section\n",
    "                          role='InitialCondition', fatal=True, intent='inout',\n",
    "                          # Resource\n",
    "                          kind='gridpoint', term=3, origin='historic', nativefmt='grib',\n",
    "                          # Provider\n",
    "                          member=2, experiment='DBLE', namespace='vortex.archive.fr',\n",
    "                          block='forecast',\n",
    "                          # Container\n",
    "                          local='GRIB_[geometry]_[member]+[term]', format='grib')\n",
    "%ls\n",
    "rhandlers[0].clear()  # Cleanup"
   ]
  },
  {
   "cell_type": "markdown",
   "metadata": {},
   "source": [
    "* The substitution mechanism is triggered, in characters strings, by the following syntax: ``[something]``"
   ]
  },
  {
   "cell_type": "markdown",
   "metadata": {
    "slideshow": {
     "slide_type": "fragment"
    }
   },
   "source": [
    "The result is quite deceiving:\n",
    "\n",
    "* The formatting used for the geometry is not adequate at all;\n",
    "* We cannot control the formatting of the term and member's number."
   ]
  },
  {
   "cell_type": "markdown",
   "metadata": {
    "slideshow": {
     "slide_type": "subslide"
    }
   },
   "source": [
    "### Making use of the attribute's types\n",
    "\n",
    "* The *geometry* is an object defined by a very specific Vortex class. Therefore, it is possible to access its attributes in order to obtain a more satisfactory name:\n"
   ]
  },
  {
   "cell_type": "code",
   "execution_count": 7,
   "metadata": {
    "collapsed": false
   },
   "outputs": [
    {
     "name": "stdout",
     "output_type": "stream",
     "text": [
      "Geometry type: <class 'vortex.data.geometries.LonlatGeometry'>\n",
      "The area covered by the geometry (as in Meteo-France's BDAP): EUROC25\n"
     ]
    }
   ],
   "source": [
    "geo = vortex.data.geometries.Geometry('euroc25')\n",
    "print(\"Geometry type:\", type(geo))  # It depends on the geometry; globaln lon/lat, ...\n",
    "print(\"The area covered by the geometry (as in Meteo-France's BDAP):\", geo.area)"
   ]
  },
  {
   "cell_type": "markdown",
   "metadata": {},
   "source": [
    "* The *term* attribute is of type **bronx.stdtypes.date.Time**, so that we would like to use its attributes and properties to format the forecast term:"
   ]
  },
  {
   "cell_type": "code",
   "execution_count": 8,
   "metadata": {
    "collapsed": false,
    "slideshow": {
     "slide_type": "subslide"
    }
   },
   "outputs": [
    {
     "name": "stderr",
     "output_type": "stream",
     "text": [
      "# [2019/08/27-18:10:22][vortex.data.stores][inarchiveget:1199][INFO]: inarchiveget on vortex://vsop.archive.fr//home/m/mxpt/mxpt001/vortex/arpege/pearp/DBLE/2017/06/01/T1800P/mb002/forecast/grid.arpege-forecast.euroc25+0003:00.grib (to: GRIB_EUROC25_002+0003:00)\n",
      "# [2019/08/27-18:10:22][vortex.tools.storage][_ftpretrieve:0690][INFO]: ftpget on ftp://hendrix.meteo.fr//home/m/mxpt/mxpt001/vortex/arpege/pearp/DBLE/2017/06/01/T1800P/mb002/forecast/grid.arpege-forecast.euroc25+0003:00.grib (to: GRIB_EUROC25_002+0003:00)\n",
      "# [2019/08/27-18:10:22][vortex.tools.net][get:0268][INFO]: FTP <get:/home/m/mxpt/mxpt001/vortex/arpege/pearp/DBLE/2017/06/01/T1800P/mb002/forecast/grid.arpege-forecast.euroc25+0003:00.grib>\n"
     ]
    },
    {
     "name": "stdout",
     "output_type": "stream",
     "text": [
      "GRIB_EUROC25_002+0003:00\r\n"
     ]
    },
    {
     "data": {
      "text/plain": [
       "True"
      ]
     },
     "execution_count": 8,
     "metadata": {},
     "output_type": "execute_result"
    }
   ],
   "source": [
    "rhandlers = toolbox.input(# Section\n",
    "                          role='InitialCondition', fatal=True, intent='inout',\n",
    "                          # Resource\n",
    "                          kind='gridpoint', term=3, origin='historic', nativefmt='grib',\n",
    "                          # Provider\n",
    "                          member=2, experiment='DBLE', namespace='vortex.archive.fr',\n",
    "                          block='forecast',\n",
    "                          # Container\n",
    "                          local='GRIB_[geometry:area]_[member]+[term:fmthm]', format='grib')\n",
    "%ls\n",
    "rhandlers[0].clear()  # Cleanup"
   ]
  },
  {
   "cell_type": "markdown",
   "metadata": {
    "slideshow": {
     "slide_type": "subslide"
    }
   },
   "source": [
    "### Integers formating\n",
    "\n",
    "With integers (or real numbers), it is possible to specify a C-like formatting code:"
   ]
  },
  {
   "cell_type": "code",
   "execution_count": 9,
   "metadata": {
    "collapsed": false,
    "slideshow": {
     "slide_type": "-"
    }
   },
   "outputs": [
    {
     "name": "stderr",
     "output_type": "stream",
     "text": [
      "# [2019/08/27-18:10:22][vortex.data.stores][inarchiveget:1199][INFO]: inarchiveget on vortex://vsop.archive.fr//home/m/mxpt/mxpt001/vortex/arpege/pearp/DBLE/2017/06/01/T1800P/mb002/forecast/grid.arpege-forecast.euroc25+0003:00.grib (to: GRIB_EUROC25_0002+0003:00)\n",
      "# [2019/08/27-18:10:22][vortex.tools.storage][_ftpretrieve:0690][INFO]: ftpget on ftp://hendrix.meteo.fr//home/m/mxpt/mxpt001/vortex/arpege/pearp/DBLE/2017/06/01/T1800P/mb002/forecast/grid.arpege-forecast.euroc25+0003:00.grib (to: GRIB_EUROC25_0002+0003:00)\n",
      "# [2019/08/27-18:10:22][vortex.tools.net][get:0268][INFO]: FTP <get:/home/m/mxpt/mxpt001/vortex/arpege/pearp/DBLE/2017/06/01/T1800P/mb002/forecast/grid.arpege-forecast.euroc25+0003:00.grib>\n"
     ]
    },
    {
     "name": "stdout",
     "output_type": "stream",
     "text": [
      "GRIB_EUROC25_0002+0003:00\r\n"
     ]
    },
    {
     "data": {
      "text/plain": [
       "True"
      ]
     },
     "execution_count": 9,
     "metadata": {},
     "output_type": "execute_result"
    }
   ],
   "source": [
    "rhandlers = toolbox.input(# Section\n",
    "                          role='InitialCondition', fatal=True, intent='inout',\n",
    "                          # Resource\n",
    "                          kind='gridpoint', term=3, origin='historic', nativefmt='grib',\n",
    "                          # Provider\n",
    "                          member=2, experiment='DBLE', namespace='vortex.archive.fr',\n",
    "                          block='forecast',\n",
    "                          # Container\n",
    "                          local='GRIB_[geometry:area]_[member%04d]+[term:fmthm]', format='grib')\n",
    "%ls\n",
    "rhandlers[0].clear()  # Cleanup"
   ]
  },
  {
   "cell_type": "markdown",
   "metadata": {
    "collapsed": true,
    "slideshow": {
     "slide_type": "subslide"
    }
   },
   "source": [
    "### Making use of more complex methods\n",
    "\n",
    "For example, it is possible to perform calculation with a **Date** object. Here, we would like to add the forecast term to the date in order to obtain the validity date:"
   ]
  },
  {
   "cell_type": "code",
   "execution_count": 10,
   "metadata": {
    "collapsed": false
   },
   "outputs": [
    {
     "name": "stderr",
     "output_type": "stream",
     "text": [
      "# [2019/08/27-18:10:23][vortex.data.stores][inarchiveget:1199][INFO]: inarchiveget on vortex://vsop.archive.fr//home/m/mxpt/mxpt001/vortex/arpege/pearp/DBLE/2017/06/01/T1800P/mb002/forecast/grid.arpege-forecast.euroc25+0003:00.grib (to: GRIB_EUROC25_2017060121_0002)\n",
      "# [2019/08/27-18:10:23][vortex.tools.storage][_ftpretrieve:0690][INFO]: ftpget on ftp://hendrix.meteo.fr//home/m/mxpt/mxpt001/vortex/arpege/pearp/DBLE/2017/06/01/T1800P/mb002/forecast/grid.arpege-forecast.euroc25+0003:00.grib (to: GRIB_EUROC25_2017060121_0002)\n",
      "# [2019/08/27-18:10:23][vortex.tools.net][get:0268][INFO]: FTP <get:/home/m/mxpt/mxpt001/vortex/arpege/pearp/DBLE/2017/06/01/T1800P/mb002/forecast/grid.arpege-forecast.euroc25+0003:00.grib>\n"
     ]
    },
    {
     "name": "stdout",
     "output_type": "stream",
     "text": [
      "GRIB_EUROC25_2017060121_0002\r\n"
     ]
    },
    {
     "data": {
      "text/plain": [
       "True"
      ]
     },
     "execution_count": 10,
     "metadata": {},
     "output_type": "execute_result"
    }
   ],
   "source": [
    "rhandlers = toolbox.input(# Section\n",
    "                          role='InitialCondition', fatal=True, intent='inout',\n",
    "                          # Resource\n",
    "                          kind='gridpoint', term=3, origin='historic', nativefmt='grib',\n",
    "                          # Provider\n",
    "                          member=2, experiment='DBLE', namespace='vortex.archive.fr',\n",
    "                          block='forecast',\n",
    "                          # Container\n",
    "                          local='GRIB_[geometry:area]_[date:addterm_ymdh]_[member%04d]',\n",
    "                          format='grib')\n",
    "%ls\n",
    "rhandlers[0].clear()  # Cleanup"
   ]
  },
  {
   "cell_type": "markdown",
   "metadata": {
    "slideshow": {
     "slide_type": "slide"
    }
   },
   "source": [
    "## Footprints' expansion mechanism (in action)\n",
    "\n",
    "Until now, we have retrieved data one by one. This could become tedious for tasks that requires a lot of input data.\n",
    "\n",
    "The expansion mechanism, that takes place before footprints resolution, allows to create a large number of resource descriptions starting form a single concise description."
   ]
  },
  {
   "cell_type": "markdown",
   "metadata": {
    "slideshow": {
     "slide_type": "subslide"
    }
   },
   "source": [
    "### List expansion\n",
    "\n",
    "(hint: look at the *term* attribute)"
   ]
  },
  {
   "cell_type": "code",
   "execution_count": 11,
   "metadata": {
    "collapsed": false
   },
   "outputs": [
    {
     "name": "stdout",
     "output_type": "stream",
     "text": [
      "GRIB_EUROC25_0002+0000:00  GRIB_EUROC25_0002+0003:00  GRIB_EUROC25_0002+0006:00\r\n"
     ]
    }
   ],
   "source": [
    "rhandlers = toolbox.input(loglevel='warning',  # Decrease the logging verbosity\n",
    "                          # Section\n",
    "                          role='InitialCondition', fatal=True, intent='inout',\n",
    "                          # Resource\n",
    "                          kind='gridpoint', term=[0,3,6], origin='historic', nativefmt='grib',\n",
    "                          # Provider\n",
    "                          member=2, experiment='DBLE', namespace='vortex.archive.fr',\n",
    "                          block='forecast',\n",
    "                          # Container\n",
    "                          local='GRIB_[geometry:area]_[member%04d]+[term:fmthm]', format='grib')\n",
    "%ls\n",
    "for rhandler in rhandlers:\n",
    "    rhandler.clear()  # Cleanup"
   ]
  },
  {
   "cell_type": "markdown",
   "metadata": {
    "slideshow": {
     "slide_type": "subslide"
    }
   },
   "source": [
    "### A fairly simple mechanism...\n",
    "\n",
    "The \"expansion\" is performed by a unique **footprints**' utility function: **footprints.util.expand**. It accepts a single input dictionary and returns a list of dictionaries. With the previous example, it gives:"
   ]
  },
  {
   "cell_type": "code",
   "execution_count": 12,
   "metadata": {
    "collapsed": false
   },
   "outputs": [
    {
     "name": "stdout",
     "output_type": "stream",
     "text": [
      ">>>Dictionaire #0\n",
      "{'term': 0, 'local': 'GRIB_[geometry:area]_[member%04d]+[term:fmthm]', 'kind': 'gridpoint', 'block': 'forecast', 'origin': 'historic', 'experiment': 'DBLE', 'namespace': 'vortex.archive.fr', 'format': 'grib', 'nativefmt': 'grib', 'member': 2}\n",
      ">>>Dictionaire #1\n",
      "{'term': 3, 'local': 'GRIB_[geometry:area]_[member%04d]+[term:fmthm]', 'kind': 'gridpoint', 'block': 'forecast', 'origin': 'historic', 'experiment': 'DBLE', 'namespace': 'vortex.archive.fr', 'format': 'grib', 'nativefmt': 'grib', 'member': 2}\n",
      ">>>Dictionaire #2\n",
      "{'term': 6, 'local': 'GRIB_[geometry:area]_[member%04d]+[term:fmthm]', 'kind': 'gridpoint', 'block': 'forecast', 'origin': 'historic', 'experiment': 'DBLE', 'namespace': 'vortex.archive.fr', 'format': 'grib', 'nativefmt': 'grib', 'member': 2}\n"
     ]
    }
   ],
   "source": [
    "input_dict = dict(kind='gridpoint', term=[0,3,6], origin='historic', nativefmt='grib',\n",
    "                  member=2, experiment='DBLE', namespace='vortex.archive.fr', block='forecast',\n",
    "                  local='GRIB_[geometry:area]_[member%04d]+[term:fmthm]', format='grib')\n",
    "for i, a_dict in enumerate(fp.util.expand(input_dict)):\n",
    "    print(\">>>Dictionaire #{:d}\".format(i))\n",
    "    print(a_dict)"
   ]
  },
  {
   "cell_type": "markdown",
   "metadata": {},
   "source": [
    "As a consequence, using the expansion mechanism is entirely equivalent to manualy creating N sections via the functions of the **toolbox** module..."
   ]
  },
  {
   "cell_type": "markdown",
   "metadata": {
    "slideshow": {
     "slide_type": "subslide"
    }
   },
   "source": [
    "### Other example: lists expressed as characters string\n",
    "\n",
    "(hint: look at the *term* attribute)"
   ]
  },
  {
   "cell_type": "code",
   "execution_count": 13,
   "metadata": {
    "collapsed": false
   },
   "outputs": [
    {
     "name": "stdout",
     "output_type": "stream",
     "text": [
      "GRIB_EUROC25_0002+0000:00  GRIB_EUROC25_0002+0003:00  GRIB_EUROC25_0002+0006:00\r\n"
     ]
    }
   ],
   "source": [
    "rhandlers = toolbox.input(loglevel='warning',  # Decrease the logging verbosity\n",
    "                          # Section\n",
    "                          role='InitialCondition', fatal=True, intent='inout',\n",
    "                          # Resource\n",
    "                          kind='gridpoint', term='0,3,6', origin='historic', nativefmt='grib',\n",
    "                          # Provider\n",
    "                          member=2, experiment='DBLE', namespace='vortex.archive.fr',\n",
    "                          block='forecast',\n",
    "                          # Container\n",
    "                          local='GRIB_[geometry:area]_[member%04d]+[term:fmthm]', format='grib')\n",
    "%ls\n",
    "for rhandler in rhandlers:\n",
    "    rhandler.clear()  # Nettoyage"
   ]
  },
  {
   "cell_type": "markdown",
   "metadata": {
    "slideshow": {
     "slide_type": "subslide"
    }
   },
   "source": [
    "### Other example: Rangex\n",
    "\n",
    "(hint: look at the *term* attribute)"
   ]
  },
  {
   "cell_type": "code",
   "execution_count": 14,
   "metadata": {
    "collapsed": false
   },
   "outputs": [
    {
     "name": "stdout",
     "output_type": "stream",
     "text": [
      "GRIB_EUROC25_0002+0000:00  GRIB_EUROC25_0002+0006:00  GRIB_EUROC25_0002+0012:00\r\n",
      "GRIB_EUROC25_0002+0003:00  GRIB_EUROC25_0002+0009:00\r\n"
     ]
    }
   ],
   "source": [
    "rhandlers = toolbox.input(loglevel='warning',  # Decrease the logging verbosity\n",
    "                          # Section\n",
    "                          role='InitialCondition', fatal=True, intent='inout',\n",
    "                          # Resource\n",
    "                          kind='gridpoint', term=fp.util.rangex('0-12-3'), origin='historic', nativefmt='grib',\n",
    "                          # Provider\n",
    "                          member=2, experiment='DBLE', namespace='vortex.archive.fr',\n",
    "                          block='forecast',\n",
    "                          # Container\n",
    "                          local='GRIB_[geometry:area]_[member%04d]+[term:fmthm]', format='grib')\n",
    "%ls\n",
    "for rhandler in rhandlers:\n",
    "    rhandler.clear()  # Nettoyage"
   ]
  },
  {
   "cell_type": "markdown",
   "metadata": {
    "slideshow": {
     "slide_type": "subslide"
    }
   },
   "source": [
    "Here are some usage example of the *rangex* function:"
   ]
  },
  {
   "cell_type": "code",
   "execution_count": 15,
   "metadata": {
    "collapsed": false
   },
   "outputs": [
    {
     "name": "stdout",
     "output_type": "stream",
     "text": [
      "[0, 3, 6, 9, 12]\n",
      "[24, 27, 30, 33, 36]\n"
     ]
    }
   ],
   "source": [
    "print(fp.util.rangex(0, 12, 3))\n",
    "print(fp.util.rangex('0-12-3', shift=24))"
   ]
  },
  {
   "cell_type": "markdown",
   "metadata": {},
   "source": [
    "With hours and minutes:"
   ]
  },
  {
   "cell_type": "code",
   "execution_count": 16,
   "metadata": {
    "collapsed": false
   },
   "outputs": [
    {
     "name": "stdout",
     "output_type": "stream",
     "text": [
      "['0000:00', '0000:30', '0001:00', '0001:30', '0002:00', '0002:30', '0003:00']\n"
     ]
    }
   ],
   "source": [
    "print(fp.util.rangex('0:00', '3:00', '0:30'))"
   ]
  },
  {
   "cell_type": "markdown",
   "metadata": {},
   "source": [
    "With a more complex string:"
   ]
  },
  {
   "cell_type": "code",
   "execution_count": 17,
   "metadata": {
    "collapsed": false
   },
   "outputs": [
    {
     "name": "stdout",
     "output_type": "stream",
     "text": [
      "[0, 3, 6, 9, 12, 18, 24, 30, 36, 48]\n"
     ]
    }
   ],
   "source": [
    "print(fp.util.rangex('0-12-3,18-36-6,48'))"
   ]
  },
  {
   "cell_type": "markdown",
   "metadata": {
    "slideshow": {
     "slide_type": "subslide"
    }
   },
   "source": [
    "### Globbing\n",
    "\n",
    "The idea is to observe the content of the current directory to build variables by analysing the name of some of the files..."
   ]
  },
  {
   "cell_type": "code",
   "execution_count": 18,
   "metadata": {
    "collapsed": true
   },
   "outputs": [],
   "source": [
    "for tfile in ('f_euroc25_0001:00', 'f_euroc25_0002:00', 'f_glob25_0002:00', 'f_a_trap'):\n",
    "    sh.touch(tfile)"
   ]
  },
  {
   "cell_type": "code",
   "execution_count": 19,
   "metadata": {
    "collapsed": false
   },
   "outputs": [
    {
     "name": "stdout",
     "output_type": "stream",
     "text": [
      "From: f_euroc25_0001:00\n",
      "To:   meunierlf@hendrix.meteo.fr:/home/m/marp/marp999/vortex/arpege/pearp/A/B/C/D/20170601T1800P/mb002/forecast/grid.arpege-forecast.euroc25+0001:00.grib\n",
      "From: f_euroc25_0002:00\n",
      "To:   meunierlf@hendrix.meteo.fr:/home/m/marp/marp999/vortex/arpege/pearp/A/B/C/D/20170601T1800P/mb002/forecast/grid.arpege-forecast.euroc25+0002:00.grib\n",
      "From: f_glob25_0002:00\n",
      "To:   meunierlf@hendrix.meteo.fr:/home/m/marp/marp999/vortex/arpege/pearp/A/B/C/D/20170601T1800P/mb002/forecast/grid.arpege-forecast.glob25+0002:00.grib\n"
     ]
    }
   ],
   "source": [
    "rhandlers = toolbox.output(# Method/Section\n",
    "                           now=False, role='GridpointData',\n",
    "                           # Resource\n",
    "                           geometry='[glob:g]', term='[glob:t]',\n",
    "                           kind='gridpoint', origin='historic', nativefmt='grib',\n",
    "                           # Provider\n",
    "                           member=2, experiment='ABCD', namespace='vortex.archive.fr',\n",
    "                           block='forecast',\n",
    "                           # Container\n",
    "                           local='f_{glob:g:\\w+}_{glob:t:\\d+:\\d+}', format='grib')\n",
    "for rhandler in rhandlers:\n",
    "    print('From:', rhandler.container.localpath())\n",
    "    print('To:  ', rhandler.locate())"
   ]
  },
  {
   "cell_type": "code",
   "execution_count": 20,
   "metadata": {
    "collapsed": true,
    "slideshow": {
     "slide_type": "skip"
    }
   },
   "outputs": [],
   "source": [
    "sh.rmall('f_*')"
   ]
  },
  {
   "cell_type": "markdown",
   "metadata": {
    "slideshow": {
     "slide_type": "slide"
    }
   },
   "source": [
    "## A small representative example"
   ]
  },
  {
   "cell_type": "code",
   "execution_count": 21,
   "metadata": {
    "collapsed": false
   },
   "outputs": [
    {
     "name": "stdout",
     "output_type": "stream",
     "text": [
      "GRIB_EUROC25_0002+0000:00  GRIB_EUROC25_0002+0012:00  GRIB_GLOB05_0002+0009:00\r\n",
      "GRIB_EUROC25_0002+0003:00  GRIB_GLOB05_0002+0000:00   GRIB_GLOB05_0002+0012:00\r\n",
      "GRIB_EUROC25_0002+0006:00  GRIB_GLOB05_0002+0003:00\r\n",
      "GRIB_EUROC25_0002+0009:00  GRIB_GLOB05_0002+0006:00\r\n"
     ]
    }
   ],
   "source": [
    "rhandlers = toolbox.input(# Method/ection\n",
    "                          loglevel='warning', role='InitialCondition', fatal=True, intent='inout',\n",
    "                          # Resource\n",
    "                          geometry='euroc25,glob05', term=fp.util.rangex('0-12-3'),\n",
    "                          kind='gridpoint', origin='historic', nativefmt='grib',\n",
    "                          # Provider\n",
    "                          member=2, experiment='DBLE', namespace='vortex.archive.fr',\n",
    "                          block='forecast',\n",
    "                          # Container\n",
    "                          local='GRIB_[geometry:area]_[member%04d]+[term:fmthm]', format='grib')\n",
    "%ls\n",
    "for rhandler in rhandlers:\n",
    "    rhandler.clear()  # Cleanup"
   ]
  },
  {
   "cell_type": "markdown",
   "metadata": {
    "collapsed": true
   },
   "source": [
    "\n",
    "Any questions : *vortex.support@meteo.fr*"
   ]
  }
 ],
 "metadata": {
  "celltoolbar": "Slideshow",
  "kernelspec": {
   "display_name": "Python 3",
   "language": "python",
   "name": "python3"
  },
  "language_info": {
   "codemirror_mode": {
    "name": "ipython",
    "version": 3
   },
   "file_extension": ".py",
   "mimetype": "text/x-python",
   "name": "python",
   "nbconvert_exporter": "python",
   "pygments_lexer": "ipython3",
   "version": "3.5.3"
  }
 },
 "nbformat": 4,
 "nbformat_minor": 1
}
