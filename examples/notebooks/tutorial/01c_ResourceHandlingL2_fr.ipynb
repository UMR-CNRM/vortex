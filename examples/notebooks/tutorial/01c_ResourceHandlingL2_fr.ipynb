{
 "cells": [
  {
   "cell_type": "markdown",
   "metadata": {
    "slideshow": {
     "slide_type": "slide"
    }
   },
   "source": [
    "# Manipulation de ressources dans Vortex (bis)"
   ]
  },
  {
   "cell_type": "markdown",
   "metadata": {
    "slideshow": {
     "slide_type": "slide"
    }
   },
   "source": [
    "Dans le premier notebook/présentation, la façon dont Vortex fut \"chargé\" était occultée. Ici, soyons plus exlicites : puisque la présentation utilise les notebooks Jupyter et donc IPython, nous utilisons l'extension IPython développée spécialement pour Vortex.\n",
    "\n",
    "Cette extension se nomme *ivortex* et se trouve dans le sous-répertoire ``project`` de la distribution de Vortex. Elle étend les commandes habituelles du shell IPython (la commande \"magique\" ``%vortex tmpcocoon`` permet de charger Vortex et de se placer dans un répertoire temporaire qui sera détruit en fin d'exécution)."
   ]
  },
  {
   "cell_type": "code",
   "execution_count": 1,
   "metadata": {
    "collapsed": false
   },
   "outputs": [
    {
     "name": "stderr",
     "output_type": "stream",
     "text": [
      "# [2019/01/17-11:39:50][vortex.sessions][_set_rundir:0152][WARNING]: Session <root> is changing its working directory </sauvegarde/stage-vortex/presentation/nb>\n",
      "# [2019/01/17-11:39:50][vortex.sessions][_set_rundir:0155][INFO]: Session <root> set rundir </home/meunierlf/vortex-workdir/auto_cocoon_dvgz79wa>\n"
     ]
    },
    {
     "name": "stdout",
     "output_type": "stream",
     "text": [
      "Vortex 1.6.0 loaded ( Thursday 17. January 2019, at 11:39:49 )\n",
      "The working directory is now: /home/meunierlf/vortex-workdir/auto_cocoon_dvgz79wa/root\n"
     ]
    },
    {
     "data": {
      "text/plain": [
       "'/home/meunierlf/vortex-workdir/auto_cocoon_dvgz79wa'"
      ]
     },
     "execution_count": 1,
     "metadata": {},
     "output_type": "execute_result"
    }
   ],
   "source": [
    "%load_ext ivortex\n",
    "%vortex tmpcocoon"
   ]
  },
  {
   "cell_type": "markdown",
   "metadata": {},
   "source": [
    "Note: Un peu plus détail est donné dans la documentation. Voir: [Notebooks Summary > Working with Vortex in IPython and Notebooks](http://intra.cnrm.meteo.fr/algopy/sphinx/vortex/current/notebooks/00_ipython_and_notebooks_howto.html)."
   ]
  },
  {
   "cell_type": "markdown",
   "metadata": {
    "slideshow": {
     "slide_type": "slide"
    }
   },
   "source": [
    "## Exemple précédement utilisé..."
   ]
  },
  {
   "cell_type": "code",
   "execution_count": 2,
   "metadata": {
    "collapsed": false
   },
   "outputs": [
    {
     "name": "stdout",
     "output_type": "stream",
     "text": [
      "[<vortex.data.handlers.Handler object at 0x7f9ab802c2b0>]\n"
     ]
    },
    {
     "data": {
      "text/plain": [
       "True"
      ]
     },
     "execution_count": 2,
     "metadata": {},
     "output_type": "execute_result"
    }
   ],
   "source": [
    "rhandlers = toolbox.input(# Input function options\n",
    "                          verbose=False,\n",
    "                          # Section\n",
    "                          role='InitialCondition', fatal=True, intent='inout',\n",
    "                          # Resource\n",
    "                          kind='gridpoint', term=3, geometry='euroc25',\n",
    "                          nativefmt='grib', model='arpege', \n",
    "                          cutoff='production', date='2017060118',\n",
    "                          origin='historic',\n",
    "                          # Provider\n",
    "                          vapp='arpege', vconf='pearp', member=2,\n",
    "                          experiment='DBLE', namespace='vortex.archive.fr',\n",
    "                          block='forecast',\n",
    "                          # Container\n",
    "                          local='my_pearp_gribfile', format='grib')\n",
    "print(rhandlers)\n",
    "rhandlers[0].clear()  # Nettoyage"
   ]
  },
  {
   "cell_type": "markdown",
   "metadata": {
    "slideshow": {
     "slide_type": "-"
    }
   },
   "source": [
    "On comprend désormais mieux ce qui se passe : le package **footprints** est utilisé pour créer les objets *resource*, *provider* et *container*."
   ]
  },
  {
   "cell_type": "markdown",
   "metadata": {
    "slideshow": {
     "slide_type": "slide"
    }
   },
   "source": [
    "## Utilisation de valeurs pré-définies\n",
    "\n",
    "La plupart des scripts Vortex définissent des valeurs pré-définies (que ce soient les scripts Olive ou opérationels). Faisons la même chose ici :"
   ]
  },
  {
   "cell_type": "code",
   "execution_count": 3,
   "metadata": {
    "collapsed": true
   },
   "outputs": [],
   "source": [
    "# Le module toolbox fournit un raccourci vers le setup de footprints\n",
    "import bronx\n",
    "toolbox.defaults(\n",
    "    date = bronx.stdtypes.date.Date('2017060118'),\n",
    "    cutoff = 'production',\n",
    "    model = 'arpege',\n",
    "    geometry = vortex.data.geometries.get(tag='euroc25'),\n",
    ")\n",
    "# On peut également préciser un vapp/vconf par défaut\n",
    "t.glove.vapp = 'arpege'\n",
    "t.glove.vconf = 'pearp'  # En l'état de nos connaissances, je ne peux expliquer cela...\n"
   ]
  },
  {
   "cell_type": "markdown",
   "metadata": {},
   "source": [
    "On en profite pour paramétrer correctement le module **toolbox**"
   ]
  },
  {
   "cell_type": "code",
   "execution_count": 4,
   "metadata": {
    "collapsed": true
   },
   "outputs": [],
   "source": [
    "toolbox.active_now = True\n",
    "toolbox.active_verbose = False"
   ]
  },
  {
   "cell_type": "markdown",
   "metadata": {
    "slideshow": {
     "slide_type": "subslide"
    }
   },
   "source": [
    "Cela permet de grandement simplifier la définition du _resource's Handler_ :"
   ]
  },
  {
   "cell_type": "code",
   "execution_count": 6,
   "metadata": {
    "collapsed": false
   },
   "outputs": [
    {
     "name": "stderr",
     "output_type": "stream",
     "text": [
      "# [2019/01/17-11:40:03][vortex.data.handlers][_get_proxy:0682][WARNING]: The resource is already here: That should not happen at this stage !\n",
      "# [2019/01/17-11:40:03][vortex.data.handlers][_get_proxy:0682][WARNING]: The resource is already here: That should not happen at this stage !\n",
      "# [2019/01/17-11:40:03][vortex.data.stores][inarchiveget:1199][INFO]: inarchiveget on vortex://vsop.archive.fr//home/m/mxpt/mxpt001/vortex/arpege/pearp/DBLE/2017/06/01/T1800P/mb002/forecast/grid.arpege-forecast.euroc25+0003:00.grib (to: my_pearp_gribfile)\n",
      "# [2019/01/17-11:40:03][vortex.tools.storage][_ftpretrieve:0690][INFO]: ftpget on ftp://hendrix.meteo.fr//home/m/mxpt/mxpt001/vortex/arpege/pearp/DBLE/2017/06/01/T1800P/mb002/forecast/grid.arpege-forecast.euroc25+0003:00.grib (to: my_pearp_gribfile)\n",
      "# [2019/01/17-11:40:04][vortex.tools.net][get:0266][INFO]: FTP <get:/home/m/mxpt/mxpt001/vortex/arpege/pearp/DBLE/2017/06/01/T1800P/mb002/forecast/grid.arpege-forecast.euroc25+0003:00.grib>\n"
     ]
    },
    {
     "name": "stdout",
     "output_type": "stream",
     "text": [
      "[<vortex.data.handlers.Handler object at 0x7f9aab081a90>]\n"
     ]
    },
    {
     "data": {
      "text/plain": [
       "True"
      ]
     },
     "execution_count": 6,
     "metadata": {},
     "output_type": "execute_result"
    }
   ],
   "source": [
    "rhandlers = toolbox.input(# Section\n",
    "                          role='InitialCondition', fatal=True, intent='inout',\n",
    "                          # Resource\n",
    "                          kind='gridpoint', term=3, origin='historic', nativefmt='grib',\n",
    "                          # Provider\n",
    "                          member=2, experiment='DBLE', namespace='vortex.archive.fr',\n",
    "                          block='forecast',\n",
    "                          # Container\n",
    "                          local='my_pearp_gribfile', format='grib')\n",
    "print(rhandlers)\n",
    "rhandlers[0].clear()  # Nettoyage"
   ]
  },
  {
   "cell_type": "markdown",
   "metadata": {
    "slideshow": {
     "slide_type": "slide"
    }
   },
   "source": [
    "## Le mécanisme de substitution de footprints (en pratique)\n",
    "\n",
    "Souvent, certains attributs sont construits à partir d'autres... Par exemple, on aimerait que le nom du fichier GRIB local dépende du domaine, de l'échéance, du numéro de membre, ...\n",
    "\n",
    "Rien de plus simple avec le mécanisme de substitution de footprints."
   ]
  },
  {
   "cell_type": "code",
   "execution_count": 7,
   "metadata": {
    "collapsed": false,
    "slideshow": {
     "slide_type": "subslide"
    }
   },
   "outputs": [
    {
     "name": "stderr",
     "output_type": "stream",
     "text": [
      "# [2019/01/17-11:40:07][vortex.data.stores][inarchiveget:1199][INFO]: inarchiveget on vortex://vsop.archive.fr//home/m/mxpt/mxpt001/vortex/arpege/pearp/DBLE/2017/06/01/T1800P/mb002/forecast/grid.arpege-forecast.euroc25+0003:00.grib (to: GRIB_<vortex.data.geometries.LonlatGeometry | tag='euroc25' id='Large european BDAP target' area='EUROC25' r='02dg500'>_002+03:00)\n",
      "# [2019/01/17-11:40:07][vortex.tools.storage][_ftpretrieve:0690][INFO]: ftpget on ftp://hendrix.meteo.fr//home/m/mxpt/mxpt001/vortex/arpege/pearp/DBLE/2017/06/01/T1800P/mb002/forecast/grid.arpege-forecast.euroc25+0003:00.grib (to: GRIB_<vortex.data.geometries.LonlatGeometry | tag='euroc25' id='Large european BDAP target' area='EUROC25' r='02dg500'>_002+03:00)\n",
      "# [2019/01/17-11:40:08][vortex.tools.net][get:0266][INFO]: FTP <get:/home/m/mxpt/mxpt001/vortex/arpege/pearp/DBLE/2017/06/01/T1800P/mb002/forecast/grid.arpege-forecast.euroc25+0003:00.grib>\n"
     ]
    },
    {
     "name": "stdout",
     "output_type": "stream",
     "text": [
      "'GRIB_<vortex.data.geometries.LonlatGeometry | tag='\\''euroc25'\\'' id='\\''Large european BDAP target'\\'' area='\\''EUROC25'\\'' r='\\''02dg500'\\''>_002+03:00'\r\n"
     ]
    },
    {
     "data": {
      "text/plain": [
       "True"
      ]
     },
     "execution_count": 7,
     "metadata": {},
     "output_type": "execute_result"
    }
   ],
   "source": [
    "rhandlers = toolbox.input(# Section\n",
    "                          role='InitialCondition', fatal=True, intent='inout',\n",
    "                          # Resource\n",
    "                          kind='gridpoint', term=3, origin='historic', nativefmt='grib',\n",
    "                          # Provider\n",
    "                          member=2, experiment='DBLE', namespace='vortex.archive.fr',\n",
    "                          block='forecast',\n",
    "                          # Container\n",
    "                          local='GRIB_[geometry]_[member]+[term]', format='grib')\n",
    "%ls\n",
    "rhandlers[0].clear()  # Nettoyage"
   ]
  },
  {
   "cell_type": "markdown",
   "metadata": {},
   "source": [
    "* Le mécanisme de substitution est déclenché, dans des chaînes de caractères, par la syntaxe ``[quelquechose]``\n"
   ]
  },
  {
   "cell_type": "markdown",
   "metadata": {
    "slideshow": {
     "slide_type": "fragment"
    }
   },
   "source": [
    "Le résultat est très mitigé...\n",
    "\n",
    "* Le format utilisé pour la géométrie ne convient pas du tout.\n",
    "* Nous n'avons pas choisi le formatage pour le membre et l'échéance"
   ]
  },
  {
   "cell_type": "markdown",
   "metadata": {
    "slideshow": {
     "slide_type": "subslide"
    }
   },
   "source": [
    "### Utilisation du type des attributs\n",
    "\n",
    "* La géométrie est un objet ayant un type bien défini dans Vortex. On peut donc utiliser ses attributs pour arriver à un nom plus satisfaisant :\n",
    "\n"
   ]
  },
  {
   "cell_type": "code",
   "execution_count": 8,
   "metadata": {
    "collapsed": false
   },
   "outputs": [
    {
     "name": "stdout",
     "output_type": "stream",
     "text": [
      "Type d'une géométrie: <class 'vortex.data.geometries.LonlatGeometry'>\n",
      "La zone couverte par la geometrie (au sens de la BDAP): EUROC25\n"
     ]
    }
   ],
   "source": [
    "geo = vortex.data.geometries.Geometry('euroc25')\n",
    "print(\"Type d'une géométrie:\", type(geo))  # Cela dépend de la géométries; globales, latlon, ...\n",
    "print(\"La zone couverte par la geometrie (au sens de la BDAP):\", geo.area)"
   ]
  },
  {
   "cell_type": "markdown",
   "metadata": {},
   "source": [
    "* L'attribut *term* est de type **bronx.stdtypes.date.Time**, on aimerait utiliser ses attributs et *properties* pour formater l'échéance."
   ]
  },
  {
   "cell_type": "code",
   "execution_count": 9,
   "metadata": {
    "collapsed": false,
    "slideshow": {
     "slide_type": "subslide"
    }
   },
   "outputs": [
    {
     "name": "stderr",
     "output_type": "stream",
     "text": [
      "# [2019/01/17-11:40:13][vortex.data.stores][inarchiveget:1199][INFO]: inarchiveget on vortex://vsop.archive.fr//home/m/mxpt/mxpt001/vortex/arpege/pearp/DBLE/2017/06/01/T1800P/mb002/forecast/grid.arpege-forecast.euroc25+0003:00.grib (to: GRIB_EUROC25_002+0003:00)\n",
      "# [2019/01/17-11:40:13][vortex.tools.storage][_ftpretrieve:0690][INFO]: ftpget on ftp://hendrix.meteo.fr//home/m/mxpt/mxpt001/vortex/arpege/pearp/DBLE/2017/06/01/T1800P/mb002/forecast/grid.arpege-forecast.euroc25+0003:00.grib (to: GRIB_EUROC25_002+0003:00)\n",
      "# [2019/01/17-11:40:14][vortex.tools.net][get:0266][INFO]: FTP <get:/home/m/mxpt/mxpt001/vortex/arpege/pearp/DBLE/2017/06/01/T1800P/mb002/forecast/grid.arpege-forecast.euroc25+0003:00.grib>\n"
     ]
    },
    {
     "name": "stdout",
     "output_type": "stream",
     "text": [
      "GRIB_EUROC25_002+0003:00\r\n"
     ]
    },
    {
     "data": {
      "text/plain": [
       "True"
      ]
     },
     "execution_count": 9,
     "metadata": {},
     "output_type": "execute_result"
    }
   ],
   "source": [
    "rhandlers = toolbox.input(# Section\n",
    "                          role='InitialCondition', fatal=True, intent='inout',\n",
    "                          # Resource\n",
    "                          kind='gridpoint', term=3, origin='historic', nativefmt='grib',\n",
    "                          # Provider\n",
    "                          member=2, experiment='DBLE', namespace='vortex.archive.fr',\n",
    "                          block='forecast',\n",
    "                          # Container\n",
    "                          local='GRIB_[geometry:area]_[member]+[term:fmthm]', format='grib')\n",
    "%ls\n",
    "rhandlers[0].clear()  # Nettoyage"
   ]
  },
  {
   "cell_type": "markdown",
   "metadata": {
    "slideshow": {
     "slide_type": "subslide"
    }
   },
   "source": [
    "### Formatage des entiers\n",
    "\n",
    "Avec des entiers (ou réels), on peut utiliser les codes de formatage classiques :"
   ]
  },
  {
   "cell_type": "code",
   "execution_count": 10,
   "metadata": {
    "collapsed": false,
    "slideshow": {
     "slide_type": "-"
    }
   },
   "outputs": [
    {
     "name": "stderr",
     "output_type": "stream",
     "text": [
      "# [2019/01/17-11:40:17][vortex.data.stores][inarchiveget:1199][INFO]: inarchiveget on vortex://vsop.archive.fr//home/m/mxpt/mxpt001/vortex/arpege/pearp/DBLE/2017/06/01/T1800P/mb002/forecast/grid.arpege-forecast.euroc25+0003:00.grib (to: GRIB_EUROC25_0002+0003:00)\n",
      "# [2019/01/17-11:40:17][vortex.tools.storage][_ftpretrieve:0690][INFO]: ftpget on ftp://hendrix.meteo.fr//home/m/mxpt/mxpt001/vortex/arpege/pearp/DBLE/2017/06/01/T1800P/mb002/forecast/grid.arpege-forecast.euroc25+0003:00.grib (to: GRIB_EUROC25_0002+0003:00)\n",
      "# [2019/01/17-11:40:19][vortex.tools.net][get:0266][INFO]: FTP <get:/home/m/mxpt/mxpt001/vortex/arpege/pearp/DBLE/2017/06/01/T1800P/mb002/forecast/grid.arpege-forecast.euroc25+0003:00.grib>\n"
     ]
    },
    {
     "name": "stdout",
     "output_type": "stream",
     "text": [
      "GRIB_EUROC25_0002+0003:00\r\n"
     ]
    },
    {
     "data": {
      "text/plain": [
       "True"
      ]
     },
     "execution_count": 10,
     "metadata": {},
     "output_type": "execute_result"
    }
   ],
   "source": [
    "rhandlers = toolbox.input(# Section\n",
    "                          role='InitialCondition', fatal=True, intent='inout',\n",
    "                          # Resource\n",
    "                          kind='gridpoint', term=3, origin='historic', nativefmt='grib',\n",
    "                          # Provider\n",
    "                          member=2, experiment='DBLE', namespace='vortex.archive.fr',\n",
    "                          block='forecast',\n",
    "                          # Container\n",
    "                          local='GRIB_[geometry:area]_[member%04d]+[term:fmthm]', format='grib')\n",
    "%ls\n",
    "rhandlers[0].clear()  # Nettoyage"
   ]
  },
  {
   "cell_type": "markdown",
   "metadata": {
    "collapsed": true,
    "slideshow": {
     "slide_type": "subslide"
    }
   },
   "source": [
    "### Utilisation de méthodes plus complexes\n",
    "\n",
    "On peut par exemple demander à un objet **Date** de faire des calculs. Ici on ajoute l'échéance à la date, afin d'obtenir la date de validité."
   ]
  },
  {
   "cell_type": "code",
   "execution_count": 11,
   "metadata": {
    "collapsed": false
   },
   "outputs": [
    {
     "name": "stderr",
     "output_type": "stream",
     "text": [
      "# [2019/01/17-11:40:22][vortex.data.stores][inarchiveget:1199][INFO]: inarchiveget on vortex://vsop.archive.fr//home/m/mxpt/mxpt001/vortex/arpege/pearp/DBLE/2017/06/01/T1800P/mb002/forecast/grid.arpege-forecast.euroc25+0003:00.grib (to: GRIB_EUROC25_2017060121_0002)\n",
      "# [2019/01/17-11:40:22][vortex.tools.storage][_ftpretrieve:0690][INFO]: ftpget on ftp://hendrix.meteo.fr//home/m/mxpt/mxpt001/vortex/arpege/pearp/DBLE/2017/06/01/T1800P/mb002/forecast/grid.arpege-forecast.euroc25+0003:00.grib (to: GRIB_EUROC25_2017060121_0002)\n",
      "# [2019/01/17-11:40:22][vortex.tools.net][get:0266][INFO]: FTP <get:/home/m/mxpt/mxpt001/vortex/arpege/pearp/DBLE/2017/06/01/T1800P/mb002/forecast/grid.arpege-forecast.euroc25+0003:00.grib>\n"
     ]
    },
    {
     "name": "stdout",
     "output_type": "stream",
     "text": [
      "GRIB_EUROC25_2017060121_0002\r\n"
     ]
    },
    {
     "data": {
      "text/plain": [
       "True"
      ]
     },
     "execution_count": 11,
     "metadata": {},
     "output_type": "execute_result"
    }
   ],
   "source": [
    "rhandlers = toolbox.input(# Section\n",
    "                          role='InitialCondition', fatal=True, intent='inout',\n",
    "                          # Resource\n",
    "                          kind='gridpoint', term=3, origin='historic', nativefmt='grib',\n",
    "                          # Provider\n",
    "                          member=2, experiment='DBLE', namespace='vortex.archive.fr',\n",
    "                          block='forecast',\n",
    "                          # Container\n",
    "                          local='GRIB_[geometry:area]_[date:addterm_ymdh]_[member%04d]',\n",
    "                          format='grib')\n",
    "%ls\n",
    "rhandlers[0].clear()  # Nettoyage"
   ]
  },
  {
   "cell_type": "markdown",
   "metadata": {
    "slideshow": {
     "slide_type": "slide"
    }
   },
   "source": [
    "## Le mécanisme d'expansion de footprints (en pratique)\n",
    "\n",
    "Jusque là nous n'avons récupéré qu'un seul fichier à la fois. Cela pourrait vite devenir fastidieux pour les tâches nécessitant de nombreuses données d'entrée.\n",
    "\n",
    "Le mécanisme d'expansion permet, avant la résolution des empreintes, de créer un grand nombre de descriptions de ressources à partir d'une description concise."
   ]
  },
  {
   "cell_type": "markdown",
   "metadata": {
    "slideshow": {
     "slide_type": "subslide"
    }
   },
   "source": [
    "### Expansion de listes\n",
    "\n",
    "(indication: voir l'attribut *term*)"
   ]
  },
  {
   "cell_type": "code",
   "execution_count": 12,
   "metadata": {
    "collapsed": false
   },
   "outputs": [
    {
     "name": "stdout",
     "output_type": "stream",
     "text": [
      "GRIB_EUROC25_0002+0000:00  GRIB_EUROC25_0002+0003:00  GRIB_EUROC25_0002+0006:00\r\n"
     ]
    }
   ],
   "source": [
    "rhandlers = toolbox.input(loglevel='warning',  # Reduction du niveau de logs\n",
    "                          # Section\n",
    "                          role='InitialCondition', fatal=True, intent='inout',\n",
    "                          # Resource\n",
    "                          kind='gridpoint', term=[0,3,6], origin='historic', nativefmt='grib',\n",
    "                          # Provider\n",
    "                          member=2, experiment='DBLE', namespace='vortex.archive.fr',\n",
    "                          block='forecast',\n",
    "                          # Container\n",
    "                          local='GRIB_[geometry:area]_[member%04d]+[term:fmthm]', format='grib')\n",
    "%ls\n",
    "for rhandler in rhandlers:\n",
    "    rhandler.clear()  # Nettoyage"
   ]
  },
  {
   "cell_type": "markdown",
   "metadata": {
    "slideshow": {
     "slide_type": "subslide"
    }
   },
   "source": [
    "### Un principe finalement assez simple...\n",
    "\n",
    "L'expansion est réalisée par une unique fonction de **footprints** : **footprints.util.expand**. Celle-ci reçoit un dictionnaire en entrée et renvoie une liste de dictionaires. Avec l'exemple précédent, cela donne :"
   ]
  },
  {
   "cell_type": "code",
   "execution_count": 13,
   "metadata": {
    "collapsed": false
   },
   "outputs": [
    {
     "name": "stdout",
     "output_type": "stream",
     "text": [
      ">>>Dictionaire #0\n",
      "{'experiment': 'DBLE', 'local': 'GRIB_[geometry:area]_[member%04d]+[term:fmthm]', 'namespace': 'vortex.archive.fr', 'block': 'forecast', 'format': 'grib', 'origin': 'historic', 'member': 2, 'kind': 'gridpoint', 'nativefmt': 'grib', 'term': 0}\n",
      ">>>Dictionaire #1\n",
      "{'experiment': 'DBLE', 'local': 'GRIB_[geometry:area]_[member%04d]+[term:fmthm]', 'namespace': 'vortex.archive.fr', 'block': 'forecast', 'format': 'grib', 'origin': 'historic', 'member': 2, 'kind': 'gridpoint', 'nativefmt': 'grib', 'term': 3}\n",
      ">>>Dictionaire #2\n",
      "{'experiment': 'DBLE', 'local': 'GRIB_[geometry:area]_[member%04d]+[term:fmthm]', 'namespace': 'vortex.archive.fr', 'block': 'forecast', 'format': 'grib', 'origin': 'historic', 'member': 2, 'kind': 'gridpoint', 'nativefmt': 'grib', 'term': 6}\n"
     ]
    }
   ],
   "source": [
    "input_dict = dict(kind='gridpoint', term=[0,3,6], origin='historic', nativefmt='grib',\n",
    "                  member=2, experiment='DBLE', namespace='vortex.archive.fr', block='forecast',\n",
    "                  local='GRIB_[geometry:area]_[member%04d]+[term:fmthm]', format='grib')\n",
    "for i, a_dict in enumerate(fp.util.expand(input_dict)):\n",
    "    print(\">>>Dictionaire #{:d}\".format(i))\n",
    "    print(a_dict)"
   ]
  },
  {
   "cell_type": "markdown",
   "metadata": {},
   "source": [
    "Utiliser le mécanisme d'extension est donc totalement équivalent à créer manuellement N sections via les commandes de la **toolbox**..."
   ]
  },
  {
   "cell_type": "markdown",
   "metadata": {
    "slideshow": {
     "slide_type": "subslide"
    }
   },
   "source": [
    "### Autre exemple: Liste sous forme d'une chaîne\n",
    "\n",
    "(indication: voir l'attribut *term*)"
   ]
  },
  {
   "cell_type": "code",
   "execution_count": 14,
   "metadata": {
    "collapsed": false
   },
   "outputs": [
    {
     "name": "stdout",
     "output_type": "stream",
     "text": [
      "GRIB_EUROC25_0002+0000:00  GRIB_EUROC25_0002+0003:00  GRIB_EUROC25_0002+0006:00\r\n"
     ]
    }
   ],
   "source": [
    "rhandlers = toolbox.input(loglevel='warning',  # Reduction du niveau de logs\n",
    "                          # Section\n",
    "                          role='InitialCondition', fatal=True, intent='inout',\n",
    "                          # Resource\n",
    "                          kind='gridpoint', term='0,3,6', origin='historic', nativefmt='grib',\n",
    "                          # Provider\n",
    "                          member=2, experiment='DBLE', namespace='vortex.archive.fr',\n",
    "                          block='forecast',\n",
    "                          # Container\n",
    "                          local='GRIB_[geometry:area]_[member%04d]+[term:fmthm]', format='grib')\n",
    "%ls\n",
    "for rhandler in rhandlers:\n",
    "    rhandler.clear()  # Nettoyage"
   ]
  },
  {
   "cell_type": "markdown",
   "metadata": {
    "slideshow": {
     "slide_type": "subslide"
    }
   },
   "source": [
    "### Autre exemple: Rangex\n",
    "\n",
    "(indication: voir l'attribut *term*)"
   ]
  },
  {
   "cell_type": "code",
   "execution_count": 15,
   "metadata": {
    "collapsed": false
   },
   "outputs": [
    {
     "name": "stdout",
     "output_type": "stream",
     "text": [
      "GRIB_EUROC25_0002+0000:00  GRIB_EUROC25_0002+0006:00  GRIB_EUROC25_0002+0012:00\r\n",
      "GRIB_EUROC25_0002+0003:00  GRIB_EUROC25_0002+0009:00\r\n"
     ]
    }
   ],
   "source": [
    "rhandlers = toolbox.input(loglevel='warning',  # Reduction du niveau de logs\n",
    "                          # Section\n",
    "                          role='InitialCondition', fatal=True, intent='inout',\n",
    "                          # Resource\n",
    "                          kind='gridpoint', term=fp.util.rangex('0-12-3'), origin='historic', nativefmt='grib',\n",
    "                          # Provider\n",
    "                          member=2, experiment='DBLE', namespace='vortex.archive.fr',\n",
    "                          block='forecast',\n",
    "                          # Container\n",
    "                          local='GRIB_[geometry:area]_[member%04d]+[term:fmthm]', format='grib')\n",
    "%ls\n",
    "for rhandler in rhandlers:\n",
    "    rhandler.clear()  # Nettoyage"
   ]
  },
  {
   "cell_type": "markdown",
   "metadata": {
    "slideshow": {
     "slide_type": "subslide"
    }
   },
   "source": [
    "Autres exemples d'utilisation de *rangex* :"
   ]
  },
  {
   "cell_type": "code",
   "execution_count": 17,
   "metadata": {
    "collapsed": false
   },
   "outputs": [
    {
     "name": "stdout",
     "output_type": "stream",
     "text": [
      "[0, 3, 6, 9, 12]\n",
      "[24, 27, 30, 33, 36]\n"
     ]
    }
   ],
   "source": [
    "print(fp.util.rangex(0, 12, 3))\n",
    "print(fp.util.rangex('0-12-3', shift=24))"
   ]
  },
  {
   "cell_type": "markdown",
   "metadata": {},
   "source": [
    "Avec des heures/minutes :"
   ]
  },
  {
   "cell_type": "code",
   "execution_count": 18,
   "metadata": {
    "collapsed": false
   },
   "outputs": [
    {
     "name": "stdout",
     "output_type": "stream",
     "text": [
      "['0000:00', '0000:30', '0001:00', '0001:30', '0002:00', '0002:30', '0003:00']\n"
     ]
    }
   ],
   "source": [
    "print(fp.util.rangex('0:00', '3:00', '0:30'))"
   ]
  },
  {
   "cell_type": "markdown",
   "metadata": {},
   "source": [
    "Avec des chaînes plus complexes..."
   ]
  },
  {
   "cell_type": "code",
   "execution_count": 19,
   "metadata": {
    "collapsed": false
   },
   "outputs": [
    {
     "name": "stdout",
     "output_type": "stream",
     "text": [
      "[0, 3, 6, 9, 12, 18, 24, 30, 36, 48]\n"
     ]
    }
   ],
   "source": [
    "print(fp.util.rangex('0-12-3,18-36-6,48'))"
   ]
  },
  {
   "cell_type": "markdown",
   "metadata": {
    "slideshow": {
     "slide_type": "subslide"
    }
   },
   "source": [
    "### Globbing\n",
    "\n",
    "Il s'agit de scruter le répertoire courant pour construire des variables en analysant les noms de certains fichiers ..."
   ]
  },
  {
   "cell_type": "code",
   "execution_count": 20,
   "metadata": {
    "collapsed": true
   },
   "outputs": [],
   "source": [
    "for tfile in ('f_euroc25_0001:00', 'f_euroc25_0002:00', 'f_glob25_0002:00', 'f_a_trap'):\n",
    "    sh.touch(tfile)"
   ]
  },
  {
   "cell_type": "code",
   "execution_count": 21,
   "metadata": {
    "collapsed": false
   },
   "outputs": [
    {
     "name": "stdout",
     "output_type": "stream",
     "text": [
      "From: f_euroc25_0001:00\n",
      "To:   meunierlf@hendrix.meteo.fr:/home/m/marp/marp999/vortex/arpege/pearp/A/B/C/D/20170601T1800P/mb002/forecast/grid.arpege-forecast.euroc25+0001:00.grib\n",
      "From: f_euroc25_0002:00\n",
      "To:   meunierlf@hendrix.meteo.fr:/home/m/marp/marp999/vortex/arpege/pearp/A/B/C/D/20170601T1800P/mb002/forecast/grid.arpege-forecast.euroc25+0002:00.grib\n",
      "From: f_glob25_0002:00\n",
      "To:   meunierlf@hendrix.meteo.fr:/home/m/marp/marp999/vortex/arpege/pearp/A/B/C/D/20170601T1800P/mb002/forecast/grid.arpege-forecast.glob25+0002:00.grib\n"
     ]
    }
   ],
   "source": [
    "rhandlers = toolbox.output(# Method/Section\n",
    "                           now=False, role='GridpointData',\n",
    "                           # Resource\n",
    "                           geometry='[glob:g]', term='[glob:t]',\n",
    "                           kind='gridpoint', origin='historic', nativefmt='grib',\n",
    "                           # Provider\n",
    "                           member=2, experiment='ABCD', namespace='vortex.archive.fr',\n",
    "                           block='forecast',\n",
    "                           # Container\n",
    "                           local='f_{glob:g:\\w+}_{glob:t:\\d+:\\d+}', format='grib')\n",
    "for rhandler in rhandlers:\n",
    "    print('From:', rhandler.container.localpath())\n",
    "    print('To:  ', rhandler.locate())"
   ]
  },
  {
   "cell_type": "code",
   "execution_count": 22,
   "metadata": {
    "collapsed": true,
    "slideshow": {
     "slide_type": "skip"
    }
   },
   "outputs": [],
   "source": [
    "sh.rmall('f_*')"
   ]
  },
  {
   "cell_type": "markdown",
   "metadata": {
    "slideshow": {
     "slide_type": "slide"
    }
   },
   "source": [
    "## Petit exemple représentatif"
   ]
  },
  {
   "cell_type": "code",
   "execution_count": 23,
   "metadata": {
    "collapsed": false
   },
   "outputs": [
    {
     "name": "stdout",
     "output_type": "stream",
     "text": [
      "GRIB_EUROC25_0002+0000:00  GRIB_EUROC25_0002+0012:00  GRIB_GLOB05_0002+0009:00\r\n",
      "GRIB_EUROC25_0002+0003:00  GRIB_GLOB05_0002+0000:00   GRIB_GLOB05_0002+0012:00\r\n",
      "GRIB_EUROC25_0002+0006:00  GRIB_GLOB05_0002+0003:00\r\n",
      "GRIB_EUROC25_0002+0009:00  GRIB_GLOB05_0002+0006:00\r\n"
     ]
    }
   ],
   "source": [
    "rhandlers = toolbox.input(# Method/ection\n",
    "                          loglevel='warning', role='InitialCondition', fatal=True, intent='inout',\n",
    "                          # Resource\n",
    "                          geometry='euroc25,glob05', term=fp.util.rangex('0-12-3'),\n",
    "                          kind='gridpoint', origin='historic', nativefmt='grib',\n",
    "                          # Provider\n",
    "                          member=2, experiment='DBLE', namespace='vortex.archive.fr',\n",
    "                          block='forecast',\n",
    "                          # Container\n",
    "                          local='GRIB_[geometry:area]_[member%04d]+[term:fmthm]', format='grib')\n",
    "%ls\n",
    "for rhandler in rhandlers:\n",
    "    rhandler.clear()  # Nettoyage"
   ]
  },
  {
   "cell_type": "markdown",
   "metadata": {
    "collapsed": true
   },
   "source": [
    "\n",
    "Questions éventuelles : *vortex.support@meteo.fr*"
   ]
  }
 ],
 "metadata": {
  "celltoolbar": "Slideshow",
  "kernelspec": {
   "display_name": "Python 3",
   "language": "python",
   "name": "python3"
  },
  "language_info": {
   "codemirror_mode": {
    "name": "ipython",
    "version": 3
   },
   "file_extension": ".py",
   "mimetype": "text/x-python",
   "name": "python",
   "nbconvert_exporter": "python",
   "pygments_lexer": "ipython3",
   "version": "3.5.3"
  }
 },
 "nbformat": 4,
 "nbformat_minor": 1
}
