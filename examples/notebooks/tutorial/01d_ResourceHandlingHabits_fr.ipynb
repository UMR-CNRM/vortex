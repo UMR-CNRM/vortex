{
 "cells": [
  {
   "cell_type": "markdown",
   "metadata": {
    "slideshow": {
     "slide_type": "slide"
    }
   },
   "source": [
    "# Attributs \"classiques\" des objets _Resource_ et _Provider_"
   ]
  },
  {
   "cell_type": "markdown",
   "metadata": {
    "slideshow": {
     "slide_type": "slide"
    }
   },
   "source": [
    "Initialisation de vortex"
   ]
  },
  {
   "cell_type": "code",
   "execution_count": 1,
   "metadata": {
    "collapsed": false
   },
   "outputs": [
    {
     "name": "stderr",
     "output_type": "stream",
     "text": [
      "# [2019/01/22-11:10:47][vortex.sessions][_set_rundir:0152][WARNING]: Session <root> is changing its working directory </sauvegarde/stage-vortex/presentation/nb>\n",
      "# [2019/01/22-11:10:47][vortex.sessions][_set_rundir:0155][INFO]: Session <root> set rundir </home/meunierlf/vortex-workdir/auto_cocoon_mfmqjsky>\n"
     ]
    },
    {
     "name": "stdout",
     "output_type": "stream",
     "text": [
      "Vortex 1.6.0 loaded ( Tuesday 22. January 2019, at 11:10:46 )\n",
      "The working directory is now: /home/meunierlf/vortex-workdir/auto_cocoon_mfmqjsky/root\n"
     ]
    },
    {
     "data": {
      "text/plain": [
       "'/home/meunierlf/vortex-workdir/auto_cocoon_mfmqjsky'"
      ]
     },
     "execution_count": 1,
     "metadata": {},
     "output_type": "execute_result"
    }
   ],
   "source": [
    "%load_ext ivortex\n",
    "%vortex tmpcocoon"
   ]
  },
  {
   "cell_type": "markdown",
   "metadata": {
    "slideshow": {
     "slide_type": "slide"
    }
   },
   "source": [
    "## Exemple précédement utilisé..."
   ]
  },
  {
   "cell_type": "code",
   "execution_count": 2,
   "metadata": {
    "collapsed": true
   },
   "outputs": [],
   "source": [
    "# Préréglages\n",
    "import bronx\n",
    "toolbox.defaults(\n",
    "    date = bronx.stdtypes.date.Date('2017060118'),\n",
    "    cutoff = 'production',\n",
    "    model = 'arpege',\n",
    "    geometry = vortex.data.geometries.get(tag='euroc25'),\n",
    ")\n",
    "t.glove.vapp = 'arpege'\n",
    "t.glove.vconf = 'pearp'  # En l'état de nos connaissances, je ne peux expliquer cela...\n",
    "# Toolbox\n",
    "toolbox.active_verbose = False"
   ]
  },
  {
   "cell_type": "code",
   "execution_count": 3,
   "metadata": {
    "collapsed": true
   },
   "outputs": [],
   "source": [
    "# Récupération de la ressource\n",
    "rhandlers = toolbox.input(# Method/Section\n",
    "                          loglevel='warning', role='InitialCondition', intent='inout',\n",
    "                          # Resource\n",
    "                          term=3, kind='gridpoint', origin='historic', nativefmt='grib',\n",
    "                          # Provider\n",
    "                          member=2, experiment='DBLE', namespace='vortex.archive.fr',\n",
    "                          block='forecast',\n",
    "                          # Container\n",
    "                          local='GRIB_[geometry:area]_[member%04d]+[term:fmthm]', format='grib')\n",
    "rh = rhandlers[0]  # Petit raccourci pour la suite"
   ]
  },
  {
   "cell_type": "markdown",
   "metadata": {
    "slideshow": {
     "slide_type": "slide"
    }
   },
   "source": [
    "## Autopsie des objets\n",
    "\n",
    "Pour le cas particulier de notre exemple, les attributs \"_footprints_\" de nos objets *Resource* et *Provider* sont :"
   ]
  },
  {
   "cell_type": "code",
   "execution_count": 4,
   "metadata": {
    "collapsed": false
   },
   "outputs": [
    {
     "data": {
      "text/plain": [
       "['clscontents',\n",
       " 'cutoff',\n",
       " 'date',\n",
       " 'geometry',\n",
       " 'kind',\n",
       " 'model',\n",
       " 'nativefmt',\n",
       " 'origin',\n",
       " 'term']"
      ]
     },
     "execution_count": 4,
     "metadata": {},
     "output_type": "execute_result"
    }
   ],
   "source": [
    "rh.resource.footprint_attributes"
   ]
  },
  {
   "cell_type": "code",
   "execution_count": 5,
   "metadata": {
    "collapsed": false
   },
   "outputs": [
    {
     "data": {
      "text/plain": [
       "['block',\n",
       " 'expected',\n",
       " 'experiment',\n",
       " 'member',\n",
       " 'namebuild',\n",
       " 'namespace',\n",
       " 'scenario',\n",
       " 'username',\n",
       " 'vapp',\n",
       " 'vconf']"
      ]
     },
     "execution_count": 5,
     "metadata": {},
     "output_type": "execute_result"
    }
   ],
   "source": [
    "rh.provider.footprint_attributes"
   ]
  },
  {
   "cell_type": "markdown",
   "metadata": {
    "slideshow": {
     "slide_type": "subslide"
    }
   },
   "source": [
    "### Attributs classiques d'un objet _Resource_ : dimension temporelle"
   ]
  },
  {
   "cell_type": "markdown",
   "metadata": {},
   "source": [
    "Attributs présents lorsque cela a du sens :\n",
    "\n",
    "* **date** : Réseau auquel est rattaché la ressource (ce n'est pas la date de validité, qui peut être obtenue par l'opération *date* + *term*)."
   ]
  },
  {
   "cell_type": "code",
   "execution_count": 6,
   "metadata": {
    "collapsed": false
   },
   "outputs": [
    {
     "name": "stdout",
     "output_type": "stream",
     "text": [
      "<class 'bronx.stdtypes.date.Date'>\n",
      "2017-06-01T18:00:00Z\n"
     ]
    }
   ],
   "source": [
    "print(type(rh.resource.date))\n",
    "print(rh.resource.date.iso8601())  # Voir la doc Sphinx pour cette classe\n",
    "                                   # ou \"help(bronx.stdtypes.date.Date)\" dans un shell interactif"
   ]
  },
  {
   "cell_type": "markdown",
   "metadata": {},
   "source": [
    "* **cutoff** : Deux valeurs possibles, \"assim\" et \"production\". C'est une notion courante en PNT mais qui peut probablement se généraliser à d'autres domaines (ne serait-ce que par le couplage entre applications)."
   ]
  },
  {
   "cell_type": "markdown",
   "metadata": {},
   "source": [
    "* **term** : L'échéance des données."
   ]
  },
  {
   "cell_type": "code",
   "execution_count": 7,
   "metadata": {
    "collapsed": false
   },
   "outputs": [
    {
     "name": "stdout",
     "output_type": "stream",
     "text": [
      "<class 'bronx.stdtypes.date.Time'>\n",
      "T03:00Z\n"
     ]
    }
   ],
   "source": [
    "print(type(rh.resource.term))\n",
    "print(rh.resource.term.iso8601())  # Voir la doc Sphinx pour cette classe\n",
    "                                   # ou \"help(bronx.stdtypes.date.Time)\" dans un shell interactif"
   ]
  },
  {
   "cell_type": "markdown",
   "metadata": {
    "slideshow": {
     "slide_type": "subslide"
    }
   },
   "source": [
    "### Attributs classiques d'un objet _Resource_ : dimension horizontale\n",
    "\n",
    "Attribut présent lorsque cela a du sens :\n",
    "\n",
    "* **geometry** : Cet attribut décrit la structure horizontale des données. Cet attribut est important car il intervient dans le nommage des fichiers (via la fabrique de noms Vortex)."
   ]
  },
  {
   "cell_type": "code",
   "execution_count": 8,
   "metadata": {
    "collapsed": false
   },
   "outputs": [
    {
     "name": "stdout",
     "output_type": "stream",
     "text": [
      "  Geometry <vortex.data.geometries.LonlatGeometry object at 0x7f5d79afdd30>\n",
      "    Info       : Large european BDAP target\n",
      "    LAM        : True\n",
      "    Area       : EUROC25\n",
      "    Resolution : 2.5\n",
      "    Nlon       : 129\n",
      "    Nlat       : 105\n"
     ]
    }
   ],
   "source": [
    "print(rh.resource.geometry.idcard())"
   ]
  },
  {
   "cell_type": "markdown",
   "metadata": {},
   "source": [
    "Les objets _Geometry_ sont définis dans le module **vortex.data.geometries** :  voir la documentation de ce module.\n",
    "\n",
    "**Note importante** : Les géométries doivent être définies avant leur utilisation. Les géométries par défaut de Vortex sont définies dans le fichier de configuration ``geometries.ini`` (une liste de ces géométries, basée sur ce fichier, est disponible dans la documentation sous l'item : \"List of default geometries\"). Pour des besoins temporaires, un utilisateur peut ajouter des géométries personnalisées en créant un fichier ``~/.vortexrc/geometries.ini`` dans son home directory."
   ]
  },
  {
   "cell_type": "markdown",
   "metadata": {
    "slideshow": {
     "slide_type": "subslide"
    }
   },
   "source": [
    "### Attributs classiques d'un objet _Resource_ : identification du modèle\n",
    "\n",
    "Attribut présent lorsque cela a du sens :\n",
    "\n",
    "* **model** : Il s'agit d'une chaîne de caractères décrivant le modèle utilisé (par exemple arpege, arome, hycom, surfex, ...). Au besoin, il est tout à fait possible d'ajouter de nouveau modèles. Il faut simplement les mentionner dans la liste ad-hoc..."
   ]
  },
  {
   "cell_type": "code",
   "execution_count": 9,
   "metadata": {
    "collapsed": false
   },
   "outputs": [
    {
     "name": "stdout",
     "output_type": "stream",
     "text": [
      "{'aearp', 'aladin', 'arp', 'arp_court', 'arome', 'aro', 'mocage', 'psy4', 'ifs', 'ald', 'aroifs', 'mesonh', 'pearp', 'surfex', 'hycom', 'safran', 'arpege'}\n"
     ]
    }
   ],
   "source": [
    "print(vortex.syntax.stdattrs.models)"
   ]
  },
  {
   "cell_type": "markdown",
   "metadata": {},
   "source": [
    "### Attributs classiques d'un objet _Resource_ : format des données\n",
    "\n",
    "* **nativefmt** : Format de stockage des données (GRIB, FA, LFI, NetCDF, ...). Au besoin, il est tout à fait possible d'ajouter de nouveaux formats. Il faut simplement les mentionner dans la liste ad-hoc..."
   ]
  },
  {
   "cell_type": "code",
   "execution_count": 10,
   "metadata": {
    "collapsed": false
   },
   "outputs": [
    {
     "name": "stdout",
     "output_type": "stream",
     "text": [
      "{'foo', 'png', 'txt', 'sx', 'nam', 'grib', 'bullx', 'autoconfig', 'obsoul', 'ecma', 'grib1', 'netcdf', 'arpifslist', 'auto', 'obsfirepack', 'tar', 'lfi', 'bufr', 'fa', 'obslocationpack', 'odb', 'pdf', 'geo', 'grib2', 'json', 'bin', 'binary', 'dir/hdr', 'ascii', 'ddhpack', 'hdf5', 'rawfiles', 'lfa', 'unknown', 'ccma'}\n"
     ]
    }
   ],
   "source": [
    "print(vortex.syntax.stdattrs.knownfmt)"
   ]
  },
  {
   "cell_type": "markdown",
   "metadata": {
    "slideshow": {
     "slide_type": "subslide"
    }
   },
   "source": [
    "### Attributs classiques d'un objet _Provider_ : vapp et vconf\n",
    "\n",
    "La plupart des providers utilisent les attributs **vapp** et **vconf**. Ces attributs (chaînes de caractères) définissent l'application (par exemple \"arome\") et sa configuration (par exemple \"3dvarfr\", \"pefrance\", \"indien\", ...).\n",
    "\n",
    "Il n'y pas de contrôle dans le code mais il faut rester rigoureux car ces deux attributs sont largement utilisés pour stocker les données. À cette fin, une page de Wiki a été mise en place pour répertorier les différents **vapp**/**vconf** connus. Merci de compléter cette page lorsque de nouvelles configurations sont créées.\n",
    "\n",
    "http://vortex.meteo.fr/vortex/doku.php/documentation:mise_en_oeuvre:vapp_vconf"
   ]
  },
  {
   "cell_type": "markdown",
   "metadata": {},
   "source": [
    "### Attributs classiques d'un objet _Provider_ : member\n",
    "\n",
    "Dans le provider Vortex, la possibilité de gérer des ensembles est directement intégrée. C'est pourquoi l'attribut **member** fait partie de la liste des attributs. Il s'agit en revanche d'un attribut totalement optionnel : si aucune valeur n'est fournie (ce qui équivaut à *None*), on considère qu'il s'agit d'une ressource déterministe."
   ]
  },
  {
   "cell_type": "markdown",
   "metadata": {},
   "source": [
    "### Attributs classiques d'un objet _Provider_ : block\n",
    "\n",
    "C'est un attribut typique des providers Vortex et Olive : Il s'agit du sous-répertoire dans lequel seront stockées les données. Le **block** permet une flexibilité supplémentaire dans la création des configurations.\n",
    "\n",
    "Par exemple, imaginons qu'une tâche de diagnostics produise des données GRIB en se basant sur les données GRIB issues de la prévision. Les deux objets *Resource* seront identiques car il s'agit de données très similaires. En revanche, les GRIBs issus de la prévision seront archivés dans le **block** ``forecast`` alors que ceux issus d'un diagnostic pourront être déposés dans ``diagnostic``."
   ]
  },
  {
   "cell_type": "markdown",
   "metadata": {
    "slideshow": {
     "slide_type": "slide"
    }
   },
   "source": [
    "## Implications sur l'arbre d'héritage des classes *Resource*"
   ]
  },
  {
   "cell_type": "markdown",
   "metadata": {},
   "source": [
    "![](../images/ResourceInheritance.png)"
   ]
  },
  {
   "cell_type": "markdown",
   "metadata": {},
   "source": [
    "**Note:** La liste des classes n'est pas exhaustive. De même, certains attributs typiques sont précisés en italique. La liste est loin d'être exhaustive. La convention utilisée pour figurer l'héritage est celle de l'UML (la flèche pointe vers la classe dont on hérite)."
   ]
  },
  {
   "cell_type": "markdown",
   "metadata": {
    "slideshow": {
     "slide_type": "notes"
    }
   },
   "source": [
    "Quelques explications :\n",
    "\n",
    "* Tout ce qui a vocation a être exécuté hérite de la classe **Executable**. Arrivé à un certain niveau de spécialisation, un attribut *model* est attribué à la *Resource*.\n",
    "* Les ressources qui sont associées à un réseau donné héritent de **FlowResource** et possèdent donc des attributs *date*, *cutoff*, *model*. La classe **GeoFlowResource** ajoute une information sur la structure horizontale des données.\n",
    "* Les ressources ne dépendant pas du réseau (typiquement un fichier de constantes) héritent généralement de **ModelResource** ou **StaticGeoResource**. Des variantes de ces classes existent dans le cas où il s'agit de données qui peuvent être récupérée via l'outil Genv.\n",
    "\n",
    "Lors de la création d'une nouvelle classe *Resource*, il faut donc réfléchir au placement de celle-ci dans l'arbre d'héritage.\n",
    "\n",
    "Cette structure d'héritage permet une certaine classification des ressources. Cela ne doit toutefois pas être appliqué de façon rigide.\n",
    "\n",
    "Prenons l'exemple d'un fichier contenant la partie diagonale d'une matrice d'erreur d'ébauche (dans un contexte d'assimilation de donnée) : ce fichier vient généralement de l'ensemble d'assimilation et possède une géométrie, on va donc le faire hériter de **GeoFlowResource**. Néanmoins, dans de rares cas, on récupérera une version climatologique de ce fichier, qui est archivée par GCO : on ajoute donc manuellement l'attribut *gvar* à cet objet. Dans ce cas, l'arbre d'héritage décrit donc l'usage \"majoritaire\"."
   ]
  },
  {
   "cell_type": "markdown",
   "metadata": {
    "slideshow": {
     "slide_type": "slide"
    }
   },
   "source": [
    "## Quelques exemples de providers\n",
    "\n",
    "De nombreux providers sont implémentés dans Vortex. Nous en évoquerons certains dans la suite de ce document :\n",
    "\n",
    "* **Vortex** : Données archivées par Vortex\n",
    "* **Olive** : Données archivées par la toolbox Olive \"historique\" (i.e. Olive-Perl)\n",
    "* **Archive** : Données archivées par la chaîne DSI/IGA \"historique\" (i.e. chaine ksh)\n",
    "* **Genv** : Données constantes historisées par GCO\n",
    "* **Uenv** Données constantes \"Utilisateur\" (contre-partie non officielle du Genv)\n",
    "\n",
    "Nous en passerons certains sous silence :\n",
    "\n",
    "* **Remote**\n",
    "* **Magic**\n",
    "* **BDPE**"
   ]
  },
  {
   "cell_type": "markdown",
   "metadata": {
    "slideshow": {
     "slide_type": "subslide"
    }
   },
   "source": [
    "### Provider Vortex\n",
    "\n",
    "Attributs classiques :\n",
    "\n",
    "* **vapp** : Déjà évoqué,\n",
    "* **vconf** : Déjà évoqué,\n",
    "* **experiment** : L'identifiant d'expérience peut prendre trois formats différents :\n",
    "    * ``OPER``, ``DBLE``, ``MIRR``, ``TEST`` : expériences Vortex/DSI\n",
    "    * ``ABCD`` : expériences SWAPP/Olive-Vortex (identifiant à 4 lettres/chiffres différent de ceux mentionnés ci-dessus)\n",
    "    * ``nomlibre@utilisateur`` : expérience hors Oper ou Olive. C'est l'utilisateur propriétaire de l'expérience qui choisit un nom (champ ``nomlibre``). L'identifiant est précisé dans le champ ``utilisateur`` (a priori il s'agit du login Hendrix)\n",
    "* **block** : Sous-répertoire de stockage (obligatoire)\n",
    "* **member** : Numéro de membre (optionnel)\n",
    "* **scenario** : Dans le cadre de simulations climatiques (optionel), scénario de concentration en gases à effet de serre.\n",
    "* **namespace** : ``vortex.[cache|archive|multi].fr``\n",
    "\n",
    "En fonction de **experiment**, **footprints** choisira la bonne classe de provider (respectivement, **VortexOp**, **VortexStd** et **VortexFree**)"
   ]
  },
  {
   "cell_type": "markdown",
   "metadata": {
    "slideshow": {
     "slide_type": "subslide"
    }
   },
   "source": [
    "L'idée de Vortex (et Olive avant lui) est de pouvoir facilement partager des données, d'où l'importance de l'attribut **experiment** qui permet d'aller chercher des données à droite à gauche :"
   ]
  },
  {
   "cell_type": "code",
   "execution_count": 11,
   "metadata": {
    "collapsed": false
   },
   "outputs": [
    {
     "data": {
      "text/plain": [
       "'meunierlf@hendrix.meteo.fr:/home/m/marp/marp999/vortex/arpege/pearp/A/B/C/D/20170601T1800P/sRCP4.5/mb002/forecast/grid.arpege-forecast.euroc25+0003:00.grib'"
      ]
     },
     "execution_count": 11,
     "metadata": {},
     "output_type": "execute_result"
    }
   ],
   "source": [
    "rhandlers = toolbox.input(# Method/Section\n",
    "                          loglevel='warning', role='InitialCondition', intent='inout',\n",
    "                          # Resource\n",
    "                          term=3, kind='gridpoint', origin='historic', nativefmt='grib',\n",
    "                          # Provider\n",
    "                          member=2, experiment='ABCD', namespace='vortex.archive.fr',\n",
    "                          block='forecast', scenario='RCP4.5',\n",
    "                          # Container\n",
    "                          local='GRIB_[geometry:area]_[member%04d]+[term:fmthm]', format='grib')\n",
    "rhandlers[0].locate()"
   ]
  },
  {
   "cell_type": "code",
   "execution_count": 16,
   "metadata": {
    "collapsed": false
   },
   "outputs": [
    {
     "data": {
      "text/plain": [
       "'meunierlf@hendrix.meteo.fr:~toto/vortex/arpege/pearp/fausseXP/20170601T1800P/sRCP4.5/mb002/forecast/grid.arpege-forecast.euroc25+0003:00.grib'"
      ]
     },
     "execution_count": 16,
     "metadata": {},
     "output_type": "execute_result"
    }
   ],
   "source": [
    "rhandlers = toolbox.input(# Method/Section\n",
    "                          loglevel='warning', role='InitialCondition', intent='inout',\n",
    "                          # Resource\n",
    "                          term=3, kind='gridpoint', origin='historic', nativefmt='grib',\n",
    "                          # Provider\n",
    "                          member=2, experiment='fausseXP@toto', namespace='vortex.archive.fr',\n",
    "                          block='forecast', scenario='RCP4.5',\n",
    "                          # Container\n",
    "                          local='GRIB_[geometry:area]_[member%04d]+[term:fmthm]', format='grib')\n",
    "rhandlers[0].locate()"
   ]
  },
  {
   "cell_type": "markdown",
   "metadata": {
    "slideshow": {
     "slide_type": "slide"
    }
   },
   "source": [
    "## Provider Olive-Perl (fourni par le package **olive**)\n",
    "\n",
    "Attributs classiques :\n",
    "\n",
    "* **vapp** : Déjà évoqué,\n",
    "* **vconf** : Déjà évoqué,\n",
    "* **experiment** : L'identifiant d'expérience Olive-Perl\n",
    "* **block** : Sous-répertoire de stockage (obligatoire)\n",
    "* **member** : Numéro de membre optionnel (ne fonctionne pas pour toutes les ressources)\n",
    "* **namespace** : ``olive.[cache|archive|multi].fr``"
   ]
  },
  {
   "cell_type": "code",
   "execution_count": 13,
   "metadata": {
    "collapsed": false
   },
   "outputs": [
    {
     "data": {
      "text/plain": [
       "'meunierlf@hendrix.meteo.fr:/home/m/marp/marp999/xp/A/B/C/D/20170601H18P/fc_002/forecast/GRIDHSTEUROC25+0003'"
      ]
     },
     "execution_count": 13,
     "metadata": {},
     "output_type": "execute_result"
    }
   ],
   "source": [
    "rhandlers = toolbox.input(# Method/Section\n",
    "                          loglevel='warning', role='InitialCondition', intent='inout',\n",
    "                          # Resource\n",
    "                          term=3, kind='gridpoint', origin='historic', nativefmt='grib',\n",
    "                          # Provider\n",
    "                          member=2, experiment='ABCD', namespace='olive.archive.fr',\n",
    "                          block='forecast',\n",
    "                          # Container\n",
    "                          local='GRIB_[geometry:area]_[member%04d]+[term:fmthm]', format='grib')\n",
    "rhandlers[0].locate()"
   ]
  },
  {
   "cell_type": "markdown",
   "metadata": {
    "slideshow": {
     "slide_type": "subslide"
    }
   },
   "source": [
    "## Provider archive DSI/ksh (fourni par le package **olive**)\n",
    "\n",
    "Attributs classiques :\n",
    "\n",
    "* **vapp** : Déjà évoqué,\n",
    "* **vconf** : Déjà évoqué,\n",
    "* **suite** : ``oper``, ``dble`` ou ``mirr``\n",
    "* **member** : Numéro de membre optionnel (ne fonctionne pas pour toutes les ressources)\n",
    "* **namespace** : ``[suite].[cache|archive|multi].fr``\n",
    "* **block** : Sous-répertoire de stockage (optionnel dans la très grande majorité des cas)"
   ]
  },
  {
   "cell_type": "code",
   "execution_count": 14,
   "metadata": {
    "collapsed": false
   },
   "outputs": [
    {
     "data": {
      "text/plain": [
       "'meunierlf@hendrix.meteo.fr:/home/m/mxpt/mxpt001/pearp/oper/01/r18/fc_DH_2_EUROC25_0003'"
      ]
     },
     "execution_count": 14,
     "metadata": {},
     "output_type": "execute_result"
    }
   ],
   "source": [
    "rhandlers = toolbox.input(# Method/Section\n",
    "                          loglevel='warning', role='InitialCondition', intent='inout',\n",
    "                          # Resource\n",
    "                          term=3, kind='gridpoint', origin='historic', nativefmt='grib',\n",
    "                          # Provider\n",
    "                          member=2, suite='oper', namespace='[suite].archive.fr',\n",
    "                          # Container\n",
    "                          local='GRIB_[geometry:area]_[member%04d]+[term:fmthm]', format='grib')\n",
    "rhandlers[0].locate()"
   ]
  },
  {
   "cell_type": "markdown",
   "metadata": {
    "slideshow": {
     "slide_type": "subslide"
    }
   },
   "source": [
    "## Provider Genv (fourni par le package **gco**)\n",
    "\n",
    "Attributs classiques :\n",
    "\n",
    "* **genv** : Numéro de cycle au sens de GCO (voir la présentation de Gaëlle cet après-midi)\n",
    "\n",
    "NB: Les ressources doivent être prévues à cet effet (généralement, hériter des classes adhoc + définir un attribut **gvar**)\n",
    "\n"
   ]
  },
  {
   "cell_type": "markdown",
   "metadata": {},
   "source": [
    "## Provider Uenv (fourni par le package **gco**)\n",
    "\n",
    "Il s'agit d'un *Genv* détourné pour:\n",
    "\n",
    "* permettre à un utilisateur d'archiver/récupérer des constantes pour des cycles non encore opérationnels\n",
    "* pour des cycles opérationnels, permettre à l'utilisateur de modifier lourdement les constantes (cadre R&D uniquement)\n",
    "\n",
    "Les attributs sont exactement les mêmes que ceux de _genv_ mais la \"forme\" du cycle est très différente (l'idée est que le passage de _Uenv_ à _Genv_ soit le plus transparent possible).\n"
   ]
  },
  {
   "cell_type": "code",
   "execution_count": 15,
   "metadata": {
    "collapsed": false,
    "slideshow": {
     "slide_type": "subslide"
    }
   },
   "outputs": [
    {
     "name": "stdout",
     "output_type": "stream",
     "text": [
      "/home/meunierlf/.vortexrc/hack/uget/ugetdemo/data/demo.constant.01;/home/meunierlf/cache/uget/ugetdemo/data/demo.constant.01;meunierlf@hendrix.meteo.fr:~meunierlf/ugetdemo/uget/data/a/demo.constant.01\n"
     ]
    }
   ],
   "source": [
    "import common\n",
    "class MyDemoResource(common.data.consts.GenvModelResource):\n",
    "    _footprint = dict(\n",
    "        info = 'Demo constant file',\n",
    "        attr = dict(kind = dict(values  = [ 'democst' ]),\n",
    "                    gvar = dict(default = 'demo_cstfile'), )\n",
    "    )\n",
    "\n",
    "    @property\n",
    "    def realkind(self):\n",
    "        return 'democst'\n",
    "\n",
    "\n",
    "rh_uenv= toolbox.input(role='DemoConstant',\n",
    "                       model='arpege', kind='democst',\n",
    "                       genv='uenv:cy00_demo.01@ugetdemo',\n",
    "                       local='the_demo_cst')\n",
    "# Temporarily decrease the logging level\n",
    "with bronx.fancies.loggers.contextboundGlobalLevel('WARNING'):\n",
    "    print(rh_uenv[0].locate())"
   ]
  },
  {
   "cell_type": "markdown",
   "metadata": {
    "collapsed": true,
    "slideshow": {
     "slide_type": "slide"
    }
   },
   "source": [
    "\n",
    "Questions éventuelles : *vortex.support@meteo.fr*"
   ]
  }
 ],
 "metadata": {
  "celltoolbar": "Slideshow",
  "kernelspec": {
   "display_name": "Python 3",
   "language": "python",
   "name": "python3"
  },
  "language_info": {
   "codemirror_mode": {
    "name": "ipython",
    "version": 3
   },
   "file_extension": ".py",
   "mimetype": "text/x-python",
   "name": "python",
   "nbconvert_exporter": "python",
   "pygments_lexer": "ipython3",
   "version": "3.5.3"
  }
 },
 "nbformat": 4,
 "nbformat_minor": 1
}
