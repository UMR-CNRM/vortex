{
 "cells": [
  {
   "cell_type": "markdown",
   "metadata": {
    "slideshow": {
     "slide_type": "slide"
    }
   },
   "source": [
    "# Role of *footprints* in the creation of objects "
   ]
  },
  {
   "cell_type": "markdown",
   "metadata": {
    "slideshow": {
     "slide_type": "slide"
    }
   },
   "source": [
    "Let's take the previous example of creating a *resource* object: \n",
    "\n",
    "```python\n",
    "pe_resource = fp.proxy.resource(kind='gridpoint',\n",
    "                                term=3,\n",
    "                                geometry='euroc25',\n",
    "                                nativefmt='grib',\n",
    "                                model='arpege',\n",
    "                                cutoff='production',\n",
    "                                date='2017060118',\n",
    "                                origin='historic')\n",
    "```\n",
    "\n",
    "We call generic a method that creates the “appropriate” object based on the attributes passed to it: this remind us of the factory design pattern. This is one way to describe the role of the **footprints** package, nonetheless **footprints** do much more than to implement a factory (in particular in terms of flexibility)."
   ]
  },
  {
   "cell_type": "markdown",
   "metadata": {
    "slideshow": {
     "slide_type": "slide"
    }
   },
   "source": [
    "## Description of objects managed by _footprints_\n",
    "\n",
    "We will now start our demonstration of the _footprints_ package; the least is to load the package: "
   ]
  },
  {
   "cell_type": "code",
   "execution_count": 1,
   "metadata": {
    "collapsed": true
   },
   "outputs": [],
   "source": [
    "import footprints as fp"
   ]
  },
  {
   "cell_type": "markdown",
   "metadata": {},
   "source": [
    "In itself, loading the **footprints** package does nothing. Everything is decided when writing the targerted classes and creating the objects. "
   ]
  },
  {
   "cell_type": "markdown",
   "metadata": {
    "slideshow": {
     "slide_type": "slide"
    }
   },
   "source": [
    "### Classes, Collectors and Objects\n",
    "\n",
    "Here is an example of class backed to the _footprints_ package:"
   ]
  },
  {
   "cell_type": "code",
   "execution_count": 2,
   "metadata": {
    "collapsed": true
   },
   "outputs": [],
   "source": [
    "class Observations(fp.FootprintBase):\n",
    "    \n",
    "    _collector = ('fakeresource', )\n",
    "    _footprint = dict(\n",
    "        info = 'Any kind of insitu observations',\n",
    "        attr = dict(\n",
    "            kind = dict(\n",
    "                values = ['observations', ],\n",
    "                info   = 'The kind of resource',\n",
    "            )\n",
    "        )\n",
    "    )"
   ]
  },
  {
   "cell_type": "markdown",
   "metadata": {},
   "source": [
    "* Any “footprinted” class must inherit from **FootprintBase**\n",
    "* A “footprinted” class is attached to one (or more) collector. Each collector is an object of class **footprints.collectors.Collector** which maintains, for a given theme (here “fakeresource”), a list of the different classes that have been declared. \n",
    "* Each “footprinted” class must have a footprint that specifies the attributes of the class, ..."
   ]
  },
  {
   "cell_type": "markdown",
   "metadata": {
    "slideshow": {
     "slide_type": "subslide"
    }
   },
   "source": [
    "The retrieval of a collector object can be done via the **collectors** module: "
   ]
  },
  {
   "cell_type": "code",
   "execution_count": 3,
   "metadata": {
    "collapsed": false
   },
   "outputs": [
    {
     "name": "stdout",
     "output_type": "stream",
     "text": [
      "<footprints.collectors.Collector object at 0x7fbcdfb2e438>\n"
     ]
    }
   ],
   "source": [
    "print(fp.collectors.get(tag='fakeresource'))"
   ]
  },
  {
   "cell_type": "markdown",
   "metadata": {},
   "source": [
    "Usualy, another syntax is preferred: "
   ]
  },
  {
   "cell_type": "code",
   "execution_count": 4,
   "metadata": {
    "collapsed": false
   },
   "outputs": [
    {
     "name": "stdout",
     "output_type": "stream",
     "text": [
      "<footprints.collectors.Collector object at 0x7fbcdfb2e438>\n"
     ]
    }
   ],
   "source": [
    "from footprints import proxy as fpx\n",
    "print(fpx.fakeresources)  # Watch out for \"s\" at the end"
   ]
  },
  {
   "cell_type": "markdown",
   "metadata": {
    "slideshow": {
     "slide_type": "fragment"
    }
   },
   "source": [
    "What are the classes attached to the “fakeresource” collector? "
   ]
  },
  {
   "cell_type": "code",
   "execution_count": 5,
   "metadata": {
    "collapsed": false
   },
   "outputs": [
    {
     "name": "stdout",
     "output_type": "stream",
     "text": [
      "[<class '__main__.Observations'>]\n"
     ]
    }
   ],
   "source": [
    "print([r for r in fpx.fakeresources])"
   ]
  },
  {
   "cell_type": "markdown",
   "metadata": {},
   "source": [
    "We find again the class that we defined previously... "
   ]
  },
  {
   "cell_type": "markdown",
   "metadata": {
    "slideshow": {
     "slide_type": "subslide"
    }
   },
   "source": [
    "As a catalog of the different available classes, the _collector_ allows the creation of objects: "
   ]
  },
  {
   "cell_type": "code",
   "execution_count": 6,
   "metadata": {
    "collapsed": false
   },
   "outputs": [
    {
     "name": "stdout",
     "output_type": "stream",
     "text": [
      "<__main__.Observations object at 0x7fbcdfb2ec88 | footprint=1>\n"
     ]
    }
   ],
   "source": [
    "obs_obj1 = fpx.fakeresources.load(kind='observations')\n",
    "print(obs_obj1)"
   ]
  },
  {
   "cell_type": "markdown",
   "metadata": {
    "slideshow": {
     "slide_type": "fragment"
    }
   },
   "source": [
    "Again, the **footprints** package provides a simplified syntax that is often preferred over the previous one: "
   ]
  },
  {
   "cell_type": "code",
   "execution_count": 9,
   "metadata": {
    "collapsed": false
   },
   "outputs": [
    {
     "name": "stdout",
     "output_type": "stream",
     "text": [
      "<__main__.Observations object at 0x7fbcdfb2ecf8 | footprint=1>\n"
     ]
    }
   ],
   "source": [
    "obs_obj2 = fpx.fakeresource(kind='observations')  # Beware: no \"s\" at the end\n",
    "print(obs_obj2)"
   ]
  },
  {
   "cell_type": "markdown",
   "metadata": {
    "slideshow": {
     "slide_type": "subslide"
    }
   },
   "source": [
    "From this simple example we can glimpse the possibility of errors... What happens if we ask for an object whose *kind* does not exist? "
   ]
  },
  {
   "cell_type": "code",
   "execution_count": 10,
   "metadata": {
    "collapsed": false
   },
   "outputs": [
    {
     "name": "stderr",
     "output_type": "stream",
     "text": [
      "# [2019/08/27-16:36:04][footprints.collectors][pickup_and_cache:0296][WARNING]: No fakeresource found in description \n",
      "      dict(\n",
      "          fakeresource = None, \n",
      "          kind = 'foo',\n",
      "      )\n"
     ]
    },
    {
     "name": "stdout",
     "output_type": "stream",
     "text": [
      "\n",
      " Report Footprint-Fakeresource: \n",
      "\n",
      "     __main__.Observations\n",
      "         kind       : {'args': 'foo', 'why': 'Not in values'}\n",
      "\n",
      "failer1 is: None\n"
     ]
    }
   ],
   "source": [
    "failer1 = fpx.fakeresource(kind='foo')\n",
    "print('failer1 is:', str(failer1))"
   ]
  },
  {
   "cell_type": "markdown",
   "metadata": {},
   "source": [
    "In case of error, the *collector* returns *None* and an error message is displayed detailing why it is not possible to instantiate this or that class."
   ]
  },
  {
   "cell_type": "markdown",
   "metadata": {
    "slideshow": {
     "slide_type": "slide"
    }
   },
   "source": [
    "### Inheritance and predefined footprints \n",
    "\n",
    "In a language like Python, the use of class inheritance is more than recommended. Therefore, the **footprints** package must handle this in an optimal way. In practice, any class inheriting a “footprinted” class also inherits the footprint of the parent class. This footprint can then be altered or extended to the level of the child class. \n",
    "\n",
    "**footprints** also offers the possibility to create abstract classes. This makes it possible to define classes that are essential to the structure of the inheritance tree, while being certain that these will never be instantiated. \n",
    "\n",
    "Some attributes are “classic”, we can imagine to predefine them. "
   ]
  },
  {
   "cell_type": "markdown",
   "metadata": {
    "slideshow": {
     "slide_type": "subslide"
    }
   },
   "source": [
    "In a numerical prediction context, we can for example consider that the *cutoff* is a very common attribute (assimilation or production) and want to predefine it: "
   ]
  },
  {
   "cell_type": "code",
   "execution_count": 11,
   "metadata": {
    "collapsed": true
   },
   "outputs": [],
   "source": [
    "a_cutoff = dict(\n",
    "    info     = \"The cutoff type of the generating process.\",\n",
    "    values   = ['assim', 'production', ],\n",
    ")\n",
    "cutoff = fp.Footprint(info = 'Abstract cutoff', attr = dict(cutoff = a_cutoff))"
   ]
  },
  {
   "cell_type": "markdown",
   "metadata": {
    "slideshow": {
     "slide_type": "subslide"
    }
   },
   "source": [
    "This predefined attribute can then be used to define an abstract class that serves as a base for different model fields:"
   ]
  },
  {
   "cell_type": "code",
   "execution_count": 12,
   "metadata": {
    "collapsed": true
   },
   "outputs": [],
   "source": [
    "class ModelState(fp.FootprintBase):\n",
    "\n",
    "    _collector = ('fakeresource', )\n",
    "    _abstract = True\n",
    "    _footprint = [\n",
    "        cutoff,\n",
    "        dict(\n",
    "            info = 'Abstract Model State',\n",
    "            attr = dict(\n",
    "                kind = dict(\n",
    "                    info = 'The kind of modelstates we are dealing with',\n",
    "                ),\n",
    "                date = dict(\n",
    "                    info = 'The base date of this model state'\n",
    "                ),\n",
    "            )\n",
    "        )\n",
    "    ]"
   ]
  },
  {
   "cell_type": "markdown",
   "metadata": {
    "slideshow": {
     "slide_type": "subslide"
    }
   },
   "source": [
    "Let's inherit from this class to create initial conditions:"
   ]
  },
  {
   "cell_type": "code",
   "execution_count": 13,
   "metadata": {
    "collapsed": true
   },
   "outputs": [],
   "source": [
    "class InitialConditions(ModelState):\n",
    "    \n",
    "    _footprint = dict(\n",
    "        attr = dict(\n",
    "            kind = dict(\n",
    "                values = ['initial_conditions', ]\n",
    "            ),       \n",
    "        )\n",
    "    )    "
   ]
  },
  {
   "cell_type": "code",
   "execution_count": 14,
   "metadata": {
    "collapsed": false
   },
   "outputs": [
    {
     "name": "stdout",
     "output_type": "stream",
     "text": [
      "<__main__.InitialConditions object at 0x7fbcdfb3e8d0 | footprint=3>\n",
      "kind=initial_conditions, date=2017070100, cutoff=assim\n"
     ]
    }
   ],
   "source": [
    "ic_obj = fpx.fakeresource(kind='initial_conditions', date='2017070100', cutoff='assim')\n",
    "print(ic_obj)\n",
    "print('kind={0.kind:s}, date={0.date:s}, cutoff={0.cutoff:s}'.format(ic_obj))"
   ]
  },
  {
   "cell_type": "markdown",
   "metadata": {
    "slideshow": {
     "slide_type": "subslide"
    }
   },
   "source": [
    "Predefined footprints are very useful for defining attributes, but one would want to go further and alter the inner-working of the class (because of the addition of this attribute). Practical example: \n",
    "\n",
    "  * Add a *cutoff* attribute (this is what we did before)\n",
    "  * Add to the class a property that returns a shortened version of the cutoff name (assim being abbreviated by A, P for production) \n",
    "\n",
    "For this, we will associate a **class decorator** with the predefined footprints attribute. This decorator will be applied by *footprints* at the time of the creation of the class. Here is the decorator function:"
   ]
  },
  {
   "cell_type": "code",
   "execution_count": 15,
   "metadata": {
    "collapsed": false
   },
   "outputs": [],
   "source": [
    "def _cutoffbis_deco(cls):\n",
    "    def _get_abbrev_cutoff(self):\n",
    "        return dict(assim='A', production='P').get(self.cutoff, 'X')\n",
    "    cls.abbrev_cutoff = property(_get_abbrev_cutoff, doc=\"Abbreviated cutoff name.\")\n",
    "    return cls"
   ]
  },
  {
   "cell_type": "markdown",
   "metadata": {},
   "source": [
    "The predefined *cutoff* attribute is associated with the newly created decorator: "
   ]
  },
  {
   "cell_type": "code",
   "execution_count": 16,
   "metadata": {
    "collapsed": true
   },
   "outputs": [],
   "source": [
    "cutoff_deco = fp.DecorativeFootprint(cutoff,\n",
    "                                     decorator = [_cutoffbis_deco, ])"
   ]
  },
  {
   "cell_type": "markdown",
   "metadata": {
    "slideshow": {
     "slide_type": "subslide"
    }
   },
   "source": [
    "Let's use this **DecorativeFootprint**:"
   ]
  },
  {
   "cell_type": "code",
   "execution_count": 18,
   "metadata": {
    "collapsed": true,
    "slideshow": {
     "slide_type": "-"
    }
   },
   "outputs": [],
   "source": [
    "class PerturedModelState(ModelState):\n",
    "    \n",
    "    _footprint = [cutoff_deco,\n",
    "        dict(\n",
    "            attr = dict(\n",
    "                kind = dict(\n",
    "                    values = ['perturbed_state', ]\n",
    "                ),       \n",
    "            )\n",
    "        )]"
   ]
  },
  {
   "cell_type": "markdown",
   "metadata": {},
   "source": [
    "The resulting class has an `abbrev_cutoff` *property* (added by the decorator): "
   ]
  },
  {
   "cell_type": "code",
   "execution_count": 19,
   "metadata": {
    "collapsed": false
   },
   "outputs": [
    {
     "name": "stdout",
     "output_type": "stream",
     "text": [
      "<__main__.PerturedModelState object at 0x7fbcd9e2b0f0 | footprint=3>\n",
      "kind=perturbed_state, date=2017070100, cutoff=production, abbrev_cutoff=P\n"
     ]
    }
   ],
   "source": [
    "ps_obj = fpx.fakeresource(kind='perturbed_state', date='2017070100', cutoff='production')\n",
    "print(ps_obj)\n",
    "print('kind={0.kind:s}, date={0.date:s}, cutoff={0.cutoff:s}, abbrev_cutoff={0.abbrev_cutoff:s}'.format(ps_obj))"
   ]
  },
  {
   "cell_type": "markdown",
   "metadata": {
    "slideshow": {
     "slide_type": "slide"
    }
   },
   "source": [
    "### Detailed description of the attributes\n",
    "\n",
    "It is possible to use a large number of keys when describing attributes:\n",
    "\n",
    "  * **type**: type (in the Python sense) of the attribute (*str* by default);\n",
    "  * **outcast**: opposite of *values*: we specify the forbidden values and not those allowed;\n",
    "  * **optional**: an attribute can be optional (by default an attribute is mandatory);\n",
    "  * **default**: if ``optional=True`` we can specify a default value (*None* by default);\n",
    "  * **alias**: during the creation phase of the objects (footprint resolution), the same attribute can have several synonyms;\n",
    "  * **remap**: it is possible to point an allowed value to another;"
   ]
  },
  {
   "cell_type": "code",
   "execution_count": 20,
   "metadata": {
    "collapsed": true,
    "slideshow": {
     "slide_type": "subslide"
    }
   },
   "outputs": [],
   "source": [
    "class Historic(ModelState):\n",
    "    \n",
    "    _footprint = dict(\n",
    "        attr = dict(\n",
    "            kind = dict(\n",
    "                values = ['historic', 'forecastfile', ],\n",
    "                remap = dict(forecastfile='historic', ),\n",
    "            ),\n",
    "            term = dict(\n",
    "                info = \"The forecast's term\",\n",
    "                type = int,\n",
    "                alias = ('fcterm', 'forecastterm', ),\n",
    "            ),\n",
    "            nativefmt = dict(\n",
    "                info = \"The storage's format.\",\n",
    "                values = ['grib', 'fa', 'netcdf', ],\n",
    "                optional = True,\n",
    "                default = 'grib',\n",
    "            ),\n",
    "        )\n",
    "    )"
   ]
  },
  {
   "cell_type": "markdown",
   "metadata": {
    "slideshow": {
     "slide_type": "subslide"
    }
   },
   "source": [
    "#### Demonstration for *remap* and *optional*\n",
    "\n",
    "Reminder:\n",
    "\n",
    "  * for *kind*, ``remap = dict(forecastfile='historic', )`` ;\n",
    "  * for *nativefmt*, ``optional = True`` and ``default = 'grib'``."
   ]
  },
  {
   "cell_type": "code",
   "execution_count": 21,
   "metadata": {
    "collapsed": false
   },
   "outputs": [
    {
     "name": "stdout",
     "output_type": "stream",
     "text": [
      "<__main__.Historic object at 0x7fbcd9e327b8 | footprint=5> object's kind:      historic\n",
      "<__main__.Historic object at 0x7fbcd9e327b8 | footprint=5> object's nativefmt: grib\n"
     ]
    }
   ],
   "source": [
    "obj_hst1 = fpx.fakeresource(kind='forecastfile',\n",
    "                            cutoff='assim', date='20170701',\n",
    "                            term=6)\n",
    "print(obj_hst1, \"object's kind:     \", obj_hst1.kind)\n",
    "print(obj_hst1, \"object's nativefmt:\", obj_hst1.nativefmt)"
   ]
  },
  {
   "cell_type": "markdown",
   "metadata": {
    "slideshow": {
     "slide_type": "subslide"
    }
   },
   "source": [
    "#### Demonstration for *alias*\n",
    "\n",
    "Reminder: for *term*, ``alias = ('fcterm', 'forecastterm', ),``."
   ]
  },
  {
   "cell_type": "code",
   "execution_count": 22,
   "metadata": {
    "collapsed": false
   },
   "outputs": [
    {
     "name": "stdout",
     "output_type": "stream",
     "text": [
      "<__main__.Historic object at 0x7fbcd9e2b940 | footprint=5> object's term:   6\n",
      "Notice that 'fcterm' does not really exist.\n"
     ]
    }
   ],
   "source": [
    "obj_hst1 = fpx.fakeresource(kind='forecastfile',\n",
    "                            cutoff='assim', date='20170701',\n",
    "                            fcterm=6)\n",
    "print(obj_hst1, \"object's term:  \", obj_hst1.term)\n",
    "try:\n",
    "    print(obj_hst1, \"object's fcterm:\", obj_hst1.fcterm)\n",
    "except AttributeError:\n",
    "    print(\"Notice that 'fcterm' does not really exist.\")"
   ]
  },
  {
   "cell_type": "markdown",
   "metadata": {
    "slideshow": {
     "slide_type": "subslide"
    }
   },
   "source": [
    "#### Demonstration for *type*\n",
    "\n",
    "Reminder: for *term*, ``type = int,``"
   ]
  },
  {
   "cell_type": "code",
   "execution_count": 25,
   "metadata": {
    "collapsed": false
   },
   "outputs": [
    {
     "name": "stderr",
     "output_type": "stream",
     "text": [
      "# [2019/08/27-16:53:27][footprints.collectors][pickup_and_cache:0296][WARNING]: No fakeresource found in description \n",
      "      dict(\n",
      "          cutoff = 'assim', \n",
      "          date = '20170701', \n",
      "          fakeresource = None, \n",
      "          kind = 'forecastfile', \n",
      "          term = 'This is not an integer !',\n",
      "      )\n"
     ]
    },
    {
     "name": "stdout",
     "output_type": "stream",
     "text": [
      "<__main__.Historic object at 0x7fbcdfb2ed30> object's term is 6\n",
      "\n",
      "This will fail:\n",
      "\n",
      " Report Footprint-Fakeresource: \n",
      "\n",
      "     __main__.Historic\n",
      "         term       : {'args': ('int', 'This is not an integer !'), 'why': 'Could not reclass'}\n",
      "\n",
      "     __main__.InitialConditions\n",
      "         kind       : {'args': 'forecastfile', 'why': 'Not in values'}\n",
      "\n",
      "     __main__.Observations\n",
      "         kind       : {'args': 'forecastfile', 'why': 'Not in values'}\n",
      "\n",
      "     __main__.PerturedModelState\n",
      "         kind       : {'args': 'forecastfile', 'why': 'Not in values'}\n",
      "\n"
     ]
    }
   ],
   "source": [
    "# Ok\n",
    "obj_hst1 = fpx.fakeresource(kind='forecastfile', cutoff='assim', date='20170701',\n",
    "                            term='6')\n",
    "print(\"{0!r} object's term is {0.term:d}\\n\".format(obj_hst1))\n",
    "# KO\n",
    "print('This will fail:')\n",
    "obj_hst1 = fpx.fakeresource(kind='forecastfile', cutoff='assim', date='20170701',\n",
    "                            term='This is not an integer !')"
   ]
  },
  {
   "cell_type": "markdown",
   "metadata": {
    "slideshow": {
     "slide_type": "subslide"
    }
   },
   "source": [
    "Here we used a simple type that pre-existed in the Python language (*int*), it is of course possible to use custom types (the only constraint is that such a type must be “hashable”). \n",
    "\n",
    "This is what we should have been done for the *date* and *term* attributes. Indeed: \n",
    "\n",
    "    * A *data* is not a simple string of characters (it must be verified that the date provided is valid);\n",
    "    * A *term* is unfortunately not an integer but can be expressed in hours and minutes. \n",
    "    \n",
    "If necessary, the use of custom types is strongly recommended (see, for example, classes **bronx.stdtypes.date.Date** and **bronx.stdtypes.date.Time**)."
   ]
  },
  {
   "cell_type": "markdown",
   "metadata": {
    "slideshow": {
     "slide_type": "slide"
    }
   },
   "source": [
    "## Notion of predefined values\n",
    "\n",
    "It is often desirable to specify, at the beginning of the script, predefined values for a certain number of attributes. In our previous examples, we imagine pretty well that the user may want to set a *date* and a *cutoff*. \n",
    "\n",
    "It si enough to set these values through the **setup** object of the **footprints** package. \n",
    "\n",
    "NB: These are only predefined values: if the user specifies another value during the creation of the object, it will take precedence. "
   ]
  },
  {
   "cell_type": "markdown",
   "metadata": {
    "slideshow": {
     "slide_type": "subslide"
    }
   },
   "source": [
    "Let's define default *cutoff* and *date*: "
   ]
  },
  {
   "cell_type": "code",
   "execution_count": 26,
   "metadata": {
    "collapsed": false
   },
   "outputs": [
    {
     "name": "stdout",
     "output_type": "stream",
     "text": [
      "<__main__.Historic object at 0x7fbcd9e93240>: cutoff=assim, date=20170701\n",
      "<__main__.Historic object at 0x7fbcd9e93128>: cutoff=production, date=20170701\n"
     ]
    }
   ],
   "source": [
    "fp.setup.defaults =  dict(cutoff='assim', date='20170701')\n",
    "\n",
    "# Using the defaut:\n",
    "obj_hst2a = fpx.fakeresource(kind='forecastfile', term=6)\n",
    "print('{0!r}: cutoff={0.cutoff:s}, date={0.date:s}'.format(obj_hst2a))\n",
    "# Manually redefine the cutoff value:\n",
    "obj_hst2b = fpx.fakeresource(kind='forecastfile', cutoff='production', term=6)\n",
    "print('{0!r}: cutoff={0.cutoff:s}, date={0.date:s}'.format(obj_hst2b))"
   ]
  },
  {
   "cell_type": "markdown",
   "metadata": {
    "slideshow": {
     "slide_type": "slide"
    }
   },
   "source": [
    "## Conclusion\n",
    "\n",
    "When creating classes using **footprints**:\n",
    "\n",
    "* To make good use of inheritance and to declare abstract classes as such; \n",
    "* For the most common attributes, define pre-defined footprints and use them; \n",
    "* In addition to pre-defined footprints, define class decorators to alter the class behaviour consistently with the pre-defined attribute(s);\n",
    "* Please add “info” keys that are optional but appear in the automatic documentation; \n",
    "* Describe the types of data as precisely as possible.\n",
    "\n",
    "Any questions: *vortex.support@meteo.fr*"
   ]
  }
 ],
 "metadata": {
  "celltoolbar": "Slideshow",
  "kernelspec": {
   "display_name": "Python 3",
   "language": "python",
   "name": "python3"
  },
  "language_info": {
   "codemirror_mode": {
    "name": "ipython",
    "version": 3
   },
   "file_extension": ".py",
   "mimetype": "text/x-python",
   "name": "python",
   "nbconvert_exporter": "python",
   "pygments_lexer": "ipython3",
   "version": "3.5.3"
  }
 },
 "nbformat": 4,
 "nbformat_minor": 2
}
