{
 "cells": [
  {
   "cell_type": "markdown",
   "metadata": {
    "slideshow": {
     "slide_type": "slide"
    }
   },
   "source": [
    "# Session, Context and Environment concepts"
   ]
  },
  {
   "cell_type": "markdown",
   "metadata": {
    "slideshow": {
     "slide_type": "slide"
    }
   },
   "source": [
    "Vortex initialisation:"
   ]
  },
  {
   "cell_type": "code",
   "execution_count": 1,
   "metadata": {
    "collapsed": false,
    "scrolled": true,
    "slideshow": {
     "slide_type": "-"
    }
   },
   "outputs": [
    {
     "name": "stderr",
     "output_type": "stream",
     "text": [
      "# [2019/09/03-17:19:30][vortex.sessions][_set_rundir:0152][WARNING]: Session <root> is changing its working directory </sauvegarde/vortex-dev/vortex/examples/notebooks/tutorial>\n",
      "# [2019/09/03-17:19:30][vortex.sessions][_set_rundir:0155][INFO]: Session <root> set rundir </home/meunierlf/vortex-workdir/auto_cocoon_r8bzh14b>\n"
     ]
    },
    {
     "name": "stdout",
     "output_type": "stream",
     "text": [
      "Vortex 1.6.2 loaded ( Tuesday 03. September 2019, at 17:19:29 )\n",
      "The working directory is now: /home/meunierlf/vortex-workdir/auto_cocoon_r8bzh14b/root\n"
     ]
    },
    {
     "data": {
      "text/plain": [
       "'/home/meunierlf/vortex-workdir/auto_cocoon_r8bzh14b'"
      ]
     },
     "execution_count": 1,
     "metadata": {},
     "output_type": "execute_result"
    }
   ],
   "source": [
    "%load_ext ivortex\n",
    "%vortex tmpcocoon"
   ]
  },
  {
   "cell_type": "markdown",
   "metadata": {
    "slideshow": {
     "slide_type": "slide"
    }
   },
   "source": [
    "## Principle\n",
    "\n",
    "At some point, you have to be able to: \n",
    "\n",
    "  * Access global configuration data \n",
    "  * Call system functions (changing directory, copying files, ...) \n",
    "  * Have the list of files that have been retrieved/sent \n",
    "  * Modify environment variables, go back, ... "
   ]
  },
  {
   "cell_type": "markdown",
   "metadata": {
    "slideshow": {
     "slide_type": "subslide"
    }
   },
   "source": [
    "This is translated into Vortex by a tree of objects: \n",
    "\n",
    "* One or more *Session(s)* each described by a session *Ticket* object. A session *Ticket* is made of: \n",
    "\n",
    "  * A *Glove* object (GLObal Versatile Environment) that contains global configuration information (user name, user profile, ...) \n",
    "  * A *System* object that will give access to a large number of system functions. \n",
    "  * A *Context* object whose members are: \n",
    "      \n",
    "      - A *Sequence* object that preserves the memory of the different sections that were created during the data retrieval and archiving phases\n",
    "      - One (or more) *Environment* object(s) that allows to interact with environment variables.\n",
    "      - Possible sub-contexts \n",
    "\n",
    "In the description above, we notice that there can be several *Sessions*, *Contexts* or *Environments* objects. However, at a given time, only one of these objects will be “active” and the hierarchical link will be enforced (the active *Context* is necessarily a member of the active *Session*). "
   ]
  },
  {
   "cell_type": "markdown",
   "metadata": {
    "collapsed": true,
    "slideshow": {
     "slide_type": "subslide"
    }
   },
   "source": [
    "**Example :** to have several sub-*Context*s can be interesting if, in the same script, we need to carry out two distinct tasks.\n",
    "\n",
    "  * We will then create two sub-contexts (*Ctx1* and *Ctx2*);\n",
    "  * We activate *Ctx1* and we start to perform the first task in a subdirectory of its own: retrieval of resources, changes to the environment, etc;\n",
    "  * At some point, we can decide to start the second task. To do so, we activate *Ctx2* in order to jump into a dedicated directory and start from a clean situation (i.e. the environment of *Ctx2* does not contain anymore the modifications made in *Ctx1* when carrying out the previous task);\n",
    "  * We can very well decide to go back to work on the first task... It is then enough to activate again *Ctx1* so that the environment of the first task is restored. \n",
    "  * ... "
   ]
  },
  {
   "cell_type": "markdown",
   "metadata": {
    "slideshow": {
     "slide_type": "slide"
    }
   },
   "source": [
    "## In practice...\n",
    "\n",
    "The user or task developer should not worry too much about creating *Sessions*, *Contexts*... because:\n",
    "\n",
    "  * By default, *Session* and *Context* objects are created when loading Vortex: for many scripts this is enough because only one task is carried out at a time (this is particularly the case with Olive).\n",
    "  * In the case of a multi-tasking job, this *Sessions* and *Contexts* creation work is done by the “official” job creation system (presentation of the last day).\n",
    "\n",
    "It should be remembered that, at some point, there is an active *Session*, *Context* and *Environment*. The rest of the presentation will focus on the recovery of these “active” objects and their use.\n",
    "\n",
    "Retrieval of the active session (or more precisely of its *Ticket*): "
   ]
  },
  {
   "cell_type": "code",
   "execution_count": 2,
   "metadata": {
    "collapsed": true,
    "slideshow": {
     "slide_type": "-"
    }
   },
   "outputs": [],
   "source": [
    "t = vortex.ticket()\n",
    "# the session, in itself, is not very interesting but it gives access \n",
    "# to many features "
   ]
  },
  {
   "cell_type": "markdown",
   "metadata": {
    "slideshow": {
     "slide_type": "subslide"
    }
   },
   "source": [
    "###  The *Glove* of the active session"
   ]
  },
  {
   "cell_type": "code",
   "execution_count": 3,
   "metadata": {
    "collapsed": false
   },
   "outputs": [
    {
     "name": "stdout",
     "output_type": "stream",
     "text": [
      "+ User     = meunierlf\n",
      "+ Profile  = research\n",
      "+ Vapp     = play\n",
      "+ Vconf    = sandbox\n",
      "+ Configrc = /home/meunierlf/.vortexrc\n"
     ]
    }
   ],
   "source": [
    "print(t.glove.idcard())"
   ]
  },
  {
   "cell_type": "code",
   "execution_count": 4,
   "metadata": {
    "collapsed": true
   },
   "outputs": [],
   "source": [
    "# One of the few points to customise in the glove is the default vapp/vconf\n",
    "t.glove.vapp = 'arpege'\n",
    "t.glove.vconf = '4dvarfr'\n",
    "# (this is pre-configured by Olive or bu the job creation system)"
   ]
  },
  {
   "cell_type": "markdown",
   "metadata": {
    "slideshow": {
     "slide_type": "subslide"
    }
   },
   "source": [
    "### The *System* object of the active session"
   ]
  },
  {
   "cell_type": "code",
   "execution_count": 5,
   "metadata": {
    "collapsed": false
   },
   "outputs": [
    {
     "name": "stdout",
     "output_type": "stream",
     "text": [
      "<vortex.tools.systems.Linux34p object at 0x7f05100a9400 | footprint=7>\n"
     ]
    }
   ],
   "source": [
    "print(t.sh)"
   ]
  },
  {
   "cell_type": "markdown",
   "metadata": {},
   "source": [
    "This object is of a very common use, we will return to it later in the presentation. "
   ]
  },
  {
   "cell_type": "markdown",
   "metadata": {
    "slideshow": {
     "slide_type": "subslide"
    }
   },
   "source": [
    "### The active *Context* object"
   ]
  },
  {
   "cell_type": "code",
   "execution_count": 6,
   "metadata": {
    "collapsed": false
   },
   "outputs": [
    {
     "name": "stdout",
     "output_type": "stream",
     "text": [
      "<vortex.layout.contexts.Context object at 0x7f0510084ba8>\n"
     ]
    }
   ],
   "source": [
    "print(t.context)"
   ]
  },
  {
   "cell_type": "markdown",
   "metadata": {},
   "source": [
    "Each *Context* has a path to identify it in the hierarchy. Here we work on the _“``root``”_ session (created by default when launching Vortex) and on the _“``root``”_ context (created automatically during the creation of the session): "
   ]
  },
  {
   "cell_type": "code",
   "execution_count": 7,
   "metadata": {
    "collapsed": false
   },
   "outputs": [
    {
     "name": "stdout",
     "output_type": "stream",
     "text": [
      "/root/root\n"
     ]
    }
   ],
   "source": [
    "print(t.context.path)"
   ]
  },
  {
   "cell_type": "markdown",
   "metadata": {
    "slideshow": {
     "slide_type": "subslide"
    }
   },
   "source": [
    "### The active context's *Sequence* and *Environment* objects"
   ]
  },
  {
   "cell_type": "code",
   "execution_count": 8,
   "metadata": {
    "collapsed": false
   },
   "outputs": [
    {
     "name": "stdout",
     "output_type": "stream",
     "text": [
      "<vortex.layout.dataflow.Sequence object at 0x7f0510084c50>\n"
     ]
    }
   ],
   "source": [
    "print(t.context.sequence)"
   ]
  },
  {
   "cell_type": "code",
   "execution_count": 9,
   "metadata": {
    "collapsed": false
   },
   "outputs": [
    {
     "name": "stdout",
     "output_type": "stream",
     "text": [
      "<vortex.tools.env.Environment object at 0x7f0510084be0 | including 105 variables>\n"
     ]
    }
   ],
   "source": [
    "print(t.context.env)"
   ]
  },
  {
   "cell_type": "markdown",
   "metadata": {},
   "source": [
    "These objects are of a very common use, we will come back to them later in the  of the presentation. "
   ]
  },
  {
   "cell_type": "markdown",
   "metadata": {
    "slideshow": {
     "slide_type": "slide"
    }
   },
   "source": [
    "## The *System*: access to the features of the OS\n",
    "\n",
    "The *System* object provides access to many methods that make it easy to access operating system features. \n",
    "\n",
    "The *System* object: \n",
    "\n",
    "  * Defines a number of Vortex-specific methods (cp, rm, touch, spawn, ...) \n",
    "  * If a method is not redefined in the *System* object, it gives transparent access to the methods and modules made available by Python in the standard ``os``, ``shutil`` and ``resource`` modules. "
   ]
  },
  {
   "cell_type": "code",
   "execution_count": 10,
   "metadata": {
    "collapsed": false,
    "slideshow": {
     "slide_type": "subslide"
    }
   },
   "outputs": [
    {
     "name": "stdout",
     "output_type": "stream",
     "text": [
      "True\n",
      "/tmp\n",
      "True\n"
     ]
    }
   ],
   "source": [
    "# Name of the current directory \n",
    "current = t.sh.pwd()\n",
    "# Change the current directory\n",
    "print(t.sh.cd('/tmp'))\n",
    "print(t.sh.pwd())\n",
    "# and come back...\n",
    "print(t.sh.cd(current))"
   ]
  },
  {
   "cell_type": "code",
   "execution_count": 11,
   "metadata": {
    "collapsed": false
   },
   "outputs": [
    {
     "name": "stdout",
     "output_type": "stream",
     "text": [
      "['']\n"
     ]
    }
   ],
   "source": [
    "files_list = t.sh.ls()\n",
    "\n",
    "print(files_list)"
   ]
  },
  {
   "cell_type": "markdown",
   "metadata": {},
   "source": [
    "The methods of this object are very numerous, so we are not going to describe all of them here. For a detailed description, see the Sphinx documentation for the **vortex.tools.systems module**:\n",
    "\n",
    "http://intra.cnrm.meteo.fr/algopy/sphinx/vortex/current/library/vortex/tools/systems.html "
   ]
  },
  {
   "cell_type": "markdown",
   "metadata": {
    "slideshow": {
     "slide_type": "subslide"
    }
   },
   "source": [
    "As mentioned before, the *System* object gives access to methods or modules available in standard Python modules such as ``os``, ``shutil`` and ``resource`` . For example, in this way, we often use the **os.path** Python's module: "
   ]
  },
  {
   "cell_type": "code",
   "execution_count": 12,
   "metadata": {
    "collapsed": false
   },
   "outputs": [
    {
     "name": "stdout",
     "output_type": "stream",
     "text": [
      "Exists ? True\n",
      "Basename: null\n",
      "Dirname: /dev\n"
     ]
    }
   ],
   "source": [
    "print('Exists ?', t.sh.path.exists('/dev/null'))\n",
    "print('Basename:', t.sh.path.basename('/dev/null'))\n",
    "print('Dirname:', t.sh.path.dirname('/dev/null'))"
   ]
  },
  {
   "cell_type": "markdown",
   "metadata": {},
   "source": [
    "For documentation on these methods and modules, refer to the official Python documentation."
   ]
  },
  {
   "cell_type": "markdown",
   "metadata": {
    "slideshow": {
     "slide_type": "subslide"
    }
   },
   "source": [
    "### Type of *System* objects\n",
    "\n",
    "System objects are not necessarily the same from one machine to another. In this notebook, we have:"
   ]
  },
  {
   "cell_type": "code",
   "execution_count": 13,
   "metadata": {
    "collapsed": false
   },
   "outputs": [
    {
     "data": {
      "text/plain": [
       "vortex.tools.systems.Linux34p"
      ]
     },
     "execution_count": 13,
     "metadata": {},
     "output_type": "execute_result"
    }
   ],
   "source": [
    "type(t.sh)"
   ]
  },
  {
   "cell_type": "markdown",
   "metadata": {},
   "source": [
    "The class of the *System* object is chosen when loading Vortex and creating the default session. This choice is made via the **footprints** package, based on the data returned by the Python **platform** module (type of architecture, operating system, Python version ...). \n",
    "\n",
    "Very often the ``Linux27`` or ``Linux34p`` objects are chosen but there are also variants for MacOS or formerly for NEC-SX. Having different classes depending on the versions allows different implementations depending on the operationg system type, which is very important for long-term maintenance. Indeed, a number of functions of the **os** Python module clearly shows that their implementations are not portable from one architecture to another, so we have to reserve us the right to create specific implementations."
   ]
  },
  {
   "cell_type": "markdown",
   "metadata": {
    "slideshow": {
     "slide_type": "subslide"
    }
   },
   "source": [
    "From a practical point of view, *System* objects for the different architectures all inherit from the **vortex.tools.systems.OSExtended** class, which can be seen as an abstract class: all methods in this class can be used regardless of the operating system.\n",
    "\n",
    "**Requirement in the development of Vortex**: the *System* object must always be used for any interaction with the operating system, even if in the case of ``t.sh.path``, we _currently_ rely on a standard implementation. "
   ]
  },
  {
   "cell_type": "markdown",
   "metadata": {
    "slideshow": {
     "slide_type": "subslide"
    }
   },
   "source": [
    "### Shell extension (addons)\n",
    "\n",
    "You can add new features to the *System* object on the fly. Such *Addons* can be used to add methods that are dedicated to a given model or data format (these are optional things).\n",
    "\n",
    "The easiest way is to illustrate their use by an example: "
   ]
  },
  {
   "cell_type": "code",
   "execution_count": 14,
   "metadata": {
    "collapsed": true
   },
   "outputs": [],
   "source": [
    "class HelloAddon(vortex.tools.addons.Addon):  # This class should be defined in the Vortex source tree\n",
    "    \n",
    "    _footprint = dict(\n",
    "        attr = dict(\n",
    "            kind = dict(values = ['hello']),\n",
    "        )\n",
    "    )\n",
    "    \n",
    "    def say_hi(self):\n",
    "        self.sh.title(\"Hello World !\")\n",
    "\n",
    "shhello = fp.proxy.addon(kind='hello', sh=sh)  # Loading the HelloAddon (at the beginning of the script)"
   ]
  },
  {
   "cell_type": "code",
   "execution_count": 15,
   "metadata": {
    "collapsed": false
   },
   "outputs": [
    {
     "name": "stdout",
     "output_type": "stream",
     "text": [
      "\n",
      "====================================================================================================\n",
      "=                                          HELLO WORLD !                                           =\n",
      "====================================================================================================\n",
      "\n"
     ]
    }
   ],
   "source": [
    "t.sh.say_hi()  # Voila !"
   ]
  },
  {
   "cell_type": "markdown",
   "metadata": {},
   "source": [
    "**Principle**: The public methods of the *Addons* object (*i.e.* those whose name does not begin with ``_``) are directly accessible from the *System* object. "
   ]
  },
  {
   "cell_type": "markdown",
   "metadata": {
    "slideshow": {
     "slide_type": "subslide"
    }
   },
   "source": [
    "### Alter behavior according to the data format\n",
    "\n",
    "For some data formats, standard methods should not be used. For example, Arpege now uses splitted FA/LFIs (in-house format) which are actually directories containing multiple files glued together by an index file; for these data:\n",
    "\n",
    "  * a simple ``cp`` or ``mv`` does not work (you have to call a specific command);\n",
    "  * the ``diff`` does not work because the fields are not written in a deterministic order;\n",
    "  * you have to concatenate the different files of the directory before archiving them (specific program).\n",
    "\n",
    "To satisfy this type of needs, it is possible to customise certain methods depending on the format. These are the methods: ``cp``, ``mv``, ``rm``, ``diff``, ``ftget``, ``rawftget``, ``ftput``, ``rawftput``, ``scpput`` and ``scpget``.\n",
    "\n",
    "When an (optional) attribute ``fmt='format'`` is specified when calling one of these methods (for example, ``cp``), the *System* object checks if it has a method named ``format_cp``. In such a case, it is called instead of the standard ``cp`` function.\n",
    "\n",
    "Objects calling these methods should therefore be careful to provide valid ``fmt`` attributes (otherwise the “standard” method is used). In Vortex, the object resource's handler always provides a format to *Store* objects (that are in charge of data handling)."
   ]
  },
  {
   "cell_type": "markdown",
   "metadata": {
    "slideshow": {
     "slide_type": "subslide"
    }
   },
   "source": [
    "In practice, methods associated with specific formats are defined in *Addons* so that users who do not need them are not “polluted”: "
   ]
  },
  {
   "cell_type": "code",
   "execution_count": 16,
   "metadata": {
    "collapsed": false
   },
   "outputs": [
    {
     "name": "stdout",
     "output_type": "stream",
     "text": [
      "Before: False\n",
      "After: True\n"
     ]
    }
   ],
   "source": [
    "print('Before:', hasattr(t.sh, 'lfi_cp'))\n",
    "# the t.sh.cp('origin', 'destination', fmt=\"lfi\") command will perform a standard cp :-(\n",
    "import vortex.tools.lfi\n",
    "shlfi = fp.proxy.addon(kind='lfi', sh=t.sh)\n",
    "print('After:', hasattr(t.sh, 'lfi_cp'))\n",
    "# the t.sh.cp('origin', 'destination', fmt=\"lfi\") command will now do the right thing."
   ]
  },
  {
   "cell_type": "markdown",
   "metadata": {
    "slideshow": {
     "slide_type": "slide"
    }
   },
   "source": [
    "## The active context's *Sequence* object\n",
    "\n",
    "First, let's get some data for the demonstration to make sense."
   ]
  },
  {
   "cell_type": "code",
   "execution_count": 17,
   "metadata": {
    "collapsed": false
   },
   "outputs": [
    {
     "name": "stderr",
     "output_type": "stream",
     "text": [
      "# [2019/09/03-17:19:32][vortex.tools.systems][cp:2211][ERROR]: Missing source /home/meunierlf/vortex-workdir/auto_cocoon_r8bzh14b/root/cy42_op2.09lf.nam/something\n",
      "# [2019/09/03-17:19:32][vortex.tools.systems][cp:2211][ERROR]: Missing source /home/meunierlf/vortex-workdir/auto_cocoon_r8bzh14b/root/cy42_op2.09lf.nam/something\n",
      "# [2019/09/03-17:19:32][vortex.data.stores][_verbose_log:0528][WARNING]: Multistore get uget://uget.multi.fr: none of the opened store succeeded.\n"
     ]
    }
   ],
   "source": [
    "r1 = toolbox.input(role='ArpegeNamelist', now=True, fatal=False, verbose=False, loglevel='warn',\n",
    "                   # Resource\n",
    "                   kind='namelist', model='arpege', source='something',\n",
    "                   # Provider\n",
    "                   genv='uget:cy42_op2.01fake@ugetdemo',\n",
    "                   # Container\n",
    "                   local='namelvoid')\n",
    "r2 = toolbox.input(role='ArpegeNamelist', now=True, verbose=False, loglevel='warning',\n",
    "                   # Resource\n",
    "                   kind='namelist', model='arpege', source='namelistfc',\n",
    "                   # Provider\n",
    "                   genv='uget:cy42_op2.01fake@ugetdemo',\n",
    "                   # Container\n",
    "                   local='nameltest')\n",
    "r2 = toolbox.input(role='RawGridpoint', now=True, verbose=False, loglevel='warning',\n",
    "                   # Container\n",
    "                   local='epytest_[geometry:area]_[term]', format='grib',\n",
    "                   # Resource\n",
    "                   kind='gridpoint', geometry='antil0025', origin='historic',\n",
    "                   date='2016100100', term='0,3', cutoff='production', model='[vapp]',\n",
    "                   nativefmt='[format]',\n",
    "                   # Provider\n",
    "                   experiment='OPER', block='forecast', namespace='vortex.multi.fr',\n",
    "                   vapp='arome', vconf='antilles')"
   ]
  },
  {
   "cell_type": "code",
   "execution_count": 18,
   "metadata": {
    "collapsed": true,
    "slideshow": {
     "slide_type": "subslide"
    }
   },
   "outputs": [],
   "source": [
    "seq = t.context.sequence"
   ]
  },
  {
   "cell_type": "markdown",
   "metadata": {},
   "source": [
    "Retrieve the list of previously created *Sections* (*Warning:* we are actualy talking about *Sections*, not resource's *Handler*s): "
   ]
  },
  {
   "cell_type": "code",
   "execution_count": 19,
   "metadata": {
    "collapsed": false
   },
   "outputs": [
    {
     "data": {
      "text/plain": [
       "<generator object Sequence.inputs at 0x7f04f77b0e60>"
      ]
     },
     "execution_count": 19,
     "metadata": {},
     "output_type": "execute_result"
    }
   ],
   "source": [
    "seq.inputs()"
   ]
  },
  {
   "cell_type": "code",
   "execution_count": 20,
   "metadata": {
    "collapsed": false
   },
   "outputs": [
    {
     "name": "stdout",
     "output_type": "stream",
     "text": [
      "/home/meunierlf/vortex-workdir/auto_cocoon_r8bzh14b/root/namelvoid (ArpegeNamelist, stage=void)\n",
      "/home/meunierlf/vortex-workdir/auto_cocoon_r8bzh14b/root/nameltest (ArpegeNamelist, stage=get)\n",
      "/home/meunierlf/vortex-workdir/auto_cocoon_r8bzh14b/root/epytest_ANTIL0025_00:00 (RawGridpoint, stage=get)\n",
      "/home/meunierlf/vortex-workdir/auto_cocoon_r8bzh14b/root/epytest_ANTIL0025_03:00 (RawGridpoint, stage=get)\n"
     ]
    }
   ],
   "source": [
    "print('\\n'.join(['{0.rh.container.abspath:s} ({0.role:s}, stage={0.stage})'.format(section)\n",
    "                 for section in seq.inputs()]))"
   ]
  },
  {
   "cell_type": "markdown",
   "metadata": {},
   "source": [
    "The **_``stage``_** attribute allows us to know the state of the resource: \n",
    "\n",
    "  * *load*: the section has been created but nothing else has been done (``now=False``);\n",
    "  * *checked*: the remote resource exists (*check* method) but has not been retrieved; \n",
    "  * *void*: error, the requested resource does not exist; \n",
    "  * *get*: the resource has been retrieved. "
   ]
  },
  {
   "cell_type": "markdown",
   "metadata": {
    "slideshow": {
     "slide_type": "subslide"
    }
   },
   "source": [
    "In general, we want to get the list of *Sections*:\n",
    "    • For which the *get* method was successfuly called (stage=get) ;\n",
    "    • For a specific ``role`` (or for a given ``kind``).\n",
    "\n",
    "The **effective_inputs** method is provided for this purpose:"
   ]
  },
  {
   "cell_type": "code",
   "execution_count": 21,
   "metadata": {
    "collapsed": false
   },
   "outputs": [
    {
     "name": "stdout",
     "output_type": "stream",
     "text": [
      "/home/meunierlf/vortex-workdir/auto_cocoon_r8bzh14b/root/epytest_ANTIL0025_00:00 (RawGridpoint, stage=get)\n",
      "/home/meunierlf/vortex-workdir/auto_cocoon_r8bzh14b/root/epytest_ANTIL0025_03:00 (RawGridpoint, stage=get)\n"
     ]
    }
   ],
   "source": [
    "print('\\n'.join(['{0.rh.container.abspath:s} ({0.role:s}, stage={0.stage})'.format(section)\n",
    "                 for section in seq.effective_inputs(role='RawGridpoint')]))"
   ]
  },
  {
   "cell_type": "code",
   "execution_count": 22,
   "metadata": {
    "collapsed": false
   },
   "outputs": [
    {
     "name": "stdout",
     "output_type": "stream",
     "text": [
      "/home/meunierlf/vortex-workdir/auto_cocoon_r8bzh14b/root/nameltest (ArpegeNamelist, stage=get)\n"
     ]
    }
   ],
   "source": [
    "print('\\n'.join(['{0.rh.container.abspath:s} ({0.role:s}, stage={0.stage})'.format(section)\n",
    "                 for section in seq.effective_inputs(role='ArpegeNamelist')]))\n",
    "#NB: The “void” section does not appear"
   ]
  },
  {
   "cell_type": "code",
   "execution_count": 23,
   "metadata": {
    "collapsed": false
   },
   "outputs": [
    {
     "name": "stdout",
     "output_type": "stream",
     "text": [
      "/home/meunierlf/vortex-workdir/auto_cocoon_r8bzh14b/root/nameltest (ArpegeNamelist, stage=get)\n"
     ]
    }
   ],
   "source": [
    "# It is possible to use regular expressions by compiling them before use...\n",
    "import re\n",
    "regex = re.compile('(Arpege|Arome|Aladin)Namelist')\n",
    "print('\\n'.join(['{0.rh.container.abspath:s} ({0.role:s}, stage={0.stage})'.format(section)\n",
    "                 for section in seq.effective_inputs(role=regex)]))"
   ]
  },
  {
   "cell_type": "markdown",
   "metadata": {
    "slideshow": {
     "slide_type": "subslide"
    }
   },
   "source": [
    "We can also rely on the ``kind`` attribute of the resource (to avoid as much as possible):"
   ]
  },
  {
   "cell_type": "code",
   "execution_count": 24,
   "metadata": {
    "collapsed": false
   },
   "outputs": [
    {
     "name": "stdout",
     "output_type": "stream",
     "text": [
      "/home/meunierlf/vortex-workdir/auto_cocoon_r8bzh14b/root/nameltest (ArpegeNamelist, stage=get)\n"
     ]
    }
   ],
   "source": [
    "print('\\n'.join(['{0.rh.container.abspath:s} ({0.role:s}, stage={0.stage})'.format(section)\n",
    "                 for section in seq.effective_inputs(kind='namelist')]))"
   ]
  },
  {
   "cell_type": "markdown",
   "metadata": {},
   "source": [
    "**Note:** In the *Sequence* object, equivalent methods exist for the output data (**outputs** and **effective_outputs**) but are much less used... "
   ]
  },
  {
   "cell_type": "markdown",
   "metadata": {
    "slideshow": {
     "slide_type": "slide"
    }
   },
   "source": [
    "## The active context's *Environment* object\n",
    "\n",
    "Using the current context, we can retrieve the active *Environment* object at any time: "
   ]
  },
  {
   "cell_type": "code",
   "execution_count": 25,
   "metadata": {
    "collapsed": false
   },
   "outputs": [
    {
     "name": "stdout",
     "output_type": "stream",
     "text": [
      "<vortex.tools.env.Environment object at 0x7f0510084be0 | including 105 variables>\n"
     ]
    }
   ],
   "source": [
    "e = t.context.env\n",
    "print(e)"
   ]
  },
  {
   "cell_type": "markdown",
   "metadata": {},
   "source": [
    "It is also possible to use the following shortcut:"
   ]
  },
  {
   "cell_type": "code",
   "execution_count": 26,
   "metadata": {
    "collapsed": false
   },
   "outputs": [
    {
     "name": "stdout",
     "output_type": "stream",
     "text": [
      "<vortex.tools.env.Environment object at 0x7f0510084be0 | including 105 variables>\n"
     ]
    }
   ],
   "source": [
    "e = t.env\n",
    "print(e)"
   ]
  },
  {
   "cell_type": "markdown",
   "metadata": {},
   "source": [
    "As a first approach, we can consider that the *Environment* object is used like a Python dictionary (with a few additions) ... "
   ]
  },
  {
   "cell_type": "markdown",
   "metadata": {
    "slideshow": {
     "slide_type": "subslide"
    }
   },
   "source": [
    "Variables are accessible in several ways:"
   ]
  },
  {
   "cell_type": "code",
   "execution_count": 27,
   "metadata": {
    "collapsed": false,
    "slideshow": {
     "slide_type": "-"
    }
   },
   "outputs": [
    {
     "name": "stdout",
     "output_type": "stream",
     "text": [
      "/home/meunierlf\n",
      "/home/meunierlf\n",
      "/home/meunierlf\n"
     ]
    }
   ],
   "source": [
    "print(e['HOME'])\n",
    "print(e.HOME)\n",
    "print(e.home)"
   ]
  },
  {
   "cell_type": "markdown",
   "metadata": {},
   "source": [
    "Asking for a missing variable returns ``None``... "
   ]
  },
  {
   "cell_type": "code",
   "execution_count": 28,
   "metadata": {
    "collapsed": false
   },
   "outputs": [
    {
     "name": "stdout",
     "output_type": "stream",
     "text": [
      "FOO exists ? False\n",
      "None\n"
     ]
    }
   ],
   "source": [
    "print('FOO exists ?', 'FOO' in e)\n",
    "print(e.FOO)"
   ]
  },
  {
   "cell_type": "markdown",
   "metadata": {},
   "source": [
    "There are some handy functions:"
   ]
  },
  {
   "cell_type": "code",
   "execution_count": 29,
   "metadata": {
    "collapsed": false
   },
   "outputs": [
    {
     "name": "stdout",
     "output_type": "stream",
     "text": [
      "is True ? True\n",
      "is True ? True\n",
      "is True ? True\n",
      "is True ? True\n"
     ]
    }
   ],
   "source": [
    "for var in [1, 'yes', 'ok', 'true']:\n",
    "    e.FOO = var\n",
    "    print(\"is True ?\", e.true('FOO'))"
   ]
  },
  {
   "cell_type": "markdown",
   "metadata": {
    "slideshow": {
     "slide_type": "subslide"
    }
   },
   "source": [
    "Even more interesting, it is possible to make temporary changes:"
   ]
  },
  {
   "cell_type": "code",
   "execution_count": 30,
   "metadata": {
    "collapsed": false
   },
   "outputs": [
    {
     "name": "stdout",
     "output_type": "stream",
     "text": [
      "foo=2, toto is here\n",
      "foo=1, toto None\n"
     ]
    }
   ],
   "source": [
    "e.FOO = 1\n",
    "with e.delta_context(FOO=2, TOTO='is here'):\n",
    "    print('foo={0.foo}, toto {0.toto}'.format(e))\n",
    "\n",
    "# Changes are \"forgotten\" once you leave the context manager:\n",
    "print('foo={0.foo}, toto {0.toto}'.format(e))"
   ]
  },
  {
   "cell_type": "code",
   "execution_count": 31,
   "metadata": {
    "collapsed": true
   },
   "outputs": [],
   "source": [
    "del e.FOO"
   ]
  },
  {
   "cell_type": "markdown",
   "metadata": {},
   "source": [
    "There are some additional methods. For those who are interested: \n",
    "\n",
    "* http://intra.cnrm.meteo.fr/algopy/sphinx/vortex/current/library/vortex/tools/env.html\n",
    "* http://intra.cnrm.meteo.fr/algopy/sphinx/vortex/current/technical/environment.html (see the examples at the end of this document)"
   ]
  },
  {
   "cell_type": "markdown",
   "metadata": {
    "slideshow": {
     "slide_type": "slide"
    }
   },
   "source": [
    "## Conclusion\n",
    "\n",
    "These notions of *Session*, *Context*, *Sequence* and *Environment* can be scary, but for most users and developers, just knowing how to retrieve “active” objects (in order to use them) is enough. \n",
    "\n",
    "For those who would like to know much more about these objects:\n",
    "http://intra.cnrm.meteo.fr/algopy/sphinx/vortex/current/technical/environment.html \n",
    "\n",
    "Any questions: *vortex.support@meteo.fr*"
   ]
  }
 ],
 "metadata": {
  "celltoolbar": "Slideshow",
  "kernelspec": {
   "display_name": "Python 3",
   "language": "python",
   "name": "python3"
  },
  "language_info": {
   "codemirror_mode": {
    "name": "ipython",
    "version": 3
   },
   "file_extension": ".py",
   "mimetype": "text/x-python",
   "name": "python",
   "nbconvert_exporter": "python",
   "pygments_lexer": "ipython3",
   "version": "3.5.3"
  }
 },
 "nbformat": 4,
 "nbformat_minor": 1
}
