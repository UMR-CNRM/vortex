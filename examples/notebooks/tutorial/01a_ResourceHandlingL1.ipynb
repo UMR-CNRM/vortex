{
 "cells": [
  {
   "cell_type": "code",
   "execution_count": 1,
   "metadata": {
    "collapsed": false,
    "slideshow": {
     "slide_type": "skip"
    }
   },
   "outputs": [
    {
     "name": "stderr",
     "output_type": "stream",
     "text": [
      "# [2019/08/27-15:25:55][vortex.sessions][_set_rundir:0152][WARNING]: Session <root> is changing its working directory </sauvegarde/vortex-dev/vortex/examples/notebooks/tutorial>\n",
      "# [2019/08/27-15:25:55][vortex.sessions][_set_rundir:0155][INFO]: Session <root> set rundir </home/meunierlf/vortex-workdir/auto_cocoon_1xrzv38q>\n"
     ]
    },
    {
     "name": "stdout",
     "output_type": "stream",
     "text": [
      "Vortex 1.6.2 loaded ( Tuesday 27. August 2019, at 15:25:53 )\n",
      "The working directory is now: /home/meunierlf/vortex-workdir/auto_cocoon_1xrzv38q/root\n"
     ]
    },
    {
     "data": {
      "text/plain": [
       "'/home/meunierlf/vortex-workdir/auto_cocoon_1xrzv38q'"
      ]
     },
     "execution_count": 1,
     "metadata": {},
     "output_type": "execute_result"
    }
   ],
   "source": [
    "%load_ext ivortex\n",
    "%vortex tmpcocoon"
   ]
  },
  {
   "cell_type": "markdown",
   "metadata": {
    "slideshow": {
     "slide_type": "slide"
    }
   },
   "source": [
    "# Handling of Resources in Vortex (discovery) "
   ]
  },
  {
   "cell_type": "markdown",
   "metadata": {
    "slideshow": {
     "slide_type": "slide"
    }
   },
   "source": [
    "A normally constituted person could describe a request as follows:\n",
    "\n",
    "> Grid-point data at 3h lead time (on the EUROC25\n",
    "> domain, in GRIB format) for the Arpege model of\n",
    "> the production cutoff from 01/06/2017 18UTC for\n",
    "> the second member of the e-suite PEARP ensemble\n",
    "> prediction system (to be recovered via the\n",
    "> mass-archiving system). \n",
    "\n",
    "The key idea of Vortex is to keep all the richness of such a description. "
   ]
  },
  {
   "cell_type": "markdown",
   "metadata": {
    "slideshow": {
     "slide_type": "fragment"
    }
   },
   "source": [
    "Curiously, in most scripts, we can find this:\n",
    "\n",
    "``ftp://hendrix.meteo.fr/~mxpt001/vortex/arpege/pearp/DBLE/2017/06/01/T1800P/mb002/forecast/grid.arpege-forecast.euroc25+0003:00.grib``"
   ]
  },
  {
   "cell_type": "markdown",
   "metadata": {
    "slideshow": {
     "slide_type": "slide"
    }
   },
   "source": [
    "## Vortex Data Description Objects\n",
    "\n",
    "With Vortex, this descriptive approach results in the association of three objects:\n",
    "\n",
    "  * An object of base class **vortex.data.resources.Resource**. This object describes the data itself. In the previous example: “Grid-point data at 3h lead time (on the EUROC25 domain, in GRIB format) for the Arpege model of the production cutoff from 01/06/2017 18UTC”.\n",
    "  * An object of base class **vortex.data.providers.Provider**. This object describes how the data will be retrieved. In the previous example: “second member of the e-suite PEARP ensemble prediction system (to be recovered via the mass-archiving system).”. \n",
    "  * An object of base class **vortex.data.containers.Container**. This object describes where the resource will be stored locally. It is usually a file (described by its path in the file system). "
   ]
  },
  {
   "cell_type": "markdown",
   "metadata": {
    "slideshow": {
     "slide_type": "subslide"
    }
   },
   "source": [
    "In vortex, this gives ... For the *Resource* object: "
   ]
  },
  {
   "cell_type": "code",
   "execution_count": 2,
   "metadata": {
    "collapsed": false,
    "slideshow": {
     "slide_type": "-"
    }
   },
   "outputs": [
    {
     "name": "stdout",
     "output_type": "stream",
     "text": [
      "<common.data.gridfiles.GridPointExport object at 0x7f9cbf1803c8 | geometry='<vortex.data.geometries.LonlatGeometry | tag='euroc25' id='Large european BDAP target' area='EUROC25' r='02dg500'>' cutoff='production' date='2017-06-01T18:00:00Z' origin='hst' model='arpege' filtername='None' term='03:00'>\n"
     ]
    }
   ],
   "source": [
    "pe_resource = fp.proxy.resource(kind='gridpoint',\n",
    "                                term=3,\n",
    "                                geometry='euroc25',\n",
    "                                nativefmt='grib',\n",
    "                                model='arpege',\n",
    "                                cutoff='production',\n",
    "                                date='2017060118',\n",
    "                                origin='historic')\n",
    "print(pe_resource)"
   ]
  },
  {
   "cell_type": "markdown",
   "metadata": {
    "slideshow": {
     "slide_type": "subslide"
    }
   },
   "source": [
    "For the *Provider* object: "
   ]
  },
  {
   "cell_type": "code",
   "execution_count": 3,
   "metadata": {
    "collapsed": false,
    "slideshow": {
     "slide_type": "-"
    }
   },
   "outputs": [
    {
     "name": "stdout",
     "output_type": "stream",
     "text": [
      "<vortex.data.providers.VortexOp object at 0x7f9cbf180390 | namespace='vortex.archive.fr' block='forecast'>\n"
     ]
    }
   ],
   "source": [
    "pe_provider = fp.proxy.provider(vapp='arpege',\n",
    "                                vconf='pearp',\n",
    "                                member=2,\n",
    "                                experiment='DBLE',\n",
    "                                namespace='vortex.archive.fr',\n",
    "                                block='forecast')\n",
    "print(pe_provider)"
   ]
  },
  {
   "cell_type": "markdown",
   "metadata": {
    "slideshow": {
     "slide_type": "subslide"
    }
   },
   "source": [
    "For the *Container* object:"
   ]
  },
  {
   "cell_type": "code",
   "execution_count": 4,
   "metadata": {
    "collapsed": false,
    "slideshow": {
     "slide_type": "-"
    }
   },
   "outputs": [
    {
     "name": "stdout",
     "output_type": "stream",
     "text": [
      "<vortex.data.containers.SingleFile object at 0x7f9cbf1802e8 | path='my_pearp_gribfile'>\n"
     ]
    }
   ],
   "source": [
    "pe_container = fp.proxy.container(local='my_pearp_gribfile', format='grib')\n",
    "print(pe_container)"
   ]
  },
  {
   "cell_type": "markdown",
   "metadata": {
    "slideshow": {
     "slide_type": "slide"
    }
   },
   "source": [
    "## To make these objects interact: the *resource*'s Handler \n",
    "\n",
    "To manipulate data in Vortex, you must associate the three objects mentioned above. This aggregation is done by an object of base class **vortex.data.handlers.Handler**.\n",
    "\n",
    "This object allows the manipulation of data via simple methods: \n",
    "\n",
    "  * **locate** : determine the physical location of the data (here the ftp address); \n",
    "  * **get** : retrieve the data and place it in the *container*;\n",
    "  * **put** : send the contents of the *container* to the location described by the *resource* and *provider* objects; \n",
    "  * **check** : check the existence of the data; \n",
    "  * **delete** : delete the data described by the *resource* and *provider* objects; \n",
    "  * **clear** : delete the contents of the *container*."
   ]
  },
  {
   "cell_type": "markdown",
   "metadata": {
    "slideshow": {
     "slide_type": "subslide"
    }
   },
   "source": [
    "In practice..."
   ]
  },
  {
   "cell_type": "code",
   "execution_count": 5,
   "metadata": {
    "collapsed": true
   },
   "outputs": [],
   "source": [
    "rhandler = vortex.data.handlers.Handler(dict(resource=pe_resource,\n",
    "                                             provider=pe_provider,\n",
    "                                             container=pe_container))"
   ]
  },
  {
   "cell_type": "markdown",
   "metadata": {
    "slideshow": {
     "slide_type": "-"
    }
   },
   "source": [
    "To retrieve data:"
   ]
  },
  {
   "cell_type": "code",
   "execution_count": 6,
   "metadata": {
    "collapsed": false
   },
   "outputs": [
    {
     "name": "stderr",
     "output_type": "stream",
     "text": [
      "# [2019/08/27-15:33:24][vortex.data.stores][inarchiveget:1199][INFO]: inarchiveget on vortex://vsop.archive.fr//home/m/mxpt/mxpt001/vortex/arpege/pearp/DBLE/2017/06/01/T1800P/mb002/forecast/grid.arpege-forecast.euroc25+0003:00.grib (to: my_pearp_gribfile)\n",
      "# [2019/08/27-15:33:24][vortex.tools.storage][_ftpretrieve:0690][INFO]: ftpget on ftp://hendrix.meteo.fr//home/m/mxpt/mxpt001/vortex/arpege/pearp/DBLE/2017/06/01/T1800P/mb002/forecast/grid.arpege-forecast.euroc25+0003:00.grib (to: my_pearp_gribfile)\n",
      "# [2019/08/27-15:33:26][vortex.tools.net][get:0268][INFO]: FTP <get:/home/m/mxpt/mxpt001/vortex/arpege/pearp/DBLE/2017/06/01/T1800P/mb002/forecast/grid.arpege-forecast.euroc25+0003:00.grib>\n"
     ]
    },
    {
     "name": "stdout",
     "output_type": "stream",
     "text": [
      "total 1328\r\n",
      "-rw-r--r-- 1 meunierlf algo 1357578 août  27 15:33 my_pearp_gribfile\r\n"
     ]
    }
   ],
   "source": [
    "rhandler.get()\n",
    "%ls -l"
   ]
  },
  {
   "cell_type": "markdown",
   "metadata": {
    "slideshow": {
     "slide_type": "subslide"
    }
   },
   "source": [
    "A little bit of cleaning before going on..."
   ]
  },
  {
   "cell_type": "code",
   "execution_count": 7,
   "metadata": {
    "collapsed": false
   },
   "outputs": [
    {
     "data": {
      "text/plain": [
       "True"
      ]
     },
     "execution_count": 7,
     "metadata": {},
     "output_type": "execute_result"
    }
   ],
   "source": [
    "rhandler.clear()"
   ]
  },
  {
   "cell_type": "code",
   "execution_count": 8,
   "metadata": {
    "collapsed": false
   },
   "outputs": [
    {
     "name": "stdout",
     "output_type": "stream",
     "text": [
      "total 0\r\n"
     ]
    }
   ],
   "source": [
    "%ls -l"
   ]
  },
  {
   "cell_type": "markdown",
   "metadata": {
    "slideshow": {
     "slide_type": "slide"
    }
   },
   "source": [
    "## Use of the data\n",
    "\n",
    "The **Handler** class does not meet all the requirements; we would like to be able to specify:\n",
    "\n",
    "  * What we want to do with these data \n",
    "  * What to do if an error occurs \n",
    "  * If the data need to be updated or not "
   ]
  },
  {
   "cell_type": "markdown",
   "metadata": {
    "slideshow": {
     "slide_type": "fragment"
    }
   },
   "source": [
    "This is the role of the object of class **vortex.layout.dataflow.Section** that wraps the *resource*'s *Handler*:"
   ]
  },
  {
   "cell_type": "code",
   "execution_count": 10,
   "metadata": {
    "collapsed": true
   },
   "outputs": [],
   "source": [
    "section = vortex.layout.dataflow.Section(rh=rhandler,\n",
    "                                         # This file serves as:\n",
    "                                         role='InitialCondition',\n",
    "                                         # This is an input file:\n",
    "                                         kind=vortex.layout.dataflow.ixo.INPUT,\n",
    "                                         # Crash on error:\n",
    "                                         fatal=True,\n",
    "                                         # Read/Write:\n",
    "                                         intent='inout')"
   ]
  },
  {
   "cell_type": "markdown",
   "metadata": {
    "slideshow": {
     "slide_type": "subslide"
    }
   },
   "source": [
    "This object has two main methods, **get** and **put**, that call the *resource*’s *Handler* , taking into account the *fatal* and *intent* attributes : "
   ]
  },
  {
   "cell_type": "code",
   "execution_count": 11,
   "metadata": {
    "collapsed": false
   },
   "outputs": [
    {
     "name": "stderr",
     "output_type": "stream",
     "text": [
      "# [2019/08/27-15:37:44][vortex.data.stores][inarchiveget:1199][INFO]: inarchiveget on vortex://vsop.archive.fr//home/m/mxpt/mxpt001/vortex/arpege/pearp/DBLE/2017/06/01/T1800P/mb002/forecast/grid.arpege-forecast.euroc25+0003:00.grib (to: my_pearp_gribfile)\n",
      "# [2019/08/27-15:37:44][vortex.tools.storage][_ftpretrieve:0690][INFO]: ftpget on ftp://hendrix.meteo.fr//home/m/mxpt/mxpt001/vortex/arpege/pearp/DBLE/2017/06/01/T1800P/mb002/forecast/grid.arpege-forecast.euroc25+0003:00.grib (to: my_pearp_gribfile)\n",
      "# [2019/08/27-15:37:46][vortex.tools.net][get:0268][INFO]: FTP <get:/home/m/mxpt/mxpt001/vortex/arpege/pearp/DBLE/2017/06/01/T1800P/mb002/forecast/grid.arpege-forecast.euroc25+0003:00.grib>\n"
     ]
    },
    {
     "name": "stdout",
     "output_type": "stream",
     "text": [
      "total 1328\r\n",
      "-rw-r--r-- 1 meunierlf algo 1357578 août  27 15:37 my_pearp_gribfile\r\n"
     ]
    }
   ],
   "source": [
    "section.get()\n",
    "%ls -l"
   ]
  },
  {
   "cell_type": "markdown",
   "metadata": {},
   "source": [
    "The *resource*'s *Handler* remains accessible (for example, to empty the *container*): "
   ]
  },
  {
   "cell_type": "code",
   "execution_count": 12,
   "metadata": {
    "collapsed": false
   },
   "outputs": [
    {
     "name": "stdout",
     "output_type": "stream",
     "text": [
      "total 0\r\n"
     ]
    }
   ],
   "source": [
    "section.rh.clear()\n",
    "%ls -l"
   ]
  },
  {
   "cell_type": "markdown",
   "metadata": {
    "slideshow": {
     "slide_type": "slide"
    }
   },
   "source": [
    "Summary diagram\n",
    "\n",
    "![](../images/data_management_overview.png)"
   ]
  },
  {
   "cell_type": "markdown",
   "metadata": {
    "slideshow": {
     "slide_type": "slide"
    }
   },
   "source": [
    "## Quick creation of *Handlers* and *Sections* via the Toolbox module \n",
    "\n",
    "It is tedious to create the different objects manually, the  **vortex.toolbox** module (often systematically imported) thus provides functions allowing the creation of set of objects in a single call. "
   ]
  },
  {
   "cell_type": "markdown",
   "metadata": {
    "slideshow": {
     "slide_type": "slide"
    }
   },
   "source": [
    "### Quick creation of *resource*'s *Handlers*"
   ]
  },
  {
   "cell_type": "code",
   "execution_count": 13,
   "metadata": {
    "collapsed": false
   },
   "outputs": [
    {
     "name": "stdout",
     "output_type": "stream",
     "text": [
      "[<vortex.data.handlers.Handler object at 0x7f9cbf10c438>]\n"
     ]
    }
   ],
   "source": [
    "rhandlers = toolbox.rload(# Resource\n",
    "                          kind='gridpoint', term=3, geometry='euroc25',\n",
    "                          nativefmt='grib', model='arpege', \n",
    "                          cutoff='production', date='2017060118',\n",
    "                          origin='historic',\n",
    "                          # Provider\n",
    "                          vapp='arpege', vconf='pearp', member=2,\n",
    "                          experiment='DBLE', namespace='vortex.archive.fr',\n",
    "                          block='forecast',\n",
    "                          # Container\n",
    "                          local='my_pearp_gribfile', format='grib')\n",
    "print(rhandlers)"
   ]
  },
  {
   "cell_type": "markdown",
   "metadata": {
    "slideshow": {
     "slide_type": "subslide"
    }
   },
   "source": [
    "We get a list of *resource*'s *Handlers* and not a single object ... we will come back to that later; by now, let's accept this state of fact. The object contained in the list is the expected one: "
   ]
  },
  {
   "cell_type": "code",
   "execution_count": 14,
   "metadata": {
    "collapsed": false
   },
   "outputs": [
    {
     "name": "stdout",
     "output_type": "stream",
     "text": [
      "00. <vortex.data.handlers.Handler object at 0x7f9cbf10c438>\n",
      "  Complete  : True\n",
      "  Container : <vortex.data.containers.SingleFile object at 0x7f9cbf10c4a8 | path='my_pearp_gribfile'>\n",
      "  Provider  : <vortex.data.providers.VortexOp object at 0x7f9cbf10c320 | namespace='vortex.archive.fr' block='forecast'>\n",
      "  Resource  : <common.data.gridfiles.GridPointExport object at 0x7f9cbf10c390 | geometry='<vortex.data.geometries.LonlatGeometry | tag='euroc25' id='Large european BDAP target' area='EUROC25' r='02dg500'>' cutoff='production' date='2017-06-01T18:00:00Z' origin='hst' model='arpege' filtername='None' term='03:00'>\n"
     ]
    }
   ],
   "source": [
    "rhandlers[0].quickview()"
   ]
  },
  {
   "cell_type": "markdown",
   "metadata": {
    "slideshow": {
     "slide_type": "slide"
    }
   },
   "source": [
    "### Quick creation of sections"
   ]
  },
  {
   "cell_type": "code",
   "execution_count": 15,
   "metadata": {
    "collapsed": false,
    "scrolled": false
   },
   "outputs": [
    {
     "name": "stdout",
     "output_type": "stream",
     "text": [
      "[<vortex.data.handlers.Handler object at 0x7f9cbf10c780>]\n"
     ]
    }
   ],
   "source": [
    "rhandlers = toolbox.input(# Input function options\n",
    "                          verbose=False,\n",
    "                          # Section\n",
    "                          role='InitialCondition', fatal=True, intent='inout',\n",
    "                          # Resource\n",
    "                          kind='gridpoint', term=3, geometry='euroc25',\n",
    "                          nativefmt='grib', model='arpege', \n",
    "                          cutoff='production', date='2017060118',\n",
    "                          origin='historic',\n",
    "                          # Provider\n",
    "                          vapp='arpege', vconf='pearp', member=2,\n",
    "                          experiment='DBLE', namespace='vortex.archive.fr',\n",
    "                          block='forecast',\n",
    "                          # Container\n",
    "                          local='my_pearp_gribfile', format='grib')\n",
    "print(rhandlers)"
   ]
  },
  {
   "cell_type": "markdown",
   "metadata": {
    "slideshow": {
     "slide_type": "subslide"
    }
   },
   "source": [
    "* Here too, we get a list of *resource*'s *Handlers* . It may sound strange but the associated *Section* objects do exist (they are stored and can be recovered). \n",
    "* The **input** function accepts some options:\n",
    "    * **verbose** : If *verbose=True*, a summary is displayed on the standard output;\n",
    "    * **loglevel** : The desired log level for Vortex (‘info’ by default);\n",
    "    * **now** : If *now=True* (*False* by défaut), the resource is retrieved on the field by a call to the *get* method. This is often what we want;\n",
    "    * **insitu** : If *insitu=True*, that an identical *resource*'s *Handler* has already retrieved the data in a previous execution and the container is filled, we just create the *Section* and *Handler* objects (we do not retrieve the data again).\n",
    "* There is also a **toolbox.output** method used for creating *Sections* for output files (in this case *now=True*, implies an immediate call to the *put* method). "
   ]
  },
  {
   "cell_type": "code",
   "execution_count": 16,
   "metadata": {
    "collapsed": false,
    "slideshow": {
     "slide_type": "subslide"
    }
   },
   "outputs": [
    {
     "name": "stderr",
     "output_type": "stream",
     "text": [
      "# [2019/08/27-15:47:59][vortex.data.stores][inarchiveget:1199][INFO]: inarchiveget on vortex://vsop.archive.fr//home/m/mxpt/mxpt001/vortex/arpege/pearp/DBLE/2017/06/01/T1800P/mb002/forecast/grid.arpege-forecast.euroc25+0003:00.grib (to: my_pearp_gribfile)\n",
      "# [2019/08/27-15:47:59][vortex.tools.storage][_ftpretrieve:0690][INFO]: ftpget on ftp://hendrix.meteo.fr//home/m/mxpt/mxpt001/vortex/arpege/pearp/DBLE/2017/06/01/T1800P/mb002/forecast/grid.arpege-forecast.euroc25+0003:00.grib (to: my_pearp_gribfile)\n",
      "# [2019/08/27-15:48:00][vortex.tools.net][get:0268][INFO]: FTP <get:/home/m/mxpt/mxpt001/vortex/arpege/pearp/DBLE/2017/06/01/T1800P/mb002/forecast/grid.arpege-forecast.euroc25+0003:00.grib>\n"
     ]
    },
    {
     "name": "stdout",
     "output_type": "stream",
     "text": [
      "[<vortex.data.handlers.Handler object at 0x7f9cbf10c978>]\n"
     ]
    },
    {
     "data": {
      "text/plain": [
       "True"
      ]
     },
     "execution_count": 16,
     "metadata": {},
     "output_type": "execute_result"
    }
   ],
   "source": [
    "rhandlers = toolbox.input(# Input function options\n",
    "                          verbose=False, now=True,\n",
    "                          # Section\n",
    "                          role='InitialCondition', fatal=True, intent='inout',\n",
    "                          # Resource\n",
    "                          kind='gridpoint', term=3, geometry='euroc25',\n",
    "                          nativefmt='grib', model='arpege', \n",
    "                          cutoff='production', date='2017060118',\n",
    "                          origin='historic',\n",
    "                          # Provider\n",
    "                          vapp='arpege', vconf='pearp', member=2,\n",
    "                          experiment='DBLE', namespace='vortex.archive.fr',\n",
    "                          block='forecast',\n",
    "                          # Container\n",
    "                          local='my_pearp_gribfile', format='grib')\n",
    "print(rhandlers)\n",
    "rhandlers[0].clear()  # Cleanup"
   ]
  },
  {
   "cell_type": "markdown",
   "metadata": {
    "slideshow": {
     "slide_type": "subslide"
    }
   },
   "source": [
    "It is possible to check and modify some defaults used by the *toolbox* module: "
   ]
  },
  {
   "cell_type": "code",
   "execution_count": 17,
   "metadata": {
    "collapsed": false
   },
   "outputs": [
    {
     "name": "stdout",
     "output_type": "stream",
     "text": [
      "+ active_now               = False\n",
      "+ active_insitu            = False\n",
      "+ active_verbose           = True\n",
      "+ active_promise           = True\n",
      "+ active_clear             = False\n",
      "+ active_metadatacheck     = True\n",
      "+ active_incache           = False\n"
     ]
    }
   ],
   "source": [
    "toolbox.show_toolbox_settings()"
   ]
  },
  {
   "cell_type": "code",
   "execution_count": 18,
   "metadata": {
    "collapsed": true
   },
   "outputs": [],
   "source": [
    "toolbox.active_now = True"
   ]
  },
  {
   "cell_type": "markdown",
   "metadata": {
    "slideshow": {
     "slide_type": "subslide"
    }
   },
   "source": [
    "The data retrieval is now done automatically even if `now=True` is omitted:"
   ]
  },
  {
   "cell_type": "code",
   "execution_count": 19,
   "metadata": {
    "collapsed": false
   },
   "outputs": [
    {
     "name": "stderr",
     "output_type": "stream",
     "text": [
      "# [2019/08/27-15:49:14][vortex.data.stores][inarchiveget:1199][INFO]: inarchiveget on vortex://vsop.archive.fr//home/m/mxpt/mxpt001/vortex/arpege/pearp/DBLE/2017/06/01/T1800P/mb002/forecast/grid.arpege-forecast.euroc25+0003:00.grib (to: my_pearp_gribfile)\n",
      "# [2019/08/27-15:49:14][vortex.tools.storage][_ftpretrieve:0690][INFO]: ftpget on ftp://hendrix.meteo.fr//home/m/mxpt/mxpt001/vortex/arpege/pearp/DBLE/2017/06/01/T1800P/mb002/forecast/grid.arpege-forecast.euroc25+0003:00.grib (to: my_pearp_gribfile)\n",
      "# [2019/08/27-15:49:15][vortex.tools.net][get:0268][INFO]: FTP <get:/home/m/mxpt/mxpt001/vortex/arpege/pearp/DBLE/2017/06/01/T1800P/mb002/forecast/grid.arpege-forecast.euroc25+0003:00.grib>\n"
     ]
    },
    {
     "name": "stdout",
     "output_type": "stream",
     "text": [
      "[<vortex.data.handlers.Handler object at 0x7f9cbf10cd68>]\n"
     ]
    },
    {
     "data": {
      "text/plain": [
       "True"
      ]
     },
     "execution_count": 19,
     "metadata": {},
     "output_type": "execute_result"
    }
   ],
   "source": [
    "rhandlers = toolbox.input(# Input function options\n",
    "                          verbose=False,\n",
    "                          # Section\n",
    "                          role='InitialCondition', fatal=True, intent='inout',\n",
    "                          # Resource\n",
    "                          kind='gridpoint', term=3, geometry='euroc25',\n",
    "                          nativefmt='grib', model='arpege', \n",
    "                          cutoff='production', date='2017060118',\n",
    "                          origin='historic',\n",
    "                          # Provider\n",
    "                          vapp='arpege', vconf='pearp', member=2,\n",
    "                          experiment='DBLE', namespace='vortex.archive.fr',\n",
    "                          block='forecast',\n",
    "                          # Container\n",
    "                          local='my_pearp_gribfile', format='grib')\n",
    "print(rhandlers)\n",
    "rhandlers[0].clear()  # cleanup"
   ]
  },
  {
   "cell_type": "markdown",
   "metadata": {
    "slideshow": {
     "slide_type": "slide"
    }
   },
   "source": [
    "## Intermediate conclusion\n",
    "\n",
    "* Via the *toolbox* module, it is quite simple, in a script, an interactive Python session or a notebook, to create all the objects necessary for the manipulation of resources. \n",
    "* Still, the *Resource*, *Provider* and *Container* objects are created in a rather mysterious way (according to the arguments specified by the user). All these objects have very specific types:"
   ]
  },
  {
   "cell_type": "code",
   "execution_count": 20,
   "metadata": {
    "collapsed": false
   },
   "outputs": [
    {
     "name": "stdout",
     "output_type": "stream",
     "text": [
      "Resource:   <class 'common.data.gridfiles.GridPointExport'>\n",
      "Provider:   <class 'vortex.data.providers.VortexOp'>\n",
      "Container:  <class 'vortex.data.containers.SingleFile'>\n"
     ]
    }
   ],
   "source": [
    "print('Resource:  ', type(rhandlers[0].resource))\n",
    "print('Provider:  ', type(rhandlers[0].provider))\n",
    "print('Container: ', type(rhandlers[0].container))"
   ]
  },
  {
   "cell_type": "markdown",
   "metadata": {},
   "source": [
    "> That's the whole point of the next presentation...\n",
    "\n",
    "Any questions: *vortex.support@meteo.fr*"
   ]
  }
 ],
 "metadata": {
  "celltoolbar": "Slideshow",
  "kernelspec": {
   "display_name": "Python 3",
   "language": "python",
   "name": "python3"
  },
  "language_info": {
   "codemirror_mode": {
    "name": "ipython",
    "version": 3
   },
   "file_extension": ".py",
   "mimetype": "text/x-python",
   "name": "python",
   "nbconvert_exporter": "python",
   "pygments_lexer": "ipython3",
   "version": "3.5.3"
  },
  "toc": {
   "colors": {
    "hover_highlight": "#DAA520",
    "navigate_num": "#000000",
    "navigate_text": "#333333",
    "running_highlight": "#FF0000",
    "selected_highlight": "#FFD700",
    "sidebar_border": "#EEEEEE",
    "wrapper_background": "#FFFFFF"
   },
   "moveMenuLeft": true,
   "nav_menu": {
    "height": "195px",
    "width": "252px"
   },
   "navigate_menu": true,
   "number_sections": true,
   "sideBar": true,
   "threshold": 4,
   "toc_cell": true,
   "toc_section_display": "block",
   "toc_window_display": false,
   "widenNotebook": false
  }
 },
 "nbformat": 4,
 "nbformat_minor": 1
}
