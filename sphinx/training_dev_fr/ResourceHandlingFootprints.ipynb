{
 "cells": [
  {
   "cell_type": "markdown",
   "metadata": {
    "slideshow": {
     "slide_type": "slide"
    }
   },
   "source": [
    "# Role de footprints dans la création des objets"
   ]
  },
  {
   "cell_type": "markdown",
   "metadata": {
    "slideshow": {
     "slide_type": "slide"
    }
   },
   "source": [
    "Reprenons l'exemple précédent de création d'une *ressource* :\n",
    "\n",
    "```python\n",
    "pe_resource = fp.proxy.resource(kind='gridpoint',\n",
    "                                term=3,\n",
    "                                geometry='euroc25',\n",
    "                                nativefmt='grib',\n",
    "                                model='arpege',\n",
    "                                cutoff='production',\n",
    "                                date='2017060118',\n",
    "                                origin='historic')\n",
    "```\n",
    "\n",
    "On appelle une méthode générique qui crée le \"bon\" objet en fonction des attributs qui lui sont passés : cela fait fortement penser au patron de conception de la Fabrique (*factory design pattern* pour les anglophones). C'est une façon de décrire le rôle du package **footprints**, néanmoins **footprints** fait bien plus que d'implémenter une Fabrique (notamment en terme de flexibilité)."
   ]
  },
  {
   "cell_type": "markdown",
   "metadata": {
    "slideshow": {
     "slide_type": "slide"
    }
   },
   "source": [
    "## Description des objets gérés par footprints\n",
    "\n",
    "Nous allons maintenant commencer notre démonstration du package footprints, la moindre des choses est de charger le package :"
   ]
  },
  {
   "cell_type": "code",
   "execution_count": 1,
   "metadata": {
    "collapsed": true
   },
   "outputs": [],
   "source": [
    "import footprints as fp"
   ]
  },
  {
   "cell_type": "markdown",
   "metadata": {},
   "source": [
    "En soit, le fait de charger le package **footprints** ne fait rien. Tout se joue lors de l'écriture des classes concernées et de la création des objets"
   ]
  },
  {
   "cell_type": "markdown",
   "metadata": {
    "slideshow": {
     "slide_type": "slide"
    }
   },
   "source": [
    "### Classes, Collecteurs et Objets\n",
    "\n",
    "Voici un exemple de classe adossée au package footprints :"
   ]
  },
  {
   "cell_type": "code",
   "execution_count": 2,
   "metadata": {
    "collapsed": false
   },
   "outputs": [],
   "source": [
    "class Observations(fp.FootprintBase):\n",
    "    \n",
    "    _collector = ('fakeresource', )  # collecteur\n",
    "    _footprint = dict(  # empreinte\n",
    "        info = 'Any kind of insitu observations',\n",
    "        attr = dict(\n",
    "            kind = dict(\n",
    "                values = ['observations', ],\n",
    "                info   = 'The kind of resource',\n",
    "            )\n",
    "        )\n",
    "    )"
   ]
  },
  {
   "cell_type": "markdown",
   "metadata": {},
   "source": [
    "* Toute classe \"footprintisée\" doit hériter de **FootprintBase**\n",
    "* Une classe \"footprintisée\" est ratachée à un (ou plusieurs) *collecteur*. Chaque collecteur est un objet de classe **footprints.collectors.Collector** qui maintient, pour un thème donné (ici \"fakeresource\") un liste des différentes classes qui ont été déclarées.\n",
    "* Chaque classe \"footprintisée\" doit être munie d'une empreinte qui spécifie quels sont les attributs d'une classe, ..."
   ]
  },
  {
   "cell_type": "markdown",
   "metadata": {
    "slideshow": {
     "slide_type": "subslide"
    }
   },
   "source": [
    "La récupération d'un objet collecteur peut se faire via le module **collectors** :"
   ]
  },
  {
   "cell_type": "code",
   "execution_count": 3,
   "metadata": {
    "collapsed": false
   },
   "outputs": [
    {
     "name": "stdout",
     "output_type": "stream",
     "text": [
      "<footprints.collectors.Collector object at 0x7fc0a1f19050>\n"
     ]
    }
   ],
   "source": [
    "print fp.collectors.get(tag='fakeresource')"
   ]
  },
  {
   "cell_type": "markdown",
   "metadata": {},
   "source": [
    "En générale, une autre syntaxe est préfére :"
   ]
  },
  {
   "cell_type": "code",
   "execution_count": 4,
   "metadata": {
    "collapsed": false
   },
   "outputs": [
    {
     "name": "stdout",
     "output_type": "stream",
     "text": [
      "<footprints.collectors.Collector object at 0x7fc0a1f19050>\n"
     ]
    }
   ],
   "source": [
    "from footprints import proxy as fpx\n",
    "print fpx.fakeresources  # Attention au \"s\" à la fin"
   ]
  },
  {
   "cell_type": "markdown",
   "metadata": {
    "slideshow": {
     "slide_type": "fragment"
    }
   },
   "source": [
    "Quelles sont les classes ratachées au collecteur \"fakeresource\" ?"
   ]
  },
  {
   "cell_type": "code",
   "execution_count": 5,
   "metadata": {
    "collapsed": false
   },
   "outputs": [
    {
     "name": "stdout",
     "output_type": "stream",
     "text": [
      "[<class '__main__.Observations'>]\n"
     ]
    }
   ],
   "source": [
    "print fpx.fakeresources.items()"
   ]
  },
  {
   "cell_type": "markdown",
   "metadata": {},
   "source": [
    "On retrouve bien la classe que nous avons définie précédement..."
   ]
  },
  {
   "cell_type": "markdown",
   "metadata": {
    "slideshow": {
     "slide_type": "subslide"
    }
   },
   "source": [
    "En tant que catalogue des différentes classes disponibles, c'est le *collecteur* qui permet la création d'objets :"
   ]
  },
  {
   "cell_type": "code",
   "execution_count": 6,
   "metadata": {
    "collapsed": false
   },
   "outputs": [
    {
     "name": "stdout",
     "output_type": "stream",
     "text": [
      "<__main__.Observations object at 0x7fc0a1f04dd0 | footprint=1>\n"
     ]
    }
   ],
   "source": [
    "obs_obj1 = fpx.fakeresources.load(kind='observations')\n",
    "print obs_obj1"
   ]
  },
  {
   "cell_type": "markdown",
   "metadata": {
    "slideshow": {
     "slide_type": "fragment"
    }
   },
   "source": [
    "Là aussi le package **footprints** fournie une syntaxe simplfiée qui est souvent préférée à la précédente :"
   ]
  },
  {
   "cell_type": "code",
   "execution_count": 7,
   "metadata": {
    "collapsed": false
   },
   "outputs": [
    {
     "name": "stdout",
     "output_type": "stream",
     "text": [
      "<__main__.Observations object at 0x7fc0a1f04e10 | footprint=1>\n"
     ]
    }
   ],
   "source": [
    "obs_obj2 = fpx.fakeresource(kind='observations')  # Attention : pas de \"s\" à la fin\n",
    "print obs_obj2"
   ]
  },
  {
   "cell_type": "markdown",
   "metadata": {
    "slideshow": {
     "slide_type": "subslide"
    }
   },
   "source": [
    "A partir de ce simple exemple on peut entrevoir l'éventualité d'erreurs... Que se passe t'il si l'on demande un objet dont le *kind* n'existe pas..."
   ]
  },
  {
   "cell_type": "code",
   "execution_count": 8,
   "metadata": {
    "collapsed": false
   },
   "outputs": [
    {
     "name": "stderr",
     "output_type": "stream",
     "text": [
      "# [2017/08/21-14:08:30][footprints.collectors][pickup:0286][WARNING]: No fakeresource found in description \n",
      "      dict(\n",
      "          fakeresource = None, \n",
      "          kind = 'toto',\n",
      "      )\n"
     ]
    },
    {
     "name": "stdout",
     "output_type": "stream",
     "text": [
      "\n",
      " Report Footprint-Fakeresource: \n",
      "\n",
      "     __main__.Observations\n",
      "         kind       : {'args': 'toto', 'why': 'Not in values'}\n",
      "\n",
      "failer1 is: None\n"
     ]
    }
   ],
   "source": [
    "failer1 = fpx.fakeresource(kind='toto')\n",
    "print 'failer1 is:', str(failer1)"
   ]
  },
  {
   "cell_type": "markdown",
   "metadata": {},
   "source": [
    "En cas d'erreur, le *collecteur* renvoi *None* et un message d'erreur est affiché détaillant pourquoi il n'est pas possible d'instancier telle ou telle classe."
   ]
  },
  {
   "cell_type": "markdown",
   "metadata": {
    "slideshow": {
     "slide_type": "slide"
    }
   },
   "source": [
    "### Héritage et footprints prédéfinies\n",
    "\n",
    "Dans un langage comme Python, l'utilisation de l'héritage de classe est plus que recomandée. Il faut donc que le package **footprints** gère ce cas de façon optimale. En pratique, toute classe héritant d'une classe \"footprintisée\" hérite aussi de l'empreinte de la classe mère. Cette empreinte peut ensuite être altérée ou étendue au niveau de la classe fille.\n",
    "\n",
    "**footprints** offre aussi la possibilité de créer classes abstraites. Cela permet de définir des classes indispensables à la structure de l'arbre d'héritage tout en ayant la certitude que celles-ci ne seront jamais instanciées.\n",
    "\n",
    "Certains attributs sont des \"classiques\", on peut imaginer de les prédéfinir."
   ]
  },
  {
   "cell_type": "markdown",
   "metadata": {
    "slideshow": {
     "slide_type": "subslide"
    }
   },
   "source": [
    "Dans un contexte de prévision numérique, on peut par exemple considérer que le *cutoff* est un attribut classique (assimilation ou production) et vouloir le prédéfinir :"
   ]
  },
  {
   "cell_type": "code",
   "execution_count": 9,
   "metadata": {
    "collapsed": true
   },
   "outputs": [],
   "source": [
    "a_cutoff = dict(\n",
    "    info     = \"The cutoff type of the generating process.\",\n",
    "    values   = ['assim', 'production', ],\n",
    ")\n",
    "cutoff = fp.Footprint(info = 'Abstract cutoff', attr = dict(cutoff = a_cutoff))"
   ]
  },
  {
   "cell_type": "markdown",
   "metadata": {
    "slideshow": {
     "slide_type": "subslide"
    }
   },
   "source": [
    "Cette attribut prédéfini peut dès lors être utilisé pour définir une classe abstraite servant de base à différents champs modèle :"
   ]
  },
  {
   "cell_type": "code",
   "execution_count": 10,
   "metadata": {
    "collapsed": false
   },
   "outputs": [],
   "source": [
    "class ModelState(fp.FootprintBase):\n",
    "\n",
    "    _collector = ('fakeresource', )\n",
    "    _abstract = True\n",
    "    _footprint = [\n",
    "        cutoff,\n",
    "        dict(\n",
    "            info = 'Abstract Model State',\n",
    "            attr = dict(\n",
    "                kind = dict(\n",
    "                    info = 'The kind of modelstates we are dealing with',\n",
    "                ),\n",
    "                date = dict(\n",
    "                    info = 'The base date of this model state'\n",
    "                ),\n",
    "            )\n",
    "        )\n",
    "    ]\n"
   ]
  },
  {
   "cell_type": "markdown",
   "metadata": {
    "slideshow": {
     "slide_type": "subslide"
    }
   },
   "source": [
    "Héritons de cette classe pour créer des conditions initiales :"
   ]
  },
  {
   "cell_type": "code",
   "execution_count": 11,
   "metadata": {
    "collapsed": true
   },
   "outputs": [],
   "source": [
    "class InitialConditions(ModelState):\n",
    "    \n",
    "    _footprint = dict(\n",
    "        attr = dict(\n",
    "            kind = dict(\n",
    "                values = ['initial_conditions', ]\n",
    "            ),       \n",
    "        )\n",
    "    )    "
   ]
  },
  {
   "cell_type": "code",
   "execution_count": 12,
   "metadata": {
    "collapsed": false
   },
   "outputs": [
    {
     "name": "stdout",
     "output_type": "stream",
     "text": [
      "<__main__.InitialConditions object at 0x7fc09aa1a650 | footprint=3>\n",
      "kind=initial_conditions, date=2017070100, cutoff=assim\n"
     ]
    }
   ],
   "source": [
    "ic_obj = fpx.fakeresource(kind='initial_conditions', date='2017070100', cutoff='assim')\n",
    "print ic_obj\n",
    "print 'kind={0.kind:s}, date={0.date:s}, cutoff={0.cutoff:s}'.format(ic_obj)"
   ]
  },
  {
   "cell_type": "markdown",
   "metadata": {
    "slideshow": {
     "slide_type": "slide"
    }
   },
   "source": [
    "### Description détaillée des attributs\n",
    "\n",
    "Il est possible d'utiliser un grand nombre de clés lors de la description des attributs :\n",
    "\n",
    "  * **type** : type (au sens de Python) de l'attribut (*str* par défaut)\n",
    "  * **outcast** : opposé de *values* : on précise les valeurs interdites et non celles autorisées\n",
    "  * **optional** : un attribut peut être optional (par défaut un attribut est obligatoire)\n",
    "  * **default** : si ``optional=True`` on peut préciser une valeur par défaut (*None* par défaut)\n",
    "  * **alias** : lors de la phase de création des objets (résolution des empreintes), un même attribut peut avoir plusieurs alias\n",
    "  * **remap** : il est possible de faire pointer une valeur autorisée vers une autre\n",
    "\n"
   ]
  },
  {
   "cell_type": "code",
   "execution_count": 13,
   "metadata": {
    "collapsed": true,
    "slideshow": {
     "slide_type": "subslide"
    }
   },
   "outputs": [],
   "source": [
    "class Historic(ModelState):\n",
    "    \n",
    "    _footprint = dict(\n",
    "        attr = dict(\n",
    "            kind = dict(\n",
    "                values = ['historic', 'forecastfile', ],\n",
    "                remap = dict(forecastfile='historic', ),\n",
    "            ),\n",
    "            term = dict(\n",
    "                info = \"The forecast's term\",\n",
    "                type = int,\n",
    "                alias = ('fcterm', 'forecastterm', ),\n",
    "            ),\n",
    "            nativefmt = dict(\n",
    "                info = \"The storage's format.\",\n",
    "                values = ['grib', 'fa', 'netcdf', ],\n",
    "                optional = True,\n",
    "                default = 'grib',\n",
    "            ),\n",
    "        )\n",
    "    )"
   ]
  },
  {
   "cell_type": "markdown",
   "metadata": {
    "slideshow": {
     "slide_type": "subslide"
    }
   },
   "source": [
    "#### Demonstration de *remap* et *optional*\n",
    "\n",
    "Rappel:\n",
    "\n",
    "  * pour *kind*, ``remap = dict(forecastfile='historic', )`` ;\n",
    "  * pour *nativefmt*, ``optional = True`` et ``default = 'grib'``."
   ]
  },
  {
   "cell_type": "code",
   "execution_count": 14,
   "metadata": {
    "collapsed": false
   },
   "outputs": [
    {
     "name": "stdout",
     "output_type": "stream",
     "text": [
      "<__main__.Historic object at 0x7fc09aa1a410 | footprint=5> object's kind:      historic\n",
      "<__main__.Historic object at 0x7fc09aa1a410 | footprint=5> object's nativefmt: grib\n"
     ]
    }
   ],
   "source": [
    "obj_hst1 = fpx.fakeresource(kind='forecastfile',\n",
    "                            cutoff='assim', date='20170701',\n",
    "                            term=6)\n",
    "print obj_hst1, \"object's kind:     \", obj_hst1.kind\n",
    "print obj_hst1, \"object's nativefmt:\", obj_hst1.nativefmt"
   ]
  },
  {
   "cell_type": "markdown",
   "metadata": {
    "slideshow": {
     "slide_type": "subslide"
    }
   },
   "source": [
    "#### Demonstration de *alias*\n",
    "\n",
    "Rappel: pour *term*, ``alias = ('fcterm', 'forecastterm', ),``."
   ]
  },
  {
   "cell_type": "code",
   "execution_count": 15,
   "metadata": {
    "collapsed": false
   },
   "outputs": [
    {
     "name": "stdout",
     "output_type": "stream",
     "text": [
      "<__main__.Historic object at 0x7fc09aa21790 | footprint=5> object's term:   6\n",
      "<__main__.Historic object at 0x7fc09aa21790 | footprint=5> object's fcterm: Notice that 'fcterm' does not really exists.\n"
     ]
    }
   ],
   "source": [
    "obj_hst1 = fpx.fakeresource(kind='forecastfile',\n",
    "                            cutoff='assim', date='20170701',\n",
    "                            fcterm=6)\n",
    "print obj_hst1, \"object's term:  \", obj_hst1.term\n",
    "try:\n",
    "    print obj_hst1, \"object's fcterm:\", obj_hst1.fcterm\n",
    "except AttributeError:\n",
    "    print \"Notice that 'fcterm' does not really exists.\""
   ]
  },
  {
   "cell_type": "markdown",
   "metadata": {
    "slideshow": {
     "slide_type": "subslide"
    }
   },
   "source": [
    "#### Demonstration de *type*\n",
    "\n",
    "Rappel: pour *term*, ``type = int,``"
   ]
  },
  {
   "cell_type": "code",
   "execution_count": 16,
   "metadata": {
    "collapsed": false
   },
   "outputs": [
    {
     "name": "stderr",
     "output_type": "stream",
     "text": [
      "# [2017/08/21-14:08:31][footprints.collectors][pickup:0286][WARNING]: No fakeresource found in description \n",
      "      dict(\n",
      "          cutoff = 'assim', \n",
      "          date = '20170701', \n",
      "          fakeresource = None, \n",
      "          kind = 'forecastfile', \n",
      "          term = 'This is not an integer !',\n",
      "      )\n"
     ]
    },
    {
     "name": "stdout",
     "output_type": "stream",
     "text": [
      "<__main__.Historic object at 0x7fc09aa21550> object's term is 6\n",
      "\n",
      "This will fail:\n",
      "\n",
      " Report Footprint-Fakeresource: \n",
      "\n",
      "     __main__.Historic\n",
      "         term       : {'args': ('int', 'This is not an integer !'), 'why': 'Could not reclass'}\n",
      "\n",
      "     __main__.InitialConditions\n",
      "         kind       : {'args': 'forecastfile', 'why': 'Not in values'}\n",
      "\n",
      "     __main__.Observations\n",
      "         kind       : {'args': 'forecastfile', 'why': 'Not in values'}\n",
      "\n"
     ]
    }
   ],
   "source": [
    "# Ok\n",
    "obj_hst1 = fpx.fakeresource(kind='forecastfile', cutoff='assim', date='20170701',\n",
    "                            term='6')\n",
    "print \"{0!r} object's term is {0.term:d}\\n\".format(obj_hst1)\n",
    "# KO\n",
    "print 'This will fail:'\n",
    "obj_hst1 = fpx.fakeresource(kind='forecastfile', cutoff='assim', date='20170701',\n",
    "                            term='This is not an integer !')"
   ]
  },
  {
   "cell_type": "markdown",
   "metadata": {
    "slideshow": {
     "slide_type": "subslide"
    }
   },
   "source": [
    "Ici nous avons utilisé un type simple qui préexistait dans le langage Python (*int*), il est bien sûr possible d'utiliser des types personalisés (la seule contrainte est que les types utilisés doivent être \"hashable\").\n",
    "\n",
    "C'est d'ailleurs ce que nous aurions dû faire pour les attributs *date* et *term*. En effet :\n",
    "\n",
    "  * une date n'est pas une simple chaîne de caractère (il faut vérifier que la date fournie est valide),\n",
    "  * une échéance n'est malheureusement pas un entier mais peut être exprimée en heures et minutes.\n",
    "  \n",
    "Si il y a lieu, l'usage de types personalisés est donc fortement recommandé (voir par exemple les classes **vortex.tools.date.Date** et **vortex.tools.date.Time**)"
   ]
  },
  {
   "cell_type": "markdown",
   "metadata": {
    "slideshow": {
     "slide_type": "slide"
    }
   },
   "source": [
    "## Notion de valeurs prédéfinies\n",
    "\n",
    "Il est souvent utile de préciser en début de script des valeurs pré-définies pour un certain nombre d'attributs. Dans nos exemple précédents, on imagine assez bien que l'utilisateur puisse vouloir fixer une *date* et un *cutoff*.\n",
    "\n",
    "Il suffit de définir ces valeurs via l'objet **setup** du package **footprints**.\n",
    "\n",
    "NB: Il ne s'agit que de valeurs prédéfinis : si l'utilisateur précise une autre valeur lors de la création de l'objet, celle-ci sera prioritaire."
   ]
  },
  {
   "cell_type": "markdown",
   "metadata": {
    "slideshow": {
     "slide_type": "subslide"
    }
   },
   "source": [
    "Définissons un *cutoff* et une *date* par défaut :"
   ]
  },
  {
   "cell_type": "code",
   "execution_count": 17,
   "metadata": {
    "collapsed": false
   },
   "outputs": [
    {
     "name": "stdout",
     "output_type": "stream",
     "text": [
      "<__main__.Historic object at 0x7fc09aa1a610>: cutoff=assim, date=20170701\n",
      "<__main__.Historic object at 0x7fc09aa1a150>: cutoff=production, date=20170701\n"
     ]
    }
   ],
   "source": [
    "fp.setup.defaults =  dict(cutoff='assim', date='20170701')\n",
    "\n",
    "# Utilisation du defaut:\n",
    "obj_hst2a = fpx.fakeresource(kind='forecastfile', term=6)\n",
    "print '{0!r}: cutoff={0.cutoff:s}, date={0.date:s}'.format(obj_hst2a)\n",
    "# Defaut redefini manuellement pour le cutoff:\n",
    "obj_hst2b = fpx.fakeresource(kind='forecastfile', cutoff='production', term=6)\n",
    "print '{0!r}: cutoff={0.cutoff:s}, date={0.date:s}'.format(obj_hst2b)"
   ]
  },
  {
   "cell_type": "markdown",
   "metadata": {
    "slideshow": {
     "slide_type": "slide"
    }
   },
   "source": [
    "## Conclusion\n",
    "\n",
    "Lors de la création de classes utilisant **footprints** :\n",
    "\n",
    "* Bien recourir à l'héritage et déclarer comme telle les classes abstraites ;\n",
    "* Pour les attributs les plus courants, définir des empreintes pré-définies et les utiliser ;\n",
    "* Penser à préciser des clés \"info\" qui sont facultatives mais apparaissent dans la documentation automatique  ;\n",
    "* Décrire les types de données le plus précisement possible ;"
   ]
  }
 ],
 "metadata": {
  "celltoolbar": "Slideshow",
  "kernelspec": {
   "display_name": "Python 2",
   "language": "python",
   "name": "python2"
  },
  "language_info": {
   "codemirror_mode": {
    "name": "ipython",
    "version": 2
   },
   "file_extension": ".py",
   "mimetype": "text/x-python",
   "name": "python",
   "nbconvert_exporter": "python",
   "pygments_lexer": "ipython2",
   "version": "2.7.12"
  }
 },
 "nbformat": 4,
 "nbformat_minor": 2
}
