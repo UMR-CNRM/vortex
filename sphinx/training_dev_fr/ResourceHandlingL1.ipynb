{
 "cells": [
  {
   "cell_type": "code",
   "execution_count": 1,
   "metadata": {
    "collapsed": false,
    "slideshow": {
     "slide_type": "skip"
    }
   },
   "outputs": [
    {
     "name": "stderr",
     "output_type": "stream",
     "text": [
      "# [2017/08/18-19:43:09][vortex.sessions][_set_rundir:0147][WARNING]: Session <root> is changing its working directory </sauvegarde/vortex-dev/vortex/sphinx/training_dev_fr>\n",
      "# [2017/08/18-19:43:09][vortex.sessions][_set_rundir:0150][INFO]: Session <root> set rundir </home/meunierlf/vortex-workdir/auto_cocoon_aDzBy4>\n"
     ]
    },
    {
     "name": "stdout",
     "output_type": "stream",
     "text": [
      "Vortex 1.1.4 loaded ( Friday 18. August 2017, at 19:43:08 )\n",
      "The working directory is now: /home/meunierlf/vortex-workdir/auto_cocoon_aDzBy4/root\n"
     ]
    },
    {
     "data": {
      "text/plain": [
       "'/home/meunierlf/vortex-workdir/auto_cocoon_aDzBy4'"
      ]
     },
     "execution_count": 1,
     "metadata": {},
     "output_type": "execute_result"
    }
   ],
   "source": [
    "%load_ext ivortex\n",
    "%vortex tmpcocoon"
   ]
  },
  {
   "cell_type": "markdown",
   "metadata": {
    "slideshow": {
     "slide_type": "slide"
    }
   },
   "source": [
    "# Manipulation de ressources dans Vortex (découverte)"
   ]
  },
  {
   "cell_type": "markdown",
   "metadata": {
    "slideshow": {
     "slide_type": "slide"
    }
   },
   "source": [
    "Une personne normalement constituée pourrait décrire une demande de la façon suivante :\n",
    "> Données en point de grille à l'échéance 3h (sur le domaine EUROC25, au \n",
    "> format GRIB) pour le modèle Arpège du réseau de production du 01/06/2017 18UTC\n",
    "> pour le second membre de la PEARP en chaîne en double (récupération \n",
    "> via le système d'archivage).\n",
    "\n",
    "Une idée clé de Vortex est de conserver toute la richesse d'une telle description."
   ]
  },
  {
   "cell_type": "markdown",
   "metadata": {
    "slideshow": {
     "slide_type": "fragment"
    }
   },
   "source": [
    "Curieusement, dans la plupart des scripts, on trouve cela :\n",
    "\n",
    "``ftp://hendrix.meteo.fr/~mxpt001/vortex/arpege/pearp/DBLE/2017/06/01/T1800P/mb002/forecast/grid.arpege-forecast.euroc25+0003:00.grib``"
   ]
  },
  {
   "cell_type": "markdown",
   "metadata": {
    "slideshow": {
     "slide_type": "slide"
    }
   },
   "source": [
    "## Objets Vortex de description des données\n",
    "\n",
    "Avec Vortex, cette approche descriptive se traduit par l'association de trois objets :\n",
    "  * Un objet de classe de base **vortex.data.resources.Resource**. Cet objet décrit la donnée en elle-même. Dans l'exemple précédent : \"Données en point de grille à l'échéance 3h (sur le domaine EUROC25, au format GRIB) pour le modèle Arpège du réseau de production du 01/06/2017 18UTC\".\n",
    "  * Un objet de classe de base **vortex.data.providers.Provider**. Cet objet décrit la façon dont sera récupérée la donnée. Dans l'exemple précédent : \"Second membre de la PEARP en chaîne en double (récupération via le système d'archivage)\".\n",
    "  * Un objet de classe de base **vortex.data.containers.Container**. Cet objet décrit l'endroit où sera stockée la ressource localement. Il s'agit quasi-systématiquement d'un fichier (décrit par son chemin dans le système de fichiers)."
   ]
  },
  {
   "cell_type": "markdown",
   "metadata": {
    "slideshow": {
     "slide_type": "subslide"
    }
   },
   "source": [
    "En vortex cela donne... Pour l'objet *resource* :"
   ]
  },
  {
   "cell_type": "code",
   "execution_count": 2,
   "metadata": {
    "collapsed": false,
    "slideshow": {
     "slide_type": "-"
    }
   },
   "outputs": [
    {
     "name": "stdout",
     "output_type": "stream",
     "text": [
      "<common.data.gridfiles.GridPointExport object at 0x7fc99860a1d0 | origin='hst' cutoff='production' term='03:00' geometry='<vortex.data.geometries.LonlatGeometry | tag='euroc25' id='Large european BDAP target' area='EUROC25' r='02dg500'>' date='2017-06-01T18:00:00Z' model='arpege'>\n"
     ]
    }
   ],
   "source": [
    "pe_resource = fp.proxy.resource(kind='gridpoint',\n",
    "                                term=3,\n",
    "                                geometry='euroc25',\n",
    "                                nativefmt='grib',\n",
    "                                model='arpege',\n",
    "                                cutoff='production',\n",
    "                                date='2017060118',\n",
    "                                origin='historic')\n",
    "print pe_resource"
   ]
  },
  {
   "cell_type": "markdown",
   "metadata": {
    "slideshow": {
     "slide_type": "subslide"
    }
   },
   "source": [
    "Pour l'objet *provider* :"
   ]
  },
  {
   "cell_type": "code",
   "execution_count": 3,
   "metadata": {
    "collapsed": false,
    "slideshow": {
     "slide_type": "-"
    }
   },
   "outputs": [
    {
     "name": "stdout",
     "output_type": "stream",
     "text": [
      "<vortex.data.providers.VortexOp object at 0x7fc9985ba050 | namespace='vortex.archive.fr' block='forecast'>\n"
     ]
    }
   ],
   "source": [
    "pe_provider = fp.proxy.provider(vapp='arpege',\n",
    "                                vconf='pearp',\n",
    "                                member=2,\n",
    "                                experiment='DBLE',\n",
    "                                namespace='vortex.archive.fr',\n",
    "                                block='forecast')\n",
    "print pe_provider"
   ]
  },
  {
   "cell_type": "markdown",
   "metadata": {
    "slideshow": {
     "slide_type": "subslide"
    }
   },
   "source": [
    "Pour l'objet *container* :"
   ]
  },
  {
   "cell_type": "code",
   "execution_count": 4,
   "metadata": {
    "collapsed": false,
    "slideshow": {
     "slide_type": "-"
    }
   },
   "outputs": [
    {
     "name": "stdout",
     "output_type": "stream",
     "text": [
      "<vortex.data.containers.SingleFile object at 0x7fc9897cb250 | path='my_pearp_gribfile'>\n"
     ]
    }
   ],
   "source": [
    "pe_container = fp.proxy.container(local='my_pearp_gribfile', format='grib')\n",
    "print pe_container"
   ]
  },
  {
   "cell_type": "markdown",
   "metadata": {
    "slideshow": {
     "slide_type": "slide"
    }
   },
   "source": [
    "## Faire interagir ces objets : le *resource's Handler*\n",
    "\n",
    "Pour manipuler des données dans Vortex, il faut associer les trois objets évoqués précédemment. Cette agrégation est faite par un objet de classe **vortex.data.handlers.Handler**.\n",
    "\n",
    "Cette objet permet la manipulation des données via des méthodes simples :\n",
    "  * **locate** : emplacement physique des données (ici l'adresse ftp) ;\n",
    "  * **get** : récupérer la donnée et la placer dans le *container* ;\n",
    "  * **put** : envoyer le contenu du *container* à l'emplacement décrit par les objets *resource* et *provider* ;\n",
    "  * **check** : vérifier l'existence de la donnée ;\n",
    "  * **delete** : effacer la donnée décrite par les objets *resource* et *provider* ;\n",
    "  * **clear** : supprimer le contenu du *container*"
   ]
  },
  {
   "cell_type": "markdown",
   "metadata": {
    "slideshow": {
     "slide_type": "subslide"
    }
   },
   "source": [
    "En pratique..."
   ]
  },
  {
   "cell_type": "code",
   "execution_count": 5,
   "metadata": {
    "collapsed": true
   },
   "outputs": [],
   "source": [
    "rhandler = vortex.data.handlers.Handler(dict(resource=pe_resource,\n",
    "                                             provider=pe_provider,\n",
    "                                             container=pe_container))"
   ]
  },
  {
   "cell_type": "markdown",
   "metadata": {
    "slideshow": {
     "slide_type": "-"
    }
   },
   "source": [
    "Récupération des données :"
   ]
  },
  {
   "cell_type": "code",
   "execution_count": 6,
   "metadata": {
    "collapsed": false
   },
   "outputs": [
    {
     "name": "stderr",
     "output_type": "stream",
     "text": [
      "# [2017/08/18-19:43:09][vortex.data.stores][ftpget:0997][INFO]: ftpget on ftp://hendrix.meteo.fr//home/m/mxpt/mxpt001/vortex/arpege/pearp/DBLE/2017/06/01/T1800P/mb002/forecast/grid.arpege-forecast.euroc25+0003:00.grib (to: my_pearp_gribfile)\n",
      "# [2017/08/18-19:43:09][vortex.tools.net][get:0321][INFO]: FTP <get:/home/m/mxpt/mxpt001/vortex/arpege/pearp/DBLE/2017/06/01/T1800P/mb002/forecast/grid.arpege-forecast.euroc25+0003:00.grib>\n"
     ]
    },
    {
     "name": "stdout",
     "output_type": "stream",
     "text": [
      "total 1328\r\n",
      "-rw-r--r-- 1 meunierlf algo 1357578 août  18 19:43 my_pearp_gribfile\r\n"
     ]
    }
   ],
   "source": [
    "rhandler.get()\n",
    "%ls -l"
   ]
  },
  {
   "cell_type": "markdown",
   "metadata": {
    "slideshow": {
     "slide_type": "subslide"
    }
   },
   "source": [
    "Un peu de ménage pour la suite..."
   ]
  },
  {
   "cell_type": "code",
   "execution_count": 7,
   "metadata": {
    "collapsed": false
   },
   "outputs": [
    {
     "data": {
      "text/plain": [
       "True"
      ]
     },
     "execution_count": 7,
     "metadata": {},
     "output_type": "execute_result"
    }
   ],
   "source": [
    "rhandler.clear()"
   ]
  },
  {
   "cell_type": "code",
   "execution_count": 8,
   "metadata": {
    "collapsed": false
   },
   "outputs": [
    {
     "name": "stdout",
     "output_type": "stream",
     "text": [
      "total 0\r\n"
     ]
    }
   ],
   "source": [
    "%ls -l"
   ]
  },
  {
   "cell_type": "markdown",
   "metadata": {
    "slideshow": {
     "slide_type": "slide"
    }
   },
   "source": [
    "## Usage des données\n",
    "\n",
    "La classe **Handler** ne répond pas vraiment à tous les besoins, on aimerait pouvoir préciser :\n",
    "  * Ce que l'on veut faire des données\n",
    "  * Ce que l'on doit faire si une erreur se produit\n",
    "  * Si la donnée doit être modifiée ou non"
   ]
  },
  {
   "cell_type": "markdown",
   "metadata": {
    "slideshow": {
     "slide_type": "fragment"
    }
   },
   "source": [
    "C'est le rôle de l'objet de classe **vortex.layout.dataflow.Section** qui enrobe le *resource's Handler* :"
   ]
  },
  {
   "cell_type": "code",
   "execution_count": 9,
   "metadata": {
    "collapsed": true
   },
   "outputs": [],
   "source": [
    "section = vortex.layout.dataflow.Section(rh=rhandler,\n",
    "                                         # Ce fichier fait office de :\n",
    "                                         role='InitialCondition',\n",
    "                                         # Il s'agit d'un fichier d'entrée :\n",
    "                                         kind=vortex.layout.dataflow.ixo.INPUT,\n",
    "                                         # Plantage sur erreur :\n",
    "                                         fatal=True,\n",
    "                                         # Lecture/Ecriture :\n",
    "                                         intent='inout')"
   ]
  },
  {
   "cell_type": "markdown",
   "metadata": {
    "slideshow": {
     "slide_type": "subslide"
    }
   },
   "source": [
    "Cet objet a deux méthodes principales **get** et **put** qui se chargent d'appeler le *resource's Handler* en tenant compte des attributs *fatal* et *intent* :"
   ]
  },
  {
   "cell_type": "code",
   "execution_count": 10,
   "metadata": {
    "collapsed": false
   },
   "outputs": [
    {
     "name": "stderr",
     "output_type": "stream",
     "text": [
      "# [2017/08/18-19:43:10][vortex.data.stores][ftpget:0997][INFO]: ftpget on ftp://hendrix.meteo.fr//home/m/mxpt/mxpt001/vortex/arpege/pearp/DBLE/2017/06/01/T1800P/mb002/forecast/grid.arpege-forecast.euroc25+0003:00.grib (to: my_pearp_gribfile)\n",
      "# [2017/08/18-19:43:12][vortex.tools.net][get:0321][INFO]: FTP <get:/home/m/mxpt/mxpt001/vortex/arpege/pearp/DBLE/2017/06/01/T1800P/mb002/forecast/grid.arpege-forecast.euroc25+0003:00.grib>\n"
     ]
    },
    {
     "name": "stdout",
     "output_type": "stream",
     "text": [
      "total 1328\r\n",
      "-rw-r--r-- 1 meunierlf algo 1357578 août  18 19:43 my_pearp_gribfile\r\n"
     ]
    }
   ],
   "source": [
    "section.get()\n",
    "%ls -l"
   ]
  },
  {
   "cell_type": "markdown",
   "metadata": {},
   "source": [
    "Le *resource's Handler* reste accessible (par exemple, pour nettoyer le *container*) :"
   ]
  },
  {
   "cell_type": "code",
   "execution_count": 11,
   "metadata": {
    "collapsed": false
   },
   "outputs": [
    {
     "name": "stdout",
     "output_type": "stream",
     "text": [
      "total 0\r\n"
     ]
    }
   ],
   "source": [
    "section.rh.clear()\n",
    "%ls -l"
   ]
  },
  {
   "cell_type": "markdown",
   "metadata": {
    "slideshow": {
     "slide_type": "slide"
    }
   },
   "source": [
    "## Schéma récapitulatif\n",
    "\n",
    "![](images/data_management_overview.png)"
   ]
  },
  {
   "cell_type": "markdown",
   "metadata": {
    "slideshow": {
     "slide_type": "slide"
    }
   },
   "source": [
    "## Création rapide de *Handlers* et de sections via le module Toolbox\n",
    "\n",
    "Il est fastidieux de créer les différents objets manuellement, le module **vortex.toolbox** (souvent systématiquement importé) met donc à disposition des fonctions permettant la création d'ensemble d'objets en un seul appel."
   ]
  },
  {
   "cell_type": "markdown",
   "metadata": {
    "slideshow": {
     "slide_type": "slide"
    }
   },
   "source": [
    "### Création rapide de *resource's Handlers*"
   ]
  },
  {
   "cell_type": "code",
   "execution_count": 12,
   "metadata": {
    "collapsed": false
   },
   "outputs": [
    {
     "name": "stdout",
     "output_type": "stream",
     "text": [
      "[<vortex.data.handlers.Handler object at 0x7fc98977ae10>]\n"
     ]
    }
   ],
   "source": [
    "rhandlers = toolbox.rload(# Resource\n",
    "                          kind='gridpoint', term=3, geometry='euroc25',\n",
    "                          nativefmt='grib', model='arpege', \n",
    "                          cutoff='production', date='2017060118',\n",
    "                          origin='historic',\n",
    "                          # Provider\n",
    "                          vapp='arpege', vconf='pearp', member=2,\n",
    "                          experiment='DBLE', namespace='vortex.archive.fr',\n",
    "                          block='forecast',\n",
    "                          # Container\n",
    "                          local='my_pearp_gribfile', format='grib')\n",
    "print rhandlers"
   ]
  },
  {
   "cell_type": "markdown",
   "metadata": {
    "slideshow": {
     "slide_type": "subslide"
    }
   },
   "source": [
    "On obtient une liste de *resource's Handlers* et non un objet unique... nous reviendrons sur cela plus tard ; dans l'immédiat, acceptons cet état de fait. L'objet contenu dans la liste est bien celui attendu :"
   ]
  },
  {
   "cell_type": "code",
   "execution_count": 13,
   "metadata": {
    "collapsed": false
   },
   "outputs": [
    {
     "name": "stdout",
     "output_type": "stream",
     "text": [
      "00. <vortex.data.handlers.Handler object at 0x7fc98977ae10>\n",
      "  Complete  : True\n",
      "  Container : <vortex.data.containers.SingleFile object at 0x7fc98977ae90 | path='my_pearp_gribfile'>\n",
      "  Provider  : <vortex.data.providers.VortexOp object at 0x7fc989797b10 | namespace='vortex.archive.fr' block='forecast'>\n",
      "  Resource  : <common.data.gridfiles.GridPointExport object at 0x7fc9986639d0 | origin='hst' cutoff='production' term='03:00' geometry='<vortex.data.geometries.LonlatGeometry | tag='euroc25' id='Large european BDAP target' area='EUROC25' r='02dg500'>' date='2017-06-01T18:00:00Z' model='arpege'>\n"
     ]
    }
   ],
   "source": [
    "rhandlers[0].quickview()"
   ]
  },
  {
   "cell_type": "markdown",
   "metadata": {
    "slideshow": {
     "slide_type": "slide"
    }
   },
   "source": [
    "### Création rapide de sections"
   ]
  },
  {
   "cell_type": "code",
   "execution_count": 14,
   "metadata": {
    "collapsed": false,
    "scrolled": false
   },
   "outputs": [
    {
     "name": "stdout",
     "output_type": "stream",
     "text": [
      "[<vortex.data.handlers.Handler object at 0x7fc98977acd0>]\n"
     ]
    }
   ],
   "source": [
    "rhandlers = toolbox.input(# Input function options\n",
    "                          verbose=False,\n",
    "                          # Section\n",
    "                          role='InitialCondition', fatal=True, intent='inout',\n",
    "                          # Resource\n",
    "                          kind='gridpoint', term=3, geometry='euroc25',\n",
    "                          nativefmt='grib', model='arpege', \n",
    "                          cutoff='production', date='2017060118',\n",
    "                          origin='historic',\n",
    "                          # Provider\n",
    "                          vapp='arpege', vconf='pearp', member=2,\n",
    "                          experiment='DBLE', namespace='vortex.archive.fr',\n",
    "                          block='forecast',\n",
    "                          # Container\n",
    "                          local='my_pearp_gribfile', format='grib')\n",
    "print rhandlers"
   ]
  },
  {
   "cell_type": "markdown",
   "metadata": {
    "slideshow": {
     "slide_type": "subslide"
    }
   },
   "source": [
    "* Là aussi, on obtient une liste de *resource's Handlers*. Cela peut paraître étrange mais les objets *Section* associés existent bel et bien (ils sont stockés et peuvent être récupérés).\n",
    "* La fonction **input** accepte quelques options :\n",
    "    * **verbose** : Si *verbose=True* (le défaut), un résumé est affiché sur la sortie standard ;\n",
    "    * **loglevel** : Le niveau de log souhaité pour Vortex ('info' par défaut) ;\n",
    "    * **now** : Si *now=True* (*False* par défaut), la ressource est récupérée sur le champ par un appel à\n",
    "      la méthode *get*. C'est souvent ce que l'on souhaite ;\n",
    "    * **insitu** : Si *insitu=True*, qu'un *resource's Handler* identique a déjà récupéré la données\n",
    "      lors d'une précédente exécution et que le *container* est rempli, on se contente de créer\n",
    "      les objets *Section* et *Handler* (on ne re-récupère pas la donnée).\n",
    "* Il existe aussi une méthode **toolbox.output** utilisée pour la création de *Sections* destinées aux\n",
    "  fichiers de sorties (dans ce cas *now=True*, implique un appel immédiat à la méthode *put*)."
   ]
  },
  {
   "cell_type": "code",
   "execution_count": 15,
   "metadata": {
    "collapsed": false,
    "slideshow": {
     "slide_type": "subslide"
    }
   },
   "outputs": [
    {
     "name": "stderr",
     "output_type": "stream",
     "text": [
      "# [2017/08/18-19:43:12][vortex.data.stores][ftpget:0997][INFO]: ftpget on ftp://hendrix.meteo.fr//home/m/mxpt/mxpt001/vortex/arpege/pearp/DBLE/2017/06/01/T1800P/mb002/forecast/grid.arpege-forecast.euroc25+0003:00.grib (to: my_pearp_gribfile)\n",
      "# [2017/08/18-19:43:13][vortex.tools.net][get:0321][INFO]: FTP <get:/home/m/mxpt/mxpt001/vortex/arpege/pearp/DBLE/2017/06/01/T1800P/mb002/forecast/grid.arpege-forecast.euroc25+0003:00.grib>\n"
     ]
    },
    {
     "name": "stdout",
     "output_type": "stream",
     "text": [
      "[<vortex.data.handlers.Handler object at 0x7fc989333c90>]\n"
     ]
    },
    {
     "data": {
      "text/plain": [
       "True"
      ]
     },
     "execution_count": 15,
     "metadata": {},
     "output_type": "execute_result"
    }
   ],
   "source": [
    "rhandlers = toolbox.input(# Input function options\n",
    "                          verbose=False, now=True,\n",
    "                          # Section\n",
    "                          role='InitialCondition', fatal=True, intent='inout',\n",
    "                          # Resource\n",
    "                          kind='gridpoint', term=3, geometry='euroc25',\n",
    "                          nativefmt='grib', model='arpege', \n",
    "                          cutoff='production', date='2017060118',\n",
    "                          origin='historic',\n",
    "                          # Provider\n",
    "                          vapp='arpege', vconf='pearp', member=2,\n",
    "                          experiment='DBLE', namespace='vortex.archive.fr',\n",
    "                          block='forecast',\n",
    "                          # Container\n",
    "                          local='my_pearp_gribfile', format='grib')\n",
    "print rhandlers\n",
    "rhandlers[0].clear()  # Nettoyage"
   ]
  },
  {
   "cell_type": "markdown",
   "metadata": {
    "slideshow": {
     "slide_type": "subslide"
    }
   },
   "source": [
    "Il est possible de consulter et modifier certains défauts utilisés par le module toolbox :"
   ]
  },
  {
   "cell_type": "code",
   "execution_count": 16,
   "metadata": {
    "collapsed": false
   },
   "outputs": [
    {
     "name": "stdout",
     "output_type": "stream",
     "text": [
      "+ active_now               = False\n",
      "+ active_insitu            = False\n",
      "+ active_verbose           = True\n",
      "+ active_promise           = True\n",
      "+ active_clear             = False\n",
      "+ active_metadatacheck     = True\n",
      "+ active_incache           = False\n"
     ]
    }
   ],
   "source": [
    "toolbox.show_toolbox_settings()"
   ]
  },
  {
   "cell_type": "code",
   "execution_count": 17,
   "metadata": {
    "collapsed": true
   },
   "outputs": [],
   "source": [
    "toolbox.active_now = True"
   ]
  },
  {
   "cell_type": "markdown",
   "metadata": {
    "slideshow": {
     "slide_type": "subslide"
    }
   },
   "source": [
    "La récupération des données se fait désormais automatiquement même si `now=True` est omis :"
   ]
  },
  {
   "cell_type": "code",
   "execution_count": 18,
   "metadata": {
    "collapsed": false
   },
   "outputs": [
    {
     "name": "stderr",
     "output_type": "stream",
     "text": [
      "# [2017/08/18-19:43:14][vortex.data.stores][ftpget:0997][INFO]: ftpget on ftp://hendrix.meteo.fr//home/m/mxpt/mxpt001/vortex/arpege/pearp/DBLE/2017/06/01/T1800P/mb002/forecast/grid.arpege-forecast.euroc25+0003:00.grib (to: my_pearp_gribfile)\n",
      "# [2017/08/18-19:43:14][vortex.tools.net][get:0321][INFO]: FTP <get:/home/m/mxpt/mxpt001/vortex/arpege/pearp/DBLE/2017/06/01/T1800P/mb002/forecast/grid.arpege-forecast.euroc25+0003:00.grib>\n"
     ]
    },
    {
     "name": "stdout",
     "output_type": "stream",
     "text": [
      "[<vortex.data.handlers.Handler object at 0x7fc989333e10>]\n"
     ]
    },
    {
     "data": {
      "text/plain": [
       "True"
      ]
     },
     "execution_count": 18,
     "metadata": {},
     "output_type": "execute_result"
    }
   ],
   "source": [
    "rhandlers = toolbox.input(# Input function options\n",
    "                          verbose=False,\n",
    "                          # Section\n",
    "                          role='InitialCondition', fatal=True, intent='inout',\n",
    "                          # Resource\n",
    "                          kind='gridpoint', term=3, geometry='euroc25',\n",
    "                          nativefmt='grib', model='arpege', \n",
    "                          cutoff='production', date='2017060118',\n",
    "                          origin='historic',\n",
    "                          # Provider\n",
    "                          vapp='arpege', vconf='pearp', member=2,\n",
    "                          experiment='DBLE', namespace='vortex.archive.fr',\n",
    "                          block='forecast',\n",
    "                          # Container\n",
    "                          local='my_pearp_gribfile', format='grib')\n",
    "print rhandlers\n",
    "rhandlers[0].clear()  # Nettoyage"
   ]
  },
  {
   "cell_type": "markdown",
   "metadata": {
    "slideshow": {
     "slide_type": "slide"
    }
   },
   "source": [
    "## Conclusion intermédaire\n",
    "\n",
    "* Via le module *toolbox*, il est assez simple, dans un script, une session Python interactive ou un notebook, de créer tous les objets nécessaires à la manipulation de ressources.\n",
    "* Reste que les objets *Resource*, *Provider* et *Container* sont créés de façon assez mystérieuse (en fonction des arguments spécifiés par l'utilisateur). Tous ces objets ont pourtant des types bien précis :"
   ]
  },
  {
   "cell_type": "code",
   "execution_count": 19,
   "metadata": {
    "collapsed": false
   },
   "outputs": [
    {
     "name": "stdout",
     "output_type": "stream",
     "text": [
      "Resource:   <class 'common.data.gridfiles.GridPointExport'>\n",
      "Provider:   <class 'vortex.data.providers.VortexOp'>\n",
      "Container:  <class 'vortex.data.containers.SingleFile'>\n"
     ]
    }
   ],
   "source": [
    "print 'Resource:  ', type(rhandlers[0].resource)\n",
    "print 'Provider:  ', type(rhandlers[0].provider)\n",
    "print 'Container: ', type(rhandlers[0].container)"
   ]
  },
  {
   "cell_type": "markdown",
   "metadata": {},
   "source": [
    "> C'est tout l'objet de la présentation suivante..."
   ]
  }
 ],
 "metadata": {
  "celltoolbar": "Slideshow",
  "kernelspec": {
   "display_name": "Python 2",
   "language": "python",
   "name": "python2"
  },
  "language_info": {
   "codemirror_mode": {
    "name": "ipython",
    "version": 2
   },
   "file_extension": ".py",
   "mimetype": "text/x-python",
   "name": "python",
   "nbconvert_exporter": "python",
   "pygments_lexer": "ipython2",
   "version": "2.7.12"
  },
  "toc": {
   "colors": {
    "hover_highlight": "#DAA520",
    "navigate_num": "#000000",
    "navigate_text": "#333333",
    "running_highlight": "#FF0000",
    "selected_highlight": "#FFD700",
    "sidebar_border": "#EEEEEE",
    "wrapper_background": "#FFFFFF"
   },
   "moveMenuLeft": true,
   "nav_menu": {
    "height": "195px",
    "width": "252px"
   },
   "navigate_menu": true,
   "number_sections": true,
   "sideBar": true,
   "threshold": 4,
   "toc_cell": true,
   "toc_section_display": "block",
   "toc_window_display": false,
   "widenNotebook": false
  }
 },
 "nbformat": 4,
 "nbformat_minor": 0
}
